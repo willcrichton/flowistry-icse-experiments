{
 "cells": [
  {
   "cell_type": "code",
   "execution_count": null,
   "id": "94b2f1af",
   "metadata": {
    "ExecuteTime": {
     "end_time": "2022-04-13T01:07:00.457619Z",
     "start_time": "2022-04-13T01:06:59.186732Z"
    }
   },
   "outputs": [],
   "source": [
    "import pandas as pd\n",
    "from pandas.api.types import CategoricalDtype as Category\n",
    "import matplotlib.pyplot as plt\n",
    "from glob import glob\n",
    "import seaborn as sns\n",
    "import numpy as np\n",
    "from iterextras import par_for\n",
    "import subprocess as sp\n",
    "import os\n",
    "import itertools\n",
    "from tqdm.auto import tqdm\n",
    "import rs_utils\n",
    "from scipy.stats import gmean\n",
    "import matplotlib as mpl\n",
    "import json\n",
    "import statsmodels.formula.api as sm\n",
    "from matplotlib import rc\n",
    "\n",
    "sns.set()\n",
    "\n",
    "rc('font',**{'family':'serif','serif':['Linux Libertine O']})\n",
    "rc('text', **{'usetex': True, 'latex.preamble': r'\\usepackage{libertine}\\usepackage[libertine]{newtxmath}'})"
   ]
  },
  {
   "cell_type": "code",
   "execution_count": null,
   "id": "06a1e63f",
   "metadata": {
    "ExecuteTime": {
     "end_time": "2022-04-13T01:07:11.570542Z",
     "start_time": "2022-04-13T01:07:00.459473Z"
    }
   },
   "outputs": [],
   "source": [
    "PATHS = glob('../data/*.json')\n",
    "CRATES = [os.path.splitext(os.path.basename(path))[0] for path in PATHS]\n",
    "crate_cat = Category(sorted(CRATES))\n",
    "\n",
    "def parse_data(path):\n",
    "    print(path)\n",
    "    if os.stat(path).st_size == 0:\n",
    "        return []\n",
    "    \n",
    "    crate = os.path.splitext(os.path.basename(path))[0]\n",
    "    df = pd.read_json(path)\n",
    "    df['crate'] = crate\n",
    "    df['crate'] = df['crate'].astype(crate_cat)\n",
    "    return df\n",
    "\n",
    "\n",
    "df = pd.concat(par_for(parse_data, PATHS)).reset_index()"
   ]
  },
  {
   "cell_type": "code",
   "execution_count": null,
   "id": "b8451670",
   "metadata": {
    "ExecuteTime": {
     "end_time": "2022-04-13T01:07:11.612099Z",
     "start_time": "2022-04-13T01:07:11.572385Z"
    }
   },
   "outputs": [],
   "source": [
    "df['tok_frac'] = df.num_relevant_tokens / df.num_tokens\n",
    "df['line_frac'] = df.num_relevant_lines / df.num_lines\n",
    "\n",
    "# df['spread_tok_frac'] = df.token_spread / df.num_tokens\n",
    "# df['spread_line_frac'] = df.line_spread / df.num_lines\n",
    "cutoff = int(np.round(df.num_lines.mean()))\n",
    "df['big_func'] = df.num_lines >= cutoff\n",
    "df['func_bin'] = df.num_lines // 50 * 50\n",
    "df['func_quartile'] = pd.qcut(df.num_lines, [0, 0.25, 0.5, 0.75, 1.])"
   ]
  },
  {
   "cell_type": "markdown",
   "id": "b921d8da",
   "metadata": {},
   "source": [
    "# Methodology (Section 4.1)\n",
    "\n",
    "\n",
    "## Dataset size"
   ]
  },
  {
   "cell_type": "code",
   "execution_count": null,
   "id": "b5e71d83",
   "metadata": {
    "ExecuteTime": {
     "end_time": "2022-04-13T20:31:46.809940Z",
     "start_time": "2022-04-13T20:31:46.805997Z"
    }
   },
   "outputs": [],
   "source": [
    "print(f'{len(df)} samples, {len(df)//3} focus regions')"
   ]
  },
  {
   "cell_type": "markdown",
   "id": "ee61412f",
   "metadata": {},
   "source": [
    "\n",
    "# Results (Section 4.2)"
   ]
  },
  {
   "cell_type": "markdown",
   "id": "d9d1300e",
   "metadata": {
    "ExecuteTime": {
     "end_time": "2022-04-13T01:07:11.637303Z",
     "start_time": "2022-04-13T01:07:11.620668Z"
    }
   },
   "source": [
    "## Distribution of slice sizes by direction"
   ]
  },
  {
   "cell_type": "code",
   "execution_count": null,
   "id": "3077614c",
   "metadata": {
    "ExecuteTime": {
     "end_time": "2022-04-13T01:07:11.875935Z",
     "start_time": "2022-04-13T01:07:11.638759Z"
    }
   },
   "outputs": [],
   "source": [
    "df.groupby('direction').line_frac.describe()[['25%', '50%', '75%']]"
   ]
  },
  {
   "cell_type": "markdown",
   "id": "e684d322",
   "metadata": {},
   "source": [
    "## Figure 5-top-left"
   ]
  },
  {
   "cell_type": "code",
   "execution_count": null,
   "id": "9802112f",
   "metadata": {
    "ExecuteTime": {
     "end_time": "2022-04-13T01:08:24.079693Z",
     "start_time": "2022-04-13T01:08:22.358172Z"
    }
   },
   "outputs": [],
   "source": [
    "plt.figure(figsize=(2.75, 3.5))\n",
    "ax = sns.boxplot(data=df, x='direction', y='line_frac', width=0.5)\n",
    "ax.set_xlabel('Direction')\n",
    "ax.set_ylabel('Slice size')\n",
    "plt.savefig('linefrac.pdf', bbox_inches='tight')"
   ]
  },
  {
   "cell_type": "markdown",
   "id": "521e6fc1",
   "metadata": {},
   "source": [
    "## Distribution of slice sizes by function size and direction"
   ]
  },
  {
   "cell_type": "code",
   "execution_count": null,
   "id": "2d545bf6",
   "metadata": {
    "ExecuteTime": {
     "end_time": "2022-04-13T01:12:52.471125Z",
     "start_time": "2022-04-13T01:12:52.162110Z"
    }
   },
   "outputs": [],
   "source": [
    "df.groupby(['big_func', 'direction']).line_frac.describe()[['25%', '50%', '75%']]"
   ]
  },
  {
   "cell_type": "markdown",
   "id": "af412e76",
   "metadata": {},
   "source": [
    "## Figure 5-top-right"
   ]
  },
  {
   "cell_type": "code",
   "execution_count": null,
   "id": "c673a9a1",
   "metadata": {
    "ExecuteTime": {
     "end_time": "2022-04-13T01:08:25.838728Z",
     "start_time": "2022-04-13T01:08:24.378715Z"
    }
   },
   "outputs": [],
   "source": [
    "plt.figure(figsize=(5, 3.5))\n",
    "ax = sns.boxplot(data=df, x='big_func', y='line_frac', hue='direction', width=0.5)\n",
    "ax.set_xlabel(f'$\\\\geq {cutoff}$ lines of code?')\n",
    "ax.set_ylabel('Slice size')\n",
    "ax.legend(bbox_to_anchor=(1.05, 1), loc=2, borderaxespad=0., frameon=False)\n",
    "plt.tight_layout()\n",
    "plt.savefig('linefrac-by-size.pdf', bbox_inches='tight')"
   ]
  },
  {
   "cell_type": "markdown",
   "id": "c47ae566",
   "metadata": {},
   "source": [
    "## Figure 5-bottom"
   ]
  },
  {
   "cell_type": "code",
   "execution_count": null,
   "id": "eb4556cb",
   "metadata": {
    "ExecuteTime": {
     "end_time": "2022-04-13T01:19:13.658299Z",
     "start_time": "2022-04-13T01:19:11.611225Z"
    }
   },
   "outputs": [],
   "source": [
    "plt.figure(figsize=(8, 3.5))\n",
    "order = df.groupby('crate').tok_frac.median().sort_values().index.tolist()\n",
    "ax = sns.boxplot(data=df, x='crate', y='tok_frac', hue='direction', fliersize=0,  order=order, width=0.6)\n",
    "ax.get_legend().remove()\n",
    "ax.set_xlabel('Crate')\n",
    "ax.set_ylabel('Slice size')\n",
    "plt.tight_layout()\n",
    "plt.savefig('linefrac-by-size-crate.pdf', bbox_inches='tight')"
   ]
  }
 ],
 "metadata": {
  "kernelspec": {
   "display_name": "Python 3",
   "language": "python",
   "name": "python3"
  },
  "language_info": {
   "codemirror_mode": {
    "name": "ipython",
    "version": 3
   },
   "file_extension": ".py",
   "mimetype": "text/x-python",
   "name": "python",
   "nbconvert_exporter": "python",
   "pygments_lexer": "ipython3",
   "version": "3.7.2"
  },
  "toc": {
   "base_numbering": 1,
   "nav_menu": {},
   "number_sections": true,
   "sideBar": true,
   "skip_h1_title": false,
   "title_cell": "Table of Contents",
   "title_sidebar": "Contents",
   "toc_cell": false,
   "toc_position": {},
   "toc_section_display": true,
   "toc_window_display": false
  },
  "varInspector": {
   "cols": {
    "lenName": 16,
    "lenType": 16,
    "lenVar": 40
   },
   "kernels_config": {
    "python": {
     "delete_cmd_postfix": "",
     "delete_cmd_prefix": "del ",
     "library": "var_list.py",
     "varRefreshCmd": "print(var_dic_list())"
    },
    "r": {
     "delete_cmd_postfix": ") ",
     "delete_cmd_prefix": "rm(",
     "library": "var_list.r",
     "varRefreshCmd": "cat(var_dic_list()) "
    }
   },
   "types_to_exclude": [
    "module",
    "function",
    "builtin_function_or_method",
    "instance",
    "_Feature"
   ],
   "window_display": false
  }
 },
 "nbformat": 4,
 "nbformat_minor": 5
}
