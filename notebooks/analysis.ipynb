{
 "cells": [
  {
   "cell_type": "code",
   "execution_count": null,
   "id": "protected-value",
   "metadata": {
    "ExecuteTime": {
     "end_time": "2021-07-08T00:53:19.461315Z",
     "start_time": "2021-07-08T00:53:18.699962Z"
    }
   },
   "outputs": [],
   "source": [
    "import pandas as pd\n",
    "from pandas.api.types import CategoricalDtype as Category\n",
    "import matplotlib.pyplot as plt\n",
    "from glob import glob\n",
    "import seaborn as sns\n",
    "import numpy as np\n",
    "from iterextras import par_for\n",
    "import subprocess as sp\n",
    "import os\n",
    "import itertools\n",
    "from tqdm.auto import tqdm\n",
    "import rs_utils\n",
    "\n",
    "sns.set()"
   ]
  },
  {
   "cell_type": "code",
   "execution_count": null,
   "id": "905c65b5",
   "metadata": {
    "ExecuteTime": {
     "end_time": "2021-07-08T00:53:19.466701Z",
     "start_time": "2021-07-08T00:53:19.463095Z"
    }
   },
   "outputs": [],
   "source": [
    "def cond(df, m=None, c=None, p=None):\n",
    "    if m is not None:\n",
    "        df = df[df.mutability_mode == m]\n",
    "    if c is not None:\n",
    "        df = df[df.context_mode == c]\n",
    "    if p is not None:\n",
    "        df = df[df.pointer_mode == p]\n",
    "    return df"
   ]
  },
  {
   "cell_type": "code",
   "execution_count": null,
   "id": "hidden-chambers",
   "metadata": {
    "ExecuteTime": {
     "end_time": "2021-07-08T00:54:56.482014Z",
     "start_time": "2021-07-08T00:53:19.468154Z"
    }
   },
   "outputs": [],
   "source": [
    "PATHS = glob('../data/*.json')\n",
    "CRATES = [os.path.splitext(os.path.basename(path))[0] for path in PATHS]\n",
    "CATEGORIES = {\n",
    "    'mutability_mode': Category([\"DistinguishMut\", \"IgnoreMut\"]),\n",
    "    'context_mode': Category([\"Recurse\", \"SigOnly\"]),\n",
    "    'pointer_mode': Category([\"Conservative\", \"Precise\"]),\n",
    "    'crate': Category(CRATES)\n",
    "}\n",
    "\n",
    "def parse_data(path):\n",
    "    print(path)\n",
    "    if os.stat(path).st_size == 0:\n",
    "        return []\n",
    "    \n",
    "    crate = os.path.splitext(os.path.basename(path))[0]\n",
    "    df = pd.DataFrame(rs_utils.parse_data(path))\n",
    "    df['crate'] = crate\n",
    "    for k, dt in CATEGORIES.items():\n",
    "        df[k] = df[k].astype(dt)\n",
    "    return df\n",
    "\n",
    "\n",
    "all_dfs = par_for(parse_data, PATHS)\n",
    "df = pd.concat(all_dfs).reset_index()\n",
    "del all_dfs\n",
    "\n",
    "df = df[(df.num_relevant_instructions != 0)]\n",
    "df['ins_rel_nonzero'] = df.instructions_relative > 0"
   ]
  },
  {
   "cell_type": "code",
   "execution_count": null,
   "id": "5c32cdb7",
   "metadata": {
    "ExecuteTime": {
     "end_time": "2021-07-08T00:54:58.333091Z",
     "start_time": "2021-07-08T00:54:57.943943Z"
    }
   },
   "outputs": [],
   "source": [
    "len(df.function_path.unique())"
   ]
  },
  {
   "cell_type": "code",
   "execution_count": null,
   "id": "fdb325b6",
   "metadata": {
    "ExecuteTime": {
     "end_time": "2021-07-08T00:54:58.338395Z",
     "start_time": "2021-07-08T00:54:58.334575Z"
    }
   },
   "outputs": [],
   "source": [
    "len(df)/8"
   ]
  },
  {
   "cell_type": "code",
   "execution_count": null,
   "id": "51ad40e3",
   "metadata": {
    "ExecuteTime": {
     "end_time": "2021-07-08T00:54:58.753413Z",
     "start_time": "2021-07-08T00:54:58.716725Z"
    }
   },
   "outputs": [],
   "source": [
    "df['ins_rel_frac_log'] = np.log(df.instructions_relative_frac)"
   ]
  },
  {
   "cell_type": "markdown",
   "id": "9c3953b8",
   "metadata": {},
   "source": [
    "# Dataset summary"
   ]
  },
  {
   "cell_type": "code",
   "execution_count": null,
   "id": "e152ebf9",
   "metadata": {
    "ExecuteTime": {
     "end_time": "2021-07-08T00:55:05.821868Z",
     "start_time": "2021-07-08T00:55:05.672800Z"
    }
   },
   "outputs": [],
   "source": [
    "#df2 = df.groupby(['crate', 'function_path']).apply(compute_loc)#.groupby('crate').sum()\n",
    "g = df2.reset_index().groupby('crate')\n",
    "out = g.sum()\n",
    "out['size'] = g.size()\n",
    "out"
   ]
  },
  {
   "cell_type": "markdown",
   "id": "611769dc",
   "metadata": {},
   "source": [
    "## Execution time"
   ]
  },
  {
   "cell_type": "code",
   "execution_count": null,
   "id": "c43f0df1",
   "metadata": {
    "ExecuteTime": {
     "end_time": "2021-07-08T00:55:12.584156Z",
     "start_time": "2021-07-08T00:55:11.933852Z"
    }
   },
   "outputs": [],
   "source": [
    "df2 = cond(df, m='DistinguishMut', c='SigOnly', p='Precise')\n",
    "print(df2.duration.max(), df2.duration.median() * 100000)\n"
   ]
  },
  {
   "cell_type": "code",
   "execution_count": null,
   "id": "14c648a9",
   "metadata": {
    "ExecuteTime": {
     "end_time": "2021-07-08T00:55:13.151742Z",
     "start_time": "2021-07-08T00:55:12.585710Z"
    }
   },
   "outputs": [],
   "source": [
    "df2 = cond(df, m='IgnoreMut', c='Recurse', p='Conservative')\n",
    "print(df2.duration.max(), df2.duration.median() * 100000)"
   ]
  },
  {
   "cell_type": "markdown",
   "id": "6b074b64",
   "metadata": {},
   "source": [
    "## Number of instructions"
   ]
  },
  {
   "cell_type": "code",
   "execution_count": null,
   "id": "6c0c0b5e",
   "metadata": {
    "ExecuteTime": {
     "end_time": "2021-07-08T00:55:28.645639Z",
     "start_time": "2021-07-08T00:55:23.957205Z"
    }
   },
   "outputs": [],
   "source": [
    "ax = sns.histplot(df.num_instructions)\n",
    "# ax.set_xscale('log')"
   ]
  },
  {
   "cell_type": "code",
   "execution_count": null,
   "id": "458e2b22",
   "metadata": {
    "ExecuteTime": {
     "end_time": "2021-07-08T00:55:28.838142Z",
     "start_time": "2021-07-08T00:55:28.647211Z"
    }
   },
   "outputs": [],
   "source": [
    "df_big = df[df.num_instructions >= 1000]\n",
    "len(df_big) / len(df)"
   ]
  },
  {
   "cell_type": "markdown",
   "id": "2939e437",
   "metadata": {},
   "source": [
    "# Slice size analysis"
   ]
  },
  {
   "cell_type": "code",
   "execution_count": null,
   "id": "e54717a2",
   "metadata": {
    "ExecuteTime": {
     "end_time": "2021-07-08T00:55:31.112689Z",
     "start_time": "2021-07-08T00:55:31.103940Z"
    }
   },
   "outputs": [],
   "source": [
    "def plot_ins(data, xscale='linear', yscale='linear', field='instructions_relative_frac', nz=True, ax=None, **kwargs):\n",
    "    if xscale == 'log':\n",
    "        df_plot = data[data.ins_rel_nonzero]\n",
    "        bins = np.logspace(np.log10(0.00001), np.log10(df_plot[field].max()))\n",
    "    elif xscale == 'symlog':\n",
    "        df_plot = data\n",
    "        min_n = df_plot[df_plot[field] > 0][field].min()/10\n",
    "        bins = np.concatenate(([0], np.logspace(np.log10(min_n), np.log10(df_plot[field].max()))))\n",
    "    else:\n",
    "        df_plot = data\n",
    "        n = df_plot.instructions_relative_frac.max()\n",
    "        bins = np.arange(0, n, n / 50)\n",
    "        \n",
    "    ax = sns.histplot(df_plot[field], bins=bins, ax=ax) #element='step')\n",
    "    ax.set_yscale(yscale)\n",
    "    if xscale == 'symlog':\n",
    "        ax.set_xscale(xscale, linthresh=min_n, linscale=0.2)\n",
    "    else:\n",
    "        ax.set_xscale(xscale)\n",
    "        \n",
    "    ax.set_xlabel('\\% diff in slice size' + (', log scale' if 'log' in xscale else ''))\n",
    "    ax.set_ylabel('Count' + (', log scale' if yscale == 'log' else ''))\n",
    "    \n",
    "    if xscale == 'log' and nz:\n",
    "        n = data[data.ins_rel_nonzero][field].min() / 10\n",
    "        ax.bar(n, len(data[~data.ins_rel_nonzero]), color='r', width=[n])\n",
    "    elif xscale == 'symlog':\n",
    "        ax.set_xlim(0)\n",
    "        xticks = ax.get_xticks()\n",
    "        ax.set_xticks(np.concatenate((xticks[0:1], xticks[3:])))\n",
    "        \n",
    "plot_ins_nz = lambda *args, **kwargs: plot_ins(*args, xscale='log', yscale='linear', nz=False, **kwargs)\n",
    "plot_ins_abs = lambda *args, **kwargs: plot_ins(*args, field='instructions_relative', **kwargs)\n",
    "\n",
    "# plot_ins(df, 'symlog', 'log')"
   ]
  },
  {
   "cell_type": "code",
   "execution_count": null,
   "id": "32a8577c",
   "metadata": {
    "ExecuteTime": {
     "end_time": "2021-07-08T00:56:24.081416Z",
     "start_time": "2021-07-08T00:56:10.790365Z"
    }
   },
   "outputs": [],
   "source": [
    "from matplotlib import rc\n",
    "rc('font',**{'family':'serif','serif':['Linux Libertine O']})\n",
    "rc('text', **{'usetex': True, 'latex.preamble': r'\\usepackage{libertine}\\usepackage[libertine]{newtxmath}'})\n",
    "\n",
    "df2 = cond(df, c='SigOnly', m='DistinguishMut', p='Precise')\n",
    "fig, [ax1, ax2, ax3] = plt.subplots(1, 3, figsize=(9, 2.5))\n",
    "plot_ins(df2, ax=ax1)\n",
    "ax1.set_title('\\\\textsc{x-linear / y-linear}')\n",
    "ax1.set_yticklabels(['0', '$2 \\cdot 10^6$', '$4 \\cdot 10^6$'])\n",
    "# plot_ins(cond(df, c='SigOnly', m='DistinguishMut', p='Precise'), yscale='log', ax=ax2)\n",
    "# ax2.set_title('\\\\textsc{x-linear / y-log}')\n",
    "plot_ins(df2, xscale='symlog', yscale='log', ax=ax2)\n",
    "ax2.set_title('\\\\textsc{x-log / y-log}')\n",
    "plot_ins(df2, xscale='log', nz=False, ax=ax3)\n",
    "ax3.set_title('\\\\textsc{x-log / y-linear (no zeros)}')\n",
    "ax3.set_xticks([10e-6, 10e-4, 10e-2, 10e-0, 10e2])\n",
    "# fig.suptitle('Distribution of slice \\%diff for SigOnly vs. Recurse')\n",
    "fig.tight_layout()\n",
    "fig.savefig('eval-recurse-dist.pdf')"
   ]
  },
  {
   "cell_type": "code",
   "execution_count": null,
   "id": "45b83a72",
   "metadata": {
    "ExecuteTime": {
     "end_time": "2021-07-08T00:56:27.508545Z",
     "start_time": "2021-07-08T00:56:24.083220Z"
    }
   },
   "outputs": [],
   "source": [
    "fig, [ax1, ax2, ax3] = plt.subplots(1, 3, figsize=(9, 2.5), sharey=True)\n",
    "\n",
    "plot_ins(cond(df, c='SigOnly', m='DistinguishMut', p='Precise'), xscale='log', nz=False, ax=ax1)\n",
    "ax1.set_title('\\\\textsc{Baseline} vs. \\\\textsc{Whole-program}')\n",
    "plot_ins(cond(df, c='SigOnly', m='IgnoreMut', p='Precise'), field='instructions_relative_base_frac', \n",
    "         xscale='log', nz=False, ax=ax2)\n",
    "ax2.set_title('\\\\textsc{Mut-blind} vs. \\\\textsc{Baseline}')\n",
    "plot_ins(cond(df, c='SigOnly', m='DistinguishMut', p='Conservative'), field='instructions_relative_base_frac', \n",
    "         xscale='log', nz=False, ax=ax3)\n",
    "ax3.set_title('\\\\textsc{Pointer-blind} vs. \\\\textsc{Baseline}')\n",
    "\n",
    "ax1.set_xlabel('')\n",
    "ax3.set_xlabel('')\n",
    "\n",
    "fig.tight_layout()\n",
    "\n",
    "fig.savefig('eval-all-dist.pdf')"
   ]
  },
  {
   "cell_type": "code",
   "execution_count": null,
   "id": "134afd94",
   "metadata": {
    "ExecuteTime": {
     "end_time": "2021-07-08T00:56:28.194702Z",
     "start_time": "2021-07-08T00:56:27.510211Z"
    }
   },
   "outputs": [],
   "source": [
    "df2 = cond(df, c='SigOnly', m='IgnoreMut', p='Precise')\n",
    "g = df2[df2.instructions_relative_base_frac > 0].groupby('crate').size().rename('nz')\n",
    "g2 = pd.concat([\n",
    "    g, \n",
    "    df2.groupby('crate').size().rename('total'), \n",
    "    df2.groupby('crate').num_instructions.median().rename('avg_ins')], axis=1)\n",
    "g2['frac'] = g2.nz / g2.total\n",
    "g2.sort_values('frac')"
   ]
  },
  {
   "cell_type": "code",
   "execution_count": null,
   "id": "375dbdc6",
   "metadata": {
    "ExecuteTime": {
     "end_time": "2021-07-08T00:56:44.267775Z",
     "start_time": "2021-07-08T00:56:28.196368Z"
    }
   },
   "outputs": [],
   "source": [
    "g = sns.FacetGrid(data=cond(df, c='SigOnly', m='IgnoreMut', p='Precise'), \n",
    "                  col='crate', col_wrap=5, sharex=False, height=2.5, aspect=0.9)\n",
    "g.map_dataframe(plot_ins, xscale='log', nz=False, field='instructions_relative_base_frac')\n",
    "g.set_titles('\\\\textsc{{{col_name}}}')\n",
    "g.fig.supylabel('Count')\n",
    "g.fig.supxlabel('\\% diff in slice size, log scale')\n",
    "g.fig.tight_layout()\n",
    "g.fig.savefig('eval-crates.pdf')"
   ]
  },
  {
   "cell_type": "code",
   "execution_count": null,
   "id": "9df2986b",
   "metadata": {
    "ExecuteTime": {
     "end_time": "2021-07-08T00:56:45.092295Z",
     "start_time": "2021-07-08T00:56:44.269575Z"
    }
   },
   "outputs": [],
   "source": [
    "from scipy.stats.mstats import gmean\n",
    "\n",
    "df2 = cond(df, c='SigOnly', m='IgnoreMut', p='Precise')\n",
    "nz = df2[df2.instructions_relative_base_frac > 0]\n",
    "print(len(nz) / len(df2), gmean(nz.instructions_relative_base_frac))"
   ]
  },
  {
   "cell_type": "code",
   "execution_count": null,
   "id": "342db9d8",
   "metadata": {
    "ExecuteTime": {
     "end_time": "2021-07-08T00:56:45.691327Z",
     "start_time": "2021-07-08T00:56:45.093869Z"
    }
   },
   "outputs": [],
   "source": [
    "df2 = cond(df, c='SigOnly', m='DistinguishMut', p='Conservative')\n",
    "nz = df2[df2.instructions_relative_base_frac > 0]\n",
    "print(len(nz) / len(df2), gmean(nz.instructions_relative_base_frac))"
   ]
  },
  {
   "cell_type": "code",
   "execution_count": null,
   "id": "f8f64c7d",
   "metadata": {
    "ExecuteTime": {
     "end_time": "2021-07-08T00:56:46.280189Z",
     "start_time": "2021-07-08T00:56:45.692860Z"
    }
   },
   "outputs": [],
   "source": [
    "cond(df, c='Recurse', m='DistinguishMut', p='Precise').groupby('reached_library').num_instructions.describe()"
   ]
  },
  {
   "cell_type": "code",
   "execution_count": null,
   "id": "7d204bc6",
   "metadata": {
    "ExecuteTime": {
     "end_time": "2021-07-08T00:56:46.285309Z",
     "start_time": "2021-07-08T00:56:46.281668Z"
    }
   },
   "outputs": [],
   "source": [
    "140427 / (140427 + 276530)"
   ]
  },
  {
   "cell_type": "code",
   "execution_count": null,
   "id": "6add363f",
   "metadata": {
    "ExecuteTime": {
     "end_time": "2021-07-08T00:56:46.990286Z",
     "start_time": "2021-07-08T00:56:46.286615Z"
    }
   },
   "outputs": [],
   "source": [
    "cond(df, c='SigOnly', m='DistinguishMut', p='Precise').groupby(['reached_library', 'ins_rel_nonzero']) \\\n",
    "    .instructions_relative_frac.describe()[['count', 'mean', '50%']]"
   ]
  },
  {
   "cell_type": "code",
   "execution_count": null,
   "id": "4d567954",
   "metadata": {
    "ExecuteTime": {
     "end_time": "2021-07-08T00:56:46.994953Z",
     "start_time": "2021-07-08T00:56:46.991723Z"
    }
   },
   "outputs": [],
   "source": [
    "print(732 / 139695)\n",
    "print(18267.0 / 258263.0)"
   ]
  },
  {
   "cell_type": "code",
   "execution_count": null,
   "id": "4f99b83d",
   "metadata": {
    "ExecuteTime": {
     "end_time": "2021-07-08T00:56:47.096300Z",
     "start_time": "2021-07-08T00:56:46.996274Z"
    }
   },
   "outputs": [],
   "source": [
    "# df2 = cond(df, c='SigOnly', m='DistinguishMut', p='Precise')\n",
    "# df3 = df2.groupby(['crate', 'function_path']) \\\n",
    "#     .apply(lambda df: df.iloc[0]).reset_index(drop=True)\n",
    "num_slices = df2.groupby(['crate']).size().rename('num_slices')\n",
    "avg_ins_per_func = df3.groupby('crate').num_instructions.mean() \\\n",
    "    .rename('avg_ins_per_func')\n",
    "num_funcs = df2.groupby(['crate']).size().rename('num_funcs')\n",
    "\n",
    "q = df2.groupby(['crate', 'function_path']).size()\n",
    "avg_slices_per_func = q[q > 0] \\\n",
    "    .groupby('crate').mean().rename('avg_slices_per_func')\n",
    "pd.concat(\n",
    "    [num_slices, avg_ins_per_func, num_funcs, avg_slices_per_func], \n",
    "    axis=1).sort_values('num_slices')"
   ]
  }
 ],
 "metadata": {
  "kernelspec": {
   "display_name": "Python 3 (ipykernel)",
   "language": "python",
   "name": "python3"
  },
  "language_info": {
   "codemirror_mode": {
    "name": "ipython",
    "version": 3
   },
   "file_extension": ".py",
   "mimetype": "text/x-python",
   "name": "python",
   "nbconvert_exporter": "python",
   "pygments_lexer": "ipython3",
   "version": "3.7.2"
  },
  "toc": {
   "base_numbering": 1,
   "nav_menu": {},
   "number_sections": true,
   "sideBar": true,
   "skip_h1_title": false,
   "title_cell": "Table of Contents",
   "title_sidebar": "Contents",
   "toc_cell": false,
   "toc_position": {},
   "toc_section_display": true,
   "toc_window_display": false
  },
  "varInspector": {
   "cols": {
    "lenName": 16,
    "lenType": 16,
    "lenVar": 40
   },
   "kernels_config": {
    "python": {
     "delete_cmd_postfix": "",
     "delete_cmd_prefix": "del ",
     "library": "var_list.py",
     "varRefreshCmd": "print(var_dic_list())"
    },
    "r": {
     "delete_cmd_postfix": ") ",
     "delete_cmd_prefix": "rm(",
     "library": "var_list.r",
     "varRefreshCmd": "cat(var_dic_list()) "
    }
   },
   "types_to_exclude": [
    "module",
    "function",
    "builtin_function_or_method",
    "instance",
    "_Feature"
   ],
   "window_display": false
  }
 },
 "nbformat": 4,
 "nbformat_minor": 5
}
