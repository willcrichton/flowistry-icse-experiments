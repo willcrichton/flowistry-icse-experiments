{
 "cells": [
  {
   "cell_type": "code",
   "execution_count": null,
   "id": "protected-value",
   "metadata": {
    "ExecuteTime": {
     "end_time": "2022-03-02T18:06:26.137487Z",
     "start_time": "2022-03-02T18:06:23.955380Z"
    }
   },
   "outputs": [],
   "source": [
    "import pandas as pd\n",
    "from pandas.api.types import CategoricalDtype as Category\n",
    "import matplotlib.pyplot as plt\n",
    "from glob import glob\n",
    "import seaborn as sns\n",
    "import numpy as np\n",
    "from iterextras import par_for\n",
    "import subprocess as sp\n",
    "import os\n",
    "import itertools\n",
    "from tqdm.auto import tqdm\n",
    "import rs_utils\n",
    "from scipy.stats import gmean\n",
    "import matplotlib as mpl\n",
    "import json\n",
    "import statsmodels.formula.api as sm\n",
    "from matplotlib import rc\n",
    "\n",
    "sns.set()"
   ]
  },
  {
   "cell_type": "code",
   "execution_count": null,
   "id": "hidden-chambers",
   "metadata": {
    "ExecuteTime": {
     "end_time": "2022-03-02T18:08:16.038128Z",
     "start_time": "2022-03-02T18:06:26.141206Z"
    }
   },
   "outputs": [],
   "source": [
    "PATHS = glob('../data/*.json')\n",
    "CRATES = [os.path.splitext(os.path.basename(path))[0] for path in PATHS]\n",
    "CATEGORIES = {\n",
    "    'mutability_mode': Category([\"DistinguishMut\", \"IgnoreMut\"]),\n",
    "    'context_mode': Category([\"Recurse\", \"SigOnly\"]),\n",
    "    'pointer_mode': Category([\"Conservative\", \"Precise\"]),\n",
    "    'crate': Category(sorted(CRATES))\n",
    "}\n",
    "\n",
    "def parse_data(path):\n",
    "    print(path)\n",
    "    if os.stat(path).st_size == 0:\n",
    "        return []\n",
    "    \n",
    "    crate = os.path.splitext(os.path.basename(path))[0]\n",
    "    df = pd.DataFrame(rs_utils.parse_data(path))\n",
    "    df['crate'] = crate\n",
    "    for k, dt in CATEGORIES.items():\n",
    "        df[k] = df[k].astype(dt)\n",
    "    return df\n",
    "\n",
    "\n",
    "all_dfs = par_for(parse_data, PATHS)\n",
    "df = pd.concat(all_dfs).reset_index()\n",
    "del all_dfs\n",
    "\n",
    "df['ins_rel_nonzero'] = df.instructions_relative > 0\n",
    "df['ins_rel_frac_log'] = np.log(df.instructions_relative_frac)"
   ]
  },
  {
   "cell_type": "code",
   "execution_count": null,
   "id": "905c65b5",
   "metadata": {
    "ExecuteTime": {
     "end_time": "2022-03-02T18:08:19.326202Z",
     "start_time": "2022-03-02T18:08:16.040993Z"
    }
   },
   "outputs": [],
   "source": [
    "def cond(df, m=None, c=None, p=None):\n",
    "    if m is not None:\n",
    "        df = df[df.mutability_mode == m]\n",
    "    if c is not None:\n",
    "        df = df[df.context_mode == c]\n",
    "    if p is not None:\n",
    "        df = df[df.pointer_mode == p]\n",
    "    return df\n",
    "\n",
    "modular_cond = cond(df, c='SigOnly', m='DistinguishMut', p='Precise')\n",
    "modular_metric = modular_cond.instructions_relative_frac\n",
    "mutblind_cond = cond(df, c='SigOnly', m='IgnoreMut', p='Precise')\n",
    "mutblind_metric = mutblind_cond.instructions_relative_base_frac\n",
    "refblind_cond = cond(df, c='SigOnly', m='DistinguishMut', p='Conservative')\n",
    "refblind_metric = refblind_cond.instructions_relative_base_frac\n",
    "whole_cond = cond(df, c='Recurse', m='DistinguishMut', p='Precise')"
   ]
  },
  {
   "cell_type": "markdown",
   "id": "886fc69a",
   "metadata": {},
   "source": [
    "# Dataset (Section 5.1)\n",
    "\n",
    "## Crate information (Table 1)"
   ]
  },
  {
   "cell_type": "code",
   "execution_count": null,
   "id": "dc2f3fed",
   "metadata": {
    "ExecuteTime": {
     "end_time": "2022-03-02T18:08:19.333866Z",
     "start_time": "2022-03-02T18:08:19.328942Z"
    }
   },
   "outputs": [],
   "source": [
    "CRATE_INFO = [\n",
    "    ('Rocket', 'core/lib', 'Web backend framework', 'https://github.com/SergioBenitez/Rocket'),\n",
    "    ('image', None, 'Image processing library', 'https://github.com/image-rs/image'),\n",
    "    ('rayon', None, 'Data parallelism library', 'https://github.com/rayon-rs/rayon'),\n",
    "    ('rg3d', None, '3D game engine', 'https://github.com/mrDIMAS/rg3d'),    \n",
    "    ('nalgebra', None, 'Numerics library', 'https://github.com/dimforge/nalgebra'),\n",
    "    ('rustls', 'rustls', 'TLS implementation', 'https://github.com/ctz/rustls'),\n",
    "    ('sccache', None, 'Distributed build cache', 'https://github.com/mozilla/sccache'),\n",
    "    ('hyper', None, 'HTTP server', 'https://github.com/hyperium/hyper'),    \n",
    "    ('rav1e', None, 'Video encoder', 'https://github.com/xiph/rav1e'),\n",
    "    ('RustPython', 'vm', 'Python interpreter', 'https://github.com/RustPython/RustPython'),\n",
    "]"
   ]
  },
  {
   "cell_type": "code",
   "execution_count": null,
   "id": "de73c2db",
   "metadata": {
    "ExecuteTime": {
     "end_time": "2022-03-02T18:08:27.855734Z",
     "start_time": "2022-03-02T18:08:19.336019Z"
    }
   },
   "outputs": [],
   "source": [
    "modular_cond_funcs = modular_cond.groupby(['crate', 'function_path']) \\\n",
    "    .apply(lambda df: df.iloc[0]).reset_index(drop=True)\n",
    "num_slices = modular_cond.groupby(['crate']).size().rename('num_slices')\n",
    "avg_ins_per_func = modular_cond_funcs.groupby('crate').num_instructions.mean() \\\n",
    "    .rename('avg_ins_per_func')\n",
    "num_funcs = modular_cond.groupby(['crate']).apply(lambda df: len(df.function_path.unique())).rename('num_funcs')\n",
    "\n",
    "q = modular_cond.groupby(['crate', 'function_path']).size()\n",
    "avg_slices_per_func = q[q > 0] \\\n",
    "    .groupby('crate').mean().rename('avg_slices_per_func')\n",
    "crate_stats = pd.concat(\n",
    "    [num_slices, avg_ins_per_func, num_funcs, avg_slices_per_func], \n",
    "    axis=1).sort_values('num_slices')\n",
    "crate_stats"
   ]
  },
  {
   "cell_type": "code",
   "execution_count": null,
   "id": "382d0bc4",
   "metadata": {
    "ExecuteTime": {
     "end_time": "2022-03-02T18:08:44.664361Z",
     "start_time": "2022-03-02T18:08:27.857742Z"
    }
   },
   "outputs": [],
   "source": [
    "CLOC = 'cloc'\n",
    "crate_loc = []\n",
    "for (crate, path, purpose, url) in CRATE_INFO:\n",
    "    crate_dir = f'../data/repos/{crate}'\n",
    "    if path:\n",
    "        crate_dir += f'/{path}'\n",
    "    crate_dir += '/src'    \n",
    "    cloc_str = sp.check_output(f'{CLOC} {crate_dir} --json', shell=True).strip()\n",
    "    commit = sp.check_output('git rev-parse HEAD', shell=True, cwd=crate_dir).strip().decode('utf-8')\n",
    "    cloc = json.loads(cloc_str)\n",
    "    crate_loc.append({\n",
    "        \"crate\": crate,\n",
    "        'subdir': path,\n",
    "        'purpose': purpose,\n",
    "        \"url\": url,\n",
    "        \"commit\": commit,\n",
    "        \"loc\": cloc[\"Rust\"][\"code\"],\n",
    "    })\n",
    "crate_loc = pd.DataFrame(crate_loc)"
   ]
  },
  {
   "cell_type": "code",
   "execution_count": null,
   "id": "f9f41116",
   "metadata": {
    "ExecuteTime": {
     "end_time": "2022-03-02T18:08:44.683017Z",
     "start_time": "2022-03-02T18:08:44.667295Z"
    }
   },
   "outputs": [],
   "source": [
    "crate_final = crate_stats.join(crate_loc.set_index(\"crate\")).sort_values('num_slices')\n",
    "for crate, row in  crate_final.iterrows():\n",
    "    print(f'\\href{{{row.url}}}{{{crate}}} & {row.subdir or \"\"} & {row.purpose} & {row[\"loc\"]:,} & \\\n",
    "{row.num_slices:,} & {row.num_funcs:,} & {row.avg_ins_per_func:.1f} \\\\\\\\ \\hline')"
   ]
  },
  {
   "cell_type": "code",
   "execution_count": null,
   "id": "f23d3040",
   "metadata": {
    "ExecuteTime": {
     "end_time": "2022-03-02T18:08:44.690320Z",
     "start_time": "2022-03-02T18:08:44.685248Z"
    }
   },
   "outputs": [],
   "source": [
    "print(f'{crate_final[\"loc\"].sum():,} & {crate_final.num_slices.sum():,} & {crate_final.num_funcs.sum():,}')"
   ]
  },
  {
   "cell_type": "code",
   "execution_count": null,
   "id": "55417fb7",
   "metadata": {
    "ExecuteTime": {
     "end_time": "2022-03-02T18:08:44.704711Z",
     "start_time": "2022-03-02T18:08:44.692442Z"
    }
   },
   "outputs": [],
   "source": [
    "crate_final.reset_index()[['crate', 'commit']]"
   ]
  },
  {
   "cell_type": "markdown",
   "id": "23707679",
   "metadata": {},
   "source": [
    "## Execution time (last paragraph of 5.1)"
   ]
  },
  {
   "cell_type": "code",
   "execution_count": null,
   "id": "138f506f",
   "metadata": {
    "ExecuteTime": {
     "end_time": "2022-03-02T18:08:58.028847Z",
     "start_time": "2022-03-02T18:08:44.708138Z"
    }
   },
   "outputs": [],
   "source": [
    "durations = cond(df, m='DistinguishMut', p='Precise').groupby(['context_mode', 'function_path']) \\\n",
    "    .apply(lambda df: df.iloc[0].duration)\n",
    "durations.groupby('context_mode').median() * 1e3"
   ]
  },
  {
   "cell_type": "markdown",
   "id": "2939e437",
   "metadata": {},
   "source": [
    "\n",
    "# Quantitative analysis (Section 5.2)"
   ]
  },
  {
   "cell_type": "code",
   "execution_count": null,
   "id": "e54717a2",
   "metadata": {
    "ExecuteTime": {
     "end_time": "2022-03-02T18:08:58.040808Z",
     "start_time": "2022-03-02T18:08:58.031375Z"
    }
   },
   "outputs": [],
   "source": [
    "def plot_ins(data, xscale='linear', yscale='linear', nz=False, ax=None, quantile=None, bins=None, **kwargs):\n",
    "    if nz:\n",
    "        data = data[data > 0]        \n",
    "        \n",
    "    if bins is None:\n",
    "        max = data.max()\n",
    "        if 'log' in xscale:\n",
    "            bins = np.logspace(np.log10(0.0001), np.log10(max))\n",
    "            if not nz:\n",
    "                bins = np.concatenate(([0.], bins))\n",
    "        else:\n",
    "            bins = np.linspace(0, max, 30)\n",
    "\n",
    "    ax = sns.histplot(data, bins=bins, ax=ax)\n",
    "    ax.set_xscale(xscale)\n",
    "    ax.set_yscale(yscale)\n",
    "    \n",
    "    if xscale == 'symlog':\n",
    "        nz_min = data[data > 0].min()\n",
    "        ax.set_xscale(xscale, linthresh=nz_min)\n",
    "        ax.set_xlim(-nz_min/2, data.max())\n",
    "        \n",
    "    ax.set_xlabel('\\% increase in dependency set size' + (', log scale' if 'log' in xscale else ''))\n",
    "    ax.set_ylabel('Count' + (', log scale' if yscale == 'log' else ''))\n",
    "\n",
    "    if quantile is not None:\n",
    "        x = data.quantile(quantile)\n",
    "        ax.axvline(x, color='r')        "
   ]
  },
  {
   "cell_type": "markdown",
   "id": "5d0c9fa1",
   "metadata": {},
   "source": [
    "## Figure 2"
   ]
  },
  {
   "cell_type": "code",
   "execution_count": null,
   "id": "32a8577c",
   "metadata": {
    "ExecuteTime": {
     "end_time": "2022-03-02T18:09:01.896666Z",
     "start_time": "2022-03-02T18:08:58.043123Z"
    }
   },
   "outputs": [],
   "source": [
    "## Note: install pdflatex and uncomment these lines if you want the graph styling to exactly match the paper version\n",
    "#\n",
    "# rc('font',**{'family':'serif','serif':['Linux Libertine O']})\n",
    "# rc('text', **{'usetex': True, 'latex.preamble': r'\\usepackage{libertine}\\usepackage[libertine]{newtxmath}'})\n",
    "\n",
    "fig, [ax1, ax2] = plt.subplots(1, 2, figsize=(5.5, 3.))\n",
    "\n",
    "plot_ins(modular_metric, ax=ax1, xscale='symlog')\n",
    "ax1.set_title('\\\\textsc{y-linear}')\n",
    "ax1.set_yticklabels(['0'] + [f'${n} \\cdot 10^5$' for n in [1,2,3,4]])\n",
    "\n",
    "plot_ins(modular_metric, xscale='symlog', yscale='log', ax=ax2)\n",
    "ax2.set_title('\\\\textsc{y-log}')\n",
    "ax2.set_yticks([10e1, 10e3, 10e5])\n",
    "\n",
    "for ax in [ax1, ax2]:\n",
    "    ax.set_xticks([0, 10e-3, 10e-1, 10e1])\n",
    "\n",
    "ax1.set_xlabel('')\n",
    "ax2.set_xlabel('')\n",
    "fig.supxlabel('\\% difference in dependency set size, log scale (with zero)', y=0.1)\n",
    "\n",
    "fig.tight_layout()\n",
    "fig.savefig('eval-recurse-dist.pdf', bbox_inches='tight')"
   ]
  },
  {
   "cell_type": "markdown",
   "id": "fabf1d8f",
   "metadata": {},
   "source": [
    "## Figure 3"
   ]
  },
  {
   "cell_type": "code",
   "execution_count": null,
   "id": "45b83a72",
   "metadata": {
    "ExecuteTime": {
     "end_time": "2022-03-02T18:09:04.090259Z",
     "start_time": "2022-03-02T18:09:01.898777Z"
    }
   },
   "outputs": [],
   "source": [
    "fig, [ax1, ax2, ax3] = plt.subplots(1, 3, figsize=(5.5, 3.), sharey=True)\n",
    "\n",
    "kwargs = {'nz': True, 'xscale': 'log'}\n",
    "plot_ins(modular_metric, ax=ax1, **kwargs)\n",
    "ax1.set_title('\\\\textsc{Modular} - \\\\textsc{Whole-program}')\n",
    "plot_ins(mutblind_metric, ax=ax2, **kwargs)\n",
    "ax2.set_title('\\\\textsc{Mut-blind} - \\\\textsc{Modular}', y=1.125)\n",
    "plot_ins(refblind_metric, ax=ax3, **kwargs)\n",
    "ax3.set_title('\\\\textsc{Ref-blind} - \\\\textsc{Modular}')\n",
    "\n",
    "for ax in [ax1, ax2, ax3]:\n",
    "    ax.set_xticks([10e-3, 10e-1, 10e1])\n",
    "ax1.get_yaxis().set_major_formatter(mpl.ticker.FuncFormatter(lambda x, p: format(int(x), ',')))\n",
    "\n",
    "ax1.set_xlabel('')\n",
    "ax3.set_xlabel('')\n",
    "\n",
    "fig.tight_layout()\n",
    "\n",
    "fig.savefig('eval-all-dist.pdf', bbox_inches='tight')"
   ]
  },
  {
   "cell_type": "markdown",
   "id": "703401bb",
   "metadata": {},
   "source": [
    "## Statistics used within 5.2 text"
   ]
  },
  {
   "cell_type": "code",
   "execution_count": null,
   "id": "53d4e264",
   "metadata": {
    "ExecuteTime": {
     "end_time": "2022-03-02T18:50:06.206493Z",
     "start_time": "2022-03-02T18:50:04.470967Z"
    }
   },
   "outputs": [],
   "source": [
    "model = sm.ols(\n",
    "    'num_relevant_instructions ~ mutability_mode * pointer_mode', \n",
    "    data=df[(df.context_mode == 'SigOnly')])\n",
    "results = model.fit()\n",
    "results.summary()"
   ]
  },
  {
   "cell_type": "code",
   "execution_count": null,
   "id": "3264fb7f",
   "metadata": {
    "ExecuteTime": {
     "end_time": "2022-03-02T18:09:06.707548Z",
     "start_time": "2022-03-02T18:09:06.662360Z"
    }
   },
   "outputs": [],
   "source": [
    "def stats(series):\n",
    "    nz = len(series[series > 0]) / len(series)\n",
    "    return f'{nz:.4f}, {1. - nz:.4f}, {series[series > 0].median():.2f}'\n",
    "\n",
    "print('Modular:', stats(modular_metric))\n",
    "print('MutBlind:', stats(mutblind_metric))\n",
    "print('RefBlind:', stats(refblind_metric))"
   ]
  },
  {
   "cell_type": "markdown",
   "id": "61e05e97",
   "metadata": {},
   "source": [
    "## Figure 4"
   ]
  },
  {
   "cell_type": "code",
   "execution_count": null,
   "id": "375dbdc6",
   "metadata": {
    "ExecuteTime": {
     "end_time": "2022-03-02T18:09:14.219139Z",
     "start_time": "2022-03-02T18:09:06.709826Z"
    }
   },
   "outputs": [],
   "source": [
    "g = sns.FacetGrid(data=mutblind_cond, col='crate', col_order=sorted(CRATES, key=lambda s: s.lower()), \n",
    "                  col_wrap=5, sharex=False, height=2.3, aspect=0.9)\n",
    "g.map_dataframe(lambda **kwargs: plot_ins(kwargs['data'].instructions_relative_base_frac, nz=True, xscale='log'))\n",
    "g.set_titles('\\\\textsc{{{col_name}}}')\n",
    "g.fig.supylabel('Count')\n",
    "g.fig.supxlabel('\\% increase in dependency set size, log scale', y=0.05)\n",
    "for ax in g.axes.flat:\n",
    "    ax.set_xlabel('')\n",
    "    ax.set_ylabel('')\n",
    "    ax.set_xticks([10e-3, 10e-1, 10e1])\n",
    "    \n",
    "g.fig.tight_layout()\n",
    "g.fig.savefig('eval-crates.pdf', bbox_inches='tight')\n",
    "\n"
   ]
  },
  {
   "cell_type": "markdown",
   "id": "2a029bd5",
   "metadata": {},
   "source": [
    "# Threats to validity (Section 5.4)"
   ]
  },
  {
   "cell_type": "markdown",
   "id": "ecd47cab",
   "metadata": {},
   "source": [
    "\n",
    "## 5.4.1 statistics"
   ]
  },
  {
   "cell_type": "code",
   "execution_count": null,
   "id": "5927281f",
   "metadata": {
    "ExecuteTime": {
     "end_time": "2022-03-02T18:09:14.443665Z",
     "start_time": "2022-03-02T18:09:14.221184Z"
    }
   },
   "outputs": [],
   "source": [
    "total_vs_nz = mutblind_cond.groupby('crate').apply(lambda df: pd.DataFrame([{\n",
    "    'total': crate_final.num_slices[df.crate.iloc[0]],\n",
    "     'nz': len(df[df.instructions_relative_base > 0])\n",
    "}]))\n",
    "result = sm.ols('nz ~ total', data=total_vs_nz).fit()\n",
    "result.summary()"
   ]
  },
  {
   "cell_type": "markdown",
   "id": "7df7c819",
   "metadata": {},
   "source": [
    "## 5.4.2 statistics"
   ]
  },
  {
   "cell_type": "code",
   "execution_count": null,
   "id": "9364685c",
   "metadata": {
    "ExecuteTime": {
     "end_time": "2022-03-02T18:09:14.548001Z",
     "start_time": "2022-03-02T18:09:14.445791Z"
    }
   },
   "outputs": [],
   "source": [
    "len(modular_cond[modular_cond.reached_library]) / len(modular_cond)"
   ]
  },
  {
   "cell_type": "code",
   "execution_count": null,
   "id": "49dd23ba",
   "metadata": {
    "ExecuteTime": {
     "end_time": "2022-03-02T18:09:14.677554Z",
     "start_time": "2022-03-02T18:09:14.550079Z"
    }
   },
   "outputs": [],
   "source": [
    "modular_cond.groupby('reached_library').apply(lambda df: len(df[df.ins_rel_nonzero]) / len(df))"
   ]
  }
 ],
 "metadata": {
  "kernelspec": {
   "display_name": "Python 3 (ipykernel)",
   "language": "python",
   "name": "python3"
  },
  "language_info": {
   "codemirror_mode": {
    "name": "ipython",
    "version": 3
   },
   "file_extension": ".py",
   "mimetype": "text/x-python",
   "name": "python",
   "nbconvert_exporter": "python",
   "pygments_lexer": "ipython3",
   "version": "3.7.2"
  },
  "toc": {
   "base_numbering": 1,
   "nav_menu": {},
   "number_sections": true,
   "sideBar": true,
   "skip_h1_title": false,
   "title_cell": "Table of Contents",
   "title_sidebar": "Contents",
   "toc_cell": false,
   "toc_position": {},
   "toc_section_display": true,
   "toc_window_display": false
  },
  "varInspector": {
   "cols": {
    "lenName": 16,
    "lenType": 16,
    "lenVar": 40
   },
   "kernels_config": {
    "python": {
     "delete_cmd_postfix": "",
     "delete_cmd_prefix": "del ",
     "library": "var_list.py",
     "varRefreshCmd": "print(var_dic_list())"
    },
    "r": {
     "delete_cmd_postfix": ") ",
     "delete_cmd_prefix": "rm(",
     "library": "var_list.r",
     "varRefreshCmd": "cat(var_dic_list()) "
    }
   },
   "types_to_exclude": [
    "module",
    "function",
    "builtin_function_or_method",
    "instance",
    "_Feature"
   ],
   "window_display": false
  }
 },
 "nbformat": 4,
 "nbformat_minor": 5
}
