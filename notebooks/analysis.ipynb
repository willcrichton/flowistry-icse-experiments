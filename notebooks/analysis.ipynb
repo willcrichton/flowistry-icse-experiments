{
 "cells": [
  {
   "cell_type": "code",
   "execution_count": 1,
   "id": "94b2f1af",
   "metadata": {
    "ExecuteTime": {
     "end_time": "2022-03-15T18:44:17.818627Z",
     "start_time": "2022-03-15T18:44:16.594813Z"
    }
   },
   "outputs": [],
   "source": [
    "import pandas as pd\n",
    "from pandas.api.types import CategoricalDtype as Category\n",
    "import matplotlib.pyplot as plt\n",
    "from glob import glob\n",
    "import seaborn as sns\n",
    "import numpy as np\n",
    "from iterextras import par_for\n",
    "import subprocess as sp\n",
    "import os\n",
    "import itertools\n",
    "from tqdm.auto import tqdm\n",
    "import rs_utils\n",
    "from scipy.stats import gmean\n",
    "import matplotlib as mpl\n",
    "import json\n",
    "import statsmodels.formula.api as sm\n",
    "from matplotlib import rc\n",
    "\n",
    "sns.set()"
   ]
  },
  {
   "cell_type": "code",
   "execution_count": 2,
   "id": "06a1e63f",
   "metadata": {
    "ExecuteTime": {
     "end_time": "2022-03-15T18:44:27.810645Z",
     "start_time": "2022-03-15T18:44:17.820815Z"
    }
   },
   "outputs": [
    {
     "name": "stdout",
     "output_type": "stream",
     "text": [
      "../data/rav1e.json\n",
      "../data/hyper.json\n",
      "../data/image.json\n",
      "../data/RustPython.json\n",
      "../data/rg3d.json\n",
      "../data/rayon.json\n",
      "../data/rustls.json\n",
      "../data/Rocket.json\n",
      "../data/nalgebra.json\n",
      "../data/sccache.json\n"
     ]
    },
    {
     "data": {
      "application/vnd.jupyter.widget-view+json": {
       "model_id": "0c7927de0a81447e9b982666ee693c15",
       "version_major": 2,
       "version_minor": 0
      },
      "text/plain": [
       "  0%|          | 0/10 [00:00<?, ?it/s]"
      ]
     },
     "metadata": {},
     "output_type": "display_data"
    }
   ],
   "source": [
    "PATHS = glob('../data/*.json')\n",
    "CRATES = [os.path.splitext(os.path.basename(path))[0] for path in PATHS]\n",
    "crate_cat = Category(sorted(CRATES))\n",
    "\n",
    "def parse_data(path):\n",
    "    print(path)\n",
    "    if os.stat(path).st_size == 0:\n",
    "        return []\n",
    "    \n",
    "    crate = os.path.splitext(os.path.basename(path))[0]\n",
    "    df = pd.read_json(path)\n",
    "    df['crate'] = crate\n",
    "    df['crate'] = df['crate'].astype(crate_cat)\n",
    "    return df\n",
    "\n",
    "\n",
    "df = pd.concat(par_for(parse_data, PATHS)).reset_index()\n",
    "df['ins_frac'] = df.num_relevant_instructions / df.num_instructions"
   ]
  },
  {
   "cell_type": "markdown",
   "id": "b921d8da",
   "metadata": {},
   "source": [
    "# Dataset (Section 5.1)\n",
    "\n",
    "## Crate information (Table 1)"
   ]
  },
  {
   "cell_type": "code",
   "execution_count": 3,
   "id": "5b52f084",
   "metadata": {
    "ExecuteTime": {
     "end_time": "2022-03-15T18:44:27.817221Z",
     "start_time": "2022-03-15T18:44:27.812626Z"
    }
   },
   "outputs": [],
   "source": [
    "CRATE_INFO = [\n",
    "    ('Rocket', 'core/lib', 'Web backend framework', 'https://github.com/SergioBenitez/Rocket'),\n",
    "    ('image', None, 'Image processing library', 'https://github.com/image-rs/image'),\n",
    "    ('rayon', None, 'Data parallelism library', 'https://github.com/rayon-rs/rayon'),\n",
    "    ('rg3d', None, '3D game engine', 'https://github.com/mrDIMAS/rg3d'),    \n",
    "    ('nalgebra', None, 'Numerics library', 'https://github.com/dimforge/nalgebra'),\n",
    "    ('rustls', 'rustls', 'TLS implementation', 'https://github.com/ctz/rustls'),\n",
    "    ('sccache', None, 'Distributed build cache', 'https://github.com/mozilla/sccache'),\n",
    "    ('hyper', None, 'HTTP server', 'https://github.com/hyperium/hyper'),    \n",
    "    ('rav1e', None, 'Video encoder', 'https://github.com/xiph/rav1e'),\n",
    "    ('RustPython', 'vm', 'Python interpreter', 'https://github.com/RustPython/RustPython'),\n",
    "]"
   ]
  },
  {
   "cell_type": "code",
   "execution_count": 4,
   "id": "1caf6229",
   "metadata": {
    "ExecuteTime": {
     "end_time": "2022-03-15T18:44:32.751419Z",
     "start_time": "2022-03-15T18:44:27.819455Z"
    }
   },
   "outputs": [
    {
     "data": {
      "text/html": [
       "<div>\n",
       "<style scoped>\n",
       "    .dataframe tbody tr th:only-of-type {\n",
       "        vertical-align: middle;\n",
       "    }\n",
       "\n",
       "    .dataframe tbody tr th {\n",
       "        vertical-align: top;\n",
       "    }\n",
       "\n",
       "    .dataframe thead th {\n",
       "        text-align: right;\n",
       "    }\n",
       "</style>\n",
       "<table border=\"1\" class=\"dataframe\">\n",
       "  <thead>\n",
       "    <tr style=\"text-align: right;\">\n",
       "      <th></th>\n",
       "      <th>num_slices</th>\n",
       "      <th>avg_ins_per_func</th>\n",
       "      <th>num_funcs</th>\n",
       "      <th>avg_slices_per_func</th>\n",
       "    </tr>\n",
       "    <tr>\n",
       "      <th>crate</th>\n",
       "      <th></th>\n",
       "      <th></th>\n",
       "      <th></th>\n",
       "      <th></th>\n",
       "    </tr>\n",
       "  </thead>\n",
       "  <tbody>\n",
       "    <tr>\n",
       "      <th>rayon</th>\n",
       "      <td>27372</td>\n",
       "      <td>16.558333</td>\n",
       "      <td>1080</td>\n",
       "      <td>25.344444</td>\n",
       "    </tr>\n",
       "    <tr>\n",
       "      <th>Rocket</th>\n",
       "      <td>32757</td>\n",
       "      <td>25.527665</td>\n",
       "      <td>741</td>\n",
       "      <td>44.206478</td>\n",
       "    </tr>\n",
       "    <tr>\n",
       "      <th>rustls</th>\n",
       "      <td>65907</td>\n",
       "      <td>42.447005</td>\n",
       "      <td>868</td>\n",
       "      <td>75.929724</td>\n",
       "    </tr>\n",
       "    <tr>\n",
       "      <th>sccache</th>\n",
       "      <td>67404</td>\n",
       "      <td>62.212733</td>\n",
       "      <td>644</td>\n",
       "      <td>104.664596</td>\n",
       "    </tr>\n",
       "    <tr>\n",
       "      <th>nalgebra</th>\n",
       "      <td>98856</td>\n",
       "      <td>26.671148</td>\n",
       "      <td>1785</td>\n",
       "      <td>55.381513</td>\n",
       "    </tr>\n",
       "    <tr>\n",
       "      <th>image</th>\n",
       "      <td>116340</td>\n",
       "      <td>56.702457</td>\n",
       "      <td>1099</td>\n",
       "      <td>105.859873</td>\n",
       "    </tr>\n",
       "    <tr>\n",
       "      <th>hyper</th>\n",
       "      <td>136092</td>\n",
       "      <td>82.887342</td>\n",
       "      <td>790</td>\n",
       "      <td>172.268354</td>\n",
       "    </tr>\n",
       "    <tr>\n",
       "      <th>rg3d</th>\n",
       "      <td>167094</td>\n",
       "      <td>25.713167</td>\n",
       "      <td>3448</td>\n",
       "      <td>48.461137</td>\n",
       "    </tr>\n",
       "    <tr>\n",
       "      <th>rav1e</th>\n",
       "      <td>228237</td>\n",
       "      <td>115.366273</td>\n",
       "      <td>931</td>\n",
       "      <td>245.152524</td>\n",
       "    </tr>\n",
       "    <tr>\n",
       "      <th>RustPython</th>\n",
       "      <td>275892</td>\n",
       "      <td>50.902043</td>\n",
       "      <td>3328</td>\n",
       "      <td>82.900240</td>\n",
       "    </tr>\n",
       "  </tbody>\n",
       "</table>\n",
       "</div>"
      ],
      "text/plain": [
       "            num_slices  avg_ins_per_func  num_funcs  avg_slices_per_func\n",
       "crate                                                                   \n",
       "rayon            27372         16.558333       1080            25.344444\n",
       "Rocket           32757         25.527665        741            44.206478\n",
       "rustls           65907         42.447005        868            75.929724\n",
       "sccache          67404         62.212733        644           104.664596\n",
       "nalgebra         98856         26.671148       1785            55.381513\n",
       "image           116340         56.702457       1099           105.859873\n",
       "hyper           136092         82.887342        790           172.268354\n",
       "rg3d            167094         25.713167       3448            48.461137\n",
       "rav1e           228237        115.366273        931           245.152524\n",
       "RustPython      275892         50.902043       3328            82.900240"
      ]
     },
     "execution_count": 4,
     "metadata": {},
     "output_type": "execute_result"
    }
   ],
   "source": [
    "df_funcs = df.groupby(['crate', 'function_path']) \\\n",
    "    .apply(lambda df: df.iloc[0]).reset_index(drop=True)\n",
    "num_slices = df.groupby(['crate']).size().rename('num_slices')\n",
    "avg_ins_per_func = df_funcs.groupby('crate').num_instructions.mean() \\\n",
    "    .rename('avg_ins_per_func')\n",
    "num_funcs = df.groupby(['crate']).apply(lambda df: len(df.function_path.unique())).rename('num_funcs')\n",
    "\n",
    "q = df.groupby(['crate', 'function_path']).size()\n",
    "avg_slices_per_func = q[q > 0] \\\n",
    "    .groupby('crate').mean().rename('avg_slices_per_func')\n",
    "crate_stats = pd.concat(\n",
    "    [num_slices, avg_ins_per_func, num_funcs, avg_slices_per_func], \n",
    "    axis=1).sort_values('num_slices')\n",
    "crate_stats"
   ]
  },
  {
   "cell_type": "code",
   "execution_count": 5,
   "id": "59e8aecb",
   "metadata": {
    "ExecuteTime": {
     "end_time": "2022-03-15T18:44:38.987281Z",
     "start_time": "2022-03-15T18:44:32.753159Z"
    }
   },
   "outputs": [],
   "source": [
    "CLOC = '/home/wcrichto/.node_modules/bin/cloc'\n",
    "crate_loc = []\n",
    "for (crate, path, purpose, url) in CRATE_INFO:\n",
    "    crate_dir = f'../data/repos/{crate}'\n",
    "    if path:\n",
    "        crate_dir += f'/{path}'\n",
    "    crate_dir += '/src'    \n",
    "    cloc_str = sp.check_output(f'{CLOC} {crate_dir} --json', shell=True).strip()\n",
    "    commit = sp.check_output('git rev-parse HEAD', shell=True, cwd=crate_dir).strip().decode('utf-8')\n",
    "    cloc = json.loads(cloc_str)\n",
    "    crate_loc.append({\n",
    "        \"crate\": crate,\n",
    "        'subdir': path,\n",
    "        'purpose': purpose,\n",
    "        \"url\": url,\n",
    "        \"commit\": commit,\n",
    "        \"loc\": cloc[\"Rust\"][\"code\"],\n",
    "    })\n",
    "crate_loc = pd.DataFrame(crate_loc)"
   ]
  },
  {
   "cell_type": "code",
   "execution_count": 6,
   "id": "d9defa22",
   "metadata": {
    "ExecuteTime": {
     "end_time": "2022-03-15T18:44:39.001215Z",
     "start_time": "2022-03-15T18:44:38.989586Z"
    }
   },
   "outputs": [
    {
     "name": "stdout",
     "output_type": "stream",
     "text": [
      "\\href{https://github.com/rayon-rs/rayon}{rayon} &  & Data parallelism library & 15,524 & 27,372 & 1,080 & 16.6 \\\\ \\hline\n",
      "\\href{https://github.com/SergioBenitez/Rocket}{Rocket} & core/lib & Web backend framework & 9,313 & 32,757 & 741 & 25.5 \\\\ \\hline\n",
      "\\href{https://github.com/ctz/rustls}{rustls} & rustls & TLS implementation & 16,866 & 65,907 & 868 & 42.4 \\\\ \\hline\n",
      "\\href{https://github.com/mozilla/sccache}{sccache} &  & Distributed build cache & 23,202 & 67,404 & 644 & 62.2 \\\\ \\hline\n",
      "\\href{https://github.com/dimforge/nalgebra}{nalgebra} &  & Numerics library & 31,951 & 98,856 & 1,785 & 26.7 \\\\ \\hline\n",
      "\\href{https://github.com/image-rs/image}{image} &  & Image processing library & 20,722 & 116,340 & 1,099 & 56.7 \\\\ \\hline\n",
      "\\href{https://github.com/hyperium/hyper}{hyper} &  & HTTP server & 15,082 & 136,092 & 790 & 82.9 \\\\ \\hline\n",
      "\\href{https://github.com/mrDIMAS/rg3d}{rg3d} &  & 3D game engine & 54,426 & 167,094 & 3,448 & 25.7 \\\\ \\hline\n",
      "\\href{https://github.com/xiph/rav1e}{rav1e} &  & Video encoder & 50,294 & 228,237 & 931 & 115.4 \\\\ \\hline\n",
      "\\href{https://github.com/RustPython/RustPython}{RustPython} & vm & Python interpreter & 47,927 & 275,892 & 3,328 & 50.9 \\\\ \\hline\n"
     ]
    }
   ],
   "source": [
    "crate_final = crate_stats.join(crate_loc.set_index(\"crate\")).sort_values('num_slices')\n",
    "for crate, row in  crate_final.iterrows():\n",
    "    print(f'\\href{{{row.url}}}{{{crate}}} & {row.subdir or \"\"} & {row.purpose} & {row[\"loc\"]:,} & \\\n",
    "{row.num_slices:,} & {row.num_funcs:,} & {row.avg_ins_per_func:.1f} \\\\\\\\ \\hline')"
   ]
  },
  {
   "cell_type": "code",
   "execution_count": 7,
   "id": "b42c98b9",
   "metadata": {
    "ExecuteTime": {
     "end_time": "2022-03-15T18:44:39.006849Z",
     "start_time": "2022-03-15T18:44:39.002886Z"
    }
   },
   "outputs": [
    {
     "name": "stdout",
     "output_type": "stream",
     "text": [
      "285,307 & 1,215,951 & 14,714\n"
     ]
    }
   ],
   "source": [
    "print(f'{crate_final[\"loc\"].sum():,} & {crate_final.num_slices.sum():,} & {crate_final.num_funcs.sum():,}')"
   ]
  },
  {
   "cell_type": "code",
   "execution_count": 8,
   "id": "1486c21e",
   "metadata": {
    "ExecuteTime": {
     "end_time": "2022-03-15T18:44:39.017501Z",
     "start_time": "2022-03-15T18:44:39.008403Z"
    }
   },
   "outputs": [
    {
     "data": {
      "text/html": [
       "<div>\n",
       "<style scoped>\n",
       "    .dataframe tbody tr th:only-of-type {\n",
       "        vertical-align: middle;\n",
       "    }\n",
       "\n",
       "    .dataframe tbody tr th {\n",
       "        vertical-align: top;\n",
       "    }\n",
       "\n",
       "    .dataframe thead th {\n",
       "        text-align: right;\n",
       "    }\n",
       "</style>\n",
       "<table border=\"1\" class=\"dataframe\">\n",
       "  <thead>\n",
       "    <tr style=\"text-align: right;\">\n",
       "      <th></th>\n",
       "      <th>crate</th>\n",
       "      <th>commit</th>\n",
       "    </tr>\n",
       "  </thead>\n",
       "  <tbody>\n",
       "    <tr>\n",
       "      <th>0</th>\n",
       "      <td>rayon</td>\n",
       "      <td>c571f8ffb4f74c8c09b4e1e6d9979b71b4414d07</td>\n",
       "    </tr>\n",
       "    <tr>\n",
       "      <th>1</th>\n",
       "      <td>Rocket</td>\n",
       "      <td>8d4d01106e2e10b08100805d40bfa19a7357e900</td>\n",
       "    </tr>\n",
       "    <tr>\n",
       "      <th>2</th>\n",
       "      <td>rustls</td>\n",
       "      <td>cdf1dada21a537e141d0c6dde9c5685bb43fbc0e</td>\n",
       "    </tr>\n",
       "    <tr>\n",
       "      <th>3</th>\n",
       "      <td>sccache</td>\n",
       "      <td>3f318a8675e4c3de4f5e8ab2d086189f2ae5f5cf</td>\n",
       "    </tr>\n",
       "    <tr>\n",
       "      <th>4</th>\n",
       "      <td>nalgebra</td>\n",
       "      <td>984bb1a63943aa68b6f26ff4a6acf8f68b833b70</td>\n",
       "    </tr>\n",
       "    <tr>\n",
       "      <th>5</th>\n",
       "      <td>image</td>\n",
       "      <td>e916e9dda5f4253f6cc4557b0fe5fa3876ac18e5</td>\n",
       "    </tr>\n",
       "    <tr>\n",
       "      <th>6</th>\n",
       "      <td>hyper</td>\n",
       "      <td>ed2fdb7b6a2963cea7577df05ddc41c56fee7246</td>\n",
       "    </tr>\n",
       "    <tr>\n",
       "      <th>7</th>\n",
       "      <td>rg3d</td>\n",
       "      <td>ca7b85f2b30e45b82caee0591ee1abf65bb3eb00</td>\n",
       "    </tr>\n",
       "    <tr>\n",
       "      <th>8</th>\n",
       "      <td>rav1e</td>\n",
       "      <td>1b6643324752785e7cd6ad0b19257f3c3a9b2c6a</td>\n",
       "    </tr>\n",
       "    <tr>\n",
       "      <th>9</th>\n",
       "      <td>RustPython</td>\n",
       "      <td>9143e51b7524a5084d5ed230b1f2f5b0610ac58b</td>\n",
       "    </tr>\n",
       "  </tbody>\n",
       "</table>\n",
       "</div>"
      ],
      "text/plain": [
       "        crate                                    commit\n",
       "0       rayon  c571f8ffb4f74c8c09b4e1e6d9979b71b4414d07\n",
       "1      Rocket  8d4d01106e2e10b08100805d40bfa19a7357e900\n",
       "2      rustls  cdf1dada21a537e141d0c6dde9c5685bb43fbc0e\n",
       "3     sccache  3f318a8675e4c3de4f5e8ab2d086189f2ae5f5cf\n",
       "4    nalgebra  984bb1a63943aa68b6f26ff4a6acf8f68b833b70\n",
       "5       image  e916e9dda5f4253f6cc4557b0fe5fa3876ac18e5\n",
       "6       hyper  ed2fdb7b6a2963cea7577df05ddc41c56fee7246\n",
       "7        rg3d  ca7b85f2b30e45b82caee0591ee1abf65bb3eb00\n",
       "8       rav1e  1b6643324752785e7cd6ad0b19257f3c3a9b2c6a\n",
       "9  RustPython  9143e51b7524a5084d5ed230b1f2f5b0610ac58b"
      ]
     },
     "execution_count": 8,
     "metadata": {},
     "output_type": "execute_result"
    }
   ],
   "source": [
    "crate_final.reset_index()[['crate', 'commit']]"
   ]
  },
  {
   "cell_type": "markdown",
   "id": "fb32ad53",
   "metadata": {},
   "source": [
    "## Execution time (last paragraph of 5.1)"
   ]
  },
  {
   "cell_type": "code",
   "execution_count": 9,
   "id": "5687cc86",
   "metadata": {
    "ExecuteTime": {
     "end_time": "2022-03-15T18:44:39.038314Z",
     "start_time": "2022-03-15T18:44:39.019081Z"
    }
   },
   "outputs": [
    {
     "data": {
      "text/plain": [
       "4.188585"
      ]
     },
     "execution_count": 9,
     "metadata": {},
     "output_type": "execute_result"
    }
   ],
   "source": [
    "df.duration.median() * 1e3"
   ]
  },
  {
   "cell_type": "markdown",
   "id": "ee61412f",
   "metadata": {},
   "source": [
    "\n",
    "# Quantitative analysis (Section 5.2)"
   ]
  },
  {
   "cell_type": "code",
   "execution_count": 10,
   "id": "83c8405f",
   "metadata": {
    "ExecuteTime": {
     "end_time": "2022-03-15T18:44:39.396445Z",
     "start_time": "2022-03-15T18:44:39.040651Z"
    }
   },
   "outputs": [
    {
     "data": {
      "text/plain": [
       "direction\n",
       "backward    0.126050\n",
       "both        0.300000\n",
       "forward     0.097561\n",
       "Name: ins_frac, dtype: float64"
      ]
     },
     "execution_count": 10,
     "metadata": {},
     "output_type": "execute_result"
    }
   ],
   "source": [
    "df.groupby('direction').ins_frac.median()"
   ]
  },
  {
   "cell_type": "code",
   "execution_count": 11,
   "id": "1cdd7ed0",
   "metadata": {
    "ExecuteTime": {
     "end_time": "2022-03-15T18:44:40.671660Z",
     "start_time": "2022-03-15T18:44:39.398221Z"
    }
   },
   "outputs": [
    {
     "data": {
      "text/plain": [
       "<AxesSubplot:xlabel='ins_frac', ylabel='direction'>"
      ]
     },
     "execution_count": 11,
     "metadata": {},
     "output_type": "execute_result"
    },
    {
     "data": {
      "image/png": "[encoded data removed]",
      "text/plain": [
       "<Figure size 432x288 with 1 Axes>"
      ]
     },
     "metadata": {},
     "output_type": "display_data"
    }
   ],
   "source": [
    "sns.boxplot(data=df, x='ins_frac', y='direction')"
   ]
  },
  {
   "cell_type": "code",
   "execution_count": 12,
   "id": "411e1ed4",
   "metadata": {
    "ExecuteTime": {
     "end_time": "2022-03-15T18:44:43.894873Z",
     "start_time": "2022-03-15T18:44:40.673488Z"
    }
   },
   "outputs": [
    {
     "data": {
      "text/plain": [
       "<seaborn.axisgrid.FacetGrid at 0x7fd748d6bb00>"
      ]
     },
     "execution_count": 12,
     "metadata": {},
     "output_type": "execute_result"
    },
    {
     "data": {
      "image/png": "[encoded data removed]",
      "text/plain": [
       "<Figure size 1080x432 with 10 Axes>"
      ]
     },
     "metadata": {},
     "output_type": "display_data"
    }
   ],
   "source": [
    "g = sns.FacetGrid(data=df, col='crate', col_wrap=5)\n",
    "g.map_dataframe(sns.boxplot, x='ins_frac', y='direction')"
   ]
  }
 ],
 "metadata": {
  "kernelspec": {
   "display_name": "Python 3 (ipykernel)",
   "language": "python",
   "name": "python3"
  },
  "language_info": {
   "codemirror_mode": {
    "name": "ipython",
    "version": 3
   },
   "file_extension": ".py",
   "mimetype": "text/x-python",
   "name": "python",
   "nbconvert_exporter": "python",
   "pygments_lexer": "ipython3",
   "version": "3.7.2"
  },
  "toc": {
   "base_numbering": 1,
   "nav_menu": {},
   "number_sections": true,
   "sideBar": true,
   "skip_h1_title": false,
   "title_cell": "Table of Contents",
   "title_sidebar": "Contents",
   "toc_cell": false,
   "toc_position": {},
   "toc_section_display": true,
   "toc_window_display": false
  },
  "varInspector": {
   "cols": {
    "lenName": 16,
    "lenType": 16,
    "lenVar": 40
   },
   "kernels_config": {
    "python": {
     "delete_cmd_postfix": "",
     "delete_cmd_prefix": "del ",
     "library": "var_list.py",
     "varRefreshCmd": "print(var_dic_list())"
    },
    "r": {
     "delete_cmd_postfix": ") ",
     "delete_cmd_prefix": "rm(",
     "library": "var_list.r",
     "varRefreshCmd": "cat(var_dic_list()) "
    }
   },
   "types_to_exclude": [
    "module",
    "function",
    "builtin_function_or_method",
    "instance",
    "_Feature"
   ],
   "window_display": false
  }
 },
 "nbformat": 4,
 "nbformat_minor": 5
}
