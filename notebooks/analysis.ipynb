{
 "cells": [
  {
   "cell_type": "code",
   "execution_count": 1,
   "id": "protected-value",
   "metadata": {
    "ExecuteTime": {
     "end_time": "2021-11-13T03:27:04.120872Z",
     "start_time": "2021-11-13T03:27:02.897677Z"
    }
   },
   "outputs": [],
   "source": [
    "import pandas as pd\n",
    "from pandas.api.types import CategoricalDtype as Category\n",
    "import matplotlib.pyplot as plt\n",
    "from glob import glob\n",
    "import seaborn as sns\n",
    "import numpy as np\n",
    "from iterextras import par_for\n",
    "import subprocess as sp\n",
    "import os\n",
    "import itertools\n",
    "from tqdm.auto import tqdm\n",
    "import rs_utils\n",
    "from scipy.stats import gmean\n",
    "import matplotlib as mpl\n",
    "import json\n",
    "import statsmodels.formula.api as sm\n",
    "\n",
    "\n",
    "sns.set()"
   ]
  },
  {
   "cell_type": "code",
   "execution_count": 2,
   "id": "hidden-chambers",
   "metadata": {
    "ExecuteTime": {
     "end_time": "2021-11-13T03:29:29.601570Z",
     "start_time": "2021-11-13T03:27:04.122785Z"
    }
   },
   "outputs": [
    {
     "name": "stdout",
     "output_type": "stream",
     "text": [
      "../data/rav1e.json\n",
      "../data/hyper.json\n",
      "../data/image.json\n",
      "../data/RustPython.json\n",
      "../data/rg3d.json\n",
      "../data/rayon.json\n",
      "../data/rustls.json\n",
      "../data/Rocket.json\n",
      "../data/nalgebra.json\n",
      "../data/sccache.json\n"
     ]
    },
    {
     "data": {
      "application/vnd.jupyter.widget-view+json": {
       "model_id": "6a8aef6195ad40fa9b1a71f684db632b",
       "version_major": 2,
       "version_minor": 0
      },
      "text/plain": [
       "  0%|          | 0/10 [00:01<?, ?it/s]"
      ]
     },
     "metadata": {},
     "output_type": "display_data"
    }
   ],
   "source": [
    "PATHS = glob('../data/*.json')\n",
    "CRATES = [os.path.splitext(os.path.basename(path))[0] for path in PATHS]\n",
    "CATEGORIES = {\n",
    "    'mutability_mode': Category([\"DistinguishMut\", \"IgnoreMut\"]),\n",
    "    'context_mode': Category([\"Recurse\", \"SigOnly\"]),\n",
    "    'pointer_mode': Category([\"Conservative\", \"Precise\"]),\n",
    "    'crate': Category(sorted(CRATES))\n",
    "}\n",
    "\n",
    "def parse_data(path):\n",
    "    print(path)\n",
    "    if os.stat(path).st_size == 0:\n",
    "        return []\n",
    "    \n",
    "    crate = os.path.splitext(os.path.basename(path))[0]\n",
    "    df = pd.DataFrame(rs_utils.parse_data(path))\n",
    "    df['crate'] = crate\n",
    "    for k, dt in CATEGORIES.items():\n",
    "        df[k] = df[k].astype(dt)\n",
    "    return df\n",
    "\n",
    "\n",
    "all_dfs = par_for(parse_data, PATHS)\n",
    "df = pd.concat(all_dfs).reset_index()\n",
    "del all_dfs\n",
    "\n",
    "# df = df[(df.num_relevant_instructions != 0)]\n",
    "df['ins_rel_nonzero'] = df.instructions_relative > 0"
   ]
  },
  {
   "cell_type": "code",
   "execution_count": 3,
   "id": "5c32cdb7",
   "metadata": {
    "ExecuteTime": {
     "end_time": "2021-11-13T03:29:30.133753Z",
     "start_time": "2021-11-13T03:29:29.603979Z"
    }
   },
   "outputs": [
    {
     "data": {
      "text/plain": [
       "14696"
      ]
     },
     "execution_count": 3,
     "metadata": {},
     "output_type": "execute_result"
    }
   ],
   "source": [
    "len(df.function_path.unique())"
   ]
  },
  {
   "cell_type": "code",
   "execution_count": 4,
   "id": "fdb325b6",
   "metadata": {
    "ExecuteTime": {
     "end_time": "2021-11-13T03:29:30.140422Z",
     "start_time": "2021-11-13T03:29:30.136086Z"
    }
   },
   "outputs": [
    {
     "data": {
      "text/plain": [
       "429200.0"
      ]
     },
     "execution_count": 4,
     "metadata": {},
     "output_type": "execute_result"
    }
   ],
   "source": [
    "len(df)/8"
   ]
  },
  {
   "cell_type": "code",
   "execution_count": 5,
   "id": "51ad40e3",
   "metadata": {
    "ExecuteTime": {
     "end_time": "2021-11-13T03:29:30.200104Z",
     "start_time": "2021-11-13T03:29:30.142106Z"
    }
   },
   "outputs": [
    {
     "name": "stderr",
     "output_type": "stream",
     "text": [
      "/raid/wcrichto/flowistry-experiments/.env/lib/python3.7/site-packages/pandas/core/arraylike.py:364: RuntimeWarning: divide by zero encountered in log\n",
      "  result = getattr(ufunc, method)(*inputs, **kwargs)\n"
     ]
    }
   ],
   "source": [
    "df['ins_rel_frac_log'] = np.log(df.instructions_relative_frac)"
   ]
  },
  {
   "cell_type": "code",
   "execution_count": 6,
   "id": "905c65b5",
   "metadata": {
    "ExecuteTime": {
     "end_time": "2021-11-13T03:29:33.130590Z",
     "start_time": "2021-11-13T03:29:30.201860Z"
    }
   },
   "outputs": [],
   "source": [
    "def cond(df, m=None, c=None, p=None):\n",
    "    if m is not None:\n",
    "        df = df[df.mutability_mode == m]\n",
    "    if c is not None:\n",
    "        df = df[df.context_mode == c]\n",
    "    if p is not None:\n",
    "        df = df[df.pointer_mode == p]\n",
    "    return df\n",
    "\n",
    "modular_cond = cond(df, c='SigOnly', m='DistinguishMut', p='Precise')\n",
    "modular_metric = modular_cond.instructions_relative_frac\n",
    "mutblind_cond = cond(df, c='SigOnly', m='IgnoreMut', p='Precise')\n",
    "mutblind_metric = mutblind_cond.instructions_relative_base_frac\n",
    "refblind_cond = cond(df, c='SigOnly', m='DistinguishMut', p='Conservative')\n",
    "refblind_metric = refblind_cond.instructions_relative_base_frac\n",
    "whole_cond = cond(df, c='Recurse', m='DistinguishMut', p='Precise')"
   ]
  },
  {
   "cell_type": "code",
   "execution_count": 7,
   "id": "ca1322c3",
   "metadata": {
    "ExecuteTime": {
     "end_time": "2021-11-13T03:29:33.841208Z",
     "start_time": "2021-11-13T03:29:33.132239Z"
    }
   },
   "outputs": [
    {
     "name": "stdout",
     "output_type": "stream",
     "text": [
      "8.1547064305685e-05\n"
     ]
    },
    {
     "data": {
      "text/html": [
       "<div>\n",
       "<style scoped>\n",
       "    .dataframe tbody tr th:only-of-type {\n",
       "        vertical-align: middle;\n",
       "    }\n",
       "\n",
       "    .dataframe tbody tr th {\n",
       "        vertical-align: top;\n",
       "    }\n",
       "\n",
       "    .dataframe thead th {\n",
       "        text-align: right;\n",
       "    }\n",
       "</style>\n",
       "<table border=\"1\" class=\"dataframe\">\n",
       "  <thead>\n",
       "    <tr style=\"text-align: right;\">\n",
       "      <th></th>\n",
       "      <th>index</th>\n",
       "      <th>mutability_mode</th>\n",
       "      <th>context_mode</th>\n",
       "      <th>pointer_mode</th>\n",
       "      <th>sliced_local</th>\n",
       "      <th>function_range</th>\n",
       "      <th>function_path</th>\n",
       "      <th>num_instructions</th>\n",
       "      <th>num_relevant_instructions</th>\n",
       "      <th>duration</th>\n",
       "      <th>...</th>\n",
       "      <th>has_same_type_ptrs_in_input</th>\n",
       "      <th>reached_library</th>\n",
       "      <th>instructions_relative</th>\n",
       "      <th>instructions_relative_frac</th>\n",
       "      <th>instructions_relative_base</th>\n",
       "      <th>instructions_relative_base_frac</th>\n",
       "      <th>baseline_reached_library</th>\n",
       "      <th>crate</th>\n",
       "      <th>ins_rel_nonzero</th>\n",
       "      <th>ins_rel_frac_log</th>\n",
       "    </tr>\n",
       "  </thead>\n",
       "  <tbody>\n",
       "    <tr>\n",
       "      <th>2637456</th>\n",
       "      <td>76688</td>\n",
       "      <td>DistinguishMut</td>\n",
       "      <td>Recurse</td>\n",
       "      <td>Precise</td>\n",
       "      <td>118</td>\n",
       "      <td>{'start': 20320, 'end': 22891, 'filename': 'sr...</td>\n",
       "      <td>rayon[48a3]::slice::mergesort::recurse</td>\n",
       "      <td>159</td>\n",
       "      <td>41</td>\n",
       "      <td>0.004105</td>\n",
       "      <td>...</td>\n",
       "      <td>False</td>\n",
       "      <td>False</td>\n",
       "      <td>16.0</td>\n",
       "      <td>0.640000</td>\n",
       "      <td>16.0</td>\n",
       "      <td>0.640000</td>\n",
       "      <td>False</td>\n",
       "      <td>rayon</td>\n",
       "      <td>True</td>\n",
       "      <td>-0.446287</td>\n",
       "    </tr>\n",
       "    <tr>\n",
       "      <th>2574280</th>\n",
       "      <td>13512</td>\n",
       "      <td>DistinguishMut</td>\n",
       "      <td>Recurse</td>\n",
       "      <td>Precise</td>\n",
       "      <td>119</td>\n",
       "      <td>{'start': 20320, 'end': 22891, 'filename': 'sr...</td>\n",
       "      <td>rayon[48a3]::slice::mergesort::recurse</td>\n",
       "      <td>159</td>\n",
       "      <td>41</td>\n",
       "      <td>0.004105</td>\n",
       "      <td>...</td>\n",
       "      <td>False</td>\n",
       "      <td>False</td>\n",
       "      <td>16.0</td>\n",
       "      <td>0.640000</td>\n",
       "      <td>16.0</td>\n",
       "      <td>0.640000</td>\n",
       "      <td>False</td>\n",
       "      <td>rayon</td>\n",
       "      <td>True</td>\n",
       "      <td>-0.446287</td>\n",
       "    </tr>\n",
       "    <tr>\n",
       "      <th>1979136</th>\n",
       "      <td>703224</td>\n",
       "      <td>DistinguishMut</td>\n",
       "      <td>Recurse</td>\n",
       "      <td>Precise</td>\n",
       "      <td>87</td>\n",
       "      <td>{'start': 12109, 'end': 14009, 'filename': 'vm...</td>\n",
       "      <td>rustpython_vm[dc78]::frame::{impl#4}::gen_throw</td>\n",
       "      <td>203</td>\n",
       "      <td>44</td>\n",
       "      <td>0.011321</td>\n",
       "      <td>...</td>\n",
       "      <td>False</td>\n",
       "      <td>True</td>\n",
       "      <td>1.0</td>\n",
       "      <td>0.023256</td>\n",
       "      <td>-1.0</td>\n",
       "      <td>-0.022222</td>\n",
       "      <td>True</td>\n",
       "      <td>RustPython</td>\n",
       "      <td>True</td>\n",
       "      <td>-3.761200</td>\n",
       "    </tr>\n",
       "    <tr>\n",
       "      <th>1902704</th>\n",
       "      <td>626792</td>\n",
       "      <td>DistinguishMut</td>\n",
       "      <td>Recurse</td>\n",
       "      <td>Precise</td>\n",
       "      <td>81</td>\n",
       "      <td>{'start': 12109, 'end': 14009, 'filename': 'vm...</td>\n",
       "      <td>rustpython_vm[dc78]::frame::{impl#4}::gen_throw</td>\n",
       "      <td>203</td>\n",
       "      <td>41</td>\n",
       "      <td>0.011321</td>\n",
       "      <td>...</td>\n",
       "      <td>False</td>\n",
       "      <td>True</td>\n",
       "      <td>1.0</td>\n",
       "      <td>0.025000</td>\n",
       "      <td>-1.0</td>\n",
       "      <td>-0.023810</td>\n",
       "      <td>True</td>\n",
       "      <td>RustPython</td>\n",
       "      <td>True</td>\n",
       "      <td>-3.688879</td>\n",
       "    </tr>\n",
       "    <tr>\n",
       "      <th>2006160</th>\n",
       "      <td>730248</td>\n",
       "      <td>DistinguishMut</td>\n",
       "      <td>Recurse</td>\n",
       "      <td>Precise</td>\n",
       "      <td>75</td>\n",
       "      <td>{'start': 12109, 'end': 14009, 'filename': 'vm...</td>\n",
       "      <td>rustpython_vm[dc78]::frame::{impl#4}::gen_throw</td>\n",
       "      <td>203</td>\n",
       "      <td>40</td>\n",
       "      <td>0.011321</td>\n",
       "      <td>...</td>\n",
       "      <td>False</td>\n",
       "      <td>True</td>\n",
       "      <td>1.0</td>\n",
       "      <td>0.025641</td>\n",
       "      <td>-1.0</td>\n",
       "      <td>-0.024390</td>\n",
       "      <td>True</td>\n",
       "      <td>RustPython</td>\n",
       "      <td>True</td>\n",
       "      <td>-3.663562</td>\n",
       "    </tr>\n",
       "    <tr>\n",
       "      <th>1748504</th>\n",
       "      <td>472592</td>\n",
       "      <td>DistinguishMut</td>\n",
       "      <td>Recurse</td>\n",
       "      <td>Precise</td>\n",
       "      <td>86</td>\n",
       "      <td>{'start': 12109, 'end': 14009, 'filename': 'vm...</td>\n",
       "      <td>rustpython_vm[dc78]::frame::{impl#4}::gen_throw</td>\n",
       "      <td>203</td>\n",
       "      <td>43</td>\n",
       "      <td>0.011321</td>\n",
       "      <td>...</td>\n",
       "      <td>False</td>\n",
       "      <td>True</td>\n",
       "      <td>1.0</td>\n",
       "      <td>0.023810</td>\n",
       "      <td>-1.0</td>\n",
       "      <td>-0.022727</td>\n",
       "      <td>True</td>\n",
       "      <td>RustPython</td>\n",
       "      <td>True</td>\n",
       "      <td>-3.737670</td>\n",
       "    </tr>\n",
       "    <tr>\n",
       "      <th>1324216</th>\n",
       "      <td>48304</td>\n",
       "      <td>DistinguishMut</td>\n",
       "      <td>Recurse</td>\n",
       "      <td>Precise</td>\n",
       "      <td>85</td>\n",
       "      <td>{'start': 12109, 'end': 14009, 'filename': 'vm...</td>\n",
       "      <td>rustpython_vm[dc78]::frame::{impl#4}::gen_throw</td>\n",
       "      <td>203</td>\n",
       "      <td>46</td>\n",
       "      <td>0.011321</td>\n",
       "      <td>...</td>\n",
       "      <td>False</td>\n",
       "      <td>True</td>\n",
       "      <td>1.0</td>\n",
       "      <td>0.022222</td>\n",
       "      <td>-1.0</td>\n",
       "      <td>-0.021277</td>\n",
       "      <td>True</td>\n",
       "      <td>RustPython</td>\n",
       "      <td>True</td>\n",
       "      <td>-3.806662</td>\n",
       "    </tr>\n",
       "    <tr>\n",
       "      <th>1617904</th>\n",
       "      <td>341992</td>\n",
       "      <td>DistinguishMut</td>\n",
       "      <td>Recurse</td>\n",
       "      <td>Precise</td>\n",
       "      <td>80</td>\n",
       "      <td>{'start': 12109, 'end': 14009, 'filename': 'vm...</td>\n",
       "      <td>rustpython_vm[dc78]::frame::{impl#4}::gen_throw</td>\n",
       "      <td>203</td>\n",
       "      <td>43</td>\n",
       "      <td>0.011321</td>\n",
       "      <td>...</td>\n",
       "      <td>False</td>\n",
       "      <td>True</td>\n",
       "      <td>1.0</td>\n",
       "      <td>0.023810</td>\n",
       "      <td>-1.0</td>\n",
       "      <td>-0.022727</td>\n",
       "      <td>True</td>\n",
       "      <td>RustPython</td>\n",
       "      <td>True</td>\n",
       "      <td>-3.737670</td>\n",
       "    </tr>\n",
       "    <tr>\n",
       "      <th>1587944</th>\n",
       "      <td>312032</td>\n",
       "      <td>DistinguishMut</td>\n",
       "      <td>Recurse</td>\n",
       "      <td>Precise</td>\n",
       "      <td>84</td>\n",
       "      <td>{'start': 12109, 'end': 14009, 'filename': 'vm...</td>\n",
       "      <td>rustpython_vm[dc78]::frame::{impl#4}::gen_throw</td>\n",
       "      <td>203</td>\n",
       "      <td>45</td>\n",
       "      <td>0.011321</td>\n",
       "      <td>...</td>\n",
       "      <td>False</td>\n",
       "      <td>True</td>\n",
       "      <td>1.0</td>\n",
       "      <td>0.022727</td>\n",
       "      <td>-1.0</td>\n",
       "      <td>-0.021739</td>\n",
       "      <td>True</td>\n",
       "      <td>RustPython</td>\n",
       "      <td>True</td>\n",
       "      <td>-3.784190</td>\n",
       "    </tr>\n",
       "    <tr>\n",
       "      <th>1502016</th>\n",
       "      <td>226104</td>\n",
       "      <td>DistinguishMut</td>\n",
       "      <td>Recurse</td>\n",
       "      <td>Precise</td>\n",
       "      <td>83</td>\n",
       "      <td>{'start': 12109, 'end': 14009, 'filename': 'vm...</td>\n",
       "      <td>rustpython_vm[dc78]::frame::{impl#4}::gen_throw</td>\n",
       "      <td>203</td>\n",
       "      <td>45</td>\n",
       "      <td>0.011321</td>\n",
       "      <td>...</td>\n",
       "      <td>False</td>\n",
       "      <td>True</td>\n",
       "      <td>1.0</td>\n",
       "      <td>0.022727</td>\n",
       "      <td>-1.0</td>\n",
       "      <td>-0.021739</td>\n",
       "      <td>True</td>\n",
       "      <td>RustPython</td>\n",
       "      <td>True</td>\n",
       "      <td>-3.784190</td>\n",
       "    </tr>\n",
       "    <tr>\n",
       "      <th>684056</th>\n",
       "      <td>53528</td>\n",
       "      <td>DistinguishMut</td>\n",
       "      <td>Recurse</td>\n",
       "      <td>Precise</td>\n",
       "      <td>157</td>\n",
       "      <td>{'start': 8115, 'end': 8577, 'filename': 'src/...</td>\n",
       "      <td>hyper[efee]::client::conn::{impl#1}::send_request</td>\n",
       "      <td>261</td>\n",
       "      <td>7</td>\n",
       "      <td>0.049737</td>\n",
       "      <td>...</td>\n",
       "      <td>False</td>\n",
       "      <td>False</td>\n",
       "      <td>1.0</td>\n",
       "      <td>0.166667</td>\n",
       "      <td>1.0</td>\n",
       "      <td>0.166667</td>\n",
       "      <td>False</td>\n",
       "      <td>hyper</td>\n",
       "      <td>True</td>\n",
       "      <td>-1.791759</td>\n",
       "    </tr>\n",
       "    <tr>\n",
       "      <th>942936</th>\n",
       "      <td>312408</td>\n",
       "      <td>DistinguishMut</td>\n",
       "      <td>Recurse</td>\n",
       "      <td>Precise</td>\n",
       "      <td>158</td>\n",
       "      <td>{'start': 8583, 'end': 9547, 'filename': 'src/...</td>\n",
       "      <td>hyper[efee]::client::conn::{impl#1}::send_requ...</td>\n",
       "      <td>266</td>\n",
       "      <td>7</td>\n",
       "      <td>0.000203</td>\n",
       "      <td>...</td>\n",
       "      <td>False</td>\n",
       "      <td>False</td>\n",
       "      <td>1.0</td>\n",
       "      <td>0.166667</td>\n",
       "      <td>1.0</td>\n",
       "      <td>0.166667</td>\n",
       "      <td>False</td>\n",
       "      <td>hyper</td>\n",
       "      <td>True</td>\n",
       "      <td>-1.791759</td>\n",
       "    </tr>\n",
       "    <tr>\n",
       "      <th>700888</th>\n",
       "      <td>70360</td>\n",
       "      <td>DistinguishMut</td>\n",
       "      <td>Recurse</td>\n",
       "      <td>Precise</td>\n",
       "      <td>158</td>\n",
       "      <td>{'start': 10472, 'end': 11428, 'filename': 'sr...</td>\n",
       "      <td>hyper[efee]::client::conn::{impl#5}::send_requ...</td>\n",
       "      <td>266</td>\n",
       "      <td>7</td>\n",
       "      <td>0.000313</td>\n",
       "      <td>...</td>\n",
       "      <td>False</td>\n",
       "      <td>False</td>\n",
       "      <td>1.0</td>\n",
       "      <td>0.166667</td>\n",
       "      <td>1.0</td>\n",
       "      <td>0.166667</td>\n",
       "      <td>False</td>\n",
       "      <td>hyper</td>\n",
       "      <td>True</td>\n",
       "      <td>-1.791759</td>\n",
       "    </tr>\n",
       "    <tr>\n",
       "      <th>837608</th>\n",
       "      <td>207080</td>\n",
       "      <td>DistinguishMut</td>\n",
       "      <td>Recurse</td>\n",
       "      <td>Precise</td>\n",
       "      <td>211</td>\n",
       "      <td>{'start': 21078, 'end': 22970, 'filename': 'sr...</td>\n",
       "      <td>hyper[efee]::proto::h1::dispatch::{impl#8}::re...</td>\n",
       "      <td>378</td>\n",
       "      <td>113</td>\n",
       "      <td>0.055351</td>\n",
       "      <td>...</td>\n",
       "      <td>False</td>\n",
       "      <td>False</td>\n",
       "      <td>97.0</td>\n",
       "      <td>6.062500</td>\n",
       "      <td>97.0</td>\n",
       "      <td>6.062500</td>\n",
       "      <td>False</td>\n",
       "      <td>hyper</td>\n",
       "      <td>True</td>\n",
       "      <td>1.802122</td>\n",
       "    </tr>\n",
       "    <tr>\n",
       "      <th>1731136</th>\n",
       "      <td>455224</td>\n",
       "      <td>DistinguishMut</td>\n",
       "      <td>Recurse</td>\n",
       "      <td>Precise</td>\n",
       "      <td>0</td>\n",
       "      <td>{'start': 14686, 'end': 40516, 'filename': 'vm...</td>\n",
       "      <td>rustpython_vm[dc78]::frame::{impl#4}::execute_...</td>\n",
       "      <td>3371</td>\n",
       "      <td>1218</td>\n",
       "      <td>0.008353</td>\n",
       "      <td>...</td>\n",
       "      <td>False</td>\n",
       "      <td>True</td>\n",
       "      <td>3.0</td>\n",
       "      <td>0.002469</td>\n",
       "      <td>-63.0</td>\n",
       "      <td>-0.049180</td>\n",
       "      <td>True</td>\n",
       "      <td>RustPython</td>\n",
       "      <td>True</td>\n",
       "      <td>-6.003887</td>\n",
       "    </tr>\n",
       "  </tbody>\n",
       "</table>\n",
       "<p>15 rows × 22 columns</p>\n",
       "</div>"
      ],
      "text/plain": [
       "          index mutability_mode context_mode pointer_mode  sliced_local  \\\n",
       "2637456   76688  DistinguishMut      Recurse      Precise           118   \n",
       "2574280   13512  DistinguishMut      Recurse      Precise           119   \n",
       "1979136  703224  DistinguishMut      Recurse      Precise            87   \n",
       "1902704  626792  DistinguishMut      Recurse      Precise            81   \n",
       "2006160  730248  DistinguishMut      Recurse      Precise            75   \n",
       "1748504  472592  DistinguishMut      Recurse      Precise            86   \n",
       "1324216   48304  DistinguishMut      Recurse      Precise            85   \n",
       "1617904  341992  DistinguishMut      Recurse      Precise            80   \n",
       "1587944  312032  DistinguishMut      Recurse      Precise            84   \n",
       "1502016  226104  DistinguishMut      Recurse      Precise            83   \n",
       "684056    53528  DistinguishMut      Recurse      Precise           157   \n",
       "942936   312408  DistinguishMut      Recurse      Precise           158   \n",
       "700888    70360  DistinguishMut      Recurse      Precise           158   \n",
       "837608   207080  DistinguishMut      Recurse      Precise           211   \n",
       "1731136  455224  DistinguishMut      Recurse      Precise             0   \n",
       "\n",
       "                                            function_range  \\\n",
       "2637456  {'start': 20320, 'end': 22891, 'filename': 'sr...   \n",
       "2574280  {'start': 20320, 'end': 22891, 'filename': 'sr...   \n",
       "1979136  {'start': 12109, 'end': 14009, 'filename': 'vm...   \n",
       "1902704  {'start': 12109, 'end': 14009, 'filename': 'vm...   \n",
       "2006160  {'start': 12109, 'end': 14009, 'filename': 'vm...   \n",
       "1748504  {'start': 12109, 'end': 14009, 'filename': 'vm...   \n",
       "1324216  {'start': 12109, 'end': 14009, 'filename': 'vm...   \n",
       "1617904  {'start': 12109, 'end': 14009, 'filename': 'vm...   \n",
       "1587944  {'start': 12109, 'end': 14009, 'filename': 'vm...   \n",
       "1502016  {'start': 12109, 'end': 14009, 'filename': 'vm...   \n",
       "684056   {'start': 8115, 'end': 8577, 'filename': 'src/...   \n",
       "942936   {'start': 8583, 'end': 9547, 'filename': 'src/...   \n",
       "700888   {'start': 10472, 'end': 11428, 'filename': 'sr...   \n",
       "837608   {'start': 21078, 'end': 22970, 'filename': 'sr...   \n",
       "1731136  {'start': 14686, 'end': 40516, 'filename': 'vm...   \n",
       "\n",
       "                                             function_path  num_instructions  \\\n",
       "2637456             rayon[48a3]::slice::mergesort::recurse               159   \n",
       "2574280             rayon[48a3]::slice::mergesort::recurse               159   \n",
       "1979136    rustpython_vm[dc78]::frame::{impl#4}::gen_throw               203   \n",
       "1902704    rustpython_vm[dc78]::frame::{impl#4}::gen_throw               203   \n",
       "2006160    rustpython_vm[dc78]::frame::{impl#4}::gen_throw               203   \n",
       "1748504    rustpython_vm[dc78]::frame::{impl#4}::gen_throw               203   \n",
       "1324216    rustpython_vm[dc78]::frame::{impl#4}::gen_throw               203   \n",
       "1617904    rustpython_vm[dc78]::frame::{impl#4}::gen_throw               203   \n",
       "1587944    rustpython_vm[dc78]::frame::{impl#4}::gen_throw               203   \n",
       "1502016    rustpython_vm[dc78]::frame::{impl#4}::gen_throw               203   \n",
       "684056   hyper[efee]::client::conn::{impl#1}::send_request               261   \n",
       "942936   hyper[efee]::client::conn::{impl#1}::send_requ...               266   \n",
       "700888   hyper[efee]::client::conn::{impl#5}::send_requ...               266   \n",
       "837608   hyper[efee]::proto::h1::dispatch::{impl#8}::re...               378   \n",
       "1731136  rustpython_vm[dc78]::frame::{impl#4}::execute_...              3371   \n",
       "\n",
       "         num_relevant_instructions  duration  ...  \\\n",
       "2637456                         41  0.004105  ...   \n",
       "2574280                         41  0.004105  ...   \n",
       "1979136                         44  0.011321  ...   \n",
       "1902704                         41  0.011321  ...   \n",
       "2006160                         40  0.011321  ...   \n",
       "1748504                         43  0.011321  ...   \n",
       "1324216                         46  0.011321  ...   \n",
       "1617904                         43  0.011321  ...   \n",
       "1587944                         45  0.011321  ...   \n",
       "1502016                         45  0.011321  ...   \n",
       "684056                           7  0.049737  ...   \n",
       "942936                           7  0.000203  ...   \n",
       "700888                           7  0.000313  ...   \n",
       "837608                         113  0.055351  ...   \n",
       "1731136                       1218  0.008353  ...   \n",
       "\n",
       "         has_same_type_ptrs_in_input  reached_library  instructions_relative  \\\n",
       "2637456                        False            False                   16.0   \n",
       "2574280                        False            False                   16.0   \n",
       "1979136                        False             True                    1.0   \n",
       "1902704                        False             True                    1.0   \n",
       "2006160                        False             True                    1.0   \n",
       "1748504                        False             True                    1.0   \n",
       "1324216                        False             True                    1.0   \n",
       "1617904                        False             True                    1.0   \n",
       "1587944                        False             True                    1.0   \n",
       "1502016                        False             True                    1.0   \n",
       "684056                         False            False                    1.0   \n",
       "942936                         False            False                    1.0   \n",
       "700888                         False            False                    1.0   \n",
       "837608                         False            False                   97.0   \n",
       "1731136                        False             True                    3.0   \n",
       "\n",
       "         instructions_relative_frac  instructions_relative_base  \\\n",
       "2637456                    0.640000                        16.0   \n",
       "2574280                    0.640000                        16.0   \n",
       "1979136                    0.023256                        -1.0   \n",
       "1902704                    0.025000                        -1.0   \n",
       "2006160                    0.025641                        -1.0   \n",
       "1748504                    0.023810                        -1.0   \n",
       "1324216                    0.022222                        -1.0   \n",
       "1617904                    0.023810                        -1.0   \n",
       "1587944                    0.022727                        -1.0   \n",
       "1502016                    0.022727                        -1.0   \n",
       "684056                     0.166667                         1.0   \n",
       "942936                     0.166667                         1.0   \n",
       "700888                     0.166667                         1.0   \n",
       "837608                     6.062500                        97.0   \n",
       "1731136                    0.002469                       -63.0   \n",
       "\n",
       "         instructions_relative_base_frac  baseline_reached_library  \\\n",
       "2637456                         0.640000                     False   \n",
       "2574280                         0.640000                     False   \n",
       "1979136                        -0.022222                      True   \n",
       "1902704                        -0.023810                      True   \n",
       "2006160                        -0.024390                      True   \n",
       "1748504                        -0.022727                      True   \n",
       "1324216                        -0.021277                      True   \n",
       "1617904                        -0.022727                      True   \n",
       "1587944                        -0.021739                      True   \n",
       "1502016                        -0.021739                      True   \n",
       "684056                          0.166667                     False   \n",
       "942936                          0.166667                     False   \n",
       "700888                          0.166667                     False   \n",
       "837608                          6.062500                     False   \n",
       "1731136                        -0.049180                      True   \n",
       "\n",
       "              crate  ins_rel_nonzero ins_rel_frac_log  \n",
       "2637456       rayon             True        -0.446287  \n",
       "2574280       rayon             True        -0.446287  \n",
       "1979136  RustPython             True        -3.761200  \n",
       "1902704  RustPython             True        -3.688879  \n",
       "2006160  RustPython             True        -3.663562  \n",
       "1748504  RustPython             True        -3.737670  \n",
       "1324216  RustPython             True        -3.806662  \n",
       "1617904  RustPython             True        -3.737670  \n",
       "1587944  RustPython             True        -3.784190  \n",
       "1502016  RustPython             True        -3.784190  \n",
       "684056        hyper             True        -1.791759  \n",
       "942936        hyper             True        -1.791759  \n",
       "700888        hyper             True        -1.791759  \n",
       "837608        hyper             True         1.802122  \n",
       "1731136  RustPython             True        -6.003887  \n",
       "\n",
       "[15 rows x 22 columns]"
      ]
     },
     "execution_count": 7,
     "metadata": {},
     "output_type": "execute_result"
    }
   ],
   "source": [
    "df2 = cond(df, m='DistinguishMut', c='Recurse', p='Precise')\n",
    "print(len(df2[df2.instructions_relative > 0]) / len(df2))\n",
    "df2[df2.instructions_relative > 0].sort_values('num_instructions')[20:40]"
   ]
  },
  {
   "cell_type": "code",
   "execution_count": 8,
   "id": "25b2b224",
   "metadata": {
    "ExecuteTime": {
     "end_time": "2021-11-13T03:29:34.100030Z",
     "start_time": "2021-11-13T03:29:33.842887Z"
    }
   },
   "outputs": [
    {
     "data": {
      "text/html": [
       "<div>\n",
       "<style scoped>\n",
       "    .dataframe tbody tr th:only-of-type {\n",
       "        vertical-align: middle;\n",
       "    }\n",
       "\n",
       "    .dataframe tbody tr th {\n",
       "        vertical-align: top;\n",
       "    }\n",
       "\n",
       "    .dataframe thead th {\n",
       "        text-align: right;\n",
       "    }\n",
       "</style>\n",
       "<table border=\"1\" class=\"dataframe\">\n",
       "  <thead>\n",
       "    <tr style=\"text-align: right;\">\n",
       "      <th></th>\n",
       "      <th>index</th>\n",
       "      <th>mutability_mode</th>\n",
       "      <th>context_mode</th>\n",
       "      <th>pointer_mode</th>\n",
       "      <th>sliced_local</th>\n",
       "      <th>function_range</th>\n",
       "      <th>function_path</th>\n",
       "      <th>num_instructions</th>\n",
       "      <th>num_relevant_instructions</th>\n",
       "      <th>duration</th>\n",
       "      <th>...</th>\n",
       "      <th>has_same_type_ptrs_in_input</th>\n",
       "      <th>reached_library</th>\n",
       "      <th>instructions_relative</th>\n",
       "      <th>instructions_relative_frac</th>\n",
       "      <th>instructions_relative_base</th>\n",
       "      <th>instructions_relative_base_frac</th>\n",
       "      <th>baseline_reached_library</th>\n",
       "      <th>crate</th>\n",
       "      <th>ins_rel_nonzero</th>\n",
       "      <th>ins_rel_frac_log</th>\n",
       "    </tr>\n",
       "  </thead>\n",
       "  <tbody>\n",
       "    <tr>\n",
       "      <th>2637456</th>\n",
       "      <td>76688</td>\n",
       "      <td>DistinguishMut</td>\n",
       "      <td>Recurse</td>\n",
       "      <td>Precise</td>\n",
       "      <td>118</td>\n",
       "      <td>{'start': 20320, 'end': 22891, 'filename': 'sr...</td>\n",
       "      <td>rayon[48a3]::slice::mergesort::recurse</td>\n",
       "      <td>159</td>\n",
       "      <td>41</td>\n",
       "      <td>0.004105</td>\n",
       "      <td>...</td>\n",
       "      <td>False</td>\n",
       "      <td>False</td>\n",
       "      <td>16.0</td>\n",
       "      <td>0.64</td>\n",
       "      <td>16.0</td>\n",
       "      <td>0.64</td>\n",
       "      <td>False</td>\n",
       "      <td>rayon</td>\n",
       "      <td>True</td>\n",
       "      <td>-0.446287</td>\n",
       "    </tr>\n",
       "    <tr>\n",
       "      <th>2637457</th>\n",
       "      <td>76689</td>\n",
       "      <td>DistinguishMut</td>\n",
       "      <td>Recurse</td>\n",
       "      <td>Conservative</td>\n",
       "      <td>118</td>\n",
       "      <td>{'start': 20320, 'end': 22891, 'filename': 'sr...</td>\n",
       "      <td>rayon[48a3]::slice::mergesort::recurse</td>\n",
       "      <td>159</td>\n",
       "      <td>41</td>\n",
       "      <td>0.004334</td>\n",
       "      <td>...</td>\n",
       "      <td>False</td>\n",
       "      <td>False</td>\n",
       "      <td>16.0</td>\n",
       "      <td>0.64</td>\n",
       "      <td>16.0</td>\n",
       "      <td>0.64</td>\n",
       "      <td>False</td>\n",
       "      <td>rayon</td>\n",
       "      <td>True</td>\n",
       "      <td>-0.446287</td>\n",
       "    </tr>\n",
       "    <tr>\n",
       "      <th>2637458</th>\n",
       "      <td>76690</td>\n",
       "      <td>DistinguishMut</td>\n",
       "      <td>SigOnly</td>\n",
       "      <td>Precise</td>\n",
       "      <td>118</td>\n",
       "      <td>{'start': 20320, 'end': 22891, 'filename': 'sr...</td>\n",
       "      <td>rayon[48a3]::slice::mergesort::recurse</td>\n",
       "      <td>159</td>\n",
       "      <td>25</td>\n",
       "      <td>0.003962</td>\n",
       "      <td>...</td>\n",
       "      <td>False</td>\n",
       "      <td>False</td>\n",
       "      <td>0.0</td>\n",
       "      <td>0.00</td>\n",
       "      <td>0.0</td>\n",
       "      <td>0.00</td>\n",
       "      <td>False</td>\n",
       "      <td>rayon</td>\n",
       "      <td>False</td>\n",
       "      <td>-inf</td>\n",
       "    </tr>\n",
       "    <tr>\n",
       "      <th>2637459</th>\n",
       "      <td>76691</td>\n",
       "      <td>DistinguishMut</td>\n",
       "      <td>SigOnly</td>\n",
       "      <td>Conservative</td>\n",
       "      <td>118</td>\n",
       "      <td>{'start': 20320, 'end': 22891, 'filename': 'sr...</td>\n",
       "      <td>rayon[48a3]::slice::mergesort::recurse</td>\n",
       "      <td>159</td>\n",
       "      <td>25</td>\n",
       "      <td>0.003803</td>\n",
       "      <td>...</td>\n",
       "      <td>False</td>\n",
       "      <td>False</td>\n",
       "      <td>0.0</td>\n",
       "      <td>0.00</td>\n",
       "      <td>0.0</td>\n",
       "      <td>0.00</td>\n",
       "      <td>False</td>\n",
       "      <td>rayon</td>\n",
       "      <td>False</td>\n",
       "      <td>-inf</td>\n",
       "    </tr>\n",
       "    <tr>\n",
       "      <th>2637460</th>\n",
       "      <td>76692</td>\n",
       "      <td>IgnoreMut</td>\n",
       "      <td>Recurse</td>\n",
       "      <td>Precise</td>\n",
       "      <td>118</td>\n",
       "      <td>{'start': 20320, 'end': 22891, 'filename': 'sr...</td>\n",
       "      <td>rayon[48a3]::slice::mergesort::recurse</td>\n",
       "      <td>159</td>\n",
       "      <td>64</td>\n",
       "      <td>0.003281</td>\n",
       "      <td>...</td>\n",
       "      <td>False</td>\n",
       "      <td>False</td>\n",
       "      <td>39.0</td>\n",
       "      <td>1.56</td>\n",
       "      <td>39.0</td>\n",
       "      <td>1.56</td>\n",
       "      <td>False</td>\n",
       "      <td>rayon</td>\n",
       "      <td>True</td>\n",
       "      <td>0.444686</td>\n",
       "    </tr>\n",
       "    <tr>\n",
       "      <th>2637461</th>\n",
       "      <td>76693</td>\n",
       "      <td>IgnoreMut</td>\n",
       "      <td>Recurse</td>\n",
       "      <td>Conservative</td>\n",
       "      <td>118</td>\n",
       "      <td>{'start': 20320, 'end': 22891, 'filename': 'sr...</td>\n",
       "      <td>rayon[48a3]::slice::mergesort::recurse</td>\n",
       "      <td>159</td>\n",
       "      <td>64</td>\n",
       "      <td>0.003718</td>\n",
       "      <td>...</td>\n",
       "      <td>False</td>\n",
       "      <td>False</td>\n",
       "      <td>39.0</td>\n",
       "      <td>1.56</td>\n",
       "      <td>39.0</td>\n",
       "      <td>1.56</td>\n",
       "      <td>False</td>\n",
       "      <td>rayon</td>\n",
       "      <td>True</td>\n",
       "      <td>0.444686</td>\n",
       "    </tr>\n",
       "    <tr>\n",
       "      <th>2637462</th>\n",
       "      <td>76694</td>\n",
       "      <td>IgnoreMut</td>\n",
       "      <td>SigOnly</td>\n",
       "      <td>Precise</td>\n",
       "      <td>118</td>\n",
       "      <td>{'start': 20320, 'end': 22891, 'filename': 'sr...</td>\n",
       "      <td>rayon[48a3]::slice::mergesort::recurse</td>\n",
       "      <td>159</td>\n",
       "      <td>25</td>\n",
       "      <td>0.003252</td>\n",
       "      <td>...</td>\n",
       "      <td>False</td>\n",
       "      <td>False</td>\n",
       "      <td>0.0</td>\n",
       "      <td>0.00</td>\n",
       "      <td>0.0</td>\n",
       "      <td>0.00</td>\n",
       "      <td>False</td>\n",
       "      <td>rayon</td>\n",
       "      <td>False</td>\n",
       "      <td>-inf</td>\n",
       "    </tr>\n",
       "    <tr>\n",
       "      <th>2637463</th>\n",
       "      <td>76695</td>\n",
       "      <td>IgnoreMut</td>\n",
       "      <td>SigOnly</td>\n",
       "      <td>Conservative</td>\n",
       "      <td>118</td>\n",
       "      <td>{'start': 20320, 'end': 22891, 'filename': 'sr...</td>\n",
       "      <td>rayon[48a3]::slice::mergesort::recurse</td>\n",
       "      <td>159</td>\n",
       "      <td>25</td>\n",
       "      <td>0.003953</td>\n",
       "      <td>...</td>\n",
       "      <td>False</td>\n",
       "      <td>False</td>\n",
       "      <td>0.0</td>\n",
       "      <td>0.00</td>\n",
       "      <td>0.0</td>\n",
       "      <td>0.00</td>\n",
       "      <td>False</td>\n",
       "      <td>rayon</td>\n",
       "      <td>False</td>\n",
       "      <td>-inf</td>\n",
       "    </tr>\n",
       "  </tbody>\n",
       "</table>\n",
       "<p>8 rows × 22 columns</p>\n",
       "</div>"
      ],
      "text/plain": [
       "         index mutability_mode context_mode  pointer_mode  sliced_local  \\\n",
       "2637456  76688  DistinguishMut      Recurse       Precise           118   \n",
       "2637457  76689  DistinguishMut      Recurse  Conservative           118   \n",
       "2637458  76690  DistinguishMut      SigOnly       Precise           118   \n",
       "2637459  76691  DistinguishMut      SigOnly  Conservative           118   \n",
       "2637460  76692       IgnoreMut      Recurse       Precise           118   \n",
       "2637461  76693       IgnoreMut      Recurse  Conservative           118   \n",
       "2637462  76694       IgnoreMut      SigOnly       Precise           118   \n",
       "2637463  76695       IgnoreMut      SigOnly  Conservative           118   \n",
       "\n",
       "                                            function_range  \\\n",
       "2637456  {'start': 20320, 'end': 22891, 'filename': 'sr...   \n",
       "2637457  {'start': 20320, 'end': 22891, 'filename': 'sr...   \n",
       "2637458  {'start': 20320, 'end': 22891, 'filename': 'sr...   \n",
       "2637459  {'start': 20320, 'end': 22891, 'filename': 'sr...   \n",
       "2637460  {'start': 20320, 'end': 22891, 'filename': 'sr...   \n",
       "2637461  {'start': 20320, 'end': 22891, 'filename': 'sr...   \n",
       "2637462  {'start': 20320, 'end': 22891, 'filename': 'sr...   \n",
       "2637463  {'start': 20320, 'end': 22891, 'filename': 'sr...   \n",
       "\n",
       "                                  function_path  num_instructions  \\\n",
       "2637456  rayon[48a3]::slice::mergesort::recurse               159   \n",
       "2637457  rayon[48a3]::slice::mergesort::recurse               159   \n",
       "2637458  rayon[48a3]::slice::mergesort::recurse               159   \n",
       "2637459  rayon[48a3]::slice::mergesort::recurse               159   \n",
       "2637460  rayon[48a3]::slice::mergesort::recurse               159   \n",
       "2637461  rayon[48a3]::slice::mergesort::recurse               159   \n",
       "2637462  rayon[48a3]::slice::mergesort::recurse               159   \n",
       "2637463  rayon[48a3]::slice::mergesort::recurse               159   \n",
       "\n",
       "         num_relevant_instructions  duration  ...  \\\n",
       "2637456                         41  0.004105  ...   \n",
       "2637457                         41  0.004334  ...   \n",
       "2637458                         25  0.003962  ...   \n",
       "2637459                         25  0.003803  ...   \n",
       "2637460                         64  0.003281  ...   \n",
       "2637461                         64  0.003718  ...   \n",
       "2637462                         25  0.003252  ...   \n",
       "2637463                         25  0.003953  ...   \n",
       "\n",
       "         has_same_type_ptrs_in_input  reached_library  instructions_relative  \\\n",
       "2637456                        False            False                   16.0   \n",
       "2637457                        False            False                   16.0   \n",
       "2637458                        False            False                    0.0   \n",
       "2637459                        False            False                    0.0   \n",
       "2637460                        False            False                   39.0   \n",
       "2637461                        False            False                   39.0   \n",
       "2637462                        False            False                    0.0   \n",
       "2637463                        False            False                    0.0   \n",
       "\n",
       "         instructions_relative_frac  instructions_relative_base  \\\n",
       "2637456                        0.64                        16.0   \n",
       "2637457                        0.64                        16.0   \n",
       "2637458                        0.00                         0.0   \n",
       "2637459                        0.00                         0.0   \n",
       "2637460                        1.56                        39.0   \n",
       "2637461                        1.56                        39.0   \n",
       "2637462                        0.00                         0.0   \n",
       "2637463                        0.00                         0.0   \n",
       "\n",
       "         instructions_relative_base_frac  baseline_reached_library  crate  \\\n",
       "2637456                             0.64                     False  rayon   \n",
       "2637457                             0.64                     False  rayon   \n",
       "2637458                             0.00                     False  rayon   \n",
       "2637459                             0.00                     False  rayon   \n",
       "2637460                             1.56                     False  rayon   \n",
       "2637461                             1.56                     False  rayon   \n",
       "2637462                             0.00                     False  rayon   \n",
       "2637463                             0.00                     False  rayon   \n",
       "\n",
       "         ins_rel_nonzero ins_rel_frac_log  \n",
       "2637456             True        -0.446287  \n",
       "2637457             True        -0.446287  \n",
       "2637458            False             -inf  \n",
       "2637459            False             -inf  \n",
       "2637460             True         0.444686  \n",
       "2637461             True         0.444686  \n",
       "2637462            False             -inf  \n",
       "2637463            False             -inf  \n",
       "\n",
       "[8 rows x 22 columns]"
      ]
     },
     "execution_count": 8,
     "metadata": {},
     "output_type": "execute_result"
    }
   ],
   "source": [
    "row = df2[df2.instructions_relative_frac > 0].sort_values('num_instructions').iloc[20]\n",
    "df[(df.function_path == row.function_path) & (df.sliced_local == row.sliced_local)]"
   ]
  },
  {
   "cell_type": "code",
   "execution_count": 9,
   "id": "fb58428f",
   "metadata": {
    "ExecuteTime": {
     "end_time": "2021-11-13T03:29:34.109958Z",
     "start_time": "2021-11-13T03:29:34.101706Z"
    }
   },
   "outputs": [
    {
     "data": {
      "text/plain": [
       "'rayon[48a3]::slice::mergesort::recurse'"
      ]
     },
     "execution_count": 9,
     "metadata": {},
     "output_type": "execute_result"
    }
   ],
   "source": [
    "row.function_path"
   ]
  },
  {
   "cell_type": "markdown",
   "id": "9c3953b8",
   "metadata": {},
   "source": [
    "# Dataset summary"
   ]
  },
  {
   "cell_type": "markdown",
   "id": "886fc69a",
   "metadata": {},
   "source": [
    "## Crates"
   ]
  },
  {
   "cell_type": "code",
   "execution_count": 10,
   "id": "dc2f3fed",
   "metadata": {
    "ExecuteTime": {
     "end_time": "2021-11-13T03:29:34.117411Z",
     "start_time": "2021-11-13T03:29:34.113031Z"
    }
   },
   "outputs": [],
   "source": [
    "CRATE_INFO = [\n",
    "    ('Rocket', 'core/lib', 'Web backend framework', 'https://github.com/SergioBenitez/Rocket'),\n",
    "    ('image', None, 'Image processing library', 'https://github.com/image-rs/image'),\n",
    "    ('rayon', None, 'Data parallelism library', 'https://github.com/rayon-rs/rayon'),\n",
    "    ('rg3d', None, '3D game engine', 'https://github.com/mrDIMAS/rg3d'),    \n",
    "    ('nalgebra', None, 'Numerics library', 'https://github.com/dimforge/nalgebra'),\n",
    "    ('rustls', 'rustls', 'TLS implementation', 'https://github.com/ctz/rustls'),\n",
    "    ('sccache', None, 'Distributed build cache', 'https://github.com/mozilla/sccache'),\n",
    "    ('hyper', None, 'HTTP server', 'https://github.com/hyperium/hyper'),    \n",
    "    ('rav1e', None, 'Video encoder', 'https://github.com/xiph/rav1e'),\n",
    "    ('RustPython', 'vm', 'Python interpreter', 'https://github.com/RustPython/RustPython'),\n",
    "]"
   ]
  },
  {
   "cell_type": "code",
   "execution_count": 11,
   "id": "de73c2db",
   "metadata": {
    "ExecuteTime": {
     "end_time": "2021-11-13T03:29:41.600784Z",
     "start_time": "2021-11-13T03:29:34.118875Z"
    }
   },
   "outputs": [
    {
     "data": {
      "text/html": [
       "<div>\n",
       "<style scoped>\n",
       "    .dataframe tbody tr th:only-of-type {\n",
       "        vertical-align: middle;\n",
       "    }\n",
       "\n",
       "    .dataframe tbody tr th {\n",
       "        vertical-align: top;\n",
       "    }\n",
       "\n",
       "    .dataframe thead th {\n",
       "        text-align: right;\n",
       "    }\n",
       "</style>\n",
       "<table border=\"1\" class=\"dataframe\">\n",
       "  <thead>\n",
       "    <tr style=\"text-align: right;\">\n",
       "      <th></th>\n",
       "      <th>num_slices</th>\n",
       "      <th>avg_ins_per_func</th>\n",
       "      <th>num_funcs</th>\n",
       "      <th>avg_slices_per_func</th>\n",
       "    </tr>\n",
       "    <tr>\n",
       "      <th>crate</th>\n",
       "      <th></th>\n",
       "      <th></th>\n",
       "      <th></th>\n",
       "      <th></th>\n",
       "    </tr>\n",
       "  </thead>\n",
       "  <tbody>\n",
       "    <tr>\n",
       "      <th>rayon</th>\n",
       "      <td>10695</td>\n",
       "      <td>16.678406</td>\n",
       "      <td>1079</td>\n",
       "      <td>9.911956</td>\n",
       "    </tr>\n",
       "    <tr>\n",
       "      <th>Rocket</th>\n",
       "      <td>12618</td>\n",
       "      <td>26.609987</td>\n",
       "      <td>741</td>\n",
       "      <td>17.028340</td>\n",
       "    </tr>\n",
       "    <tr>\n",
       "      <th>rustls</th>\n",
       "      <td>23884</td>\n",
       "      <td>43.202765</td>\n",
       "      <td>868</td>\n",
       "      <td>27.516129</td>\n",
       "    </tr>\n",
       "    <tr>\n",
       "      <th>sccache</th>\n",
       "      <td>24705</td>\n",
       "      <td>63.841369</td>\n",
       "      <td>643</td>\n",
       "      <td>38.421462</td>\n",
       "    </tr>\n",
       "    <tr>\n",
       "      <th>nalgebra</th>\n",
       "      <td>37202</td>\n",
       "      <td>27.634174</td>\n",
       "      <td>1785</td>\n",
       "      <td>20.841457</td>\n",
       "    </tr>\n",
       "    <tr>\n",
       "      <th>hyper</th>\n",
       "      <td>40001</td>\n",
       "      <td>77.155696</td>\n",
       "      <td>790</td>\n",
       "      <td>50.634177</td>\n",
       "    </tr>\n",
       "    <tr>\n",
       "      <th>image</th>\n",
       "      <td>40672</td>\n",
       "      <td>58.600365</td>\n",
       "      <td>1096</td>\n",
       "      <td>37.109489</td>\n",
       "    </tr>\n",
       "    <tr>\n",
       "      <th>rg3d</th>\n",
       "      <td>60928</td>\n",
       "      <td>26.191705</td>\n",
       "      <td>3448</td>\n",
       "      <td>17.670534</td>\n",
       "    </tr>\n",
       "    <tr>\n",
       "      <th>rav1e</th>\n",
       "      <td>78816</td>\n",
       "      <td>118.064447</td>\n",
       "      <td>931</td>\n",
       "      <td>84.657358</td>\n",
       "    </tr>\n",
       "    <tr>\n",
       "      <th>RustPython</th>\n",
       "      <td>99679</td>\n",
       "      <td>51.951433</td>\n",
       "      <td>3315</td>\n",
       "      <td>30.069080</td>\n",
       "    </tr>\n",
       "  </tbody>\n",
       "</table>\n",
       "</div>"
      ],
      "text/plain": [
       "            num_slices  avg_ins_per_func  num_funcs  avg_slices_per_func\n",
       "crate                                                                   \n",
       "rayon            10695         16.678406       1079             9.911956\n",
       "Rocket           12618         26.609987        741            17.028340\n",
       "rustls           23884         43.202765        868            27.516129\n",
       "sccache          24705         63.841369        643            38.421462\n",
       "nalgebra         37202         27.634174       1785            20.841457\n",
       "hyper            40001         77.155696        790            50.634177\n",
       "image            40672         58.600365       1096            37.109489\n",
       "rg3d             60928         26.191705       3448            17.670534\n",
       "rav1e            78816        118.064447        931            84.657358\n",
       "RustPython       99679         51.951433       3315            30.069080"
      ]
     },
     "execution_count": 11,
     "metadata": {},
     "output_type": "execute_result"
    }
   ],
   "source": [
    "modular_cond_funcs = modular_cond.groupby(['crate', 'function_path']) \\\n",
    "    .apply(lambda df: df.iloc[0]).reset_index(drop=True)\n",
    "num_slices = modular_cond.groupby(['crate']).size().rename('num_slices')\n",
    "avg_ins_per_func = modular_cond_funcs.groupby('crate').num_instructions.mean() \\\n",
    "    .rename('avg_ins_per_func')\n",
    "num_funcs = modular_cond.groupby(['crate']).apply(lambda df: len(df.function_path.unique())).rename('num_funcs')\n",
    "\n",
    "q = modular_cond.groupby(['crate', 'function_path']).size()\n",
    "avg_slices_per_func = q[q > 0] \\\n",
    "    .groupby('crate').mean().rename('avg_slices_per_func')\n",
    "crate_stats = pd.concat(\n",
    "    [num_slices, avg_ins_per_func, num_funcs, avg_slices_per_func], \n",
    "    axis=1).sort_values('num_slices')\n",
    "crate_stats"
   ]
  },
  {
   "cell_type": "code",
   "execution_count": 12,
   "id": "382d0bc4",
   "metadata": {
    "ExecuteTime": {
     "end_time": "2021-11-13T03:30:06.513639Z",
     "start_time": "2021-11-13T03:29:41.602649Z"
    }
   },
   "outputs": [],
   "source": [
    "CLOC = '/home/wcrichto/.node_modules/bin/cloc'\n",
    "crate_loc = []\n",
    "for (crate, path, purpose, url) in CRATE_INFO:\n",
    "    crate_dir = f'../data/repos/{crate}'\n",
    "    if path:\n",
    "        crate_dir += f'/{path}'\n",
    "    crate_dir += '/src'    \n",
    "    cloc_str = sp.check_output(f'{CLOC} {crate_dir} --json', shell=True).strip()\n",
    "    commit = sp.check_output('git rev-parse HEAD', shell=True, cwd=crate_dir).strip().decode('utf-8')\n",
    "    cloc = json.loads(cloc_str)\n",
    "    crate_loc.append({\n",
    "        \"crate\": crate,\n",
    "        'subdir': path,\n",
    "        'purpose': purpose,\n",
    "        \"url\": url,\n",
    "        \"commit\": commit,\n",
    "        \"loc\": cloc[\"Rust\"][\"code\"],\n",
    "    })\n",
    "crate_loc = pd.DataFrame(crate_loc)"
   ]
  },
  {
   "cell_type": "code",
   "execution_count": 13,
   "id": "f9f41116",
   "metadata": {
    "ExecuteTime": {
     "end_time": "2021-11-13T03:30:06.528583Z",
     "start_time": "2021-11-13T03:30:06.515715Z"
    }
   },
   "outputs": [
    {
     "name": "stdout",
     "output_type": "stream",
     "text": [
      "\\href{https://github.com/rayon-rs/rayon}{rayon} &  & Data parallelism library & 15,524 & 10,695 & 1,079 & 16.7 \\\\ \\hline\n",
      "\\href{https://github.com/SergioBenitez/Rocket}{Rocket} & core/lib & Web backend framework & 9,313 & 12,618 & 741 & 26.6 \\\\ \\hline\n",
      "\\href{https://github.com/ctz/rustls}{rustls} & rustls & TLS implementation & 16,866 & 23,884 & 868 & 43.2 \\\\ \\hline\n",
      "\\href{https://github.com/mozilla/sccache}{sccache} &  & Distributed build cache & 23,202 & 24,705 & 643 & 63.8 \\\\ \\hline\n",
      "\\href{https://github.com/dimforge/nalgebra}{nalgebra} &  & Numerics library & 31,951 & 37,202 & 1,785 & 27.6 \\\\ \\hline\n",
      "\\href{https://github.com/hyperium/hyper}{hyper} &  & HTTP server & 15,082 & 40,001 & 790 & 77.2 \\\\ \\hline\n",
      "\\href{https://github.com/image-rs/image}{image} &  & Image processing library & 20,722 & 40,672 & 1,096 & 58.6 \\\\ \\hline\n",
      "\\href{https://github.com/mrDIMAS/rg3d}{rg3d} &  & 3D game engine & 54,426 & 60,928 & 3,448 & 26.2 \\\\ \\hline\n",
      "\\href{https://github.com/xiph/rav1e}{rav1e} &  & Video encoder & 50,294 & 78,816 & 931 & 118.1 \\\\ \\hline\n",
      "\\href{https://github.com/RustPython/RustPython}{RustPython} & vm & Python interpreter & 47,927 & 99,679 & 3,315 & 52.0 \\\\ \\hline\n"
     ]
    }
   ],
   "source": [
    "crate_final = crate_stats.join(crate_loc.set_index(\"crate\")).sort_values('num_slices')\n",
    "for crate, row in  crate_final.iterrows():\n",
    "    print(f'\\href{{{row.url}}}{{{crate}}} & {row.subdir or \"\"} & {row.purpose} & {row[\"loc\"]:,} & \\\n",
    "{row.num_slices:,} & {row.num_funcs:,} & {row.avg_ins_per_func:.1f} \\\\\\\\ \\hline')"
   ]
  },
  {
   "cell_type": "code",
   "execution_count": 14,
   "id": "f23d3040",
   "metadata": {
    "ExecuteTime": {
     "end_time": "2021-11-13T03:30:06.534014Z",
     "start_time": "2021-11-13T03:30:06.530092Z"
    }
   },
   "outputs": [
    {
     "name": "stdout",
     "output_type": "stream",
     "text": [
      "285,307 & 429,200 & 14,696\n"
     ]
    }
   ],
   "source": [
    "print(f'{crate_final[\"loc\"].sum():,} & {crate_final.num_slices.sum():,} & {crate_final.num_funcs.sum():,}')"
   ]
  },
  {
   "cell_type": "code",
   "execution_count": 15,
   "id": "fc58e94f",
   "metadata": {
    "ExecuteTime": {
     "end_time": "2021-11-13T03:30:07.214056Z",
     "start_time": "2021-11-13T03:30:06.535499Z"
    }
   },
   "outputs": [
    {
     "name": "stderr",
     "output_type": "stream",
     "text": [
      "/raid/wcrichto/flowistry-experiments/.env/lib/python3.7/site-packages/scipy/stats/stats.py:1542: UserWarning: kurtosistest only valid for n>=20 ... continuing anyway, n=10\n",
      "  \"anyway, n=%i\" % int(n))\n"
     ]
    },
    {
     "data": {
      "text/html": [
       "<table class=\"simpletable\">\n",
       "<caption>OLS Regression Results</caption>\n",
       "<tr>\n",
       "  <th>Dep. Variable:</th>           <td>nz</td>        <th>  R-squared:         </th> <td>   0.853</td>\n",
       "</tr>\n",
       "<tr>\n",
       "  <th>Model:</th>                   <td>OLS</td>       <th>  Adj. R-squared:    </th> <td>   0.835</td>\n",
       "</tr>\n",
       "<tr>\n",
       "  <th>Method:</th>             <td>Least Squares</td>  <th>  F-statistic:       </th> <td>   46.51</td>\n",
       "</tr>\n",
       "<tr>\n",
       "  <th>Date:</th>             <td>Fri, 12 Nov 2021</td> <th>  Prob (F-statistic):</th> <td>0.000135</td>\n",
       "</tr>\n",
       "<tr>\n",
       "  <th>Time:</th>                 <td>19:30:07</td>     <th>  Log-Likelihood:    </th> <td> -98.327</td>\n",
       "</tr>\n",
       "<tr>\n",
       "  <th>No. Observations:</th>      <td>    10</td>      <th>  AIC:               </th> <td>   200.7</td>\n",
       "</tr>\n",
       "<tr>\n",
       "  <th>Df Residuals:</th>          <td>     8</td>      <th>  BIC:               </th> <td>   201.3</td>\n",
       "</tr>\n",
       "<tr>\n",
       "  <th>Df Model:</th>              <td>     1</td>      <th>                     </th>     <td> </td>   \n",
       "</tr>\n",
       "<tr>\n",
       "  <th>Covariance Type:</th>      <td>nonrobust</td>    <th>                     </th>     <td> </td>   \n",
       "</tr>\n",
       "</table>\n",
       "<table class=\"simpletable\">\n",
       "<tr>\n",
       "      <td></td>         <th>coef</th>     <th>std err</th>      <th>t</th>      <th>P>|t|</th>  <th>[0.025</th>    <th>0.975]</th>  \n",
       "</tr>\n",
       "<tr>\n",
       "  <th>Intercept</th> <td> -683.7935</td> <td> 2959.111</td> <td>   -0.231</td> <td> 0.823</td> <td>-7507.517</td> <td> 6139.930</td>\n",
       "</tr>\n",
       "<tr>\n",
       "  <th>total</th>     <td>    0.3961</td> <td>    0.058</td> <td>    6.820</td> <td> 0.000</td> <td>    0.262</td> <td>    0.530</td>\n",
       "</tr>\n",
       "</table>\n",
       "<table class=\"simpletable\">\n",
       "<tr>\n",
       "  <th>Omnibus:</th>       <td> 2.031</td> <th>  Durbin-Watson:     </th> <td>   2.132</td>\n",
       "</tr>\n",
       "<tr>\n",
       "  <th>Prob(Omnibus):</th> <td> 0.362</td> <th>  Jarque-Bera (JB):  </th> <td>   0.857</td>\n",
       "</tr>\n",
       "<tr>\n",
       "  <th>Skew:</th>          <td>-0.712</td> <th>  Prob(JB):          </th> <td>   0.651</td>\n",
       "</tr>\n",
       "<tr>\n",
       "  <th>Kurtosis:</th>      <td> 2.832</td> <th>  Cond. No.          </th> <td>9.46e+04</td>\n",
       "</tr>\n",
       "</table><br/><br/>Notes:<br/>[1] Standard Errors assume that the covariance matrix of the errors is correctly specified.<br/>[2] The condition number is large, 9.46e+04. This might indicate that there are<br/>strong multicollinearity or other numerical problems."
      ],
      "text/plain": [
       "<class 'statsmodels.iolib.summary.Summary'>\n",
       "\"\"\"\n",
       "                            OLS Regression Results                            \n",
       "==============================================================================\n",
       "Dep. Variable:                     nz   R-squared:                       0.853\n",
       "Model:                            OLS   Adj. R-squared:                  0.835\n",
       "Method:                 Least Squares   F-statistic:                     46.51\n",
       "Date:                Fri, 12 Nov 2021   Prob (F-statistic):           0.000135\n",
       "Time:                        19:30:07   Log-Likelihood:                -98.327\n",
       "No. Observations:                  10   AIC:                             200.7\n",
       "Df Residuals:                       8   BIC:                             201.3\n",
       "Df Model:                           1                                         \n",
       "Covariance Type:            nonrobust                                         \n",
       "==============================================================================\n",
       "                 coef    std err          t      P>|t|      [0.025      0.975]\n",
       "------------------------------------------------------------------------------\n",
       "Intercept   -683.7935   2959.111     -0.231      0.823   -7507.517    6139.930\n",
       "total          0.3961      0.058      6.820      0.000       0.262       0.530\n",
       "==============================================================================\n",
       "Omnibus:                        2.031   Durbin-Watson:                   2.132\n",
       "Prob(Omnibus):                  0.362   Jarque-Bera (JB):                0.857\n",
       "Skew:                          -0.712   Prob(JB):                        0.651\n",
       "Kurtosis:                       2.832   Cond. No.                     9.46e+04\n",
       "==============================================================================\n",
       "\n",
       "Notes:\n",
       "[1] Standard Errors assume that the covariance matrix of the errors is correctly specified.\n",
       "[2] The condition number is large, 9.46e+04. This might indicate that there are\n",
       "strong multicollinearity or other numerical problems.\n",
       "\"\"\""
      ]
     },
     "execution_count": 15,
     "metadata": {},
     "output_type": "execute_result"
    }
   ],
   "source": [
    "total_vs_nz = mutblind_cond.groupby('crate').apply(lambda df: pd.DataFrame([{\n",
    "    'total': crate_final.num_slices[df.crate.iloc[0]],\n",
    "    'nz': len(df[df.instructions_relative_base > 0])\n",
    "}]))\n",
    "\n",
    "result = sm.ols('nz ~ total', data=total_vs_nz).fit()\n",
    "result.summary()"
   ]
  },
  {
   "cell_type": "code",
   "execution_count": 16,
   "id": "55417fb7",
   "metadata": {
    "ExecuteTime": {
     "end_time": "2021-11-13T03:30:07.225069Z",
     "start_time": "2021-11-13T03:30:07.215631Z"
    }
   },
   "outputs": [
    {
     "data": {
      "text/html": [
       "<div>\n",
       "<style scoped>\n",
       "    .dataframe tbody tr th:only-of-type {\n",
       "        vertical-align: middle;\n",
       "    }\n",
       "\n",
       "    .dataframe tbody tr th {\n",
       "        vertical-align: top;\n",
       "    }\n",
       "\n",
       "    .dataframe thead th {\n",
       "        text-align: right;\n",
       "    }\n",
       "</style>\n",
       "<table border=\"1\" class=\"dataframe\">\n",
       "  <thead>\n",
       "    <tr style=\"text-align: right;\">\n",
       "      <th></th>\n",
       "      <th>crate</th>\n",
       "      <th>commit</th>\n",
       "    </tr>\n",
       "  </thead>\n",
       "  <tbody>\n",
       "    <tr>\n",
       "      <th>0</th>\n",
       "      <td>rayon</td>\n",
       "      <td>c571f8ffb4f74c8c09b4e1e6d9979b71b4414d07</td>\n",
       "    </tr>\n",
       "    <tr>\n",
       "      <th>1</th>\n",
       "      <td>Rocket</td>\n",
       "      <td>8d4d01106e2e10b08100805d40bfa19a7357e900</td>\n",
       "    </tr>\n",
       "    <tr>\n",
       "      <th>2</th>\n",
       "      <td>rustls</td>\n",
       "      <td>cdf1dada21a537e141d0c6dde9c5685bb43fbc0e</td>\n",
       "    </tr>\n",
       "    <tr>\n",
       "      <th>3</th>\n",
       "      <td>sccache</td>\n",
       "      <td>3f318a8675e4c3de4f5e8ab2d086189f2ae5f5cf</td>\n",
       "    </tr>\n",
       "    <tr>\n",
       "      <th>4</th>\n",
       "      <td>nalgebra</td>\n",
       "      <td>984bb1a63943aa68b6f26ff4a6acf8f68b833b70</td>\n",
       "    </tr>\n",
       "    <tr>\n",
       "      <th>5</th>\n",
       "      <td>hyper</td>\n",
       "      <td>ed2fdb7b6a2963cea7577df05ddc41c56fee7246</td>\n",
       "    </tr>\n",
       "    <tr>\n",
       "      <th>6</th>\n",
       "      <td>image</td>\n",
       "      <td>e916e9dda5f4253f6cc4557b0fe5fa3876ac18e5</td>\n",
       "    </tr>\n",
       "    <tr>\n",
       "      <th>7</th>\n",
       "      <td>rg3d</td>\n",
       "      <td>ca7b85f2b30e45b82caee0591ee1abf65bb3eb00</td>\n",
       "    </tr>\n",
       "    <tr>\n",
       "      <th>8</th>\n",
       "      <td>rav1e</td>\n",
       "      <td>1b6643324752785e7cd6ad0b19257f3c3a9b2c6a</td>\n",
       "    </tr>\n",
       "    <tr>\n",
       "      <th>9</th>\n",
       "      <td>RustPython</td>\n",
       "      <td>9143e51b7524a5084d5ed230b1f2f5b0610ac58b</td>\n",
       "    </tr>\n",
       "  </tbody>\n",
       "</table>\n",
       "</div>"
      ],
      "text/plain": [
       "        crate                                    commit\n",
       "0       rayon  c571f8ffb4f74c8c09b4e1e6d9979b71b4414d07\n",
       "1      Rocket  8d4d01106e2e10b08100805d40bfa19a7357e900\n",
       "2      rustls  cdf1dada21a537e141d0c6dde9c5685bb43fbc0e\n",
       "3     sccache  3f318a8675e4c3de4f5e8ab2d086189f2ae5f5cf\n",
       "4    nalgebra  984bb1a63943aa68b6f26ff4a6acf8f68b833b70\n",
       "5       hyper  ed2fdb7b6a2963cea7577df05ddc41c56fee7246\n",
       "6       image  e916e9dda5f4253f6cc4557b0fe5fa3876ac18e5\n",
       "7        rg3d  ca7b85f2b30e45b82caee0591ee1abf65bb3eb00\n",
       "8       rav1e  1b6643324752785e7cd6ad0b19257f3c3a9b2c6a\n",
       "9  RustPython  9143e51b7524a5084d5ed230b1f2f5b0610ac58b"
      ]
     },
     "execution_count": 16,
     "metadata": {},
     "output_type": "execute_result"
    }
   ],
   "source": [
    "crate_final.reset_index()[['crate', 'commit']]"
   ]
  },
  {
   "cell_type": "markdown",
   "id": "20713efe",
   "metadata": {},
   "source": [
    "## Dataset size"
   ]
  },
  {
   "cell_type": "code",
   "execution_count": 17,
   "id": "6be581a1",
   "metadata": {
    "ExecuteTime": {
     "end_time": "2021-11-13T03:30:07.229714Z",
     "start_time": "2021-11-13T03:30:07.226524Z"
    }
   },
   "outputs": [
    {
     "name": "stdout",
     "output_type": "stream",
     "text": [
      "429,200\n"
     ]
    }
   ],
   "source": [
    "print(f'{len(df) // 8:,}')"
   ]
  },
  {
   "cell_type": "markdown",
   "id": "23707679",
   "metadata": {},
   "source": [
    "## Execution time"
   ]
  },
  {
   "cell_type": "code",
   "execution_count": 18,
   "id": "138f506f",
   "metadata": {
    "ExecuteTime": {
     "end_time": "2021-11-13T03:30:19.996070Z",
     "start_time": "2021-11-13T03:30:07.231165Z"
    }
   },
   "outputs": [],
   "source": [
    "durations = cond(df, m='DistinguishMut', p='Precise').groupby(['context_mode', 'function_path']) \\\n",
    "    .apply(lambda df: df.iloc[0].duration)"
   ]
  },
  {
   "cell_type": "code",
   "execution_count": 42,
   "id": "992ab2b0",
   "metadata": {
    "ExecuteTime": {
     "end_time": "2021-11-13T17:38:07.221113Z",
     "start_time": "2021-11-13T17:38:07.211522Z"
    }
   },
   "outputs": [
    {
     "data": {
      "text/plain": [
       "context_mode\n",
       "Recurse    169.033\n",
       "SigOnly    199.736\n",
       "dtype: float64"
      ]
     },
     "execution_count": 42,
     "metadata": {},
     "output_type": "execute_result"
    }
   ],
   "source": [
    "durations.groupby('context_mode').median() * 1e6"
   ]
  },
  {
   "cell_type": "code",
   "execution_count": 20,
   "id": "8d8906e0",
   "metadata": {
    "ExecuteTime": {
     "end_time": "2021-11-13T03:30:20.015174Z",
     "start_time": "2021-11-13T03:30:20.009032Z"
    }
   },
   "outputs": [
    {
     "data": {
      "text/plain": [
       "context_mode\n",
       "Recurse    49.097970\n",
       "SigOnly    50.844099\n",
       "dtype: float64"
      ]
     },
     "execution_count": 20,
     "metadata": {},
     "output_type": "execute_result"
    }
   ],
   "source": [
    "durations.groupby('context_mode').max()"
   ]
  },
  {
   "cell_type": "markdown",
   "id": "2a029bd5",
   "metadata": {},
   "source": [
    "## Metadata"
   ]
  },
  {
   "cell_type": "code",
   "execution_count": 21,
   "id": "9364685c",
   "metadata": {
    "ExecuteTime": {
     "end_time": "2021-11-13T03:30:20.116368Z",
     "start_time": "2021-11-13T03:30:20.016748Z"
    }
   },
   "outputs": [
    {
     "data": {
      "text/plain": [
       "0.9604962721342032"
      ]
     },
     "execution_count": 21,
     "metadata": {},
     "output_type": "execute_result"
    }
   ],
   "source": [
    "len(modular_cond[modular_cond.reached_library]) / len(modular_cond)"
   ]
  },
  {
   "cell_type": "code",
   "execution_count": 22,
   "id": "49dd23ba",
   "metadata": {
    "ExecuteTime": {
     "end_time": "2021-11-13T03:30:20.228010Z",
     "start_time": "2021-11-13T03:30:20.117952Z"
    }
   },
   "outputs": [
    {
     "data": {
      "text/plain": [
       "reached_library\n",
       "False    0.013035\n",
       "True     0.105680\n",
       "dtype: float64"
      ]
     },
     "execution_count": 22,
     "metadata": {},
     "output_type": "execute_result"
    }
   ],
   "source": [
    "modular_cond.groupby('reached_library').apply(lambda df: len(df[df.ins_rel_nonzero]) / len(df))"
   ]
  },
  {
   "cell_type": "markdown",
   "id": "03ba4d62",
   "metadata": {},
   "source": [
    "# Exploration"
   ]
  },
  {
   "cell_type": "code",
   "execution_count": 23,
   "id": "92fdfc04",
   "metadata": {
    "ExecuteTime": {
     "end_time": "2021-11-13T03:30:20.243764Z",
     "start_time": "2021-11-13T03:30:20.229559Z"
    }
   },
   "outputs": [
    {
     "data": {
      "text/html": [
       "<div>\n",
       "<style scoped>\n",
       "    .dataframe tbody tr th:only-of-type {\n",
       "        vertical-align: middle;\n",
       "    }\n",
       "\n",
       "    .dataframe tbody tr th {\n",
       "        vertical-align: top;\n",
       "    }\n",
       "\n",
       "    .dataframe thead th {\n",
       "        text-align: right;\n",
       "    }\n",
       "</style>\n",
       "<table border=\"1\" class=\"dataframe\">\n",
       "  <thead>\n",
       "    <tr style=\"text-align: right;\">\n",
       "      <th></th>\n",
       "      <th>function_path</th>\n",
       "      <th>sliced_local</th>\n",
       "      <th>num_instructions</th>\n",
       "    </tr>\n",
       "  </thead>\n",
       "  <tbody>\n",
       "    <tr>\n",
       "      <th>2194395</th>\n",
       "      <td>rg3d[21e3]::renderer::{impl#8}::end_frame</td>\n",
       "      <td>0</td>\n",
       "      <td>29</td>\n",
       "    </tr>\n",
       "    <tr>\n",
       "      <th>2236291</th>\n",
       "      <td>rg3d[21e3]::scene::graph::{impl#1}::unlink_int...</td>\n",
       "      <td>2</td>\n",
       "      <td>46</td>\n",
       "    </tr>\n",
       "    <tr>\n",
       "      <th>2317379</th>\n",
       "      <td>rg3d[21e3]::renderer::framework::gpu_program::...</td>\n",
       "      <td>2</td>\n",
       "      <td>110</td>\n",
       "    </tr>\n",
       "    <tr>\n",
       "      <th>2429395</th>\n",
       "      <td>rg3d[21e3]::resource::fbx::scene::link_child_w...</td>\n",
       "      <td>2</td>\n",
       "      <td>118</td>\n",
       "    </tr>\n",
       "    <tr>\n",
       "      <th>2312659</th>\n",
       "      <td>rg3d[21e3]::resource::fbx::load_to_scene</td>\n",
       "      <td>1</td>\n",
       "      <td>268</td>\n",
       "    </tr>\n",
       "    <tr>\n",
       "      <th>2403419</th>\n",
       "      <td>rg3d[21e3]::renderer::surface::{impl#5}::calcu...</td>\n",
       "      <td>2</td>\n",
       "      <td>348</td>\n",
       "    </tr>\n",
       "    <tr>\n",
       "      <th>2092627</th>\n",
       "      <td>rg3d[21e3]::utils::astar::{impl#6}::build</td>\n",
       "      <td>0</td>\n",
       "      <td>416</td>\n",
       "    </tr>\n",
       "    <tr>\n",
       "      <th>2495787</th>\n",
       "      <td>rg3d[21e3]::utils::astar::{impl#6}::build</td>\n",
       "      <td>1</td>\n",
       "      <td>416</td>\n",
       "    </tr>\n",
       "    <tr>\n",
       "      <th>2384947</th>\n",
       "      <td>rg3d[21e3]::resource::texture::{impl#12}::load...</td>\n",
       "      <td>0</td>\n",
       "      <td>481</td>\n",
       "    </tr>\n",
       "    <tr>\n",
       "      <th>2385323</th>\n",
       "      <td>rg3d[21e3]::renderer::ui_renderer::{impl#1}::r...</td>\n",
       "      <td>1</td>\n",
       "      <td>729</td>\n",
       "    </tr>\n",
       "    <tr>\n",
       "      <th>2360731</th>\n",
       "      <td>rg3d[21e3]::scene::transform::{impl#2}::calcul...</td>\n",
       "      <td>2</td>\n",
       "      <td>747</td>\n",
       "    </tr>\n",
       "  </tbody>\n",
       "</table>\n",
       "</div>"
      ],
      "text/plain": [
       "                                             function_path  sliced_local  \\\n",
       "2194395          rg3d[21e3]::renderer::{impl#8}::end_frame             0   \n",
       "2236291  rg3d[21e3]::scene::graph::{impl#1}::unlink_int...             2   \n",
       "2317379  rg3d[21e3]::renderer::framework::gpu_program::...             2   \n",
       "2429395  rg3d[21e3]::resource::fbx::scene::link_child_w...             2   \n",
       "2312659           rg3d[21e3]::resource::fbx::load_to_scene             1   \n",
       "2403419  rg3d[21e3]::renderer::surface::{impl#5}::calcu...             2   \n",
       "2092627          rg3d[21e3]::utils::astar::{impl#6}::build             0   \n",
       "2495787          rg3d[21e3]::utils::astar::{impl#6}::build             1   \n",
       "2384947  rg3d[21e3]::resource::texture::{impl#12}::load...             0   \n",
       "2385323  rg3d[21e3]::renderer::ui_renderer::{impl#1}::r...             1   \n",
       "2360731  rg3d[21e3]::scene::transform::{impl#2}::calcul...             2   \n",
       "\n",
       "         num_instructions  \n",
       "2194395                29  \n",
       "2236291                46  \n",
       "2317379               110  \n",
       "2429395               118  \n",
       "2312659               268  \n",
       "2403419               348  \n",
       "2092627               416  \n",
       "2495787               416  \n",
       "2384947               481  \n",
       "2385323               729  \n",
       "2360731               747  "
      ]
     },
     "execution_count": 23,
     "metadata": {},
     "output_type": "execute_result"
    }
   ],
   "source": [
    "nz = refblind_cond[(refblind_cond.instructions_relative_base_frac > 0) & \\\n",
    "                       (refblind_cond.sliced_local < 3) & (refblind_cond.crate == 'rg3d')]\n",
    "nz.sort_values('num_instructions', ascending=True)[:20][['function_path', 'sliced_local', 'num_instructions']]\n"
   ]
  },
  {
   "cell_type": "code",
   "execution_count": 24,
   "id": "58865800",
   "metadata": {
    "ExecuteTime": {
     "end_time": "2021-11-13T03:30:20.247688Z",
     "start_time": "2021-11-13T03:30:20.245401Z"
    }
   },
   "outputs": [],
   "source": [
    "# row = nz.loc[2172883]\n",
    "# df[(df.function_path == row.function_path) & (df.sliced_local == row.sliced_local)]"
   ]
  },
  {
   "cell_type": "code",
   "execution_count": 25,
   "id": "f951382e",
   "metadata": {
    "ExecuteTime": {
     "end_time": "2021-11-13T03:30:21.058962Z",
     "start_time": "2021-11-13T03:30:20.249195Z"
    }
   },
   "outputs": [
    {
     "data": {
      "text/html": [
       "<div>\n",
       "<style scoped>\n",
       "    .dataframe tbody tr th:only-of-type {\n",
       "        vertical-align: middle;\n",
       "    }\n",
       "\n",
       "    .dataframe tbody tr th {\n",
       "        vertical-align: top;\n",
       "    }\n",
       "\n",
       "    .dataframe thead th {\n",
       "        text-align: right;\n",
       "    }\n",
       "</style>\n",
       "<table border=\"1\" class=\"dataframe\">\n",
       "  <thead>\n",
       "    <tr style=\"text-align: right;\">\n",
       "      <th></th>\n",
       "      <th>function_path</th>\n",
       "      <th>sliced_local</th>\n",
       "      <th>num_instructions</th>\n",
       "    </tr>\n",
       "  </thead>\n",
       "  <tbody>\n",
       "    <tr>\n",
       "      <th>1772846</th>\n",
       "      <td>rustpython_vm[dc78]::stdlib::builtins::make_mo...</td>\n",
       "      <td>698</td>\n",
       "      <td>1057</td>\n",
       "    </tr>\n",
       "    <tr>\n",
       "      <th>1379678</th>\n",
       "      <td>rustpython_vm[dc78]::stdlib::builtins::make_mo...</td>\n",
       "      <td>176</td>\n",
       "      <td>1057</td>\n",
       "    </tr>\n",
       "    <tr>\n",
       "      <th>1612062</th>\n",
       "      <td>rustpython_vm[dc78]::stdlib::builtins::make_mo...</td>\n",
       "      <td>92</td>\n",
       "      <td>1057</td>\n",
       "    </tr>\n",
       "    <tr>\n",
       "      <th>1437870</th>\n",
       "      <td>rustpython_vm[dc78]::stdlib::builtins::make_mo...</td>\n",
       "      <td>419</td>\n",
       "      <td>1057</td>\n",
       "    </tr>\n",
       "    <tr>\n",
       "      <th>1600894</th>\n",
       "      <td>rustpython_vm[dc78]::stdlib::builtins::make_mo...</td>\n",
       "      <td>239</td>\n",
       "      <td>1057</td>\n",
       "    </tr>\n",
       "    <tr>\n",
       "      <th>1731118</th>\n",
       "      <td>rustpython_vm[dc78]::stdlib::builtins::make_mo...</td>\n",
       "      <td>383</td>\n",
       "      <td>1057</td>\n",
       "    </tr>\n",
       "    <tr>\n",
       "      <th>1599942</th>\n",
       "      <td>rustpython_vm[dc78]::stdlib::builtins::make_mo...</td>\n",
       "      <td>335</td>\n",
       "      <td>1057</td>\n",
       "    </tr>\n",
       "    <tr>\n",
       "      <th>1479374</th>\n",
       "      <td>rustpython_vm[dc78]::stdlib::builtins::make_mo...</td>\n",
       "      <td>110</td>\n",
       "      <td>1057</td>\n",
       "    </tr>\n",
       "    <tr>\n",
       "      <th>1614022</th>\n",
       "      <td>rustpython_vm[dc78]::stdlib::builtins::make_mo...</td>\n",
       "      <td>497</td>\n",
       "      <td>1057</td>\n",
       "    </tr>\n",
       "    <tr>\n",
       "      <th>1559478</th>\n",
       "      <td>rustpython_vm[dc78]::stdlib::builtins::make_mo...</td>\n",
       "      <td>641</td>\n",
       "      <td>1057</td>\n",
       "    </tr>\n",
       "    <tr>\n",
       "      <th>1309438</th>\n",
       "      <td>rustpython_vm[dc78]::stdlib::builtins::make_mo...</td>\n",
       "      <td>77</td>\n",
       "      <td>1057</td>\n",
       "    </tr>\n",
       "    <tr>\n",
       "      <th>1489270</th>\n",
       "      <td>rustpython_vm[dc78]::stdlib::builtins::make_mo...</td>\n",
       "      <td>761</td>\n",
       "      <td>1057</td>\n",
       "    </tr>\n",
       "    <tr>\n",
       "      <th>1991622</th>\n",
       "      <td>rustpython_vm[dc78]::stdlib::builtins::make_mo...</td>\n",
       "      <td>848</td>\n",
       "      <td>1057</td>\n",
       "    </tr>\n",
       "    <tr>\n",
       "      <th>1796446</th>\n",
       "      <td>rustpython_vm[dc78]::stdlib::builtins::make_mo...</td>\n",
       "      <td>29</td>\n",
       "      <td>1057</td>\n",
       "    </tr>\n",
       "    <tr>\n",
       "      <th>1727878</th>\n",
       "      <td>rustpython_vm[dc78]::stdlib::builtins::make_mo...</td>\n",
       "      <td>257</td>\n",
       "      <td>1057</td>\n",
       "    </tr>\n",
       "    <tr>\n",
       "      <th>1904926</th>\n",
       "      <td>rustpython_vm[dc78]::stdlib::builtins::make_mo...</td>\n",
       "      <td>389</td>\n",
       "      <td>1057</td>\n",
       "    </tr>\n",
       "    <tr>\n",
       "      <th>1804774</th>\n",
       "      <td>rustpython_vm[dc78]::stdlib::builtins::make_mo...</td>\n",
       "      <td>344</td>\n",
       "      <td>1057</td>\n",
       "    </tr>\n",
       "    <tr>\n",
       "      <th>1309790</th>\n",
       "      <td>rustpython_vm[dc78]::stdlib::builtins::make_mo...</td>\n",
       "      <td>686</td>\n",
       "      <td>1057</td>\n",
       "    </tr>\n",
       "    <tr>\n",
       "      <th>2062734</th>\n",
       "      <td>rustpython_vm[dc78]::stdlib::builtins::make_mo...</td>\n",
       "      <td>785</td>\n",
       "      <td>1057</td>\n",
       "    </tr>\n",
       "    <tr>\n",
       "      <th>1463062</th>\n",
       "      <td>rustpython_vm[dc78]::stdlib::builtins::make_mo...</td>\n",
       "      <td>371</td>\n",
       "      <td>1057</td>\n",
       "    </tr>\n",
       "  </tbody>\n",
       "</table>\n",
       "</div>"
      ],
      "text/plain": [
       "                                             function_path  sliced_local  \\\n",
       "1772846  rustpython_vm[dc78]::stdlib::builtins::make_mo...           698   \n",
       "1379678  rustpython_vm[dc78]::stdlib::builtins::make_mo...           176   \n",
       "1612062  rustpython_vm[dc78]::stdlib::builtins::make_mo...            92   \n",
       "1437870  rustpython_vm[dc78]::stdlib::builtins::make_mo...           419   \n",
       "1600894  rustpython_vm[dc78]::stdlib::builtins::make_mo...           239   \n",
       "1731118  rustpython_vm[dc78]::stdlib::builtins::make_mo...           383   \n",
       "1599942  rustpython_vm[dc78]::stdlib::builtins::make_mo...           335   \n",
       "1479374  rustpython_vm[dc78]::stdlib::builtins::make_mo...           110   \n",
       "1614022  rustpython_vm[dc78]::stdlib::builtins::make_mo...           497   \n",
       "1559478  rustpython_vm[dc78]::stdlib::builtins::make_mo...           641   \n",
       "1309438  rustpython_vm[dc78]::stdlib::builtins::make_mo...            77   \n",
       "1489270  rustpython_vm[dc78]::stdlib::builtins::make_mo...           761   \n",
       "1991622  rustpython_vm[dc78]::stdlib::builtins::make_mo...           848   \n",
       "1796446  rustpython_vm[dc78]::stdlib::builtins::make_mo...            29   \n",
       "1727878  rustpython_vm[dc78]::stdlib::builtins::make_mo...           257   \n",
       "1904926  rustpython_vm[dc78]::stdlib::builtins::make_mo...           389   \n",
       "1804774  rustpython_vm[dc78]::stdlib::builtins::make_mo...           344   \n",
       "1309790  rustpython_vm[dc78]::stdlib::builtins::make_mo...           686   \n",
       "2062734  rustpython_vm[dc78]::stdlib::builtins::make_mo...           785   \n",
       "1463062  rustpython_vm[dc78]::stdlib::builtins::make_mo...           371   \n",
       "\n",
       "         num_instructions  \n",
       "1772846              1057  \n",
       "1379678              1057  \n",
       "1612062              1057  \n",
       "1437870              1057  \n",
       "1600894              1057  \n",
       "1731118              1057  \n",
       "1599942              1057  \n",
       "1479374              1057  \n",
       "1614022              1057  \n",
       "1559478              1057  \n",
       "1309438              1057  \n",
       "1489270              1057  \n",
       "1991622              1057  \n",
       "1796446              1057  \n",
       "1727878              1057  \n",
       "1904926              1057  \n",
       "1804774              1057  \n",
       "1309790              1057  \n",
       "2062734              1057  \n",
       "1463062              1057  "
      ]
     },
     "execution_count": 25,
     "metadata": {},
     "output_type": "execute_result"
    }
   ],
   "source": [
    "df2 = cond(df, c='SigOnly', m='IgnoreMut', p='Precise')\n",
    "nz = df2[(df2.instructions_relative_frac > 0)]\n",
    "n = 2000\n",
    "nz.sort_values('instructions_relative_frac', ascending=False)[n:n+20][['function_path', 'sliced_local', 'num_instructions']]\n"
   ]
  },
  {
   "cell_type": "markdown",
   "id": "2939e437",
   "metadata": {},
   "source": [
    "\n",
    "# Slice size analysis"
   ]
  },
  {
   "cell_type": "code",
   "execution_count": 26,
   "id": "e54717a2",
   "metadata": {
    "ExecuteTime": {
     "end_time": "2021-11-13T03:30:21.067239Z",
     "start_time": "2021-11-13T03:30:21.060532Z"
    }
   },
   "outputs": [],
   "source": [
    "def plot_ins(data, xscale='linear', yscale='linear', nz=False, ax=None, quantile=None, bins=None, **kwargs):\n",
    "    if nz:\n",
    "        data = data[data > 0]        \n",
    "        \n",
    "    if bins is None:\n",
    "        max = data.max()\n",
    "        if 'log' in xscale:\n",
    "            bins = np.logspace(np.log10(0.0001), np.log10(max))\n",
    "            if not nz:\n",
    "                bins = np.concatenate(([0.], bins))\n",
    "        else:\n",
    "            bins = np.linspace(0, max, 30)\n",
    "\n",
    "    ax = sns.histplot(data, bins=bins, ax=ax)\n",
    "    ax.set_xscale(xscale)\n",
    "    ax.set_yscale(yscale)\n",
    "    \n",
    "    if xscale == 'symlog':\n",
    "        nz_min = data[data > 0].min()\n",
    "        ax.set_xscale(xscale, linthresh=nz_min)\n",
    "        ax.set_xlim(-nz_min/2, data.max())\n",
    "        \n",
    "    ax.set_xlabel('\\% increase in dependency set size' + (', log scale' if 'log' in xscale else ''))\n",
    "    ax.set_ylabel('Count' + (', log scale' if yscale == 'log' else ''))\n",
    "\n",
    "    if quantile is not None:\n",
    "        x = data.quantile(quantile)\n",
    "        ax.axvline(x, color='r')        "
   ]
  },
  {
   "cell_type": "code",
   "execution_count": 27,
   "id": "4eac0813",
   "metadata": {
    "ExecuteTime": {
     "end_time": "2021-11-13T03:30:21.963275Z",
     "start_time": "2021-11-13T03:30:21.068765Z"
    }
   },
   "outputs": [
    {
     "data": {
      "image/png": "[encoded data removed]",
      "text/plain": [
       "<Figure size 432x288 with 1 Axes>"
      ]
     },
     "metadata": {},
     "output_type": "display_data"
    }
   ],
   "source": [
    "plot_ins(modular_metric, xscale='symlog')"
   ]
  },
  {
   "cell_type": "code",
   "execution_count": 28,
   "id": "4baf69c8",
   "metadata": {
    "ExecuteTime": {
     "end_time": "2021-11-13T03:30:22.983264Z",
     "start_time": "2021-11-13T03:30:21.967601Z"
    }
   },
   "outputs": [
    {
     "data": {
      "image/png": "[encoded data removed]",
      "text/plain": [
       "<Figure size 432x288 with 1 Axes>"
      ]
     },
     "metadata": {},
     "output_type": "display_data"
    }
   ],
   "source": [
    "plot_ins(modular_metric, xscale='symlog', yscale='log')"
   ]
  },
  {
   "cell_type": "code",
   "execution_count": 29,
   "id": "bdb7144f",
   "metadata": {
    "ExecuteTime": {
     "end_time": "2021-11-13T03:30:22.991043Z",
     "start_time": "2021-11-13T03:30:22.984888Z"
    }
   },
   "outputs": [],
   "source": [
    "data = modular_metric[modular_metric > 0]"
   ]
  },
  {
   "cell_type": "code",
   "execution_count": 30,
   "id": "d0091736",
   "metadata": {
    "ExecuteTime": {
     "end_time": "2021-11-13T03:30:25.633508Z",
     "start_time": "2021-11-13T03:30:22.992476Z"
    }
   },
   "outputs": [
    {
     "data": {
      "application/vnd.jupyter.widget-view+json": {
       "model_id": "d4856e31b239475e902ad7daa038c9e5",
       "version_major": 2,
       "version_minor": 0
      },
      "text/plain": [
       "  0%|          | 0/16 [00:00<?, ?it/s]"
      ]
     },
     "metadata": {},
     "output_type": "display_data"
    },
    {
     "name": "stderr",
     "output_type": "stream",
     "text": [
      "/raid/wcrichto/flowistry-experiments/.env/lib/python3.7/site-packages/scipy/stats/_distn_infrastructure.py:2606: RuntimeWarning: invalid value encountered in double_scalars\n",
      "  Lhat = muhat - Shat*mu\n"
     ]
    },
    {
     "name": "stdout",
     "output_type": "stream",
     "text": [
      "lognormal failed\n"
     ]
    },
    {
     "name": "stderr",
     "output_type": "stream",
     "text": [
      "/raid/wcrichto/flowistry-experiments/.env/lib/python3.7/site-packages/scipy/stats/_continuous_distns.py:6893: RuntimeWarning: divide by zero encountered in power\n",
      "  return c*_norm_pdf(x) * (_norm_cdf(-x)**(c-1.0))\n",
      "/raid/wcrichto/flowistry-experiments/.env/lib/python3.7/site-packages/scipy/stats/_continuous_distns.py:6893: RuntimeWarning: overflow encountered in power\n",
      "  return c*_norm_pdf(x) * (_norm_cdf(-x)**(c-1.0))\n",
      "/raid/wcrichto/flowistry-experiments/.env/lib/python3.7/site-packages/scipy/stats/_continuous_distns.py:6893: RuntimeWarning: invalid value encountered in multiply\n",
      "  return c*_norm_pdf(x) * (_norm_cdf(-x)**(c-1.0))\n",
      "/raid/wcrichto/flowistry-experiments/.env/lib/python3.7/site-packages/scipy/stats/_continuous_distns.py:6856: RuntimeWarning: divide by zero encountered in power\n",
      "  pow(_norm_cdf(-np.log(x)/s), c*1.0-1.0))\n",
      "/raid/wcrichto/flowistry-experiments/.env/lib/python3.7/site-packages/scipy/stats/_continuous_distns.py:6856: RuntimeWarning: overflow encountered in power\n",
      "  pow(_norm_cdf(-np.log(x)/s), c*1.0-1.0))\n",
      "/raid/wcrichto/flowistry-experiments/.env/lib/python3.7/site-packages/scipy/stats/_continuous_distns.py:6856: RuntimeWarning: invalid value encountered in multiply\n",
      "  pow(_norm_cdf(-np.log(x)/s), c*1.0-1.0))\n"
     ]
    },
    {
     "data": {
      "text/html": [
       "<div>\n",
       "<style scoped>\n",
       "    .dataframe tbody tr th:only-of-type {\n",
       "        vertical-align: middle;\n",
       "    }\n",
       "\n",
       "    .dataframe tbody tr th {\n",
       "        vertical-align: top;\n",
       "    }\n",
       "\n",
       "    .dataframe thead th {\n",
       "        text-align: right;\n",
       "    }\n",
       "</style>\n",
       "<table border=\"1\" class=\"dataframe\">\n",
       "  <thead>\n",
       "    <tr style=\"text-align: right;\">\n",
       "      <th></th>\n",
       "      <th>name</th>\n",
       "      <th>sse</th>\n",
       "    </tr>\n",
       "  </thead>\n",
       "  <tbody>\n",
       "    <tr>\n",
       "      <th>12</th>\n",
       "      <td>pareto</td>\n",
       "      <td>9.593097e-01</td>\n",
       "    </tr>\n",
       "    <tr>\n",
       "      <th>10</th>\n",
       "      <td>beta</td>\n",
       "      <td>1.131439e+00</td>\n",
       "    </tr>\n",
       "    <tr>\n",
       "      <th>2</th>\n",
       "      <td>powerlaw</td>\n",
       "      <td>1.131691e+00</td>\n",
       "    </tr>\n",
       "    <tr>\n",
       "      <th>11</th>\n",
       "      <td>gumbel_r</td>\n",
       "      <td>1.133749e+00</td>\n",
       "    </tr>\n",
       "    <tr>\n",
       "      <th>5</th>\n",
       "      <td>chi2</td>\n",
       "      <td>1.133762e+00</td>\n",
       "    </tr>\n",
       "    <tr>\n",
       "      <th>13</th>\n",
       "      <td>loggamma</td>\n",
       "      <td>1.133766e+00</td>\n",
       "    </tr>\n",
       "    <tr>\n",
       "      <th>4</th>\n",
       "      <td>chi</td>\n",
       "      <td>1.133766e+00</td>\n",
       "    </tr>\n",
       "    <tr>\n",
       "      <th>9</th>\n",
       "      <td>norm</td>\n",
       "      <td>1.133766e+00</td>\n",
       "    </tr>\n",
       "    <tr>\n",
       "      <th>14</th>\n",
       "      <td>skewnorm</td>\n",
       "      <td>1.133766e+00</td>\n",
       "    </tr>\n",
       "    <tr>\n",
       "      <th>8</th>\n",
       "      <td>gamma</td>\n",
       "      <td>1.133766e+00</td>\n",
       "    </tr>\n",
       "    <tr>\n",
       "      <th>3</th>\n",
       "      <td>powerlognorm</td>\n",
       "      <td>1.134569e+00</td>\n",
       "    </tr>\n",
       "    <tr>\n",
       "      <th>0</th>\n",
       "      <td>loguniform</td>\n",
       "      <td>3.643562e+00</td>\n",
       "    </tr>\n",
       "    <tr>\n",
       "      <th>6</th>\n",
       "      <td>lognorm</td>\n",
       "      <td>5.549026e+05</td>\n",
       "    </tr>\n",
       "    <tr>\n",
       "      <th>7</th>\n",
       "      <td>weibull_max</td>\n",
       "      <td>1.681171e+20</td>\n",
       "    </tr>\n",
       "    <tr>\n",
       "      <th>1</th>\n",
       "      <td>powernorm</td>\n",
       "      <td>NaN</td>\n",
       "    </tr>\n",
       "  </tbody>\n",
       "</table>\n",
       "</div>"
      ],
      "text/plain": [
       "            name           sse\n",
       "12        pareto  9.593097e-01\n",
       "10          beta  1.131439e+00\n",
       "2       powerlaw  1.131691e+00\n",
       "11      gumbel_r  1.133749e+00\n",
       "5           chi2  1.133762e+00\n",
       "13      loggamma  1.133766e+00\n",
       "4            chi  1.133766e+00\n",
       "9           norm  1.133766e+00\n",
       "14      skewnorm  1.133766e+00\n",
       "8          gamma  1.133766e+00\n",
       "3   powerlognorm  1.134569e+00\n",
       "0     loguniform  3.643562e+00\n",
       "6        lognorm  5.549026e+05\n",
       "7    weibull_max  1.681171e+20\n",
       "1      powernorm           NaN"
      ]
     },
     "execution_count": 30,
     "metadata": {},
     "output_type": "execute_result"
    }
   ],
   "source": [
    "from scipy import stats as s\n",
    "from scipy.stats._continuous_distns import _distn_names\n",
    "from iterextras import par_for\n",
    "\n",
    "y, x = np.histogram(data, bins=1000, density=True)\n",
    "x = (x + np.roll(x, -1))[:-1] / 2.0\n",
    "\n",
    "distn_names = [\n",
    "    'loguniform', 'powernorm', 'powerlaw', 'powerlognorm', 'chi', 'chi2', 'lognorm', 'weibull_max', 'gamma',\n",
    "    'norm', 'beta', 'gumbel_r', 'pareto', 'lognormal', 'loggamma', 'skewnorm', \n",
    "]\n",
    "\n",
    "def try_fit_dist(name): \n",
    "    try:\n",
    "        dist = getattr(s, name)\n",
    "        params = dist.fit(x)\n",
    "        arg, [loc, scale] = params[:-2], params[-2:]\n",
    "        pdf = dist.pdf(x, loc=loc, scale=scale, *arg)\n",
    "        sse = np.sum(np.power(y - pdf, 2.0))\n",
    "        return {'name': name, 'sse': sse}\n",
    "    except Exception:\n",
    "        print(f'{name} failed')    \n",
    "        \n",
    "dists = par_for(try_fit_dist, distn_names, timeout=10, workers=8)\n",
    "        \n",
    "dist_df = pd.DataFrame([d for d in dists if d is not None]).sort_values('sse')\n",
    "dist_df"
   ]
  },
  {
   "cell_type": "code",
   "execution_count": 31,
   "id": "684be082",
   "metadata": {
    "ExecuteTime": {
     "end_time": "2021-11-13T03:30:27.289794Z",
     "start_time": "2021-11-13T03:30:25.635695Z"
    }
   },
   "outputs": [
    {
     "name": "stderr",
     "output_type": "stream",
     "text": [
      "/raid/wcrichto/flowistry-experiments/.env/lib/python3.7/site-packages/scipy/stats/_distn_infrastructure.py:2606: RuntimeWarning: invalid value encountered in double_scalars\n",
      "  Lhat = muhat - Shat*mu\n"
     ]
    },
    {
     "name": "stdout",
     "output_type": "stream",
     "text": [
      "(1.8494934041819486, -0.28240887594388164, 0.2836358696168739)\n"
     ]
    }
   ],
   "source": [
    "dist = s.pareto\n",
    "params = dist.fit(data)\n",
    "d = dist(*params)\n",
    "print(params)"
   ]
  },
  {
   "cell_type": "code",
   "execution_count": 32,
   "id": "d9387a32",
   "metadata": {
    "ExecuteTime": {
     "end_time": "2021-11-13T03:30:27.792927Z",
     "start_time": "2021-11-13T03:30:27.291355Z"
    }
   },
   "outputs": [
    {
     "data": {
      "image/png": "[encoded data removed]",
      "text/plain": [
       "<Figure size 432x288 with 1 Axes>"
      ]
     },
     "metadata": {},
     "output_type": "display_data"
    }
   ],
   "source": [
    "x = np.linspace(0., data.max(), 100)\n",
    "ax = data.plot(kind='hist', bins=50, density=True, alpha=0.5)\n",
    "ax.plot(x, d.pdf(x), color='r', alpha=0.5)\n",
    "ax.set_yscale('log')"
   ]
  },
  {
   "cell_type": "code",
   "execution_count": 33,
   "id": "32a8577c",
   "metadata": {
    "ExecuteTime": {
     "end_time": "2021-11-13T03:30:49.392395Z",
     "start_time": "2021-11-13T03:30:27.794491Z"
    }
   },
   "outputs": [
    {
     "name": "stderr",
     "output_type": "stream",
     "text": [
      "/raid/wcrichto/flowistry-experiments/.env/lib/python3.7/site-packages/ipykernel_launcher.py:9: UserWarning: FixedFormatter should only be used together with FixedLocator\n",
      "  if __name__ == '__main__':\n"
     ]
    },
    {
     "data": {
      "image/png": "[encoded data removed]",
      "text/plain": [
       "<Figure size 396x216 with 2 Axes>"
      ]
     },
     "metadata": {},
     "output_type": "display_data"
    }
   ],
   "source": [
    "from matplotlib import rc\n",
    "rc('font',**{'family':'serif','serif':['Linux Libertine O']})\n",
    "rc('text', **{'usetex': True, 'latex.preamble': r'\\usepackage{libertine}\\usepackage[libertine]{newtxmath}'})\n",
    "\n",
    "fig, [ax1, ax2] = plt.subplots(1, 2, figsize=(5.5, 3.))\n",
    "\n",
    "plot_ins(modular_metric, ax=ax1, xscale='symlog')\n",
    "ax1.set_title('\\\\textsc{y-linear}')\n",
    "ax1.set_yticklabels(['0'] + [f'${n} \\cdot 10^5$' for n in [1,2,3,4]])\n",
    "\n",
    "plot_ins(modular_metric, xscale='symlog', yscale='log', ax=ax2)\n",
    "ax2.set_title('\\\\textsc{y-log}')\n",
    "ax2.set_yticks([10e1, 10e3, 10e5])\n",
    "\n",
    "for ax in [ax1, ax2]:\n",
    "    ax.set_xticks([0, 10e-3, 10e-1, 10e1])\n",
    "\n",
    "ax1.set_xlabel('')\n",
    "ax2.set_xlabel('')\n",
    "fig.supxlabel('\\% difference in dependency set size, log scale (with zero)', y=0.1)\n",
    "\n",
    "fig.tight_layout()\n",
    "fig.savefig('eval-recurse-dist.pdf', bbox_inches='tight')"
   ]
  },
  {
   "cell_type": "code",
   "execution_count": 34,
   "id": "45b83a72",
   "metadata": {
    "ExecuteTime": {
     "end_time": "2021-11-13T03:30:51.043846Z",
     "start_time": "2021-11-13T03:30:49.394311Z"
    }
   },
   "outputs": [
    {
     "data": {
      "image/png": "[encoded data removed]",
      "text/plain": [
       "<Figure size 396x216 with 3 Axes>"
      ]
     },
     "metadata": {},
     "output_type": "display_data"
    }
   ],
   "source": [
    "fig, [ax1, ax2, ax3] = plt.subplots(1, 3, figsize=(5.5, 3.), sharey=True)\n",
    "\n",
    "kwargs = {'nz': True, 'xscale': 'log'}\n",
    "plot_ins(modular_metric, ax=ax1, **kwargs)\n",
    "ax1.set_title('\\\\textsc{Modular} - \\\\textsc{Whole-program}')\n",
    "plot_ins(mutblind_metric, ax=ax2, **kwargs)\n",
    "ax2.set_title('\\\\textsc{Mut-blind} - \\\\textsc{Modular}', y=1.125)\n",
    "plot_ins(refblind_metric, ax=ax3, **kwargs)\n",
    "ax3.set_title('\\\\textsc{Ref-blind} - \\\\textsc{Modular}')\n",
    "\n",
    "# ax1.set_yticks([0, 25000, 50000])\n",
    "for ax in [ax1, ax2, ax3]:\n",
    "    ax.set_xticks([10e-3, 10e-1, 10e1])\n",
    "ax1.get_yaxis().set_major_formatter(mpl.ticker.FuncFormatter(lambda x, p: format(int(x), ',')))\n",
    "\n",
    "# ax1.set_ylabel('')\n",
    "# ax3.set_ylabel('')\n",
    "ax1.set_xlabel('')\n",
    "ax3.set_xlabel('')\n",
    "\n",
    "fig.tight_layout()\n",
    "\n",
    "fig.savefig('eval-all-dist.pdf', bbox_inches='tight')"
   ]
  },
  {
   "cell_type": "code",
   "execution_count": 35,
   "id": "3264fb7f",
   "metadata": {
    "ExecuteTime": {
     "end_time": "2021-11-13T03:30:51.080474Z",
     "start_time": "2021-11-13T03:30:51.045632Z"
    }
   },
   "outputs": [
    {
     "name": "stdout",
     "output_type": "stream",
     "text": [
      "Modular: 0.10, 0.90, 0.10\n",
      "MutBlind: 0.38, 0.62, 0.58\n",
      "RefBlind: 0.15, 0.85, 0.76\n"
     ]
    }
   ],
   "source": [
    "def stats(series):\n",
    "    nz = len(series[series > 0]) / len(series)\n",
    "    return f'{nz:.2f}, {1. - nz:.2f}, {series[series > 0].median():.2f}'\n",
    "\n",
    "print('Modular:', stats(modular_metric))\n",
    "print('MutBlind:', stats(mutblind_metric))\n",
    "print('RefBlind:', stats(refblind_metric))"
   ]
  },
  {
   "cell_type": "code",
   "execution_count": 36,
   "id": "134afd94",
   "metadata": {
    "ExecuteTime": {
     "end_time": "2021-11-13T03:30:51.533622Z",
     "start_time": "2021-11-13T03:30:51.082124Z"
    }
   },
   "outputs": [
    {
     "data": {
      "text/html": [
       "<div>\n",
       "<style scoped>\n",
       "    .dataframe tbody tr th:only-of-type {\n",
       "        vertical-align: middle;\n",
       "    }\n",
       "\n",
       "    .dataframe tbody tr th {\n",
       "        vertical-align: top;\n",
       "    }\n",
       "\n",
       "    .dataframe thead th {\n",
       "        text-align: right;\n",
       "    }\n",
       "</style>\n",
       "<table border=\"1\" class=\"dataframe\">\n",
       "  <thead>\n",
       "    <tr style=\"text-align: right;\">\n",
       "      <th></th>\n",
       "      <th>nz</th>\n",
       "      <th>total</th>\n",
       "      <th>avg_ins</th>\n",
       "      <th>frac</th>\n",
       "    </tr>\n",
       "    <tr>\n",
       "      <th>crate</th>\n",
       "      <th></th>\n",
       "      <th></th>\n",
       "      <th></th>\n",
       "      <th></th>\n",
       "    </tr>\n",
       "  </thead>\n",
       "  <tbody>\n",
       "    <tr>\n",
       "      <th>rayon</th>\n",
       "      <td>2312</td>\n",
       "      <td>10695</td>\n",
       "      <td>24.0</td>\n",
       "      <td>0.216176</td>\n",
       "    </tr>\n",
       "    <tr>\n",
       "      <th>rg3d</th>\n",
       "      <td>13866</td>\n",
       "      <td>60928</td>\n",
       "      <td>85.0</td>\n",
       "      <td>0.227580</td>\n",
       "    </tr>\n",
       "    <tr>\n",
       "      <th>image</th>\n",
       "      <td>9846</td>\n",
       "      <td>40672</td>\n",
       "      <td>132.0</td>\n",
       "      <td>0.242083</td>\n",
       "    </tr>\n",
       "    <tr>\n",
       "      <th>Rocket</th>\n",
       "      <td>4369</td>\n",
       "      <td>12618</td>\n",
       "      <td>75.0</td>\n",
       "      <td>0.346251</td>\n",
       "    </tr>\n",
       "    <tr>\n",
       "      <th>rav1e</th>\n",
       "      <td>29539</td>\n",
       "      <td>78816</td>\n",
       "      <td>427.0</td>\n",
       "      <td>0.374784</td>\n",
       "    </tr>\n",
       "    <tr>\n",
       "      <th>rustls</th>\n",
       "      <td>9833</td>\n",
       "      <td>23884</td>\n",
       "      <td>108.0</td>\n",
       "      <td>0.411698</td>\n",
       "    </tr>\n",
       "    <tr>\n",
       "      <th>RustPython</th>\n",
       "      <td>43385</td>\n",
       "      <td>99679</td>\n",
       "      <td>117.0</td>\n",
       "      <td>0.435247</td>\n",
       "    </tr>\n",
       "    <tr>\n",
       "      <th>nalgebra</th>\n",
       "      <td>16592</td>\n",
       "      <td>37202</td>\n",
       "      <td>80.0</td>\n",
       "      <td>0.445998</td>\n",
       "    </tr>\n",
       "    <tr>\n",
       "      <th>sccache</th>\n",
       "      <td>11801</td>\n",
       "      <td>24705</td>\n",
       "      <td>202.0</td>\n",
       "      <td>0.477677</td>\n",
       "    </tr>\n",
       "    <tr>\n",
       "      <th>hyper</th>\n",
       "      <td>21632</td>\n",
       "      <td>40001</td>\n",
       "      <td>548.0</td>\n",
       "      <td>0.540786</td>\n",
       "    </tr>\n",
       "  </tbody>\n",
       "</table>\n",
       "</div>"
      ],
      "text/plain": [
       "               nz  total  avg_ins      frac\n",
       "crate                                      \n",
       "rayon        2312  10695     24.0  0.216176\n",
       "rg3d        13866  60928     85.0  0.227580\n",
       "image        9846  40672    132.0  0.242083\n",
       "Rocket       4369  12618     75.0  0.346251\n",
       "rav1e       29539  78816    427.0  0.374784\n",
       "rustls       9833  23884    108.0  0.411698\n",
       "RustPython  43385  99679    117.0  0.435247\n",
       "nalgebra    16592  37202     80.0  0.445998\n",
       "sccache     11801  24705    202.0  0.477677\n",
       "hyper       21632  40001    548.0  0.540786"
      ]
     },
     "execution_count": 36,
     "metadata": {},
     "output_type": "execute_result"
    }
   ],
   "source": [
    "g = mutblind_cond[mutblind_metric > 0].groupby('crate').size().rename('nz')\n",
    "g2 = pd.concat([\n",
    "    g, \n",
    "    mutblind_cond.groupby('crate').size().rename('total'), \n",
    "    mutblind_cond.groupby('crate').num_instructions.median().rename('avg_ins')], axis=1)\n",
    "g2['frac'] = g2.nz / g2.total\n",
    "g2.sort_values('frac')"
   ]
  },
  {
   "cell_type": "code",
   "execution_count": 37,
   "id": "375dbdc6",
   "metadata": {
    "ExecuteTime": {
     "end_time": "2021-11-13T03:31:17.079675Z",
     "start_time": "2021-11-13T03:30:51.535232Z"
    }
   },
   "outputs": [
    {
     "data": {
      "image/png": "[encoded data removed]",
      "text/plain": [
       "<Figure size 745.2x331.2 with 10 Axes>"
      ]
     },
     "metadata": {},
     "output_type": "display_data"
    }
   ],
   "source": [
    "g = sns.FacetGrid(data=mutblind_cond, col='crate', col_order=sorted(CRATES, key=lambda s: s.lower()), \n",
    "                  col_wrap=5, sharex=False, height=2.3, aspect=0.9)\n",
    "g.map_dataframe(lambda **kwargs: plot_ins(kwargs['data'].instructions_relative_base_frac, nz=True, xscale='log'))\n",
    "g.set_titles('\\\\textsc{{{col_name}}}')\n",
    "g.fig.supylabel('Count')\n",
    "g.fig.supxlabel('\\% increase in dependency set size, log scale', y=0.05)\n",
    "for ax in g.axes.flat:\n",
    "    ax.set_xticks([10e-3, 10e-1, 10e1])\n",
    "    \n",
    "g.fig.tight_layout()\n",
    "g.fig.savefig('eval-crates.pdf', bbox_inches='tight')\n",
    "\n"
   ]
  },
  {
   "cell_type": "code",
   "execution_count": 38,
   "id": "f8f64c7d",
   "metadata": {
    "ExecuteTime": {
     "end_time": "2021-11-13T03:31:17.098992Z",
     "start_time": "2021-11-13T03:31:17.081973Z"
    }
   },
   "outputs": [
    {
     "data": {
      "text/plain": [
       "reached_library\n",
       "False     16955\n",
       "True     412245\n",
       "dtype: int64"
      ]
     },
     "execution_count": 38,
     "metadata": {},
     "output_type": "execute_result"
    }
   ],
   "source": [
    "whole_cond.groupby('reached_library').size()"
   ]
  },
  {
   "cell_type": "code",
   "execution_count": 39,
   "id": "6add363f",
   "metadata": {
    "ExecuteTime": {
     "end_time": "2021-11-13T03:31:17.157431Z",
     "start_time": "2021-11-13T03:31:17.101276Z"
    }
   },
   "outputs": [
    {
     "data": {
      "text/html": [
       "<div>\n",
       "<style scoped>\n",
       "    .dataframe tbody tr th:only-of-type {\n",
       "        vertical-align: middle;\n",
       "    }\n",
       "\n",
       "    .dataframe tbody tr th {\n",
       "        vertical-align: top;\n",
       "    }\n",
       "\n",
       "    .dataframe thead th {\n",
       "        text-align: right;\n",
       "    }\n",
       "</style>\n",
       "<table border=\"1\" class=\"dataframe\">\n",
       "  <thead>\n",
       "    <tr style=\"text-align: right;\">\n",
       "      <th></th>\n",
       "      <th>count</th>\n",
       "      <th>mean</th>\n",
       "      <th>50%</th>\n",
       "    </tr>\n",
       "    <tr>\n",
       "      <th>reached_library</th>\n",
       "      <th></th>\n",
       "      <th></th>\n",
       "      <th></th>\n",
       "    </tr>\n",
       "  </thead>\n",
       "  <tbody>\n",
       "    <tr>\n",
       "      <th>False</th>\n",
       "      <td>16955.0</td>\n",
       "      <td>0.017542</td>\n",
       "      <td>0.0</td>\n",
       "    </tr>\n",
       "    <tr>\n",
       "      <th>True</th>\n",
       "      <td>412245.0</td>\n",
       "      <td>0.242779</td>\n",
       "      <td>0.0</td>\n",
       "    </tr>\n",
       "  </tbody>\n",
       "</table>\n",
       "</div>"
      ],
      "text/plain": [
       "                    count      mean  50%\n",
       "reached_library                         \n",
       "False             16955.0  0.017542  0.0\n",
       "True             412245.0  0.242779  0.0"
      ]
     },
     "execution_count": 39,
     "metadata": {},
     "output_type": "execute_result"
    }
   ],
   "source": [
    "modular_cond.groupby(['reached_library']).instructions_relative_frac.describe()[['count', 'mean', '50%']]"
   ]
  }
 ],
 "metadata": {
  "kernelspec": {
   "display_name": "Python 3 (ipykernel)",
   "language": "python",
   "name": "python3"
  },
  "language_info": {
   "codemirror_mode": {
    "name": "ipython",
    "version": 3
   },
   "file_extension": ".py",
   "mimetype": "text/x-python",
   "name": "python",
   "nbconvert_exporter": "python",
   "pygments_lexer": "ipython3",
   "version": "3.7.2"
  },
  "toc": {
   "base_numbering": 1,
   "nav_menu": {},
   "number_sections": true,
   "sideBar": true,
   "skip_h1_title": false,
   "title_cell": "Table of Contents",
   "title_sidebar": "Contents",
   "toc_cell": false,
   "toc_position": {},
   "toc_section_display": true,
   "toc_window_display": false
  },
  "varInspector": {
   "cols": {
    "lenName": 16,
    "lenType": 16,
    "lenVar": 40
   },
   "kernels_config": {
    "python": {
     "delete_cmd_postfix": "",
     "delete_cmd_prefix": "del ",
     "library": "var_list.py",
     "varRefreshCmd": "print(var_dic_list())"
    },
    "r": {
     "delete_cmd_postfix": ") ",
     "delete_cmd_prefix": "rm(",
     "library": "var_list.r",
     "varRefreshCmd": "cat(var_dic_list()) "
    }
   },
   "types_to_exclude": [
    "module",
    "function",
    "builtin_function_or_method",
    "instance",
    "_Feature"
   ],
   "window_display": false
  }
 },
 "nbformat": 4,
 "nbformat_minor": 5
}
