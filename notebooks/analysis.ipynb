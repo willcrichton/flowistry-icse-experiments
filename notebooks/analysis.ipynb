{
 "cells": [
  {
   "cell_type": "code",
   "execution_count": 1,
   "id": "protected-value",
   "metadata": {
    "ExecuteTime": {
     "end_time": "2021-10-08T01:58:54.819031Z",
     "start_time": "2021-10-08T01:58:54.040805Z"
    }
   },
   "outputs": [],
   "source": [
    "import pandas as pd\n",
    "from pandas.api.types import CategoricalDtype as Category\n",
    "import matplotlib.pyplot as plt\n",
    "from glob import glob\n",
    "import seaborn as sns\n",
    "import numpy as np\n",
    "from iterextras import par_for\n",
    "import subprocess as sp\n",
    "import os\n",
    "import itertools\n",
    "from tqdm.auto import tqdm\n",
    "import rs_utils\n",
    "\n",
    "sns.set()"
   ]
  },
  {
   "cell_type": "code",
   "execution_count": 2,
   "id": "905c65b5",
   "metadata": {
    "ExecuteTime": {
     "end_time": "2021-10-08T01:58:54.825109Z",
     "start_time": "2021-10-08T01:58:54.821077Z"
    }
   },
   "outputs": [],
   "source": [
    "def cond(df, m=None, c=None, p=None):\n",
    "    if m is not None:\n",
    "        df = df[df.mutability_mode == m]\n",
    "    if c is not None:\n",
    "        df = df[df.context_mode == c]\n",
    "    if p is not None:\n",
    "        df = df[df.pointer_mode == p]\n",
    "    return df"
   ]
  },
  {
   "cell_type": "code",
   "execution_count": 3,
   "id": "hidden-chambers",
   "metadata": {
    "ExecuteTime": {
     "end_time": "2021-10-08T02:01:09.221775Z",
     "start_time": "2021-10-08T01:58:54.826560Z"
    }
   },
   "outputs": [
    {
     "name": "stdout",
     "output_type": "stream",
     "text": [
      "../data/rav1e.json\n",
      "../data/hyper.json\n",
      "../data/image.json\n",
      "../data/RustPython.json\n",
      "../data/rg3d.json\n",
      "../data/rayon.json../data/rustls.json\n",
      "\n",
      "../data/Rocket.json\n",
      "../data/nalgebra.json\n",
      "../data/sccache.json\n"
     ]
    },
    {
     "data": {
      "application/vnd.jupyter.widget-view+json": {
       "model_id": "fb456bbdd8894282883a2f72bcaa22f1",
       "version_major": 2,
       "version_minor": 0
      },
      "text/plain": [
       "  0%|          | 0/10 [00:00<?, ?it/s]"
      ]
     },
     "metadata": {},
     "output_type": "display_data"
    }
   ],
   "source": [
    "PATHS = glob('../data/*.json')\n",
    "CRATES = [os.path.splitext(os.path.basename(path))[0] for path in PATHS]\n",
    "CATEGORIES = {\n",
    "    'mutability_mode': Category([\"DistinguishMut\", \"IgnoreMut\"]),\n",
    "    'context_mode': Category([\"Recurse\", \"SigOnly\"]),\n",
    "    'pointer_mode': Category([\"Conservative\", \"Precise\"]),\n",
    "    'crate': Category(CRATES)\n",
    "}\n",
    "\n",
    "def parse_data(path):\n",
    "    print(path)\n",
    "    if os.stat(path).st_size == 0:\n",
    "        return []\n",
    "    \n",
    "    crate = os.path.splitext(os.path.basename(path))[0]\n",
    "    df = pd.DataFrame(rs_utils.parse_data(path))\n",
    "    df['crate'] = crate\n",
    "    for k, dt in CATEGORIES.items():\n",
    "        df[k] = df[k].astype(dt)\n",
    "    return df\n",
    "\n",
    "\n",
    "all_dfs = par_for(parse_data, PATHS)\n",
    "df = pd.concat(all_dfs).reset_index()\n",
    "del all_dfs\n",
    "\n",
    "# df = df[(df.num_relevant_instructions != 0)]\n",
    "df['ins_rel_nonzero'] = df.instructions_relative > 0"
   ]
  },
  {
   "cell_type": "code",
   "execution_count": 4,
   "id": "5c32cdb7",
   "metadata": {
    "ExecuteTime": {
     "end_time": "2021-10-08T02:01:09.682833Z",
     "start_time": "2021-10-08T02:01:09.224238Z"
    }
   },
   "outputs": [
    {
     "data": {
      "text/plain": [
       "14696"
      ]
     },
     "execution_count": 4,
     "metadata": {},
     "output_type": "execute_result"
    }
   ],
   "source": [
    "len(df.function_path.unique())"
   ]
  },
  {
   "cell_type": "code",
   "execution_count": 5,
   "id": "fdb325b6",
   "metadata": {
    "ExecuteTime": {
     "end_time": "2021-10-08T02:01:09.688832Z",
     "start_time": "2021-10-08T02:01:09.684515Z"
    }
   },
   "outputs": [
    {
     "data": {
      "text/plain": [
       "428183.0"
      ]
     },
     "execution_count": 5,
     "metadata": {},
     "output_type": "execute_result"
    }
   ],
   "source": [
    "len(df)/8"
   ]
  },
  {
   "cell_type": "code",
   "execution_count": 6,
   "id": "51ad40e3",
   "metadata": {
    "ExecuteTime": {
     "end_time": "2021-10-08T02:01:09.737397Z",
     "start_time": "2021-10-08T02:01:09.690344Z"
    }
   },
   "outputs": [
    {
     "name": "stderr",
     "output_type": "stream",
     "text": [
      "/raid/wcrichto/flowistry-experiments/.env/lib/python3.7/site-packages/pandas/core/arraylike.py:364: RuntimeWarning: divide by zero encountered in log\n",
      "  result = getattr(ufunc, method)(*inputs, **kwargs)\n"
     ]
    }
   ],
   "source": [
    "df['ins_rel_frac_log'] = np.log(df.instructions_relative_frac)"
   ]
  },
  {
   "cell_type": "code",
   "execution_count": 7,
   "id": "ca1322c3",
   "metadata": {
    "ExecuteTime": {
     "end_time": "2021-10-08T02:01:10.540723Z",
     "start_time": "2021-10-08T02:01:09.738965Z"
    }
   },
   "outputs": [
    {
     "data": {
      "text/plain": [
       "('rav1e[e9b6]::transform::forward::rust::forward_transform', 55)"
      ]
     },
     "execution_count": 7,
     "metadata": {},
     "output_type": "execute_result"
    }
   ],
   "source": [
    "df2 = cond(df, m='DistinguishMut', c='Recurse', p='Precise')\n",
    "row = df2[df2.instructions_relative_frac > 0].iloc[0]\n",
    "(row.function_path, row.sliced_local)"
   ]
  },
  {
   "cell_type": "code",
   "execution_count": 8,
   "id": "25b2b224",
   "metadata": {
    "ExecuteTime": {
     "end_time": "2021-10-08T02:01:10.769826Z",
     "start_time": "2021-10-08T02:01:10.542207Z"
    }
   },
   "outputs": [
    {
     "data": {
      "text/html": [
       "<div>\n",
       "<style scoped>\n",
       "    .dataframe tbody tr th:only-of-type {\n",
       "        vertical-align: middle;\n",
       "    }\n",
       "\n",
       "    .dataframe tbody tr th {\n",
       "        vertical-align: top;\n",
       "    }\n",
       "\n",
       "    .dataframe thead th {\n",
       "        text-align: right;\n",
       "    }\n",
       "</style>\n",
       "<table border=\"1\" class=\"dataframe\">\n",
       "  <thead>\n",
       "    <tr style=\"text-align: right;\">\n",
       "      <th></th>\n",
       "      <th>index</th>\n",
       "      <th>mutability_mode</th>\n",
       "      <th>context_mode</th>\n",
       "      <th>pointer_mode</th>\n",
       "      <th>sliced_local</th>\n",
       "      <th>function_range</th>\n",
       "      <th>function_path</th>\n",
       "      <th>num_instructions</th>\n",
       "      <th>num_relevant_instructions</th>\n",
       "      <th>duration</th>\n",
       "      <th>...</th>\n",
       "      <th>has_same_type_ptrs_in_input</th>\n",
       "      <th>reached_library</th>\n",
       "      <th>instructions_relative</th>\n",
       "      <th>instructions_relative_frac</th>\n",
       "      <th>instructions_relative_base</th>\n",
       "      <th>instructions_relative_base_frac</th>\n",
       "      <th>baseline_reached_library</th>\n",
       "      <th>crate</th>\n",
       "      <th>ins_rel_nonzero</th>\n",
       "      <th>ins_rel_frac_log</th>\n",
       "    </tr>\n",
       "  </thead>\n",
       "  <tbody>\n",
       "    <tr>\n",
       "      <th>3005032</th>\n",
       "      <td>74552</td>\n",
       "      <td>DistinguishMut</td>\n",
       "      <td>Recurse</td>\n",
       "      <td>Precise</td>\n",
       "      <td>110</td>\n",
       "      <td>{'start': 12481, 'end': 14368, 'filename': 'sr...</td>\n",
       "      <td>nalgebra[aca9]::linalg::cholesky::{impl#2}::xx...</td>\n",
       "      <td>169</td>\n",
       "      <td>22</td>\n",
       "      <td>0.000010</td>\n",
       "      <td>...</td>\n",
       "      <td>False</td>\n",
       "      <td>False</td>\n",
       "      <td>0</td>\n",
       "      <td>0.000000</td>\n",
       "      <td>0</td>\n",
       "      <td>0.000000</td>\n",
       "      <td>False</td>\n",
       "      <td>nalgebra</td>\n",
       "      <td>False</td>\n",
       "      <td>-inf</td>\n",
       "    </tr>\n",
       "    <tr>\n",
       "      <th>3005033</th>\n",
       "      <td>74553</td>\n",
       "      <td>DistinguishMut</td>\n",
       "      <td>Recurse</td>\n",
       "      <td>Conservative</td>\n",
       "      <td>110</td>\n",
       "      <td>{'start': 12481, 'end': 14368, 'filename': 'sr...</td>\n",
       "      <td>nalgebra[aca9]::linalg::cholesky::{impl#2}::xx...</td>\n",
       "      <td>169</td>\n",
       "      <td>61</td>\n",
       "      <td>0.000008</td>\n",
       "      <td>...</td>\n",
       "      <td>False</td>\n",
       "      <td>False</td>\n",
       "      <td>39</td>\n",
       "      <td>1.772727</td>\n",
       "      <td>39</td>\n",
       "      <td>1.772727</td>\n",
       "      <td>False</td>\n",
       "      <td>nalgebra</td>\n",
       "      <td>True</td>\n",
       "      <td>0.572519</td>\n",
       "    </tr>\n",
       "    <tr>\n",
       "      <th>3005034</th>\n",
       "      <td>74554</td>\n",
       "      <td>DistinguishMut</td>\n",
       "      <td>SigOnly</td>\n",
       "      <td>Precise</td>\n",
       "      <td>110</td>\n",
       "      <td>{'start': 12481, 'end': 14368, 'filename': 'sr...</td>\n",
       "      <td>nalgebra[aca9]::linalg::cholesky::{impl#2}::xx...</td>\n",
       "      <td>169</td>\n",
       "      <td>22</td>\n",
       "      <td>0.001140</td>\n",
       "      <td>...</td>\n",
       "      <td>False</td>\n",
       "      <td>False</td>\n",
       "      <td>0</td>\n",
       "      <td>0.000000</td>\n",
       "      <td>0</td>\n",
       "      <td>0.000000</td>\n",
       "      <td>False</td>\n",
       "      <td>nalgebra</td>\n",
       "      <td>False</td>\n",
       "      <td>-inf</td>\n",
       "    </tr>\n",
       "    <tr>\n",
       "      <th>3005035</th>\n",
       "      <td>74555</td>\n",
       "      <td>DistinguishMut</td>\n",
       "      <td>SigOnly</td>\n",
       "      <td>Conservative</td>\n",
       "      <td>110</td>\n",
       "      <td>{'start': 12481, 'end': 14368, 'filename': 'sr...</td>\n",
       "      <td>nalgebra[aca9]::linalg::cholesky::{impl#2}::xx...</td>\n",
       "      <td>169</td>\n",
       "      <td>67</td>\n",
       "      <td>0.001220</td>\n",
       "      <td>...</td>\n",
       "      <td>False</td>\n",
       "      <td>False</td>\n",
       "      <td>45</td>\n",
       "      <td>2.045455</td>\n",
       "      <td>45</td>\n",
       "      <td>2.045455</td>\n",
       "      <td>False</td>\n",
       "      <td>nalgebra</td>\n",
       "      <td>True</td>\n",
       "      <td>0.715620</td>\n",
       "    </tr>\n",
       "    <tr>\n",
       "      <th>3005036</th>\n",
       "      <td>74556</td>\n",
       "      <td>IgnoreMut</td>\n",
       "      <td>Recurse</td>\n",
       "      <td>Precise</td>\n",
       "      <td>110</td>\n",
       "      <td>{'start': 12481, 'end': 14368, 'filename': 'sr...</td>\n",
       "      <td>nalgebra[aca9]::linalg::cholesky::{impl#2}::xx...</td>\n",
       "      <td>169</td>\n",
       "      <td>25</td>\n",
       "      <td>0.000008</td>\n",
       "      <td>...</td>\n",
       "      <td>False</td>\n",
       "      <td>False</td>\n",
       "      <td>3</td>\n",
       "      <td>0.136364</td>\n",
       "      <td>3</td>\n",
       "      <td>0.136364</td>\n",
       "      <td>False</td>\n",
       "      <td>nalgebra</td>\n",
       "      <td>True</td>\n",
       "      <td>-1.992430</td>\n",
       "    </tr>\n",
       "    <tr>\n",
       "      <th>3005037</th>\n",
       "      <td>74557</td>\n",
       "      <td>IgnoreMut</td>\n",
       "      <td>Recurse</td>\n",
       "      <td>Conservative</td>\n",
       "      <td>110</td>\n",
       "      <td>{'start': 12481, 'end': 14368, 'filename': 'sr...</td>\n",
       "      <td>nalgebra[aca9]::linalg::cholesky::{impl#2}::xx...</td>\n",
       "      <td>169</td>\n",
       "      <td>71</td>\n",
       "      <td>0.000008</td>\n",
       "      <td>...</td>\n",
       "      <td>False</td>\n",
       "      <td>False</td>\n",
       "      <td>49</td>\n",
       "      <td>2.227273</td>\n",
       "      <td>49</td>\n",
       "      <td>2.227273</td>\n",
       "      <td>False</td>\n",
       "      <td>nalgebra</td>\n",
       "      <td>True</td>\n",
       "      <td>0.800778</td>\n",
       "    </tr>\n",
       "    <tr>\n",
       "      <th>3005038</th>\n",
       "      <td>74558</td>\n",
       "      <td>IgnoreMut</td>\n",
       "      <td>SigOnly</td>\n",
       "      <td>Precise</td>\n",
       "      <td>110</td>\n",
       "      <td>{'start': 12481, 'end': 14368, 'filename': 'sr...</td>\n",
       "      <td>nalgebra[aca9]::linalg::cholesky::{impl#2}::xx...</td>\n",
       "      <td>169</td>\n",
       "      <td>25</td>\n",
       "      <td>0.001165</td>\n",
       "      <td>...</td>\n",
       "      <td>False</td>\n",
       "      <td>False</td>\n",
       "      <td>3</td>\n",
       "      <td>0.136364</td>\n",
       "      <td>3</td>\n",
       "      <td>0.136364</td>\n",
       "      <td>False</td>\n",
       "      <td>nalgebra</td>\n",
       "      <td>True</td>\n",
       "      <td>-1.992430</td>\n",
       "    </tr>\n",
       "    <tr>\n",
       "      <th>3005039</th>\n",
       "      <td>74559</td>\n",
       "      <td>IgnoreMut</td>\n",
       "      <td>SigOnly</td>\n",
       "      <td>Conservative</td>\n",
       "      <td>110</td>\n",
       "      <td>{'start': 12481, 'end': 14368, 'filename': 'sr...</td>\n",
       "      <td>nalgebra[aca9]::linalg::cholesky::{impl#2}::xx...</td>\n",
       "      <td>169</td>\n",
       "      <td>78</td>\n",
       "      <td>0.001245</td>\n",
       "      <td>...</td>\n",
       "      <td>False</td>\n",
       "      <td>False</td>\n",
       "      <td>56</td>\n",
       "      <td>2.545455</td>\n",
       "      <td>56</td>\n",
       "      <td>2.545455</td>\n",
       "      <td>False</td>\n",
       "      <td>nalgebra</td>\n",
       "      <td>True</td>\n",
       "      <td>0.934309</td>\n",
       "    </tr>\n",
       "  </tbody>\n",
       "</table>\n",
       "<p>8 rows × 22 columns</p>\n",
       "</div>"
      ],
      "text/plain": [
       "         index mutability_mode context_mode  pointer_mode  sliced_local  \\\n",
       "3005032  74552  DistinguishMut      Recurse       Precise           110   \n",
       "3005033  74553  DistinguishMut      Recurse  Conservative           110   \n",
       "3005034  74554  DistinguishMut      SigOnly       Precise           110   \n",
       "3005035  74555  DistinguishMut      SigOnly  Conservative           110   \n",
       "3005036  74556       IgnoreMut      Recurse       Precise           110   \n",
       "3005037  74557       IgnoreMut      Recurse  Conservative           110   \n",
       "3005038  74558       IgnoreMut      SigOnly       Precise           110   \n",
       "3005039  74559       IgnoreMut      SigOnly  Conservative           110   \n",
       "\n",
       "                                            function_range  \\\n",
       "3005032  {'start': 12481, 'end': 14368, 'filename': 'sr...   \n",
       "3005033  {'start': 12481, 'end': 14368, 'filename': 'sr...   \n",
       "3005034  {'start': 12481, 'end': 14368, 'filename': 'sr...   \n",
       "3005035  {'start': 12481, 'end': 14368, 'filename': 'sr...   \n",
       "3005036  {'start': 12481, 'end': 14368, 'filename': 'sr...   \n",
       "3005037  {'start': 12481, 'end': 14368, 'filename': 'sr...   \n",
       "3005038  {'start': 12481, 'end': 14368, 'filename': 'sr...   \n",
       "3005039  {'start': 12481, 'end': 14368, 'filename': 'sr...   \n",
       "\n",
       "                                             function_path  num_instructions  \\\n",
       "3005032  nalgebra[aca9]::linalg::cholesky::{impl#2}::xx...               169   \n",
       "3005033  nalgebra[aca9]::linalg::cholesky::{impl#2}::xx...               169   \n",
       "3005034  nalgebra[aca9]::linalg::cholesky::{impl#2}::xx...               169   \n",
       "3005035  nalgebra[aca9]::linalg::cholesky::{impl#2}::xx...               169   \n",
       "3005036  nalgebra[aca9]::linalg::cholesky::{impl#2}::xx...               169   \n",
       "3005037  nalgebra[aca9]::linalg::cholesky::{impl#2}::xx...               169   \n",
       "3005038  nalgebra[aca9]::linalg::cholesky::{impl#2}::xx...               169   \n",
       "3005039  nalgebra[aca9]::linalg::cholesky::{impl#2}::xx...               169   \n",
       "\n",
       "         num_relevant_instructions  duration  ...  \\\n",
       "3005032                         22  0.000010  ...   \n",
       "3005033                         61  0.000008  ...   \n",
       "3005034                         22  0.001140  ...   \n",
       "3005035                         67  0.001220  ...   \n",
       "3005036                         25  0.000008  ...   \n",
       "3005037                         71  0.000008  ...   \n",
       "3005038                         25  0.001165  ...   \n",
       "3005039                         78  0.001245  ...   \n",
       "\n",
       "         has_same_type_ptrs_in_input  reached_library  instructions_relative  \\\n",
       "3005032                        False            False                      0   \n",
       "3005033                        False            False                     39   \n",
       "3005034                        False            False                      0   \n",
       "3005035                        False            False                     45   \n",
       "3005036                        False            False                      3   \n",
       "3005037                        False            False                     49   \n",
       "3005038                        False            False                      3   \n",
       "3005039                        False            False                     56   \n",
       "\n",
       "         instructions_relative_frac  instructions_relative_base  \\\n",
       "3005032                    0.000000                           0   \n",
       "3005033                    1.772727                          39   \n",
       "3005034                    0.000000                           0   \n",
       "3005035                    2.045455                          45   \n",
       "3005036                    0.136364                           3   \n",
       "3005037                    2.227273                          49   \n",
       "3005038                    0.136364                           3   \n",
       "3005039                    2.545455                          56   \n",
       "\n",
       "         instructions_relative_base_frac  baseline_reached_library     crate  \\\n",
       "3005032                         0.000000                     False  nalgebra   \n",
       "3005033                         1.772727                     False  nalgebra   \n",
       "3005034                         0.000000                     False  nalgebra   \n",
       "3005035                         2.045455                     False  nalgebra   \n",
       "3005036                         0.136364                     False  nalgebra   \n",
       "3005037                         2.227273                     False  nalgebra   \n",
       "3005038                         0.136364                     False  nalgebra   \n",
       "3005039                         2.545455                     False  nalgebra   \n",
       "\n",
       "         ins_rel_nonzero ins_rel_frac_log  \n",
       "3005032            False             -inf  \n",
       "3005033             True         0.572519  \n",
       "3005034            False             -inf  \n",
       "3005035             True         0.715620  \n",
       "3005036             True        -1.992430  \n",
       "3005037             True         0.800778  \n",
       "3005038             True        -1.992430  \n",
       "3005039             True         0.934309  \n",
       "\n",
       "[8 rows x 22 columns]"
      ]
     },
     "execution_count": 8,
     "metadata": {},
     "output_type": "execute_result"
    }
   ],
   "source": [
    "df[(df.function_path == 'nalgebra[aca9]::linalg::cholesky::{impl#2}::xx_rank_one_update') & (df.sliced_local == 110)]"
   ]
  },
  {
   "cell_type": "markdown",
   "id": "9c3953b8",
   "metadata": {},
   "source": [
    "# Dataset summary"
   ]
  },
  {
   "cell_type": "code",
   "execution_count": 9,
   "id": "e152ebf9",
   "metadata": {
    "ExecuteTime": {
     "end_time": "2021-10-08T02:01:10.920508Z",
     "start_time": "2021-10-08T02:01:10.771370Z"
    }
   },
   "outputs": [
    {
     "data": {
      "text/html": [
       "<div>\n",
       "<style scoped>\n",
       "    .dataframe tbody tr th:only-of-type {\n",
       "        vertical-align: middle;\n",
       "    }\n",
       "\n",
       "    .dataframe tbody tr th {\n",
       "        vertical-align: top;\n",
       "    }\n",
       "\n",
       "    .dataframe thead th {\n",
       "        text-align: right;\n",
       "    }\n",
       "</style>\n",
       "<table border=\"1\" class=\"dataframe\">\n",
       "  <thead>\n",
       "    <tr style=\"text-align: right;\">\n",
       "      <th></th>\n",
       "      <th>level_0</th>\n",
       "      <th>index</th>\n",
       "      <th>sliced_local</th>\n",
       "      <th>num_instructions</th>\n",
       "      <th>num_relevant_instructions</th>\n",
       "      <th>duration</th>\n",
       "      <th>has_immut_ptr_in_call</th>\n",
       "      <th>has_same_type_ptrs_in_call</th>\n",
       "      <th>has_same_type_ptrs_in_input</th>\n",
       "      <th>reached_library</th>\n",
       "      <th>instructions_relative</th>\n",
       "      <th>instructions_relative_frac</th>\n",
       "      <th>instructions_relative_base</th>\n",
       "      <th>instructions_relative_base_frac</th>\n",
       "      <th>baseline_reached_library</th>\n",
       "      <th>ins_rel_nonzero</th>\n",
       "      <th>ins_rel_frac_log</th>\n",
       "      <th>size</th>\n",
       "    </tr>\n",
       "    <tr>\n",
       "      <th>crate</th>\n",
       "      <th></th>\n",
       "      <th></th>\n",
       "      <th></th>\n",
       "      <th></th>\n",
       "      <th></th>\n",
       "      <th></th>\n",
       "      <th></th>\n",
       "      <th></th>\n",
       "      <th></th>\n",
       "      <th></th>\n",
       "      <th></th>\n",
       "      <th></th>\n",
       "      <th></th>\n",
       "      <th></th>\n",
       "      <th></th>\n",
       "      <th></th>\n",
       "      <th></th>\n",
       "      <th></th>\n",
       "    </tr>\n",
       "  </thead>\n",
       "  <tbody>\n",
       "    <tr>\n",
       "      <th>rav1e</th>\n",
       "      <td>24839336024</td>\n",
       "      <td>24839336024</td>\n",
       "      <td>53244787</td>\n",
       "      <td>138040982</td>\n",
       "      <td>14295519</td>\n",
       "      <td>40207.988802</td>\n",
       "      <td>65126</td>\n",
       "      <td>13231</td>\n",
       "      <td>3403</td>\n",
       "      <td>43236</td>\n",
       "      <td>479</td>\n",
       "      <td>29.216987</td>\n",
       "      <td>1.391253e+23</td>\n",
       "      <td>3.209171e+21</td>\n",
       "      <td>43236</td>\n",
       "      <td>7</td>\n",
       "      <td>NaN</td>\n",
       "      <td>78803</td>\n",
       "    </tr>\n",
       "    <tr>\n",
       "      <th>hyper</th>\n",
       "      <td>31608246544</td>\n",
       "      <td>6396960360</td>\n",
       "      <td>10416026</td>\n",
       "      <td>31102644</td>\n",
       "      <td>4589675</td>\n",
       "      <td>14146.964126</td>\n",
       "      <td>37544</td>\n",
       "      <td>33294</td>\n",
       "      <td>0</td>\n",
       "      <td>22108</td>\n",
       "      <td>0</td>\n",
       "      <td>0.000000</td>\n",
       "      <td>7.909964e+22</td>\n",
       "      <td>2.036313e+21</td>\n",
       "      <td>22108</td>\n",
       "      <td>0</td>\n",
       "      <td>NaN</td>\n",
       "      <td>39991</td>\n",
       "    </tr>\n",
       "    <tr>\n",
       "      <th>image</th>\n",
       "      <td>45251540840</td>\n",
       "      <td>6612129224</td>\n",
       "      <td>3026040</td>\n",
       "      <td>9216838</td>\n",
       "      <td>1415070</td>\n",
       "      <td>166.056113</td>\n",
       "      <td>32727</td>\n",
       "      <td>5083</td>\n",
       "      <td>99</td>\n",
       "      <td>16480</td>\n",
       "      <td>0</td>\n",
       "      <td>0.000000</td>\n",
       "      <td>5.130040e+22</td>\n",
       "      <td>1.356555e+21</td>\n",
       "      <td>16480</td>\n",
       "      <td>0</td>\n",
       "      <td>NaN</td>\n",
       "      <td>40658</td>\n",
       "    </tr>\n",
       "    <tr>\n",
       "      <th>RustPython</th>\n",
       "      <td>165535077400</td>\n",
       "      <td>39221029848</td>\n",
       "      <td>10932016</td>\n",
       "      <td>40536630</td>\n",
       "      <td>2445765</td>\n",
       "      <td>1671.396758</td>\n",
       "      <td>96737</td>\n",
       "      <td>5358</td>\n",
       "      <td>0</td>\n",
       "      <td>73846</td>\n",
       "      <td>0</td>\n",
       "      <td>0.000000</td>\n",
       "      <td>1.815344e+23</td>\n",
       "      <td>1.487545e+22</td>\n",
       "      <td>73846</td>\n",
       "      <td>0</td>\n",
       "      <td>NaN</td>\n",
       "      <td>99022</td>\n",
       "    </tr>\n",
       "    <tr>\n",
       "      <th>rg3d</th>\n",
       "      <td>140612798832</td>\n",
       "      <td>14806265760</td>\n",
       "      <td>4329061</td>\n",
       "      <td>12615406</td>\n",
       "      <td>2406495</td>\n",
       "      <td>396.121521</td>\n",
       "      <td>45790</td>\n",
       "      <td>2469</td>\n",
       "      <td>199</td>\n",
       "      <td>28451</td>\n",
       "      <td>0</td>\n",
       "      <td>0.000000</td>\n",
       "      <td>1.303262e+23</td>\n",
       "      <td>3.566369e+21</td>\n",
       "      <td>28451</td>\n",
       "      <td>0</td>\n",
       "      <td>NaN</td>\n",
       "      <td>60841</td>\n",
       "    </tr>\n",
       "    <tr>\n",
       "      <th>rayon</th>\n",
       "      <td>27778080720</td>\n",
       "      <td>457489320</td>\n",
       "      <td>235327</td>\n",
       "      <td>729025</td>\n",
       "      <td>189531</td>\n",
       "      <td>31.106423</td>\n",
       "      <td>7263</td>\n",
       "      <td>1999</td>\n",
       "      <td>138</td>\n",
       "      <td>6155</td>\n",
       "      <td>0</td>\n",
       "      <td>0.000000</td>\n",
       "      <td>7.673846e+21</td>\n",
       "      <td>1.279245e+21</td>\n",
       "      <td>6155</td>\n",
       "      <td>0</td>\n",
       "      <td>NaN</td>\n",
       "      <td>10695</td>\n",
       "    </tr>\n",
       "    <tr>\n",
       "      <th>rustls</th>\n",
       "      <td>64774116960</td>\n",
       "      <td>2243822160</td>\n",
       "      <td>1505658</td>\n",
       "      <td>4790435</td>\n",
       "      <td>706052</td>\n",
       "      <td>206.211476</td>\n",
       "      <td>21598</td>\n",
       "      <td>8067</td>\n",
       "      <td>384</td>\n",
       "      <td>15990</td>\n",
       "      <td>971</td>\n",
       "      <td>7.648764</td>\n",
       "      <td>5.641014e+22</td>\n",
       "      <td>2.374486e+21</td>\n",
       "      <td>15990</td>\n",
       "      <td>157</td>\n",
       "      <td>NaN</td>\n",
       "      <td>23685</td>\n",
       "    </tr>\n",
       "    <tr>\n",
       "      <th>Rocket</th>\n",
       "      <td>36331401840</td>\n",
       "      <td>636502440</td>\n",
       "      <td>1091190</td>\n",
       "      <td>2954112</td>\n",
       "      <td>177584</td>\n",
       "      <td>211.993995</td>\n",
       "      <td>10778</td>\n",
       "      <td>824</td>\n",
       "      <td>0</td>\n",
       "      <td>9394</td>\n",
       "      <td>0</td>\n",
       "      <td>0.000000</td>\n",
       "      <td>6.419467e+21</td>\n",
       "      <td>1.189334e+21</td>\n",
       "      <td>9394</td>\n",
       "      <td>0</td>\n",
       "      <td>NaN</td>\n",
       "      <td>12615</td>\n",
       "    </tr>\n",
       "    <tr>\n",
       "      <th>nalgebra</th>\n",
       "      <td>114536154960</td>\n",
       "      <td>5534020880</td>\n",
       "      <td>2849840</td>\n",
       "      <td>7473922</td>\n",
       "      <td>1094409</td>\n",
       "      <td>68.393510</td>\n",
       "      <td>34251</td>\n",
       "      <td>481</td>\n",
       "      <td>110</td>\n",
       "      <td>20894</td>\n",
       "      <td>0</td>\n",
       "      <td>0.000000</td>\n",
       "      <td>9.035215e+22</td>\n",
       "      <td>6.395109e+21</td>\n",
       "      <td>20894</td>\n",
       "      <td>0</td>\n",
       "      <td>NaN</td>\n",
       "      <td>37196</td>\n",
       "    </tr>\n",
       "    <tr>\n",
       "      <th>sccache</th>\n",
       "      <td>82094259104</td>\n",
       "      <td>2435718608</td>\n",
       "      <td>2518764</td>\n",
       "      <td>8402750</td>\n",
       "      <td>925243</td>\n",
       "      <td>1245.556861</td>\n",
       "      <td>23370</td>\n",
       "      <td>4841</td>\n",
       "      <td>495</td>\n",
       "      <td>14709</td>\n",
       "      <td>0</td>\n",
       "      <td>0.000000</td>\n",
       "      <td>6.295874e+22</td>\n",
       "      <td>2.143914e+21</td>\n",
       "      <td>14709</td>\n",
       "      <td>0</td>\n",
       "      <td>NaN</td>\n",
       "      <td>24677</td>\n",
       "    </tr>\n",
       "  </tbody>\n",
       "</table>\n",
       "</div>"
      ],
      "text/plain": [
       "                 level_0        index  sliced_local  num_instructions  \\\n",
       "crate                                                                   \n",
       "rav1e        24839336024  24839336024      53244787         138040982   \n",
       "hyper        31608246544   6396960360      10416026          31102644   \n",
       "image        45251540840   6612129224       3026040           9216838   \n",
       "RustPython  165535077400  39221029848      10932016          40536630   \n",
       "rg3d        140612798832  14806265760       4329061          12615406   \n",
       "rayon        27778080720    457489320        235327            729025   \n",
       "rustls       64774116960   2243822160       1505658           4790435   \n",
       "Rocket       36331401840    636502440       1091190           2954112   \n",
       "nalgebra    114536154960   5534020880       2849840           7473922   \n",
       "sccache      82094259104   2435718608       2518764           8402750   \n",
       "\n",
       "            num_relevant_instructions      duration  has_immut_ptr_in_call  \\\n",
       "crate                                                                        \n",
       "rav1e                        14295519  40207.988802                  65126   \n",
       "hyper                         4589675  14146.964126                  37544   \n",
       "image                         1415070    166.056113                  32727   \n",
       "RustPython                    2445765   1671.396758                  96737   \n",
       "rg3d                          2406495    396.121521                  45790   \n",
       "rayon                          189531     31.106423                   7263   \n",
       "rustls                         706052    206.211476                  21598   \n",
       "Rocket                         177584    211.993995                  10778   \n",
       "nalgebra                      1094409     68.393510                  34251   \n",
       "sccache                        925243   1245.556861                  23370   \n",
       "\n",
       "            has_same_type_ptrs_in_call  has_same_type_ptrs_in_input  \\\n",
       "crate                                                                 \n",
       "rav1e                            13231                         3403   \n",
       "hyper                            33294                            0   \n",
       "image                             5083                           99   \n",
       "RustPython                        5358                            0   \n",
       "rg3d                              2469                          199   \n",
       "rayon                             1999                          138   \n",
       "rustls                            8067                          384   \n",
       "Rocket                             824                            0   \n",
       "nalgebra                           481                          110   \n",
       "sccache                           4841                          495   \n",
       "\n",
       "            reached_library  instructions_relative  \\\n",
       "crate                                                \n",
       "rav1e                 43236                    479   \n",
       "hyper                 22108                      0   \n",
       "image                 16480                      0   \n",
       "RustPython            73846                      0   \n",
       "rg3d                  28451                      0   \n",
       "rayon                  6155                      0   \n",
       "rustls                15990                    971   \n",
       "Rocket                 9394                      0   \n",
       "nalgebra              20894                      0   \n",
       "sccache               14709                      0   \n",
       "\n",
       "            instructions_relative_frac  instructions_relative_base  \\\n",
       "crate                                                                \n",
       "rav1e                        29.216987                1.391253e+23   \n",
       "hyper                         0.000000                7.909964e+22   \n",
       "image                         0.000000                5.130040e+22   \n",
       "RustPython                    0.000000                1.815344e+23   \n",
       "rg3d                          0.000000                1.303262e+23   \n",
       "rayon                         0.000000                7.673846e+21   \n",
       "rustls                        7.648764                5.641014e+22   \n",
       "Rocket                        0.000000                6.419467e+21   \n",
       "nalgebra                      0.000000                9.035215e+22   \n",
       "sccache                       0.000000                6.295874e+22   \n",
       "\n",
       "            instructions_relative_base_frac  baseline_reached_library  \\\n",
       "crate                                                                   \n",
       "rav1e                          3.209171e+21                     43236   \n",
       "hyper                          2.036313e+21                     22108   \n",
       "image                          1.356555e+21                     16480   \n",
       "RustPython                     1.487545e+22                     73846   \n",
       "rg3d                           3.566369e+21                     28451   \n",
       "rayon                          1.279245e+21                      6155   \n",
       "rustls                         2.374486e+21                     15990   \n",
       "Rocket                         1.189334e+21                      9394   \n",
       "nalgebra                       6.395109e+21                     20894   \n",
       "sccache                        2.143914e+21                     14709   \n",
       "\n",
       "            ins_rel_nonzero  ins_rel_frac_log   size  \n",
       "crate                                                 \n",
       "rav1e                     7               NaN  78803  \n",
       "hyper                     0               NaN  39991  \n",
       "image                     0               NaN  40658  \n",
       "RustPython                0               NaN  99022  \n",
       "rg3d                      0               NaN  60841  \n",
       "rayon                     0               NaN  10695  \n",
       "rustls                  157               NaN  23685  \n",
       "Rocket                    0               NaN  12615  \n",
       "nalgebra                  0               NaN  37196  \n",
       "sccache                   0               NaN  24677  "
      ]
     },
     "execution_count": 9,
     "metadata": {},
     "output_type": "execute_result"
    }
   ],
   "source": [
    "#df2 = df.groupby(['crate', 'function_path']).apply(compute_loc)#.groupby('crate').sum()\n",
    "g = df2.reset_index().groupby('crate')\n",
    "out = g.sum()\n",
    "out['size'] = g.size()\n",
    "out"
   ]
  },
  {
   "cell_type": "markdown",
   "id": "611769dc",
   "metadata": {},
   "source": [
    "## Execution time"
   ]
  },
  {
   "cell_type": "code",
   "execution_count": 10,
   "id": "c43f0df1",
   "metadata": {
    "ExecuteTime": {
     "end_time": "2021-10-08T02:01:11.507246Z",
     "start_time": "2021-10-08T02:01:10.923269Z"
    }
   },
   "outputs": [
    {
     "name": "stdout",
     "output_type": "stream",
     "text": [
      "6.131201465200001 57.37436999999999\n"
     ]
    }
   ],
   "source": [
    "df2 = cond(df, m='DistinguishMut', c='SigOnly', p='Precise')\n",
    "print(df2.duration.max(), df2.duration.median() * 100000)\n"
   ]
  },
  {
   "cell_type": "code",
   "execution_count": 11,
   "id": "14c648a9",
   "metadata": {
    "ExecuteTime": {
     "end_time": "2021-10-08T02:01:12.141093Z",
     "start_time": "2021-10-08T02:01:11.508801Z"
    }
   },
   "outputs": [
    {
     "name": "stdout",
     "output_type": "stream",
     "text": [
      "29.2166504726 8.962150000000001\n"
     ]
    }
   ],
   "source": [
    "df2 = cond(df, m='IgnoreMut', c='Recurse', p='Conservative')\n",
    "print(df2.duration.max(), df2.duration.median() * 100000)"
   ]
  },
  {
   "cell_type": "markdown",
   "id": "6b074b64",
   "metadata": {},
   "source": [
    "## Number of instructions"
   ]
  },
  {
   "cell_type": "code",
   "execution_count": 12,
   "id": "6c0c0b5e",
   "metadata": {
    "ExecuteTime": {
     "end_time": "2021-10-08T02:01:17.675277Z",
     "start_time": "2021-10-08T02:01:12.142504Z"
    }
   },
   "outputs": [
    {
     "data": {
      "image/png": "[encoded data removed]",
      "text/plain": [
       "<Figure size 432x288 with 1 Axes>"
      ]
     },
     "metadata": {},
     "output_type": "display_data"
    }
   ],
   "source": [
    "ax = sns.histplot(df.num_instructions)\n",
    "# ax.set_xscale('log')"
   ]
  },
  {
   "cell_type": "code",
   "execution_count": 13,
   "id": "458e2b22",
   "metadata": {
    "ExecuteTime": {
     "end_time": "2021-10-08T02:01:18.037483Z",
     "start_time": "2021-10-08T02:01:17.677067Z"
    }
   },
   "outputs": [
    {
     "data": {
      "text/plain": [
       "0.13458497885249998"
      ]
     },
     "execution_count": 13,
     "metadata": {},
     "output_type": "execute_result"
    }
   ],
   "source": [
    "df_big = df[df.num_instructions >= 1000]\n",
    "len(df_big) / len(df)"
   ]
  },
  {
   "cell_type": "markdown",
   "id": "03ba4d62",
   "metadata": {},
   "source": [
    "# Exploration"
   ]
  },
  {
   "cell_type": "code",
   "execution_count": 14,
   "id": "92fdfc04",
   "metadata": {
    "ExecuteTime": {
     "end_time": "2021-10-08T02:01:18.878779Z",
     "start_time": "2021-10-08T02:01:18.039037Z"
    }
   },
   "outputs": [
    {
     "data": {
      "text/html": [
       "<div>\n",
       "<style scoped>\n",
       "    .dataframe tbody tr th:only-of-type {\n",
       "        vertical-align: middle;\n",
       "    }\n",
       "\n",
       "    .dataframe tbody tr th {\n",
       "        vertical-align: top;\n",
       "    }\n",
       "\n",
       "    .dataframe thead th {\n",
       "        text-align: right;\n",
       "    }\n",
       "</style>\n",
       "<table border=\"1\" class=\"dataframe\">\n",
       "  <thead>\n",
       "    <tr style=\"text-align: right;\">\n",
       "      <th></th>\n",
       "      <th>function_path</th>\n",
       "      <th>sliced_local</th>\n",
       "      <th>num_instructions</th>\n",
       "    </tr>\n",
       "  </thead>\n",
       "  <tbody>\n",
       "    <tr>\n",
       "      <th>2853538</th>\n",
       "      <td>rocket[b030]::async_main</td>\n",
       "      <td>2</td>\n",
       "      <td>31</td>\n",
       "    </tr>\n",
       "    <tr>\n",
       "      <th>2853834</th>\n",
       "      <td>rocket[b030]::router::router::{impl#0}::finalize</td>\n",
       "      <td>0</td>\n",
       "      <td>52</td>\n",
       "    </tr>\n",
       "    <tr>\n",
       "      <th>2853898</th>\n",
       "      <td>rocket[b030]::rocket::{impl#0}::ignite</td>\n",
       "      <td>0</td>\n",
       "      <td>5</td>\n",
       "    </tr>\n",
       "    <tr>\n",
       "      <th>2854906</th>\n",
       "      <td>rocket[b030]::response::status::{impl#5}::resp...</td>\n",
       "      <td>0</td>\n",
       "      <td>49</td>\n",
       "    </tr>\n",
       "    <tr>\n",
       "      <th>2856298</th>\n",
       "      <td>rocket[b030]::form::field::{impl#1}::unexpected</td>\n",
       "      <td>0</td>\n",
       "      <td>12</td>\n",
       "    </tr>\n",
       "    <tr>\n",
       "      <th>2859394</th>\n",
       "      <td>rocket[b030]::form::from_form::{impl#3}::init</td>\n",
       "      <td>0</td>\n",
       "      <td>13</td>\n",
       "    </tr>\n",
       "    <tr>\n",
       "      <th>2859978</th>\n",
       "      <td>rocket[b030]::response::status::{impl#9}::resp...</td>\n",
       "      <td>0</td>\n",
       "      <td>34</td>\n",
       "    </tr>\n",
       "    <tr>\n",
       "      <th>2861106</th>\n",
       "      <td>rocket[b030]::form::field::{impl#0}::unexpected</td>\n",
       "      <td>0</td>\n",
       "      <td>15</td>\n",
       "    </tr>\n",
       "    <tr>\n",
       "      <th>2862138</th>\n",
       "      <td>rocket[b030]::form::error::{impl#8}::with_entity</td>\n",
       "      <td>0</td>\n",
       "      <td>8</td>\n",
       "    </tr>\n",
       "    <tr>\n",
       "      <th>2862194</th>\n",
       "      <td>rocket[b030]::response::responder::{impl#10}::...</td>\n",
       "      <td>0</td>\n",
       "      <td>88</td>\n",
       "    </tr>\n",
       "    <tr>\n",
       "      <th>2862874</th>\n",
       "      <td>rocket[b030]::form::error::{impl#0}::with_value</td>\n",
       "      <td>0</td>\n",
       "      <td>8</td>\n",
       "    </tr>\n",
       "    <tr>\n",
       "      <th>2864714</th>\n",
       "      <td>rocket[b030]::config::config::{impl#1}::releas...</td>\n",
       "      <td>2</td>\n",
       "      <td>6</td>\n",
       "    </tr>\n",
       "    <tr>\n",
       "      <th>2865522</th>\n",
       "      <td>rocket[b030]::response::response::{impl#4}::ra...</td>\n",
       "      <td>0</td>\n",
       "      <td>8</td>\n",
       "    </tr>\n",
       "    <tr>\n",
       "      <th>2868002</th>\n",
       "      <td>rocket[b030]::response::response::{impl#6}::build</td>\n",
       "      <td>1</td>\n",
       "      <td>5</td>\n",
       "    </tr>\n",
       "    <tr>\n",
       "      <th>2868138</th>\n",
       "      <td>rocket[b030]::form::field::{impl#1}::shift</td>\n",
       "      <td>2</td>\n",
       "      <td>7</td>\n",
       "    </tr>\n",
       "    <tr>\n",
       "      <th>2874826</th>\n",
       "      <td>rocket[b030]::form::form::{impl#3}::parse_encoded</td>\n",
       "      <td>2</td>\n",
       "      <td>46</td>\n",
       "    </tr>\n",
       "    <tr>\n",
       "      <th>2876130</th>\n",
       "      <td>rocket[b030]::form::validate::contains</td>\n",
       "      <td>0</td>\n",
       "      <td>40</td>\n",
       "    </tr>\n",
       "    <tr>\n",
       "      <th>2878130</th>\n",
       "      <td>rocket[b030]::data::data::{impl#0}::local</td>\n",
       "      <td>0</td>\n",
       "      <td>10</td>\n",
       "    </tr>\n",
       "    <tr>\n",
       "      <th>2881906</th>\n",
       "      <td>rocket[b030]::response::status::{impl#4}::resp...</td>\n",
       "      <td>0</td>\n",
       "      <td>49</td>\n",
       "    </tr>\n",
       "    <tr>\n",
       "      <th>2883242</th>\n",
       "      <td>rocket[b030]::form::error::{impl#14}::from</td>\n",
       "      <td>0</td>\n",
       "      <td>106</td>\n",
       "    </tr>\n",
       "  </tbody>\n",
       "</table>\n",
       "</div>"
      ],
      "text/plain": [
       "                                             function_path  sliced_local  \\\n",
       "2853538                           rocket[b030]::async_main             2   \n",
       "2853834   rocket[b030]::router::router::{impl#0}::finalize             0   \n",
       "2853898             rocket[b030]::rocket::{impl#0}::ignite             0   \n",
       "2854906  rocket[b030]::response::status::{impl#5}::resp...             0   \n",
       "2856298    rocket[b030]::form::field::{impl#1}::unexpected             0   \n",
       "2859394      rocket[b030]::form::from_form::{impl#3}::init             0   \n",
       "2859978  rocket[b030]::response::status::{impl#9}::resp...             0   \n",
       "2861106    rocket[b030]::form::field::{impl#0}::unexpected             0   \n",
       "2862138   rocket[b030]::form::error::{impl#8}::with_entity             0   \n",
       "2862194  rocket[b030]::response::responder::{impl#10}::...             0   \n",
       "2862874    rocket[b030]::form::error::{impl#0}::with_value             0   \n",
       "2864714  rocket[b030]::config::config::{impl#1}::releas...             2   \n",
       "2865522  rocket[b030]::response::response::{impl#4}::ra...             0   \n",
       "2868002  rocket[b030]::response::response::{impl#6}::build             1   \n",
       "2868138         rocket[b030]::form::field::{impl#1}::shift             2   \n",
       "2874826  rocket[b030]::form::form::{impl#3}::parse_encoded             2   \n",
       "2876130             rocket[b030]::form::validate::contains             0   \n",
       "2878130          rocket[b030]::data::data::{impl#0}::local             0   \n",
       "2881906  rocket[b030]::response::status::{impl#4}::resp...             0   \n",
       "2883242         rocket[b030]::form::error::{impl#14}::from             0   \n",
       "\n",
       "         num_instructions  \n",
       "2853538                31  \n",
       "2853834                52  \n",
       "2853898                 5  \n",
       "2854906                49  \n",
       "2856298                12  \n",
       "2859394                13  \n",
       "2859978                34  \n",
       "2861106                15  \n",
       "2862138                 8  \n",
       "2862194                88  \n",
       "2862874                 8  \n",
       "2864714                 6  \n",
       "2865522                 8  \n",
       "2868002                 5  \n",
       "2868138                 7  \n",
       "2874826                46  \n",
       "2876130                40  \n",
       "2878130                10  \n",
       "2881906                49  \n",
       "2883242               106  "
      ]
     },
     "execution_count": 14,
     "metadata": {},
     "output_type": "execute_result"
    }
   ],
   "source": [
    "df2 = cond(df, c='SigOnly', m='DistinguishMut', p='Precise')\n",
    "nz = df2[(df2.instructions_relative_frac > 0) & (df2.sliced_local < 3) & (df2.crate == 'Rocket')]\n",
    "nz[20:40][['function_path', 'sliced_local', 'num_instructions']]\n",
    "# nz.sort_values('instructions_relative_frac', ascending=False)\n"
   ]
  },
  {
   "cell_type": "markdown",
   "id": "2939e437",
   "metadata": {},
   "source": [
    "\n",
    "# Slice size analysis"
   ]
  },
  {
   "cell_type": "code",
   "execution_count": 15,
   "id": "e54717a2",
   "metadata": {
    "ExecuteTime": {
     "end_time": "2021-10-08T02:01:18.892688Z",
     "start_time": "2021-10-08T02:01:18.880339Z"
    }
   },
   "outputs": [],
   "source": [
    "def plot_ins(data, xscale='linear', yscale='linear', field='instructions_relative_frac', nz=True, ax=None, **kwargs):\n",
    "    if xscale == 'log':\n",
    "        df_plot = data[data.ins_rel_nonzero]\n",
    "        bins = np.logspace(np.log10(0.00001), np.log10(df_plot[field].max()))\n",
    "    elif xscale == 'symlog':\n",
    "        df_plot = data\n",
    "        min_n = df_plot[df_plot[field] > 0][field].min()/10\n",
    "        bins = np.concatenate(([0], np.logspace(np.log10(min_n), np.log10(df_plot[field].max()))))\n",
    "    else:\n",
    "        df_plot = data\n",
    "        n = df_plot.instructions_relative_frac.max()\n",
    "        bins = np.arange(0, n, n / 50)\n",
    "        \n",
    "    ax = sns.histplot(df_plot[field], bins=bins, ax=ax) #element='step')\n",
    "    ax.set_yscale(yscale)\n",
    "    if xscale == 'symlog':\n",
    "        ax.set_xscale(xscale, linthresh=min_n, linscale=0.2)\n",
    "    else:\n",
    "        ax.set_xscale(xscale)\n",
    "        \n",
    "    ax.set_xlabel('\\% diff in slice size' + (', log scale' if 'log' in xscale else ''))\n",
    "    ax.set_ylabel('Count' + (', log scale' if yscale == 'log' else ''))\n",
    "    \n",
    "    if xscale == 'log' and nz:\n",
    "        n = data[data.ins_rel_nonzero][field].min() / 10\n",
    "        ax.bar(n, len(data[~data.ins_rel_nonzero]), color='r', width=[n])\n",
    "    elif xscale == 'symlog':\n",
    "        ax.set_xlim(0)\n",
    "        xticks = ax.get_xticks()\n",
    "        ax.set_xticks(np.concatenate((xticks[0:1], xticks[3:])))\n",
    "        \n",
    "plot_ins_nz = lambda *args, **kwargs: plot_ins(*args, xscale='log', yscale='linear', nz=False, **kwargs)\n",
    "plot_ins_abs = lambda *args, **kwargs: plot_ins(*args, field='instructions_relative', **kwargs)\n",
    "\n",
    "# plot_ins(df, 'symlog', 'log')"
   ]
  },
  {
   "cell_type": "code",
   "execution_count": 16,
   "id": "32a8577c",
   "metadata": {
    "ExecuteTime": {
     "end_time": "2021-10-08T02:01:39.561275Z",
     "start_time": "2021-10-08T02:01:18.894425Z"
    }
   },
   "outputs": [
    {
     "name": "stderr",
     "output_type": "stream",
     "text": [
      "/raid/wcrichto/flowistry-experiments/.env/lib/python3.7/site-packages/ipykernel_launcher.py:9: UserWarning: FixedFormatter should only be used together with FixedLocator\n",
      "  if __name__ == '__main__':\n"
     ]
    },
    {
     "data": {
      "image/png": "[encoded data removed]",
      "text/plain": [
       "<Figure size 648x180 with 3 Axes>"
      ]
     },
     "metadata": {},
     "output_type": "display_data"
    }
   ],
   "source": [
    "from matplotlib import rc\n",
    "rc('font',**{'family':'serif','serif':['Linux Libertine O']})\n",
    "rc('text', **{'usetex': True, 'latex.preamble': r'\\usepackage{libertine}\\usepackage[libertine]{newtxmath}'})\n",
    "\n",
    "df2 = cond(df, c='SigOnly', m='DistinguishMut', p='Precise')\n",
    "fig, [ax1, ax2, ax3] = plt.subplots(1, 3, figsize=(9, 2.5))\n",
    "plot_ins(df2, ax=ax1)\n",
    "ax1.set_title('\\\\textsc{x-linear / y-linear}')\n",
    "ax1.set_yticklabels(['0', '$2 \\cdot 10^6$', '$4 \\cdot 10^6$'])\n",
    "\n",
    "plot_ins(df2, xscale='symlog', yscale='log', ax=ax2)\n",
    "ax2.set_title('\\\\textsc{x-log / y-log}')\n",
    "plot_ins(df2, xscale='log', nz=False, ax=ax3)\n",
    "ax3.set_title('\\\\textsc{x-log / y-linear (no zeros)}')\n",
    "ax3.set_xticks([10e-6, 10e-4, 10e-2, 10e-0, 10e2])\n",
    "\n",
    "# fig.suptitle('Distribution of slice \\%diff for SigOnly vs. Recurse')\n",
    "fig.tight_layout()\n",
    "fig.savefig('eval-recurse-dist.pdf')"
   ]
  },
  {
   "cell_type": "code",
   "execution_count": 17,
   "id": "45b83a72",
   "metadata": {
    "ExecuteTime": {
     "end_time": "2021-10-08T02:01:44.455433Z",
     "start_time": "2021-10-08T02:01:39.563110Z"
    }
   },
   "outputs": [
    {
     "data": {
      "image/png": "[encoded data removed]",
      "text/plain": [
       "<Figure size 648x180 with 3 Axes>"
      ]
     },
     "metadata": {},
     "output_type": "display_data"
    }
   ],
   "source": [
    "fig, [ax1, ax2, ax3] = plt.subplots(1, 3, figsize=(9, 2.5), sharey=True)\n",
    "\n",
    "plot_ins(cond(df, c='SigOnly', m='DistinguishMut', p='Precise'), xscale='log', nz=False, ax=ax1)\n",
    "ax1.set_title('\\\\textsc{Baseline} vs. \\\\textsc{Whole-program}')\n",
    "plot_ins(cond(df, c='SigOnly', m='IgnoreMut', p='Precise'), field='instructions_relative_base_frac', \n",
    "         xscale='log', nz=False, ax=ax2)\n",
    "ax2.set_title('\\\\textsc{Mut-blind} vs. \\\\textsc{Baseline}')\n",
    "plot_ins(cond(df, c='SigOnly', m='DistinguishMut', p='Conservative'), field='instructions_relative_base_frac', \n",
    "         xscale='log', nz=False, ax=ax3)\n",
    "ax3.set_title('\\\\textsc{Pointer-blind} vs. \\\\textsc{Baseline}')\n",
    "\n",
    "ax1.set_xlabel('')\n",
    "ax3.set_xlabel('')\n",
    "\n",
    "fig.tight_layout()\n",
    "\n",
    "fig.savefig('eval-all-dist.pdf')"
   ]
  },
  {
   "cell_type": "code",
   "execution_count": 18,
   "id": "134afd94",
   "metadata": {
    "ExecuteTime": {
     "end_time": "2021-10-08T02:01:45.656777Z",
     "start_time": "2021-10-08T02:01:44.457116Z"
    }
   },
   "outputs": [
    {
     "data": {
      "text/html": [
       "<div>\n",
       "<style scoped>\n",
       "    .dataframe tbody tr th:only-of-type {\n",
       "        vertical-align: middle;\n",
       "    }\n",
       "\n",
       "    .dataframe tbody tr th {\n",
       "        vertical-align: top;\n",
       "    }\n",
       "\n",
       "    .dataframe thead th {\n",
       "        text-align: right;\n",
       "    }\n",
       "</style>\n",
       "<table border=\"1\" class=\"dataframe\">\n",
       "  <thead>\n",
       "    <tr style=\"text-align: right;\">\n",
       "      <th></th>\n",
       "      <th>nz</th>\n",
       "      <th>total</th>\n",
       "      <th>avg_ins</th>\n",
       "      <th>frac</th>\n",
       "    </tr>\n",
       "    <tr>\n",
       "      <th>crate</th>\n",
       "      <th></th>\n",
       "      <th></th>\n",
       "      <th></th>\n",
       "      <th></th>\n",
       "    </tr>\n",
       "  </thead>\n",
       "  <tbody>\n",
       "    <tr>\n",
       "      <th>rayon</th>\n",
       "      <td>762</td>\n",
       "      <td>10695</td>\n",
       "      <td>24.0</td>\n",
       "      <td>0.071248</td>\n",
       "    </tr>\n",
       "    <tr>\n",
       "      <th>image</th>\n",
       "      <td>5966</td>\n",
       "      <td>40658</td>\n",
       "      <td>133.0</td>\n",
       "      <td>0.146736</td>\n",
       "    </tr>\n",
       "    <tr>\n",
       "      <th>Rocket</th>\n",
       "      <td>2055</td>\n",
       "      <td>12615</td>\n",
       "      <td>75.0</td>\n",
       "      <td>0.162901</td>\n",
       "    </tr>\n",
       "    <tr>\n",
       "      <th>rg3d</th>\n",
       "      <td>10667</td>\n",
       "      <td>60841</td>\n",
       "      <td>85.0</td>\n",
       "      <td>0.175326</td>\n",
       "    </tr>\n",
       "    <tr>\n",
       "      <th>RustPython</th>\n",
       "      <td>20073</td>\n",
       "      <td>99022</td>\n",
       "      <td>113.0</td>\n",
       "      <td>0.202713</td>\n",
       "    </tr>\n",
       "    <tr>\n",
       "      <th>rustls</th>\n",
       "      <td>5453</td>\n",
       "      <td>23685</td>\n",
       "      <td>108.0</td>\n",
       "      <td>0.230230</td>\n",
       "    </tr>\n",
       "    <tr>\n",
       "      <th>sccache</th>\n",
       "      <td>7924</td>\n",
       "      <td>24677</td>\n",
       "      <td>203.0</td>\n",
       "      <td>0.321109</td>\n",
       "    </tr>\n",
       "    <tr>\n",
       "      <th>nalgebra</th>\n",
       "      <td>12028</td>\n",
       "      <td>37196</td>\n",
       "      <td>80.0</td>\n",
       "      <td>0.323368</td>\n",
       "    </tr>\n",
       "    <tr>\n",
       "      <th>rav1e</th>\n",
       "      <td>26927</td>\n",
       "      <td>78803</td>\n",
       "      <td>427.0</td>\n",
       "      <td>0.341700</td>\n",
       "    </tr>\n",
       "    <tr>\n",
       "      <th>hyper</th>\n",
       "      <td>20493</td>\n",
       "      <td>39991</td>\n",
       "      <td>562.0</td>\n",
       "      <td>0.512440</td>\n",
       "    </tr>\n",
       "  </tbody>\n",
       "</table>\n",
       "</div>"
      ],
      "text/plain": [
       "               nz  total  avg_ins      frac\n",
       "crate                                      \n",
       "rayon         762  10695     24.0  0.071248\n",
       "image        5966  40658    133.0  0.146736\n",
       "Rocket       2055  12615     75.0  0.162901\n",
       "rg3d        10667  60841     85.0  0.175326\n",
       "RustPython  20073  99022    113.0  0.202713\n",
       "rustls       5453  23685    108.0  0.230230\n",
       "sccache      7924  24677    203.0  0.321109\n",
       "nalgebra    12028  37196     80.0  0.323368\n",
       "rav1e       26927  78803    427.0  0.341700\n",
       "hyper       20493  39991    562.0  0.512440"
      ]
     },
     "execution_count": 18,
     "metadata": {},
     "output_type": "execute_result"
    }
   ],
   "source": [
    "df2 = cond(df, c='SigOnly', m='IgnoreMut', p='Precise')\n",
    "g = df2[df2.instructions_relative_base_frac > 0].groupby('crate').size().rename('nz')\n",
    "g2 = pd.concat([\n",
    "    g, \n",
    "    df2.groupby('crate').size().rename('total'), \n",
    "    df2.groupby('crate').num_instructions.median().rename('avg_ins')], axis=1)\n",
    "g2['frac'] = g2.nz / g2.total\n",
    "g2.sort_values('frac')"
   ]
  },
  {
   "cell_type": "code",
   "execution_count": 19,
   "id": "375dbdc6",
   "metadata": {
    "ExecuteTime": {
     "end_time": "2021-10-08T02:02:08.116051Z",
     "start_time": "2021-10-08T02:01:45.658616Z"
    }
   },
   "outputs": [
    {
     "data": {
      "image/png": "[encoded data removed]",
      "text/plain": [
       "<Figure size 810x360 with 10 Axes>"
      ]
     },
     "metadata": {},
     "output_type": "display_data"
    }
   ],
   "source": [
    "g = sns.FacetGrid(data=cond(df, c='SigOnly', m='IgnoreMut', p='Precise'), \n",
    "                  col='crate', col_wrap=5, sharex=False, height=2.5, aspect=0.9)\n",
    "g.map_dataframe(plot_ins, xscale='log', nz=False, field='instructions_relative_base_frac')\n",
    "g.set_titles('\\\\textsc{{{col_name}}}')\n",
    "g.fig.supylabel('Count')\n",
    "g.fig.supxlabel('\\% diff in slice size, log scale')\n",
    "g.fig.tight_layout()\n",
    "g.fig.savefig('eval-crates.pdf')"
   ]
  },
  {
   "cell_type": "code",
   "execution_count": 26,
   "id": "2ace8f90",
   "metadata": {
    "ExecuteTime": {
     "end_time": "2021-10-08T02:04:51.107592Z",
     "start_time": "2021-10-08T02:04:50.460567Z"
    }
   },
   "outputs": [
    {
     "name": "stdout",
     "output_type": "stream",
     "text": [
      "0.10194239378957128 0.10787878760446946\n"
     ]
    }
   ],
   "source": [
    "df2 = cond(df, c='SigOnly', m='DistinguishMut', p='Precise')\n",
    "nz = df2[df2.instructions_relative_frac > 0]\n",
    "print(len(nz) / len(df2), gmean(nz.instructions_relative_frac))"
   ]
  },
  {
   "cell_type": "code",
   "execution_count": 20,
   "id": "9df2986b",
   "metadata": {
    "ExecuteTime": {
     "end_time": "2021-10-08T02:02:09.007928Z",
     "start_time": "2021-10-08T02:02:08.118070Z"
    }
   },
   "outputs": [
    {
     "name": "stdout",
     "output_type": "stream",
     "text": [
      "0.26238313991914675 0.30609799147819794\n"
     ]
    }
   ],
   "source": [
    "from scipy.stats.mstats import gmean\n",
    "\n",
    "df2 = cond(df, c='SigOnly', m='IgnoreMut', p='Precise')\n",
    "nz = df2[df2.instructions_relative_base_frac > 0]\n",
    "print(len(nz) / len(df2), gmean(nz.instructions_relative_base_frac))"
   ]
  },
  {
   "cell_type": "code",
   "execution_count": 21,
   "id": "342db9d8",
   "metadata": {
    "ExecuteTime": {
     "end_time": "2021-10-08T02:02:09.683533Z",
     "start_time": "2021-10-08T02:02:09.009508Z"
    }
   },
   "outputs": [
    {
     "name": "stdout",
     "output_type": "stream",
     "text": [
      "0.07040214114058709 0.609724806978935\n"
     ]
    }
   ],
   "source": [
    "df2 = cond(df, c='SigOnly', m='DistinguishMut', p='Conservative')\n",
    "nz = df2[df2.instructions_relative_base_frac > 0]\n",
    "print(len(nz) / len(df2), gmean(nz.instructions_relative_base_frac))"
   ]
  },
  {
   "cell_type": "code",
   "execution_count": 22,
   "id": "f8f64c7d",
   "metadata": {
    "ExecuteTime": {
     "end_time": "2021-10-08T02:02:10.337581Z",
     "start_time": "2021-10-08T02:02:09.685100Z"
    }
   },
   "outputs": [
    {
     "data": {
      "text/html": [
       "<div>\n",
       "<style scoped>\n",
       "    .dataframe tbody tr th:only-of-type {\n",
       "        vertical-align: middle;\n",
       "    }\n",
       "\n",
       "    .dataframe tbody tr th {\n",
       "        vertical-align: top;\n",
       "    }\n",
       "\n",
       "    .dataframe thead th {\n",
       "        text-align: right;\n",
       "    }\n",
       "</style>\n",
       "<table border=\"1\" class=\"dataframe\">\n",
       "  <thead>\n",
       "    <tr style=\"text-align: right;\">\n",
       "      <th></th>\n",
       "      <th>count</th>\n",
       "      <th>mean</th>\n",
       "      <th>std</th>\n",
       "      <th>min</th>\n",
       "      <th>25%</th>\n",
       "      <th>50%</th>\n",
       "      <th>75%</th>\n",
       "      <th>max</th>\n",
       "    </tr>\n",
       "    <tr>\n",
       "      <th>reached_library</th>\n",
       "      <th></th>\n",
       "      <th></th>\n",
       "      <th></th>\n",
       "      <th></th>\n",
       "      <th></th>\n",
       "      <th></th>\n",
       "      <th></th>\n",
       "      <th></th>\n",
       "    </tr>\n",
       "  </thead>\n",
       "  <tbody>\n",
       "    <tr>\n",
       "      <th>False</th>\n",
       "      <td>176920.0</td>\n",
       "      <td>351.538226</td>\n",
       "      <td>512.192221</td>\n",
       "      <td>2.0</td>\n",
       "      <td>35.0</td>\n",
       "      <td>153.0</td>\n",
       "      <td>445.0</td>\n",
       "      <td>3375.0</td>\n",
       "    </tr>\n",
       "    <tr>\n",
       "      <th>True</th>\n",
       "      <td>251263.0</td>\n",
       "      <td>770.780421</td>\n",
       "      <td>1964.937373</td>\n",
       "      <td>3.0</td>\n",
       "      <td>55.0</td>\n",
       "      <td>145.0</td>\n",
       "      <td>458.0</td>\n",
       "      <td>10485.0</td>\n",
       "    </tr>\n",
       "  </tbody>\n",
       "</table>\n",
       "</div>"
      ],
      "text/plain": [
       "                    count        mean          std  min   25%    50%    75%  \\\n",
       "reached_library                                                               \n",
       "False            176920.0  351.538226   512.192221  2.0  35.0  153.0  445.0   \n",
       "True             251263.0  770.780421  1964.937373  3.0  55.0  145.0  458.0   \n",
       "\n",
       "                     max  \n",
       "reached_library           \n",
       "False             3375.0  \n",
       "True             10485.0  "
      ]
     },
     "execution_count": 22,
     "metadata": {},
     "output_type": "execute_result"
    }
   ],
   "source": [
    "cond(df, c='Recurse', m='DistinguishMut', p='Precise').groupby('reached_library').num_instructions.describe()"
   ]
  },
  {
   "cell_type": "code",
   "execution_count": 23,
   "id": "6add363f",
   "metadata": {
    "ExecuteTime": {
     "end_time": "2021-10-08T02:02:11.013039Z",
     "start_time": "2021-10-08T02:02:10.339113Z"
    }
   },
   "outputs": [
    {
     "data": {
      "text/html": [
       "<div>\n",
       "<style scoped>\n",
       "    .dataframe tbody tr th:only-of-type {\n",
       "        vertical-align: middle;\n",
       "    }\n",
       "\n",
       "    .dataframe tbody tr th {\n",
       "        vertical-align: top;\n",
       "    }\n",
       "\n",
       "    .dataframe thead th {\n",
       "        text-align: right;\n",
       "    }\n",
       "</style>\n",
       "<table border=\"1\" class=\"dataframe\">\n",
       "  <thead>\n",
       "    <tr style=\"text-align: right;\">\n",
       "      <th></th>\n",
       "      <th></th>\n",
       "      <th>count</th>\n",
       "      <th>mean</th>\n",
       "      <th>50%</th>\n",
       "    </tr>\n",
       "    <tr>\n",
       "      <th>reached_library</th>\n",
       "      <th>ins_rel_nonzero</th>\n",
       "      <th></th>\n",
       "      <th></th>\n",
       "      <th></th>\n",
       "    </tr>\n",
       "  </thead>\n",
       "  <tbody>\n",
       "    <tr>\n",
       "      <th rowspan=\"2\" valign=\"top\">False</th>\n",
       "      <th>False</th>\n",
       "      <td>158568.0</td>\n",
       "      <td>0.000000</td>\n",
       "      <td>0.000000</td>\n",
       "    </tr>\n",
       "    <tr>\n",
       "      <th>True</th>\n",
       "      <td>18352.0</td>\n",
       "      <td>29.866936</td>\n",
       "      <td>0.111111</td>\n",
       "    </tr>\n",
       "    <tr>\n",
       "      <th rowspan=\"2\" valign=\"top\">True</th>\n",
       "      <th>False</th>\n",
       "      <td>225965.0</td>\n",
       "      <td>0.000000</td>\n",
       "      <td>0.000000</td>\n",
       "    </tr>\n",
       "    <tr>\n",
       "      <th>True</th>\n",
       "      <td>25298.0</td>\n",
       "      <td>3.133369</td>\n",
       "      <td>0.061224</td>\n",
       "    </tr>\n",
       "  </tbody>\n",
       "</table>\n",
       "</div>"
      ],
      "text/plain": [
       "                                    count       mean       50%\n",
       "reached_library ins_rel_nonzero                               \n",
       "False           False            158568.0   0.000000  0.000000\n",
       "                True              18352.0  29.866936  0.111111\n",
       "True            False            225965.0   0.000000  0.000000\n",
       "                True              25298.0   3.133369  0.061224"
      ]
     },
     "execution_count": 23,
     "metadata": {},
     "output_type": "execute_result"
    }
   ],
   "source": [
    "cond(df, c='SigOnly', m='DistinguishMut', p='Precise').groupby(['reached_library', 'ins_rel_nonzero']) \\\n",
    "    .instructions_relative_frac.describe()[['count', 'mean', '50%']]"
   ]
  },
  {
   "cell_type": "code",
   "execution_count": 24,
   "id": "4d567954",
   "metadata": {
    "ExecuteTime": {
     "end_time": "2021-10-08T02:02:11.017958Z",
     "start_time": "2021-10-08T02:02:11.014575Z"
    }
   },
   "outputs": [
    {
     "name": "stdout",
     "output_type": "stream",
     "text": [
      "0.005239987114785783\n",
      "0.07073022461599222\n"
     ]
    }
   ],
   "source": [
    "print(732 / 139695)\n",
    "print(18267.0 / 258263.0)"
   ]
  },
  {
   "cell_type": "code",
   "execution_count": 25,
   "id": "4f99b83d",
   "metadata": {
    "ExecuteTime": {
     "end_time": "2021-10-08T02:02:11.131904Z",
     "start_time": "2021-10-08T02:02:11.019414Z"
    }
   },
   "outputs": [
    {
     "ename": "NameError",
     "evalue": "name 'df3' is not defined",
     "output_type": "error",
     "traceback": [
      "\u001b[0;31m---------------------------------------------------------------------------\u001b[0m",
      "\u001b[0;31mNameError\u001b[0m                                 Traceback (most recent call last)",
      "\u001b[0;32m/tmp/ipykernel_24721/2092096434.py\u001b[0m in \u001b[0;36m<module>\u001b[0;34m\u001b[0m\n\u001b[1;32m      3\u001b[0m \u001b[0;31m#     .apply(lambda df: df.iloc[0]).reset_index(drop=True)\u001b[0m\u001b[0;34m\u001b[0m\u001b[0;34m\u001b[0m\u001b[0;34m\u001b[0m\u001b[0m\n\u001b[1;32m      4\u001b[0m \u001b[0mnum_slices\u001b[0m \u001b[0;34m=\u001b[0m \u001b[0mdf2\u001b[0m\u001b[0;34m.\u001b[0m\u001b[0mgroupby\u001b[0m\u001b[0;34m(\u001b[0m\u001b[0;34m[\u001b[0m\u001b[0;34m'crate'\u001b[0m\u001b[0;34m]\u001b[0m\u001b[0;34m)\u001b[0m\u001b[0;34m.\u001b[0m\u001b[0msize\u001b[0m\u001b[0;34m(\u001b[0m\u001b[0;34m)\u001b[0m\u001b[0;34m.\u001b[0m\u001b[0mrename\u001b[0m\u001b[0;34m(\u001b[0m\u001b[0;34m'num_slices'\u001b[0m\u001b[0;34m)\u001b[0m\u001b[0;34m\u001b[0m\u001b[0;34m\u001b[0m\u001b[0m\n\u001b[0;32m----> 5\u001b[0;31m \u001b[0mavg_ins_per_func\u001b[0m \u001b[0;34m=\u001b[0m \u001b[0mdf3\u001b[0m\u001b[0;34m.\u001b[0m\u001b[0mgroupby\u001b[0m\u001b[0;34m(\u001b[0m\u001b[0;34m'crate'\u001b[0m\u001b[0;34m)\u001b[0m\u001b[0;34m.\u001b[0m\u001b[0mnum_instructions\u001b[0m\u001b[0;34m.\u001b[0m\u001b[0mmean\u001b[0m\u001b[0;34m(\u001b[0m\u001b[0;34m)\u001b[0m\u001b[0;31m \u001b[0m\u001b[0;31m\\\u001b[0m\u001b[0;34m\u001b[0m\u001b[0;34m\u001b[0m\u001b[0m\n\u001b[0m\u001b[1;32m      6\u001b[0m     \u001b[0;34m.\u001b[0m\u001b[0mrename\u001b[0m\u001b[0;34m(\u001b[0m\u001b[0;34m'avg_ins_per_func'\u001b[0m\u001b[0;34m)\u001b[0m\u001b[0;34m\u001b[0m\u001b[0;34m\u001b[0m\u001b[0m\n\u001b[1;32m      7\u001b[0m \u001b[0mnum_funcs\u001b[0m \u001b[0;34m=\u001b[0m \u001b[0mdf2\u001b[0m\u001b[0;34m.\u001b[0m\u001b[0mgroupby\u001b[0m\u001b[0;34m(\u001b[0m\u001b[0;34m[\u001b[0m\u001b[0;34m'crate'\u001b[0m\u001b[0;34m]\u001b[0m\u001b[0;34m)\u001b[0m\u001b[0;34m.\u001b[0m\u001b[0msize\u001b[0m\u001b[0;34m(\u001b[0m\u001b[0;34m)\u001b[0m\u001b[0;34m.\u001b[0m\u001b[0mrename\u001b[0m\u001b[0;34m(\u001b[0m\u001b[0;34m'num_funcs'\u001b[0m\u001b[0;34m)\u001b[0m\u001b[0;34m\u001b[0m\u001b[0;34m\u001b[0m\u001b[0m\n",
      "\u001b[0;31mNameError\u001b[0m: name 'df3' is not defined"
     ]
    }
   ],
   "source": [
    "# df2 = cond(df, c='SigOnly', m='DistinguishMut', p='Precise')\n",
    "# df3 = df2.groupby(['crate', 'function_path']) \\\n",
    "#     .apply(lambda df: df.iloc[0]).reset_index(drop=True)\n",
    "num_slices = df2.groupby(['crate']).size().rename('num_slices')\n",
    "avg_ins_per_func = df3.groupby('crate').num_instructions.mean() \\\n",
    "    .rename('avg_ins_per_func')\n",
    "num_funcs = df2.groupby(['crate']).size().rename('num_funcs')\n",
    "\n",
    "q = df2.groupby(['crate', 'function_path']).size()\n",
    "avg_slices_per_func = q[q > 0] \\\n",
    "    .groupby('crate').mean().rename('avg_slices_per_func')\n",
    "pd.concat(\n",
    "    [num_slices, avg_ins_per_func, num_funcs, avg_slices_per_func], \n",
    "    axis=1).sort_values('num_slices')"
   ]
  }
 ],
 "metadata": {
  "kernelspec": {
   "display_name": "Python 3 (ipykernel)",
   "language": "python",
   "name": "python3"
  },
  "language_info": {
   "codemirror_mode": {
    "name": "ipython",
    "version": 3
   },
   "file_extension": ".py",
   "mimetype": "text/x-python",
   "name": "python",
   "nbconvert_exporter": "python",
   "pygments_lexer": "ipython3",
   "version": "3.7.2"
  },
  "toc": {
   "base_numbering": 1,
   "nav_menu": {},
   "number_sections": true,
   "sideBar": true,
   "skip_h1_title": false,
   "title_cell": "Table of Contents",
   "title_sidebar": "Contents",
   "toc_cell": false,
   "toc_position": {},
   "toc_section_display": true,
   "toc_window_display": false
  },
  "varInspector": {
   "cols": {
    "lenName": 16,
    "lenType": 16,
    "lenVar": 40
   },
   "kernels_config": {
    "python": {
     "delete_cmd_postfix": "",
     "delete_cmd_prefix": "del ",
     "library": "var_list.py",
     "varRefreshCmd": "print(var_dic_list())"
    },
    "r": {
     "delete_cmd_postfix": ") ",
     "delete_cmd_prefix": "rm(",
     "library": "var_list.r",
     "varRefreshCmd": "cat(var_dic_list()) "
    }
   },
   "types_to_exclude": [
    "module",
    "function",
    "builtin_function_or_method",
    "instance",
    "_Feature"
   ],
   "window_display": false
  }
 },
 "nbformat": 4,
 "nbformat_minor": 5
}
