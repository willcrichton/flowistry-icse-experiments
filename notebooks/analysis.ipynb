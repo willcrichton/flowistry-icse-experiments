{
 "cells": [
  {
   "cell_type": "code",
   "execution_count": 4,
   "id": "protected-value",
   "metadata": {
    "ExecuteTime": {
     "end_time": "2021-09-06T01:31:18.551536Z",
     "start_time": "2021-09-06T01:31:18.546733Z"
    }
   },
   "outputs": [],
   "source": [
    "import pandas as pd\n",
    "from pandas.api.types import CategoricalDtype as Category\n",
    "import matplotlib.pyplot as plt\n",
    "from glob import glob\n",
    "import seaborn as sns\n",
    "import numpy as np\n",
    "from iterextras import par_for\n",
    "import subprocess as sp\n",
    "import os\n",
    "import itertools\n",
    "from tqdm.auto import tqdm\n",
    "import rs_utils\n",
    "\n",
    "sns.set()"
   ]
  },
  {
   "cell_type": "code",
   "execution_count": 5,
   "id": "905c65b5",
   "metadata": {
    "ExecuteTime": {
     "end_time": "2021-09-06T01:31:18.556797Z",
     "start_time": "2021-09-06T01:31:18.553252Z"
    }
   },
   "outputs": [],
   "source": [
    "def cond(df, m=None, c=None, p=None):\n",
    "    if m is not None:\n",
    "        df = df[df.mutability_mode == m]\n",
    "    if c is not None:\n",
    "        df = df[df.context_mode == c]\n",
    "    if p is not None:\n",
    "        df = df[df.pointer_mode == p]\n",
    "    return df"
   ]
  },
  {
   "cell_type": "code",
   "execution_count": 6,
   "id": "hidden-chambers",
   "metadata": {
    "ExecuteTime": {
     "end_time": "2021-09-06T01:33:16.925284Z",
     "start_time": "2021-09-06T01:31:18.564952Z"
    }
   },
   "outputs": [
    {
     "name": "stdout",
     "output_type": "stream",
     "text": [
      "../data/rav1e.json../data/hyper.json\n",
      "\n",
      "../data/image.json\n",
      "../data/RustPython.json\n",
      "../data/rg3d.json\n",
      "../data/rayon.json\n",
      "../data/rustls.json\n",
      "../data/Rocket.json\n",
      "../data/nalgebra.json\n",
      "../data/sccache.json\n"
     ]
    },
    {
     "data": {
      "application/vnd.jupyter.widget-view+json": {
       "model_id": "e7c35f9c1c6c4a1183df6d87dfc600f8",
       "version_major": 2,
       "version_minor": 0
      },
      "text/plain": [
       "  0%|          | 0/10 [00:00<?, ?it/s]"
      ]
     },
     "metadata": {},
     "output_type": "display_data"
    }
   ],
   "source": [
    "PATHS = glob('../data/*.json')\n",
    "CRATES = [os.path.splitext(os.path.basename(path))[0] for path in PATHS]\n",
    "CATEGORIES = {\n",
    "    'mutability_mode': Category([\"DistinguishMut\", \"IgnoreMut\"]),\n",
    "    'context_mode': Category([\"Recurse\", \"SigOnly\"]),\n",
    "    'pointer_mode': Category([\"Conservative\", \"Precise\"]),\n",
    "    'crate': Category(CRATES)\n",
    "}\n",
    "\n",
    "def parse_data(path):\n",
    "    print(path)\n",
    "    if os.stat(path).st_size == 0:\n",
    "        return []\n",
    "    \n",
    "    crate = os.path.splitext(os.path.basename(path))[0]\n",
    "    df = pd.DataFrame(rs_utils.parse_data(path))\n",
    "    df['crate'] = crate\n",
    "    for k, dt in CATEGORIES.items():\n",
    "        df[k] = df[k].astype(dt)\n",
    "    return df\n",
    "\n",
    "\n",
    "all_dfs = par_for(parse_data, PATHS)\n",
    "df = pd.concat(all_dfs).reset_index()\n",
    "del all_dfs\n",
    "\n",
    "df = df[(df.num_relevant_instructions != 0)]\n",
    "df['ins_rel_nonzero'] = df.instructions_relative > 0"
   ]
  },
  {
   "cell_type": "code",
   "execution_count": 7,
   "id": "5c32cdb7",
   "metadata": {
    "ExecuteTime": {
     "end_time": "2021-09-06T01:33:17.456677Z",
     "start_time": "2021-09-06T01:33:16.927664Z"
    }
   },
   "outputs": [
    {
     "data": {
      "text/plain": [
       "14520"
      ]
     },
     "execution_count": 7,
     "metadata": {},
     "output_type": "execute_result"
    }
   ],
   "source": [
    "len(df.function_path.unique())"
   ]
  },
  {
   "cell_type": "code",
   "execution_count": 8,
   "id": "fdb325b6",
   "metadata": {
    "ExecuteTime": {
     "end_time": "2021-09-06T01:33:17.462060Z",
     "start_time": "2021-09-06T01:33:17.458213Z"
    }
   },
   "outputs": [
    {
     "data": {
      "text/plain": [
       "416957.0"
      ]
     },
     "execution_count": 8,
     "metadata": {},
     "output_type": "execute_result"
    }
   ],
   "source": [
    "len(df)/8"
   ]
  },
  {
   "cell_type": "code",
   "execution_count": 9,
   "id": "51ad40e3",
   "metadata": {
    "ExecuteTime": {
     "end_time": "2021-09-06T01:33:17.513737Z",
     "start_time": "2021-09-06T01:33:17.464013Z"
    }
   },
   "outputs": [
    {
     "name": "stderr",
     "output_type": "stream",
     "text": [
      "/raid/wcrichto/rust-slicer-experiments/.env/lib/python3.7/site-packages/pandas/core/arraylike.py:364: RuntimeWarning: divide by zero encountered in log\n",
      "  result = getattr(ufunc, method)(*inputs, **kwargs)\n"
     ]
    }
   ],
   "source": [
    "df['ins_rel_frac_log'] = np.log(df.instructions_relative_frac)"
   ]
  },
  {
   "cell_type": "markdown",
   "id": "9c3953b8",
   "metadata": {},
   "source": [
    "# Dataset summary"
   ]
  },
  {
   "cell_type": "code",
   "execution_count": 10,
   "id": "e152ebf9",
   "metadata": {
    "ExecuteTime": {
     "end_time": "2021-09-06T01:33:17.527711Z",
     "start_time": "2021-09-06T01:33:17.515349Z"
    }
   },
   "outputs": [
    {
     "ename": "NameError",
     "evalue": "name 'df2' is not defined",
     "output_type": "error",
     "traceback": [
      "\u001b[0;31m---------------------------------------------------------------------------\u001b[0m",
      "\u001b[0;31mNameError\u001b[0m                                 Traceback (most recent call last)",
      "\u001b[0;32m/tmp/ipykernel_37818/1142713613.py\u001b[0m in \u001b[0;36m<module>\u001b[0;34m\u001b[0m\n\u001b[1;32m      1\u001b[0m \u001b[0;31m#df2 = df.groupby(['crate', 'function_path']).apply(compute_loc)#.groupby('crate').sum()\u001b[0m\u001b[0;34m\u001b[0m\u001b[0;34m\u001b[0m\u001b[0;34m\u001b[0m\u001b[0m\n\u001b[0;32m----> 2\u001b[0;31m \u001b[0mg\u001b[0m \u001b[0;34m=\u001b[0m \u001b[0mdf2\u001b[0m\u001b[0;34m.\u001b[0m\u001b[0mreset_index\u001b[0m\u001b[0;34m(\u001b[0m\u001b[0;34m)\u001b[0m\u001b[0;34m.\u001b[0m\u001b[0mgroupby\u001b[0m\u001b[0;34m(\u001b[0m\u001b[0;34m'crate'\u001b[0m\u001b[0;34m)\u001b[0m\u001b[0;34m\u001b[0m\u001b[0;34m\u001b[0m\u001b[0m\n\u001b[0m\u001b[1;32m      3\u001b[0m \u001b[0mout\u001b[0m \u001b[0;34m=\u001b[0m \u001b[0mg\u001b[0m\u001b[0;34m.\u001b[0m\u001b[0msum\u001b[0m\u001b[0;34m(\u001b[0m\u001b[0;34m)\u001b[0m\u001b[0;34m\u001b[0m\u001b[0;34m\u001b[0m\u001b[0m\n\u001b[1;32m      4\u001b[0m \u001b[0mout\u001b[0m\u001b[0;34m[\u001b[0m\u001b[0;34m'size'\u001b[0m\u001b[0;34m]\u001b[0m \u001b[0;34m=\u001b[0m \u001b[0mg\u001b[0m\u001b[0;34m.\u001b[0m\u001b[0msize\u001b[0m\u001b[0;34m(\u001b[0m\u001b[0;34m)\u001b[0m\u001b[0;34m\u001b[0m\u001b[0;34m\u001b[0m\u001b[0m\n\u001b[1;32m      5\u001b[0m \u001b[0mout\u001b[0m\u001b[0;34m\u001b[0m\u001b[0;34m\u001b[0m\u001b[0m\n",
      "\u001b[0;31mNameError\u001b[0m: name 'df2' is not defined"
     ]
    }
   ],
   "source": [
    "#df2 = df.groupby(['crate', 'function_path']).apply(compute_loc)#.groupby('crate').sum()\n",
    "g = df2.reset_index().groupby('crate')\n",
    "out = g.sum()\n",
    "out['size'] = g.size()\n",
    "out"
   ]
  },
  {
   "cell_type": "markdown",
   "id": "611769dc",
   "metadata": {},
   "source": [
    "## Execution time"
   ]
  },
  {
   "cell_type": "code",
   "execution_count": null,
   "id": "c43f0df1",
   "metadata": {
    "ExecuteTime": {
     "end_time": "2021-09-06T01:33:17.529703Z",
     "start_time": "2021-09-06T01:33:17.529685Z"
    }
   },
   "outputs": [],
   "source": [
    "df2 = cond(df, m='DistinguishMut', c='SigOnly', p='Precise')\n",
    "print(df2.duration.max(), df2.duration.median() * 100000)\n"
   ]
  },
  {
   "cell_type": "code",
   "execution_count": null,
   "id": "14c648a9",
   "metadata": {
    "ExecuteTime": {
     "end_time": "2021-09-06T01:33:17.530828Z",
     "start_time": "2021-09-06T01:33:17.530812Z"
    }
   },
   "outputs": [],
   "source": [
    "df2 = cond(df, m='IgnoreMut', c='Recurse', p='Conservative')\n",
    "print(df2.duration.max(), df2.duration.median() * 100000)"
   ]
  },
  {
   "cell_type": "markdown",
   "id": "6b074b64",
   "metadata": {},
   "source": [
    "## Number of instructions"
   ]
  },
  {
   "cell_type": "code",
   "execution_count": null,
   "id": "6c0c0b5e",
   "metadata": {
    "ExecuteTime": {
     "end_time": "2021-09-06T01:33:17.531886Z",
     "start_time": "2021-09-06T01:33:17.531869Z"
    }
   },
   "outputs": [],
   "source": [
    "ax = sns.histplot(df.num_instructions)\n",
    "# ax.set_xscale('log')"
   ]
  },
  {
   "cell_type": "code",
   "execution_count": null,
   "id": "458e2b22",
   "metadata": {
    "ExecuteTime": {
     "end_time": "2021-09-06T01:33:17.532971Z",
     "start_time": "2021-09-06T01:33:17.532955Z"
    }
   },
   "outputs": [],
   "source": [
    "df_big = df[df.num_instructions >= 1000]\n",
    "len(df_big) / len(df)"
   ]
  },
  {
   "cell_type": "markdown",
   "id": "2939e437",
   "metadata": {},
   "source": [
    "# Slice size analysis"
   ]
  },
  {
   "cell_type": "code",
   "execution_count": null,
   "id": "e54717a2",
   "metadata": {
    "ExecuteTime": {
     "end_time": "2021-09-06T01:33:17.534097Z",
     "start_time": "2021-09-06T01:33:17.534080Z"
    }
   },
   "outputs": [],
   "source": [
    "def plot_ins(data, xscale='linear', yscale='linear', field='instructions_relative_frac', nz=True, ax=None, **kwargs):\n",
    "    if xscale == 'log':\n",
    "        df_plot = data[data.ins_rel_nonzero]\n",
    "        bins = np.logspace(np.log10(0.00001), np.log10(df_plot[field].max()))\n",
    "    elif xscale == 'symlog':\n",
    "        df_plot = data\n",
    "        min_n = df_plot[df_plot[field] > 0][field].min()/10\n",
    "        bins = np.concatenate(([0], np.logspace(np.log10(min_n), np.log10(df_plot[field].max()))))\n",
    "    else:\n",
    "        df_plot = data\n",
    "        n = df_plot.instructions_relative_frac.max()\n",
    "        bins = np.arange(0, n, n / 50)\n",
    "        \n",
    "    ax = sns.histplot(df_plot[field], bins=bins, ax=ax) #element='step')\n",
    "    ax.set_yscale(yscale)\n",
    "    if xscale == 'symlog':\n",
    "        ax.set_xscale(xscale, linthresh=min_n, linscale=0.2)\n",
    "    else:\n",
    "        ax.set_xscale(xscale)\n",
    "        \n",
    "    ax.set_xlabel('\\% diff in slice size' + (', log scale' if 'log' in xscale else ''))\n",
    "    ax.set_ylabel('Count' + (', log scale' if yscale == 'log' else ''))\n",
    "    \n",
    "    if xscale == 'log' and nz:\n",
    "        n = data[data.ins_rel_nonzero][field].min() / 10\n",
    "        ax.bar(n, len(data[~data.ins_rel_nonzero]), color='r', width=[n])\n",
    "    elif xscale == 'symlog':\n",
    "        ax.set_xlim(0)\n",
    "        xticks = ax.get_xticks()\n",
    "        ax.set_xticks(np.concatenate((xticks[0:1], xticks[3:])))\n",
    "        \n",
    "plot_ins_nz = lambda *args, **kwargs: plot_ins(*args, xscale='log', yscale='linear', nz=False, **kwargs)\n",
    "plot_ins_abs = lambda *args, **kwargs: plot_ins(*args, field='instructions_relative', **kwargs)\n",
    "\n",
    "# plot_ins(df, 'symlog', 'log')"
   ]
  },
  {
   "cell_type": "code",
   "execution_count": null,
   "id": "32a8577c",
   "metadata": {
    "ExecuteTime": {
     "end_time": "2021-09-06T01:33:17.535200Z",
     "start_time": "2021-09-06T01:33:17.535184Z"
    }
   },
   "outputs": [],
   "source": [
    "from matplotlib import rc\n",
    "rc('font',**{'family':'serif','serif':['Linux Libertine O']})\n",
    "rc('text', **{'usetex': True, 'latex.preamble': r'\\usepackage{libertine}\\usepackage[libertine]{newtxmath}'})\n",
    "\n",
    "df2 = cond(df, c='SigOnly', m='DistinguishMut', p='Precise')\n",
    "fig, [ax1, ax2, ax3] = plt.subplots(1, 3, figsize=(9, 2.5))\n",
    "plot_ins(df2, ax=ax1)\n",
    "ax1.set_title('\\\\textsc{x-linear / y-linear}')\n",
    "ax1.set_yticklabels(['0', '$2 \\cdot 10^6$', '$4 \\cdot 10^6$'])\n",
    "# plot_ins(cond(df, c='SigOnly', m='DistinguishMut', p='Precise'), yscale='log', ax=ax2)\n",
    "# ax2.set_title('\\\\textsc{x-linear / y-log}')\n",
    "plot_ins(df2, xscale='symlog', yscale='log', ax=ax2)\n",
    "ax2.set_title('\\\\textsc{x-log / y-log}')\n",
    "plot_ins(df2, xscale='log', nz=False, ax=ax3)\n",
    "ax3.set_title('\\\\textsc{x-log / y-linear (no zeros)}')\n",
    "ax3.set_xticks([10e-6, 10e-4, 10e-2, 10e-0, 10e2])\n",
    "# fig.suptitle('Distribution of slice \\%diff for SigOnly vs. Recurse')\n",
    "fig.tight_layout()\n",
    "fig.savefig('eval-recurse-dist.pdf')"
   ]
  },
  {
   "cell_type": "code",
   "execution_count": null,
   "id": "45b83a72",
   "metadata": {
    "ExecuteTime": {
     "end_time": "2021-09-06T01:33:17.536288Z",
     "start_time": "2021-09-06T01:33:17.536272Z"
    }
   },
   "outputs": [],
   "source": [
    "fig, [ax1, ax2, ax3] = plt.subplots(1, 3, figsize=(9, 2.5), sharey=True)\n",
    "\n",
    "plot_ins(cond(df, c='SigOnly', m='DistinguishMut', p='Precise'), xscale='log', nz=False, ax=ax1)\n",
    "ax1.set_title('\\\\textsc{Baseline} vs. \\\\textsc{Whole-program}')\n",
    "plot_ins(cond(df, c='SigOnly', m='IgnoreMut', p='Precise'), field='instructions_relative_base_frac', \n",
    "         xscale='log', nz=False, ax=ax2)\n",
    "ax2.set_title('\\\\textsc{Mut-blind} vs. \\\\textsc{Baseline}')\n",
    "plot_ins(cond(df, c='SigOnly', m='DistinguishMut', p='Conservative'), field='instructions_relative_base_frac', \n",
    "         xscale='log', nz=False, ax=ax3)\n",
    "ax3.set_title('\\\\textsc{Pointer-blind} vs. \\\\textsc{Baseline}')\n",
    "\n",
    "ax1.set_xlabel('')\n",
    "ax3.set_xlabel('')\n",
    "\n",
    "fig.tight_layout()\n",
    "\n",
    "fig.savefig('eval-all-dist.pdf')"
   ]
  },
  {
   "cell_type": "code",
   "execution_count": null,
   "id": "134afd94",
   "metadata": {
    "ExecuteTime": {
     "end_time": "2021-09-06T01:33:17.537309Z",
     "start_time": "2021-09-06T01:33:17.537292Z"
    }
   },
   "outputs": [],
   "source": [
    "df2 = cond(df, c='SigOnly', m='IgnoreMut', p='Precise')\n",
    "g = df2[df2.instructions_relative_base_frac > 0].groupby('crate').size().rename('nz')\n",
    "g2 = pd.concat([\n",
    "    g, \n",
    "    df2.groupby('crate').size().rename('total'), \n",
    "    df2.groupby('crate').num_instructions.median().rename('avg_ins')], axis=1)\n",
    "g2['frac'] = g2.nz / g2.total\n",
    "g2.sort_values('frac')"
   ]
  },
  {
   "cell_type": "code",
   "execution_count": null,
   "id": "375dbdc6",
   "metadata": {
    "ExecuteTime": {
     "end_time": "2021-09-06T01:33:17.538540Z",
     "start_time": "2021-09-06T01:33:17.538523Z"
    }
   },
   "outputs": [],
   "source": [
    "g = sns.FacetGrid(data=cond(df, c='SigOnly', m='IgnoreMut', p='Precise'), \n",
    "                  col='crate', col_wrap=5, sharex=False, height=2.5, aspect=0.9)\n",
    "g.map_dataframe(plot_ins, xscale='log', nz=False, field='instructions_relative_base_frac')\n",
    "g.set_titles('\\\\textsc{{{col_name}}}')\n",
    "g.fig.supylabel('Count')\n",
    "g.fig.supxlabel('\\% diff in slice size, log scale')\n",
    "g.fig.tight_layout()\n",
    "g.fig.savefig('eval-crates.pdf')"
   ]
  },
  {
   "cell_type": "code",
   "execution_count": null,
   "id": "9df2986b",
   "metadata": {
    "ExecuteTime": {
     "end_time": "2021-09-06T01:33:17.539620Z",
     "start_time": "2021-09-06T01:33:17.539604Z"
    }
   },
   "outputs": [],
   "source": [
    "from scipy.stats.mstats import gmean\n",
    "\n",
    "df2 = cond(df, c='SigOnly', m='IgnoreMut', p='Precise')\n",
    "nz = df2[df2.instructions_relative_base_frac > 0]\n",
    "print(len(nz) / len(df2), gmean(nz.instructions_relative_base_frac))"
   ]
  },
  {
   "cell_type": "code",
   "execution_count": null,
   "id": "342db9d8",
   "metadata": {
    "ExecuteTime": {
     "end_time": "2021-09-06T01:33:17.540759Z",
     "start_time": "2021-09-06T01:33:17.540742Z"
    }
   },
   "outputs": [],
   "source": [
    "df2 = cond(df, c='SigOnly', m='DistinguishMut', p='Conservative')\n",
    "nz = df2[df2.instructions_relative_base_frac > 0]\n",
    "print(len(nz) / len(df2), gmean(nz.instructions_relative_base_frac))"
   ]
  },
  {
   "cell_type": "code",
   "execution_count": null,
   "id": "f8f64c7d",
   "metadata": {
    "ExecuteTime": {
     "end_time": "2021-09-06T01:33:17.541882Z",
     "start_time": "2021-09-06T01:33:17.541866Z"
    }
   },
   "outputs": [],
   "source": [
    "cond(df, c='Recurse', m='DistinguishMut', p='Precise').groupby('reached_library').num_instructions.describe()"
   ]
  },
  {
   "cell_type": "code",
   "execution_count": null,
   "id": "7d204bc6",
   "metadata": {
    "ExecuteTime": {
     "end_time": "2021-09-06T01:33:17.542898Z",
     "start_time": "2021-09-06T01:33:17.542882Z"
    }
   },
   "outputs": [],
   "source": [
    "140427 / (140427 + 276530)"
   ]
  },
  {
   "cell_type": "code",
   "execution_count": null,
   "id": "6add363f",
   "metadata": {
    "ExecuteTime": {
     "end_time": "2021-09-06T01:33:17.543874Z",
     "start_time": "2021-09-06T01:33:17.543858Z"
    }
   },
   "outputs": [],
   "source": [
    "cond(df, c='SigOnly', m='DistinguishMut', p='Precise').groupby(['reached_library', 'ins_rel_nonzero']) \\\n",
    "    .instructions_relative_frac.describe()[['count', 'mean', '50%']]"
   ]
  },
  {
   "cell_type": "code",
   "execution_count": null,
   "id": "4d567954",
   "metadata": {
    "ExecuteTime": {
     "end_time": "2021-09-06T01:33:17.547421Z",
     "start_time": "2021-09-06T01:33:17.547403Z"
    }
   },
   "outputs": [],
   "source": [
    "print(732 / 139695)\n",
    "print(18267.0 / 258263.0)"
   ]
  },
  {
   "cell_type": "code",
   "execution_count": null,
   "id": "4f99b83d",
   "metadata": {
    "ExecuteTime": {
     "end_time": "2021-09-06T01:33:17.548615Z",
     "start_time": "2021-09-06T01:33:17.548599Z"
    }
   },
   "outputs": [],
   "source": [
    "# df2 = cond(df, c='SigOnly', m='DistinguishMut', p='Precise')\n",
    "# df3 = df2.groupby(['crate', 'function_path']) \\\n",
    "#     .apply(lambda df: df.iloc[0]).reset_index(drop=True)\n",
    "num_slices = df2.groupby(['crate']).size().rename('num_slices')\n",
    "avg_ins_per_func = df3.groupby('crate').num_instructions.mean() \\\n",
    "    .rename('avg_ins_per_func')\n",
    "num_funcs = df2.groupby(['crate']).size().rename('num_funcs')\n",
    "\n",
    "q = df2.groupby(['crate', 'function_path']).size()\n",
    "avg_slices_per_func = q[q > 0] \\\n",
    "    .groupby('crate').mean().rename('avg_slices_per_func')\n",
    "pd.concat(\n",
    "    [num_slices, avg_ins_per_func, num_funcs, avg_slices_per_func], \n",
    "    axis=1).sort_values('num_slices')"
   ]
  }
 ],
 "metadata": {
  "kernelspec": {
   "display_name": "Python 3 (ipykernel)",
   "language": "python",
   "name": "python3"
  },
  "language_info": {
   "codemirror_mode": {
    "name": "ipython",
    "version": 3
   },
   "file_extension": ".py",
   "mimetype": "text/x-python",
   "name": "python",
   "nbconvert_exporter": "python",
   "pygments_lexer": "ipython3",
   "version": "3.7.2"
  },
  "toc": {
   "base_numbering": 1,
   "nav_menu": {},
   "number_sections": true,
   "sideBar": true,
   "skip_h1_title": false,
   "title_cell": "Table of Contents",
   "title_sidebar": "Contents",
   "toc_cell": false,
   "toc_position": {},
   "toc_section_display": true,
   "toc_window_display": false
  },
  "varInspector": {
   "cols": {
    "lenName": 16,
    "lenType": 16,
    "lenVar": 40
   },
   "kernels_config": {
    "python": {
     "delete_cmd_postfix": "",
     "delete_cmd_prefix": "del ",
     "library": "var_list.py",
     "varRefreshCmd": "print(var_dic_list())"
    },
    "r": {
     "delete_cmd_postfix": ") ",
     "delete_cmd_prefix": "rm(",
     "library": "var_list.r",
     "varRefreshCmd": "cat(var_dic_list()) "
    }
   },
   "types_to_exclude": [
    "module",
    "function",
    "builtin_function_or_method",
    "instance",
    "_Feature"
   ],
   "window_display": false
  }
 },
 "nbformat": 4,
 "nbformat_minor": 5
}
