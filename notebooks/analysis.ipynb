{
 "cells": [
  {
   "cell_type": "code",
   "execution_count": 8,
   "id": "protected-value",
   "metadata": {
    "ExecuteTime": {
     "end_time": "2021-10-07T19:09:49.567353Z",
     "start_time": "2021-10-07T19:09:49.562759Z"
    }
   },
   "outputs": [],
   "source": [
    "import pandas as pd\n",
    "from pandas.api.types import CategoricalDtype as Category\n",
    "import matplotlib.pyplot as plt\n",
    "from glob import glob\n",
    "import seaborn as sns\n",
    "import numpy as np\n",
    "from iterextras import par_for\n",
    "import subprocess as sp\n",
    "import os\n",
    "import itertools\n",
    "from tqdm.auto import tqdm\n",
    "import rs_utils\n",
    "\n",
    "sns.set()"
   ]
  },
  {
   "cell_type": "code",
   "execution_count": 9,
   "id": "905c65b5",
   "metadata": {
    "ExecuteTime": {
     "end_time": "2021-10-07T19:09:49.572734Z",
     "start_time": "2021-10-07T19:09:49.569149Z"
    }
   },
   "outputs": [],
   "source": [
    "def cond(df, m=None, c=None, p=None):\n",
    "    if m is not None:\n",
    "        df = df[df.mutability_mode == m]\n",
    "    if c is not None:\n",
    "        df = df[df.context_mode == c]\n",
    "    if p is not None:\n",
    "        df = df[df.pointer_mode == p]\n",
    "    return df"
   ]
  },
  {
   "cell_type": "code",
   "execution_count": 10,
   "id": "hidden-chambers",
   "metadata": {
    "ExecuteTime": {
     "end_time": "2021-10-07T19:11:30.571702Z",
     "start_time": "2021-10-07T19:09:49.574311Z"
    }
   },
   "outputs": [
    {
     "name": "stdout",
     "output_type": "stream",
     "text": [
      "../data/hyper.json../data/image.json\n",
      "\n",
      "../data/RustPython.json\n",
      "../data/rg3d.json\n",
      "../data/rayon.json\n",
      "../data/rustls.json\n",
      "../data/Rocket.json\n",
      "../data/nalgebra.json\n",
      "../data/sccache.json\n"
     ]
    },
    {
     "data": {
      "application/vnd.jupyter.widget-view+json": {
       "model_id": "6428224ab06a4124b9725aa9e2889517",
       "version_major": 2,
       "version_minor": 0
      },
      "text/plain": [
       "  0%|          | 0/9 [00:00<?, ?it/s]"
      ]
     },
     "metadata": {},
     "output_type": "display_data"
    }
   ],
   "source": [
    "PATHS = glob('../data/*.json')\n",
    "CRATES = [os.path.splitext(os.path.basename(path))[0] for path in PATHS]\n",
    "CATEGORIES = {\n",
    "    'mutability_mode': Category([\"DistinguishMut\", \"IgnoreMut\"]),\n",
    "    'context_mode': Category([\"Recurse\", \"SigOnly\"]),\n",
    "    'pointer_mode': Category([\"Conservative\", \"Precise\"]),\n",
    "    'crate': Category(CRATES)\n",
    "}\n",
    "\n",
    "def parse_data(path):\n",
    "    print(path)\n",
    "    if os.stat(path).st_size == 0:\n",
    "        return []\n",
    "    \n",
    "    crate = os.path.splitext(os.path.basename(path))[0]\n",
    "    df = pd.DataFrame(rs_utils.parse_data(path))\n",
    "    df['crate'] = crate\n",
    "    for k, dt in CATEGORIES.items():\n",
    "        df[k] = df[k].astype(dt)\n",
    "    return df\n",
    "\n",
    "\n",
    "all_dfs = par_for(parse_data, PATHS)\n",
    "df = pd.concat(all_dfs).reset_index()\n",
    "del all_dfs\n",
    "\n",
    "# df = df[(df.num_relevant_instructions != 0)]\n",
    "df['ins_rel_nonzero'] = df.instructions_relative > 0"
   ]
  },
  {
   "cell_type": "code",
   "execution_count": 11,
   "id": "5c32cdb7",
   "metadata": {
    "ExecuteTime": {
     "end_time": "2021-10-07T19:11:30.927724Z",
     "start_time": "2021-10-07T19:11:30.574125Z"
    }
   },
   "outputs": [
    {
     "data": {
      "text/plain": [
       "13765"
      ]
     },
     "execution_count": 11,
     "metadata": {},
     "output_type": "execute_result"
    }
   ],
   "source": [
    "len(df.function_path.unique())"
   ]
  },
  {
   "cell_type": "code",
   "execution_count": 12,
   "id": "fdb325b6",
   "metadata": {
    "ExecuteTime": {
     "end_time": "2021-10-07T19:11:30.932999Z",
     "start_time": "2021-10-07T19:11:30.929208Z"
    }
   },
   "outputs": [
    {
     "data": {
      "text/plain": [
       "349380.0"
      ]
     },
     "execution_count": 12,
     "metadata": {},
     "output_type": "execute_result"
    }
   ],
   "source": [
    "len(df)/8"
   ]
  },
  {
   "cell_type": "code",
   "execution_count": 13,
   "id": "51ad40e3",
   "metadata": {
    "ExecuteTime": {
     "end_time": "2021-10-07T19:11:30.973022Z",
     "start_time": "2021-10-07T19:11:30.934326Z"
    }
   },
   "outputs": [
    {
     "name": "stderr",
     "output_type": "stream",
     "text": [
      "/raid/wcrichto/flowistry-experiments/.env/lib/python3.7/site-packages/pandas/core/arraylike.py:364: RuntimeWarning: divide by zero encountered in log\n",
      "  result = getattr(ufunc, method)(*inputs, **kwargs)\n"
     ]
    }
   ],
   "source": [
    "df['ins_rel_frac_log'] = np.log(df.instructions_relative_frac)"
   ]
  },
  {
   "cell_type": "code",
   "execution_count": 25,
   "id": "5ae791dd",
   "metadata": {
    "ExecuteTime": {
     "end_time": "2021-10-07T19:15:35.732229Z",
     "start_time": "2021-10-07T19:15:35.277073Z"
    }
   },
   "outputs": [
    {
     "data": {
      "text/plain": [
       "('nalgebra[aca9]::linalg::cholesky::{impl#2}::xx_rank_one_update', 110)"
      ]
     },
     "execution_count": 25,
     "metadata": {},
     "output_type": "execute_result"
    }
   ],
   "source": [
    "df2 = cond(df, m='DistinguishMut', c='Recurse', p='Precise')\n",
    "row = df2[df2.instructions_relative_frac > 0].iloc[0]\n",
    "(row.function_path, row.sliced_local)"
   ]
  },
  {
   "cell_type": "code",
   "execution_count": 26,
   "id": "8d26fc74",
   "metadata": {
    "ExecuteTime": {
     "end_time": "2021-10-07T19:15:56.595656Z",
     "start_time": "2021-10-07T19:15:56.406137Z"
    }
   },
   "outputs": [
    {
     "data": {
      "text/html": [
       "<div>\n",
       "<style scoped>\n",
       "    .dataframe tbody tr th:only-of-type {\n",
       "        vertical-align: middle;\n",
       "    }\n",
       "\n",
       "    .dataframe tbody tr th {\n",
       "        vertical-align: top;\n",
       "    }\n",
       "\n",
       "    .dataframe thead th {\n",
       "        text-align: right;\n",
       "    }\n",
       "</style>\n",
       "<table border=\"1\" class=\"dataframe\">\n",
       "  <thead>\n",
       "    <tr style=\"text-align: right;\">\n",
       "      <th></th>\n",
       "      <th>index</th>\n",
       "      <th>mutability_mode</th>\n",
       "      <th>context_mode</th>\n",
       "      <th>pointer_mode</th>\n",
       "      <th>sliced_local</th>\n",
       "      <th>function_range</th>\n",
       "      <th>function_path</th>\n",
       "      <th>num_instructions</th>\n",
       "      <th>num_relevant_instructions</th>\n",
       "      <th>duration</th>\n",
       "      <th>...</th>\n",
       "      <th>has_same_type_ptrs_in_input</th>\n",
       "      <th>reached_library</th>\n",
       "      <th>instructions_relative</th>\n",
       "      <th>instructions_relative_frac</th>\n",
       "      <th>instructions_relative_base</th>\n",
       "      <th>instructions_relative_base_frac</th>\n",
       "      <th>baseline_reached_library</th>\n",
       "      <th>crate</th>\n",
       "      <th>ins_rel_nonzero</th>\n",
       "      <th>ins_rel_frac_log</th>\n",
       "    </tr>\n",
       "  </thead>\n",
       "  <tbody>\n",
       "    <tr>\n",
       "      <th>2473888</th>\n",
       "      <td>173832</td>\n",
       "      <td>DistinguishMut</td>\n",
       "      <td>Recurse</td>\n",
       "      <td>Precise</td>\n",
       "      <td>110</td>\n",
       "      <td>{'start': 12481, 'end': 14368, 'filename': 'sr...</td>\n",
       "      <td>nalgebra[aca9]::linalg::cholesky::{impl#2}::xx...</td>\n",
       "      <td>169</td>\n",
       "      <td>52</td>\n",
       "      <td>0.000011</td>\n",
       "      <td>...</td>\n",
       "      <td>False</td>\n",
       "      <td>False</td>\n",
       "      <td>30</td>\n",
       "      <td>1.363636</td>\n",
       "      <td>30</td>\n",
       "      <td>1.363636</td>\n",
       "      <td>False</td>\n",
       "      <td>nalgebra</td>\n",
       "      <td>True</td>\n",
       "      <td>0.310155</td>\n",
       "    </tr>\n",
       "    <tr>\n",
       "      <th>2473889</th>\n",
       "      <td>173833</td>\n",
       "      <td>DistinguishMut</td>\n",
       "      <td>Recurse</td>\n",
       "      <td>Conservative</td>\n",
       "      <td>110</td>\n",
       "      <td>{'start': 12481, 'end': 14368, 'filename': 'sr...</td>\n",
       "      <td>nalgebra[aca9]::linalg::cholesky::{impl#2}::xx...</td>\n",
       "      <td>169</td>\n",
       "      <td>55</td>\n",
       "      <td>0.000009</td>\n",
       "      <td>...</td>\n",
       "      <td>False</td>\n",
       "      <td>False</td>\n",
       "      <td>33</td>\n",
       "      <td>1.500000</td>\n",
       "      <td>33</td>\n",
       "      <td>1.500000</td>\n",
       "      <td>False</td>\n",
       "      <td>nalgebra</td>\n",
       "      <td>True</td>\n",
       "      <td>0.405465</td>\n",
       "    </tr>\n",
       "    <tr>\n",
       "      <th>2473890</th>\n",
       "      <td>173834</td>\n",
       "      <td>DistinguishMut</td>\n",
       "      <td>SigOnly</td>\n",
       "      <td>Precise</td>\n",
       "      <td>110</td>\n",
       "      <td>{'start': 12481, 'end': 14368, 'filename': 'sr...</td>\n",
       "      <td>nalgebra[aca9]::linalg::cholesky::{impl#2}::xx...</td>\n",
       "      <td>169</td>\n",
       "      <td>22</td>\n",
       "      <td>0.001180</td>\n",
       "      <td>...</td>\n",
       "      <td>False</td>\n",
       "      <td>False</td>\n",
       "      <td>0</td>\n",
       "      <td>0.000000</td>\n",
       "      <td>0</td>\n",
       "      <td>0.000000</td>\n",
       "      <td>False</td>\n",
       "      <td>nalgebra</td>\n",
       "      <td>False</td>\n",
       "      <td>-inf</td>\n",
       "    </tr>\n",
       "    <tr>\n",
       "      <th>2473891</th>\n",
       "      <td>173835</td>\n",
       "      <td>DistinguishMut</td>\n",
       "      <td>SigOnly</td>\n",
       "      <td>Conservative</td>\n",
       "      <td>110</td>\n",
       "      <td>{'start': 12481, 'end': 14368, 'filename': 'sr...</td>\n",
       "      <td>nalgebra[aca9]::linalg::cholesky::{impl#2}::xx...</td>\n",
       "      <td>169</td>\n",
       "      <td>67</td>\n",
       "      <td>0.001324</td>\n",
       "      <td>...</td>\n",
       "      <td>False</td>\n",
       "      <td>False</td>\n",
       "      <td>45</td>\n",
       "      <td>2.045455</td>\n",
       "      <td>45</td>\n",
       "      <td>2.045455</td>\n",
       "      <td>False</td>\n",
       "      <td>nalgebra</td>\n",
       "      <td>True</td>\n",
       "      <td>0.715620</td>\n",
       "    </tr>\n",
       "    <tr>\n",
       "      <th>2473892</th>\n",
       "      <td>173836</td>\n",
       "      <td>IgnoreMut</td>\n",
       "      <td>Recurse</td>\n",
       "      <td>Precise</td>\n",
       "      <td>110</td>\n",
       "      <td>{'start': 12481, 'end': 14368, 'filename': 'sr...</td>\n",
       "      <td>nalgebra[aca9]::linalg::cholesky::{impl#2}::xx...</td>\n",
       "      <td>169</td>\n",
       "      <td>52</td>\n",
       "      <td>0.000009</td>\n",
       "      <td>...</td>\n",
       "      <td>False</td>\n",
       "      <td>False</td>\n",
       "      <td>30</td>\n",
       "      <td>1.363636</td>\n",
       "      <td>30</td>\n",
       "      <td>1.363636</td>\n",
       "      <td>False</td>\n",
       "      <td>nalgebra</td>\n",
       "      <td>True</td>\n",
       "      <td>0.310155</td>\n",
       "    </tr>\n",
       "    <tr>\n",
       "      <th>2473893</th>\n",
       "      <td>173837</td>\n",
       "      <td>IgnoreMut</td>\n",
       "      <td>Recurse</td>\n",
       "      <td>Conservative</td>\n",
       "      <td>110</td>\n",
       "      <td>{'start': 12481, 'end': 14368, 'filename': 'sr...</td>\n",
       "      <td>nalgebra[aca9]::linalg::cholesky::{impl#2}::xx...</td>\n",
       "      <td>169</td>\n",
       "      <td>69</td>\n",
       "      <td>0.000008</td>\n",
       "      <td>...</td>\n",
       "      <td>False</td>\n",
       "      <td>False</td>\n",
       "      <td>47</td>\n",
       "      <td>2.136364</td>\n",
       "      <td>47</td>\n",
       "      <td>2.136364</td>\n",
       "      <td>False</td>\n",
       "      <td>nalgebra</td>\n",
       "      <td>True</td>\n",
       "      <td>0.759105</td>\n",
       "    </tr>\n",
       "    <tr>\n",
       "      <th>2473894</th>\n",
       "      <td>173838</td>\n",
       "      <td>IgnoreMut</td>\n",
       "      <td>SigOnly</td>\n",
       "      <td>Precise</td>\n",
       "      <td>110</td>\n",
       "      <td>{'start': 12481, 'end': 14368, 'filename': 'sr...</td>\n",
       "      <td>nalgebra[aca9]::linalg::cholesky::{impl#2}::xx...</td>\n",
       "      <td>169</td>\n",
       "      <td>25</td>\n",
       "      <td>0.001252</td>\n",
       "      <td>...</td>\n",
       "      <td>False</td>\n",
       "      <td>False</td>\n",
       "      <td>3</td>\n",
       "      <td>0.136364</td>\n",
       "      <td>3</td>\n",
       "      <td>0.136364</td>\n",
       "      <td>False</td>\n",
       "      <td>nalgebra</td>\n",
       "      <td>True</td>\n",
       "      <td>-1.992430</td>\n",
       "    </tr>\n",
       "    <tr>\n",
       "      <th>2473895</th>\n",
       "      <td>173839</td>\n",
       "      <td>IgnoreMut</td>\n",
       "      <td>SigOnly</td>\n",
       "      <td>Conservative</td>\n",
       "      <td>110</td>\n",
       "      <td>{'start': 12481, 'end': 14368, 'filename': 'sr...</td>\n",
       "      <td>nalgebra[aca9]::linalg::cholesky::{impl#2}::xx...</td>\n",
       "      <td>169</td>\n",
       "      <td>78</td>\n",
       "      <td>0.001353</td>\n",
       "      <td>...</td>\n",
       "      <td>False</td>\n",
       "      <td>False</td>\n",
       "      <td>56</td>\n",
       "      <td>2.545455</td>\n",
       "      <td>56</td>\n",
       "      <td>2.545455</td>\n",
       "      <td>False</td>\n",
       "      <td>nalgebra</td>\n",
       "      <td>True</td>\n",
       "      <td>0.934309</td>\n",
       "    </tr>\n",
       "  </tbody>\n",
       "</table>\n",
       "<p>8 rows × 22 columns</p>\n",
       "</div>"
      ],
      "text/plain": [
       "          index mutability_mode context_mode  pointer_mode  sliced_local  \\\n",
       "2473888  173832  DistinguishMut      Recurse       Precise           110   \n",
       "2473889  173833  DistinguishMut      Recurse  Conservative           110   \n",
       "2473890  173834  DistinguishMut      SigOnly       Precise           110   \n",
       "2473891  173835  DistinguishMut      SigOnly  Conservative           110   \n",
       "2473892  173836       IgnoreMut      Recurse       Precise           110   \n",
       "2473893  173837       IgnoreMut      Recurse  Conservative           110   \n",
       "2473894  173838       IgnoreMut      SigOnly       Precise           110   \n",
       "2473895  173839       IgnoreMut      SigOnly  Conservative           110   \n",
       "\n",
       "                                            function_range  \\\n",
       "2473888  {'start': 12481, 'end': 14368, 'filename': 'sr...   \n",
       "2473889  {'start': 12481, 'end': 14368, 'filename': 'sr...   \n",
       "2473890  {'start': 12481, 'end': 14368, 'filename': 'sr...   \n",
       "2473891  {'start': 12481, 'end': 14368, 'filename': 'sr...   \n",
       "2473892  {'start': 12481, 'end': 14368, 'filename': 'sr...   \n",
       "2473893  {'start': 12481, 'end': 14368, 'filename': 'sr...   \n",
       "2473894  {'start': 12481, 'end': 14368, 'filename': 'sr...   \n",
       "2473895  {'start': 12481, 'end': 14368, 'filename': 'sr...   \n",
       "\n",
       "                                             function_path  num_instructions  \\\n",
       "2473888  nalgebra[aca9]::linalg::cholesky::{impl#2}::xx...               169   \n",
       "2473889  nalgebra[aca9]::linalg::cholesky::{impl#2}::xx...               169   \n",
       "2473890  nalgebra[aca9]::linalg::cholesky::{impl#2}::xx...               169   \n",
       "2473891  nalgebra[aca9]::linalg::cholesky::{impl#2}::xx...               169   \n",
       "2473892  nalgebra[aca9]::linalg::cholesky::{impl#2}::xx...               169   \n",
       "2473893  nalgebra[aca9]::linalg::cholesky::{impl#2}::xx...               169   \n",
       "2473894  nalgebra[aca9]::linalg::cholesky::{impl#2}::xx...               169   \n",
       "2473895  nalgebra[aca9]::linalg::cholesky::{impl#2}::xx...               169   \n",
       "\n",
       "         num_relevant_instructions  duration  ...  \\\n",
       "2473888                         52  0.000011  ...   \n",
       "2473889                         55  0.000009  ...   \n",
       "2473890                         22  0.001180  ...   \n",
       "2473891                         67  0.001324  ...   \n",
       "2473892                         52  0.000009  ...   \n",
       "2473893                         69  0.000008  ...   \n",
       "2473894                         25  0.001252  ...   \n",
       "2473895                         78  0.001353  ...   \n",
       "\n",
       "         has_same_type_ptrs_in_input  reached_library  instructions_relative  \\\n",
       "2473888                        False            False                     30   \n",
       "2473889                        False            False                     33   \n",
       "2473890                        False            False                      0   \n",
       "2473891                        False            False                     45   \n",
       "2473892                        False            False                     30   \n",
       "2473893                        False            False                     47   \n",
       "2473894                        False            False                      3   \n",
       "2473895                        False            False                     56   \n",
       "\n",
       "         instructions_relative_frac  instructions_relative_base  \\\n",
       "2473888                    1.363636                          30   \n",
       "2473889                    1.500000                          33   \n",
       "2473890                    0.000000                           0   \n",
       "2473891                    2.045455                          45   \n",
       "2473892                    1.363636                          30   \n",
       "2473893                    2.136364                          47   \n",
       "2473894                    0.136364                           3   \n",
       "2473895                    2.545455                          56   \n",
       "\n",
       "         instructions_relative_base_frac  baseline_reached_library     crate  \\\n",
       "2473888                         1.363636                     False  nalgebra   \n",
       "2473889                         1.500000                     False  nalgebra   \n",
       "2473890                         0.000000                     False  nalgebra   \n",
       "2473891                         2.045455                     False  nalgebra   \n",
       "2473892                         1.363636                     False  nalgebra   \n",
       "2473893                         2.136364                     False  nalgebra   \n",
       "2473894                         0.136364                     False  nalgebra   \n",
       "2473895                         2.545455                     False  nalgebra   \n",
       "\n",
       "         ins_rel_nonzero ins_rel_frac_log  \n",
       "2473888             True         0.310155  \n",
       "2473889             True         0.405465  \n",
       "2473890            False             -inf  \n",
       "2473891             True         0.715620  \n",
       "2473892             True         0.310155  \n",
       "2473893             True         0.759105  \n",
       "2473894             True        -1.992430  \n",
       "2473895             True         0.934309  \n",
       "\n",
       "[8 rows x 22 columns]"
      ]
     },
     "execution_count": 26,
     "metadata": {},
     "output_type": "execute_result"
    }
   ],
   "source": [
    "df[(df.function_path == 'nalgebra[aca9]::linalg::cholesky::{impl#2}::xx_rank_one_update') & (df.sliced_local == 110)]"
   ]
  },
  {
   "cell_type": "markdown",
   "id": "9c3953b8",
   "metadata": {},
   "source": [
    "# Dataset summary"
   ]
  },
  {
   "cell_type": "code",
   "execution_count": 14,
   "id": "e152ebf9",
   "metadata": {
    "ExecuteTime": {
     "end_time": "2021-10-07T19:11:30.985468Z",
     "start_time": "2021-10-07T19:11:30.974457Z"
    }
   },
   "outputs": [
    {
     "ename": "NameError",
     "evalue": "name 'df2' is not defined",
     "output_type": "error",
     "traceback": [
      "\u001b[0;31m---------------------------------------------------------------------------\u001b[0m",
      "\u001b[0;31mNameError\u001b[0m                                 Traceback (most recent call last)",
      "\u001b[0;32m/tmp/ipykernel_35172/1142713613.py\u001b[0m in \u001b[0;36m<module>\u001b[0;34m\u001b[0m\n\u001b[1;32m      1\u001b[0m \u001b[0;31m#df2 = df.groupby(['crate', 'function_path']).apply(compute_loc)#.groupby('crate').sum()\u001b[0m\u001b[0;34m\u001b[0m\u001b[0;34m\u001b[0m\u001b[0;34m\u001b[0m\u001b[0m\n\u001b[0;32m----> 2\u001b[0;31m \u001b[0mg\u001b[0m \u001b[0;34m=\u001b[0m \u001b[0mdf2\u001b[0m\u001b[0;34m.\u001b[0m\u001b[0mreset_index\u001b[0m\u001b[0;34m(\u001b[0m\u001b[0;34m)\u001b[0m\u001b[0;34m.\u001b[0m\u001b[0mgroupby\u001b[0m\u001b[0;34m(\u001b[0m\u001b[0;34m'crate'\u001b[0m\u001b[0;34m)\u001b[0m\u001b[0;34m\u001b[0m\u001b[0;34m\u001b[0m\u001b[0m\n\u001b[0m\u001b[1;32m      3\u001b[0m \u001b[0mout\u001b[0m \u001b[0;34m=\u001b[0m \u001b[0mg\u001b[0m\u001b[0;34m.\u001b[0m\u001b[0msum\u001b[0m\u001b[0;34m(\u001b[0m\u001b[0;34m)\u001b[0m\u001b[0;34m\u001b[0m\u001b[0;34m\u001b[0m\u001b[0m\n\u001b[1;32m      4\u001b[0m \u001b[0mout\u001b[0m\u001b[0;34m[\u001b[0m\u001b[0;34m'size'\u001b[0m\u001b[0;34m]\u001b[0m \u001b[0;34m=\u001b[0m \u001b[0mg\u001b[0m\u001b[0;34m.\u001b[0m\u001b[0msize\u001b[0m\u001b[0;34m(\u001b[0m\u001b[0;34m)\u001b[0m\u001b[0;34m\u001b[0m\u001b[0;34m\u001b[0m\u001b[0m\n\u001b[1;32m      5\u001b[0m \u001b[0mout\u001b[0m\u001b[0;34m\u001b[0m\u001b[0;34m\u001b[0m\u001b[0m\n",
      "\u001b[0;31mNameError\u001b[0m: name 'df2' is not defined"
     ]
    }
   ],
   "source": [
    "#df2 = df.groupby(['crate', 'function_path']).apply(compute_loc)#.groupby('crate').sum()\n",
    "g = df2.reset_index().groupby('crate')\n",
    "out = g.sum()\n",
    "out['size'] = g.size()\n",
    "out"
   ]
  },
  {
   "cell_type": "markdown",
   "id": "611769dc",
   "metadata": {},
   "source": [
    "## Execution time"
   ]
  },
  {
   "cell_type": "code",
   "execution_count": 15,
   "id": "c43f0df1",
   "metadata": {
    "ExecuteTime": {
     "end_time": "2021-10-07T19:13:19.534138Z",
     "start_time": "2021-10-07T19:13:18.989218Z"
    }
   },
   "outputs": [
    {
     "name": "stdout",
     "output_type": "stream",
     "text": [
      "4.765184637299998 45.149930000000005\n"
     ]
    }
   ],
   "source": [
    "df2 = cond(df, m='DistinguishMut', c='SigOnly', p='Precise')\n",
    "print(df2.duration.max(), df2.duration.median() * 100000)\n"
   ]
  },
  {
   "cell_type": "code",
   "execution_count": 16,
   "id": "14c648a9",
   "metadata": {
    "ExecuteTime": {
     "end_time": "2021-10-07T19:13:19.909107Z",
     "start_time": "2021-10-07T19:13:19.535900Z"
    }
   },
   "outputs": [
    {
     "name": "stdout",
     "output_type": "stream",
     "text": [
      "145.61315227459994 2731.6321900000003\n"
     ]
    }
   ],
   "source": [
    "df2 = cond(df, m='IgnoreMut', c='Recurse', p='Conservative')\n",
    "print(df2.duration.max(), df2.duration.median() * 100000)"
   ]
  },
  {
   "cell_type": "markdown",
   "id": "6b074b64",
   "metadata": {},
   "source": [
    "## Number of instructions"
   ]
  },
  {
   "cell_type": "code",
   "execution_count": null,
   "id": "6c0c0b5e",
   "metadata": {
    "ExecuteTime": {
     "end_time": "2021-10-07T19:11:30.989790Z",
     "start_time": "2021-10-07T19:11:30.989776Z"
    }
   },
   "outputs": [],
   "source": [
    "ax = sns.histplot(df.num_instructions)\n",
    "# ax.set_xscale('log')"
   ]
  },
  {
   "cell_type": "code",
   "execution_count": null,
   "id": "458e2b22",
   "metadata": {
    "ExecuteTime": {
     "end_time": "2021-10-07T19:11:30.991011Z",
     "start_time": "2021-10-07T19:11:30.990981Z"
    }
   },
   "outputs": [],
   "source": [
    "df_big = df[df.num_instructions >= 1000]\n",
    "len(df_big) / len(df)"
   ]
  },
  {
   "cell_type": "markdown",
   "id": "2939e437",
   "metadata": {},
   "source": [
    "# Slice size analysis"
   ]
  },
  {
   "cell_type": "code",
   "execution_count": 17,
   "id": "e54717a2",
   "metadata": {
    "ExecuteTime": {
     "end_time": "2021-10-07T19:13:21.584614Z",
     "start_time": "2021-10-07T19:13:21.575245Z"
    }
   },
   "outputs": [],
   "source": [
    "def plot_ins(data, xscale='linear', yscale='linear', field='instructions_relative_frac', nz=True, ax=None, **kwargs):\n",
    "    if xscale == 'log':\n",
    "        df_plot = data[data.ins_rel_nonzero]\n",
    "        bins = np.logspace(np.log10(0.00001), np.log10(df_plot[field].max()))\n",
    "    elif xscale == 'symlog':\n",
    "        df_plot = data\n",
    "        min_n = df_plot[df_plot[field] > 0][field].min()/10\n",
    "        bins = np.concatenate(([0], np.logspace(np.log10(min_n), np.log10(df_plot[field].max()))))\n",
    "    else:\n",
    "        df_plot = data\n",
    "        n = df_plot.instructions_relative_frac.max()\n",
    "        bins = np.arange(0, n, n / 50)\n",
    "        \n",
    "    ax = sns.histplot(df_plot[field], bins=bins, ax=ax) #element='step')\n",
    "    ax.set_yscale(yscale)\n",
    "    if xscale == 'symlog':\n",
    "        ax.set_xscale(xscale, linthresh=min_n, linscale=0.2)\n",
    "    else:\n",
    "        ax.set_xscale(xscale)\n",
    "        \n",
    "    ax.set_xlabel('\\% diff in slice size' + (', log scale' if 'log' in xscale else ''))\n",
    "    ax.set_ylabel('Count' + (', log scale' if yscale == 'log' else ''))\n",
    "    \n",
    "    if xscale == 'log' and nz:\n",
    "        n = data[data.ins_rel_nonzero][field].min() / 10\n",
    "        ax.bar(n, len(data[~data.ins_rel_nonzero]), color='r', width=[n])\n",
    "    elif xscale == 'symlog':\n",
    "        ax.set_xlim(0)\n",
    "        xticks = ax.get_xticks()\n",
    "        ax.set_xticks(np.concatenate((xticks[0:1], xticks[3:])))\n",
    "        \n",
    "plot_ins_nz = lambda *args, **kwargs: plot_ins(*args, xscale='log', yscale='linear', nz=False, **kwargs)\n",
    "plot_ins_abs = lambda *args, **kwargs: plot_ins(*args, field='instructions_relative', **kwargs)\n",
    "\n",
    "# plot_ins(df, 'symlog', 'log')"
   ]
  },
  {
   "cell_type": "code",
   "execution_count": 18,
   "id": "32a8577c",
   "metadata": {
    "ExecuteTime": {
     "end_time": "2021-10-07T19:13:39.679525Z",
     "start_time": "2021-10-07T19:13:22.259416Z"
    }
   },
   "outputs": [
    {
     "name": "stderr",
     "output_type": "stream",
     "text": [
      "/raid/wcrichto/flowistry-experiments/.env/lib/python3.7/site-packages/ipykernel_launcher.py:9: UserWarning: FixedFormatter should only be used together with FixedLocator\n",
      "  if __name__ == '__main__':\n"
     ]
    },
    {
     "data": {
      "image/png": "[encoded data removed]",
      "text/plain": [
       "<Figure size 648x180 with 3 Axes>"
      ]
     },
     "metadata": {},
     "output_type": "display_data"
    }
   ],
   "source": [
    "from matplotlib import rc\n",
    "rc('font',**{'family':'serif','serif':['Linux Libertine O']})\n",
    "rc('text', **{'usetex': True, 'latex.preamble': r'\\usepackage{libertine}\\usepackage[libertine]{newtxmath}'})\n",
    "\n",
    "df2 = cond(df, c='SigOnly', m='DistinguishMut', p='Precise')\n",
    "fig, [ax1, ax2, ax3] = plt.subplots(1, 3, figsize=(9, 2.5))\n",
    "plot_ins(df2, ax=ax1)\n",
    "ax1.set_title('\\\\textsc{x-linear / y-linear}')\n",
    "ax1.set_yticklabels(['0', '$2 \\cdot 10^6$', '$4 \\cdot 10^6$'])\n",
    "\n",
    "plot_ins(df2, xscale='symlog', yscale='log', ax=ax2)\n",
    "ax2.set_title('\\\\textsc{x-log / y-log}')\n",
    "plot_ins(df2, xscale='log', nz=False, ax=ax3)\n",
    "ax3.set_title('\\\\textsc{x-log / y-linear (no zeros)}')\n",
    "ax3.set_xticks([10e-6, 10e-4, 10e-2, 10e-0, 10e2])\n",
    "\n",
    "# fig.suptitle('Distribution of slice \\%diff for SigOnly vs. Recurse')\n",
    "fig.tight_layout()\n",
    "fig.savefig('eval-recurse-dist.pdf')"
   ]
  },
  {
   "cell_type": "code",
   "execution_count": 19,
   "id": "45b83a72",
   "metadata": {
    "ExecuteTime": {
     "end_time": "2021-10-07T19:13:51.667700Z",
     "start_time": "2021-10-07T19:13:48.612999Z"
    }
   },
   "outputs": [
    {
     "data": {
      "image/png": "[encoded data removed]",
      "text/plain": [
       "<Figure size 648x180 with 3 Axes>"
      ]
     },
     "metadata": {},
     "output_type": "display_data"
    }
   ],
   "source": [
    "fig, [ax1, ax2, ax3] = plt.subplots(1, 3, figsize=(9, 2.5), sharey=True)\n",
    "\n",
    "plot_ins(cond(df, c='SigOnly', m='DistinguishMut', p='Precise'), xscale='log', nz=False, ax=ax1)\n",
    "ax1.set_title('\\\\textsc{Baseline} vs. \\\\textsc{Whole-program}')\n",
    "plot_ins(cond(df, c='SigOnly', m='IgnoreMut', p='Precise'), field='instructions_relative_base_frac', \n",
    "         xscale='log', nz=False, ax=ax2)\n",
    "ax2.set_title('\\\\textsc{Mut-blind} vs. \\\\textsc{Baseline}')\n",
    "plot_ins(cond(df, c='SigOnly', m='DistinguishMut', p='Conservative'), field='instructions_relative_base_frac', \n",
    "         xscale='log', nz=False, ax=ax3)\n",
    "ax3.set_title('\\\\textsc{Pointer-blind} vs. \\\\textsc{Baseline}')\n",
    "\n",
    "ax1.set_xlabel('')\n",
    "ax3.set_xlabel('')\n",
    "\n",
    "fig.tight_layout()\n",
    "\n",
    "fig.savefig('eval-all-dist.pdf')"
   ]
  },
  {
   "cell_type": "code",
   "execution_count": 20,
   "id": "134afd94",
   "metadata": {
    "ExecuteTime": {
     "end_time": "2021-10-07T19:14:06.717370Z",
     "start_time": "2021-10-07T19:14:06.241162Z"
    }
   },
   "outputs": [
    {
     "data": {
      "text/html": [
       "<div>\n",
       "<style scoped>\n",
       "    .dataframe tbody tr th:only-of-type {\n",
       "        vertical-align: middle;\n",
       "    }\n",
       "\n",
       "    .dataframe tbody tr th {\n",
       "        vertical-align: top;\n",
       "    }\n",
       "\n",
       "    .dataframe thead th {\n",
       "        text-align: right;\n",
       "    }\n",
       "</style>\n",
       "<table border=\"1\" class=\"dataframe\">\n",
       "  <thead>\n",
       "    <tr style=\"text-align: right;\">\n",
       "      <th></th>\n",
       "      <th>nz</th>\n",
       "      <th>total</th>\n",
       "      <th>avg_ins</th>\n",
       "      <th>frac</th>\n",
       "    </tr>\n",
       "    <tr>\n",
       "      <th>crate</th>\n",
       "      <th></th>\n",
       "      <th></th>\n",
       "      <th></th>\n",
       "      <th></th>\n",
       "    </tr>\n",
       "  </thead>\n",
       "  <tbody>\n",
       "    <tr>\n",
       "      <th>rayon</th>\n",
       "      <td>762</td>\n",
       "      <td>10695</td>\n",
       "      <td>24.0</td>\n",
       "      <td>0.071248</td>\n",
       "    </tr>\n",
       "    <tr>\n",
       "      <th>image</th>\n",
       "      <td>5966</td>\n",
       "      <td>40658</td>\n",
       "      <td>133.0</td>\n",
       "      <td>0.146736</td>\n",
       "    </tr>\n",
       "    <tr>\n",
       "      <th>Rocket</th>\n",
       "      <td>2055</td>\n",
       "      <td>12615</td>\n",
       "      <td>75.0</td>\n",
       "      <td>0.162901</td>\n",
       "    </tr>\n",
       "    <tr>\n",
       "      <th>rg3d</th>\n",
       "      <td>10667</td>\n",
       "      <td>60841</td>\n",
       "      <td>85.0</td>\n",
       "      <td>0.175326</td>\n",
       "    </tr>\n",
       "    <tr>\n",
       "      <th>RustPython</th>\n",
       "      <td>20073</td>\n",
       "      <td>99022</td>\n",
       "      <td>113.0</td>\n",
       "      <td>0.202713</td>\n",
       "    </tr>\n",
       "    <tr>\n",
       "      <th>rustls</th>\n",
       "      <td>5453</td>\n",
       "      <td>23685</td>\n",
       "      <td>108.0</td>\n",
       "      <td>0.230230</td>\n",
       "    </tr>\n",
       "    <tr>\n",
       "      <th>sccache</th>\n",
       "      <td>7924</td>\n",
       "      <td>24677</td>\n",
       "      <td>203.0</td>\n",
       "      <td>0.321109</td>\n",
       "    </tr>\n",
       "    <tr>\n",
       "      <th>nalgebra</th>\n",
       "      <td>12028</td>\n",
       "      <td>37196</td>\n",
       "      <td>80.0</td>\n",
       "      <td>0.323368</td>\n",
       "    </tr>\n",
       "    <tr>\n",
       "      <th>hyper</th>\n",
       "      <td>20493</td>\n",
       "      <td>39991</td>\n",
       "      <td>562.0</td>\n",
       "      <td>0.512440</td>\n",
       "    </tr>\n",
       "  </tbody>\n",
       "</table>\n",
       "</div>"
      ],
      "text/plain": [
       "               nz  total  avg_ins      frac\n",
       "crate                                      \n",
       "rayon         762  10695     24.0  0.071248\n",
       "image        5966  40658    133.0  0.146736\n",
       "Rocket       2055  12615     75.0  0.162901\n",
       "rg3d        10667  60841     85.0  0.175326\n",
       "RustPython  20073  99022    113.0  0.202713\n",
       "rustls       5453  23685    108.0  0.230230\n",
       "sccache      7924  24677    203.0  0.321109\n",
       "nalgebra    12028  37196     80.0  0.323368\n",
       "hyper       20493  39991    562.0  0.512440"
      ]
     },
     "execution_count": 20,
     "metadata": {},
     "output_type": "execute_result"
    }
   ],
   "source": [
    "df2 = cond(df, c='SigOnly', m='IgnoreMut', p='Precise')\n",
    "g = df2[df2.instructions_relative_base_frac > 0].groupby('crate').size().rename('nz')\n",
    "g2 = pd.concat([\n",
    "    g, \n",
    "    df2.groupby('crate').size().rename('total'), \n",
    "    df2.groupby('crate').num_instructions.median().rename('avg_ins')], axis=1)\n",
    "g2['frac'] = g2.nz / g2.total\n",
    "g2.sort_values('frac')"
   ]
  },
  {
   "cell_type": "code",
   "execution_count": 21,
   "id": "375dbdc6",
   "metadata": {
    "ExecuteTime": {
     "end_time": "2021-10-07T19:14:31.486061Z",
     "start_time": "2021-10-07T19:14:12.731542Z"
    }
   },
   "outputs": [
    {
     "data": {
      "image/png": "[encoded data removed]",
      "text/plain": [
       "<Figure size 810x360 with 9 Axes>"
      ]
     },
     "metadata": {},
     "output_type": "display_data"
    }
   ],
   "source": [
    "g = sns.FacetGrid(data=cond(df, c='SigOnly', m='IgnoreMut', p='Precise'), \n",
    "                  col='crate', col_wrap=5, sharex=False, height=2.5, aspect=0.9)\n",
    "g.map_dataframe(plot_ins, xscale='log', nz=False, field='instructions_relative_base_frac')\n",
    "g.set_titles('\\\\textsc{{{col_name}}}')\n",
    "g.fig.supylabel('Count')\n",
    "g.fig.supxlabel('\\% diff in slice size, log scale')\n",
    "g.fig.tight_layout()\n",
    "g.fig.savefig('eval-crates.pdf')"
   ]
  },
  {
   "cell_type": "code",
   "execution_count": null,
   "id": "9df2986b",
   "metadata": {
    "ExecuteTime": {
     "end_time": "2021-10-07T19:11:30.997840Z",
     "start_time": "2021-10-07T19:11:30.997827Z"
    }
   },
   "outputs": [],
   "source": [
    "from scipy.stats.mstats import gmean\n",
    "\n",
    "df2 = cond(df, c='SigOnly', m='IgnoreMut', p='Precise')\n",
    "nz = df2[df2.instructions_relative_base_frac > 0]\n",
    "print(len(nz) / len(df2), gmean(nz.instructions_relative_base_frac))"
   ]
  },
  {
   "cell_type": "code",
   "execution_count": null,
   "id": "342db9d8",
   "metadata": {
    "ExecuteTime": {
     "end_time": "2021-10-07T19:11:30.998946Z",
     "start_time": "2021-10-07T19:11:30.998933Z"
    }
   },
   "outputs": [],
   "source": [
    "df2 = cond(df, c='SigOnly', m='DistinguishMut', p='Conservative')\n",
    "nz = df2[df2.instructions_relative_base_frac > 0]\n",
    "print(len(nz) / len(df2), gmean(nz.instructions_relative_base_frac))"
   ]
  },
  {
   "cell_type": "code",
   "execution_count": null,
   "id": "f8f64c7d",
   "metadata": {
    "ExecuteTime": {
     "end_time": "2021-10-07T19:11:31.000012Z",
     "start_time": "2021-10-07T19:11:30.999999Z"
    }
   },
   "outputs": [],
   "source": [
    "cond(df, c='Recurse', m='DistinguishMut', p='Precise').groupby('reached_library').num_instructions.describe()"
   ]
  },
  {
   "cell_type": "code",
   "execution_count": null,
   "id": "7d204bc6",
   "metadata": {
    "ExecuteTime": {
     "end_time": "2021-10-07T19:11:31.001236Z",
     "start_time": "2021-10-07T19:11:31.001223Z"
    }
   },
   "outputs": [],
   "source": [
    "140427 / (140427 + 276530)"
   ]
  },
  {
   "cell_type": "code",
   "execution_count": null,
   "id": "6add363f",
   "metadata": {
    "ExecuteTime": {
     "end_time": "2021-10-07T19:11:31.002221Z",
     "start_time": "2021-10-07T19:11:31.002208Z"
    }
   },
   "outputs": [],
   "source": [
    "cond(df, c='SigOnly', m='DistinguishMut', p='Precise').groupby(['reached_library', 'ins_rel_nonzero']) \\\n",
    "    .instructions_relative_frac.describe()[['count', 'mean', '50%']]"
   ]
  },
  {
   "cell_type": "code",
   "execution_count": null,
   "id": "4d567954",
   "metadata": {
    "ExecuteTime": {
     "end_time": "2021-10-07T19:11:31.003258Z",
     "start_time": "2021-10-07T19:11:31.003245Z"
    }
   },
   "outputs": [],
   "source": [
    "print(732 / 139695)\n",
    "print(18267.0 / 258263.0)"
   ]
  },
  {
   "cell_type": "code",
   "execution_count": null,
   "id": "4f99b83d",
   "metadata": {
    "ExecuteTime": {
     "end_time": "2021-10-07T19:11:31.004314Z",
     "start_time": "2021-10-07T19:11:31.004301Z"
    }
   },
   "outputs": [],
   "source": [
    "# df2 = cond(df, c='SigOnly', m='DistinguishMut', p='Precise')\n",
    "# df3 = df2.groupby(['crate', 'function_path']) \\\n",
    "#     .apply(lambda df: df.iloc[0]).reset_index(drop=True)\n",
    "num_slices = df2.groupby(['crate']).size().rename('num_slices')\n",
    "avg_ins_per_func = df3.groupby('crate').num_instructions.mean() \\\n",
    "    .rename('avg_ins_per_func')\n",
    "num_funcs = df2.groupby(['crate']).size().rename('num_funcs')\n",
    "\n",
    "q = df2.groupby(['crate', 'function_path']).size()\n",
    "avg_slices_per_func = q[q > 0] \\\n",
    "    .groupby('crate').mean().rename('avg_slices_per_func')\n",
    "pd.concat(\n",
    "    [num_slices, avg_ins_per_func, num_funcs, avg_slices_per_func], \n",
    "    axis=1).sort_values('num_slices')"
   ]
  }
 ],
 "metadata": {
  "kernelspec": {
   "display_name": "Python 3 (ipykernel)",
   "language": "python",
   "name": "python3"
  },
  "language_info": {
   "codemirror_mode": {
    "name": "ipython",
    "version": 3
   },
   "file_extension": ".py",
   "mimetype": "text/x-python",
   "name": "python",
   "nbconvert_exporter": "python",
   "pygments_lexer": "ipython3",
   "version": "3.7.2"
  },
  "toc": {
   "base_numbering": 1,
   "nav_menu": {},
   "number_sections": true,
   "sideBar": true,
   "skip_h1_title": false,
   "title_cell": "Table of Contents",
   "title_sidebar": "Contents",
   "toc_cell": false,
   "toc_position": {},
   "toc_section_display": true,
   "toc_window_display": false
  },
  "varInspector": {
   "cols": {
    "lenName": 16,
    "lenType": 16,
    "lenVar": 40
   },
   "kernels_config": {
    "python": {
     "delete_cmd_postfix": "",
     "delete_cmd_prefix": "del ",
     "library": "var_list.py",
     "varRefreshCmd": "print(var_dic_list())"
    },
    "r": {
     "delete_cmd_postfix": ") ",
     "delete_cmd_prefix": "rm(",
     "library": "var_list.r",
     "varRefreshCmd": "cat(var_dic_list()) "
    }
   },
   "types_to_exclude": [
    "module",
    "function",
    "builtin_function_or_method",
    "instance",
    "_Feature"
   ],
   "window_display": false
  }
 },
 "nbformat": 4,
 "nbformat_minor": 5
}
