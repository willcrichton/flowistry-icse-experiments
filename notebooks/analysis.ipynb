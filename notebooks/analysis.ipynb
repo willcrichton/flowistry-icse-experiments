{
 "cells": [
  {
   "cell_type": "code",
   "execution_count": 1,
   "id": "protected-value",
   "metadata": {
    "ExecuteTime": {
     "end_time": "2022-03-02T05:13:22.388712Z",
     "start_time": "2022-03-02T05:13:20.107929Z"
    }
   },
   "outputs": [],
   "source": [
    "import pandas as pd\n",
    "from pandas.api.types import CategoricalDtype as Category\n",
    "import matplotlib.pyplot as plt\n",
    "from glob import glob\n",
    "import seaborn as sns\n",
    "import numpy as np\n",
    "from iterextras import par_for\n",
    "import subprocess as sp\n",
    "import os\n",
    "import itertools\n",
    "from tqdm.auto import tqdm\n",
    "import rs_utils\n",
    "from scipy.stats import gmean\n",
    "import matplotlib as mpl\n",
    "import json\n",
    "import statsmodels.formula.api as sm\n",
    "from matplotlib import rc\n",
    "\n",
    "sns.set()"
   ]
  },
  {
   "cell_type": "code",
   "execution_count": 2,
   "id": "hidden-chambers",
   "metadata": {
    "ExecuteTime": {
     "end_time": "2022-03-02T05:14:56.778946Z",
     "start_time": "2022-03-02T05:13:22.391124Z"
    }
   },
   "outputs": [
    {
     "name": "stdout",
     "output_type": "stream",
     "text": [
      "../data/rav1e.json\n",
      "../data/hyper.json\n",
      "../data/image.json\n",
      "../data/RustPython.json\n",
      "../data/rg3d.json\n",
      "../data/rayon.json\n",
      "../data/rustls.json\n",
      "../data/Rocket.json\n",
      "../data/nalgebra.json\n",
      "../data/sccache.json\n"
     ]
    },
    {
     "data": {
      "application/vnd.jupyter.widget-view+json": {
       "model_id": "1c8c98000e5846dc87252ed6bf71d426",
       "version_major": 2,
       "version_minor": 0
      },
      "text/plain": [
       "  0%|          | 0/10 [00:00<?, ?it/s]"
      ]
     },
     "metadata": {},
     "output_type": "display_data"
    }
   ],
   "source": [
    "PATHS = glob('../data/*.json')\n",
    "CRATES = [os.path.splitext(os.path.basename(path))[0] for path in PATHS]\n",
    "CATEGORIES = {\n",
    "    'mutability_mode': Category([\"DistinguishMut\", \"IgnoreMut\"]),\n",
    "    'context_mode': Category([\"Recurse\", \"SigOnly\"]),\n",
    "    'pointer_mode': Category([\"Conservative\", \"Precise\"]),\n",
    "    'crate': Category(sorted(CRATES))\n",
    "}\n",
    "\n",
    "def parse_data(path):\n",
    "    print(path)\n",
    "    if os.stat(path).st_size == 0:\n",
    "        return []\n",
    "    \n",
    "    crate = os.path.splitext(os.path.basename(path))[0]\n",
    "    df = pd.DataFrame(rs_utils.parse_data(path))\n",
    "    df['crate'] = crate\n",
    "    for k, dt in CATEGORIES.items():\n",
    "        df[k] = df[k].astype(dt)\n",
    "    return df\n",
    "\n",
    "\n",
    "all_dfs = par_for(parse_data, PATHS)\n",
    "df = pd.concat(all_dfs).reset_index()\n",
    "del all_dfs\n",
    "\n",
    "df['ins_rel_nonzero'] = df.instructions_relative > 0\n",
    "df['ins_rel_frac_log'] = np.log(df.instructions_relative_frac)"
   ]
  },
  {
   "cell_type": "code",
   "execution_count": 6,
   "id": "905c65b5",
   "metadata": {
    "ExecuteTime": {
     "end_time": "2022-03-02T05:15:00.631706Z",
     "start_time": "2022-03-02T05:14:57.543399Z"
    }
   },
   "outputs": [],
   "source": [
    "def cond(df, m=None, c=None, p=None):\n",
    "    if m is not None:\n",
    "        df = df[df.mutability_mode == m]\n",
    "    if c is not None:\n",
    "        df = df[df.context_mode == c]\n",
    "    if p is not None:\n",
    "        df = df[df.pointer_mode == p]\n",
    "    return df\n",
    "\n",
    "modular_cond = cond(df, c='SigOnly', m='DistinguishMut', p='Precise')\n",
    "modular_metric = modular_cond.instructions_relative_frac\n",
    "mutblind_cond = cond(df, c='SigOnly', m='IgnoreMut', p='Precise')\n",
    "mutblind_metric = mutblind_cond.instructions_relative_base_frac\n",
    "refblind_cond = cond(df, c='SigOnly', m='DistinguishMut', p='Conservative')\n",
    "refblind_metric = refblind_cond.instructions_relative_base_frac\n",
    "whole_cond = cond(df, c='Recurse', m='DistinguishMut', p='Precise')"
   ]
  },
  {
   "cell_type": "markdown",
   "id": "886fc69a",
   "metadata": {},
   "source": [
    "# Dataset (Section 5.1)\n",
    "\n",
    "## Crate information (Table 1)"
   ]
  },
  {
   "cell_type": "code",
   "execution_count": 11,
   "id": "dc2f3fed",
   "metadata": {
    "ExecuteTime": {
     "end_time": "2022-03-02T05:15:01.722193Z",
     "start_time": "2022-03-02T05:15:01.717353Z"
    }
   },
   "outputs": [],
   "source": [
    "CRATE_INFO = [\n",
    "    ('Rocket', 'core/lib', 'Web backend framework', 'https://github.com/SergioBenitez/Rocket'),\n",
    "    ('image', None, 'Image processing library', 'https://github.com/image-rs/image'),\n",
    "    ('rayon', None, 'Data parallelism library', 'https://github.com/rayon-rs/rayon'),\n",
    "    ('rg3d', None, '3D game engine', 'https://github.com/mrDIMAS/rg3d'),    \n",
    "    ('nalgebra', None, 'Numerics library', 'https://github.com/dimforge/nalgebra'),\n",
    "    ('rustls', 'rustls', 'TLS implementation', 'https://github.com/ctz/rustls'),\n",
    "    ('sccache', None, 'Distributed build cache', 'https://github.com/mozilla/sccache'),\n",
    "    ('hyper', None, 'HTTP server', 'https://github.com/hyperium/hyper'),    \n",
    "    ('rav1e', None, 'Video encoder', 'https://github.com/xiph/rav1e'),\n",
    "    ('RustPython', 'vm', 'Python interpreter', 'https://github.com/RustPython/RustPython'),\n",
    "]"
   ]
  },
  {
   "cell_type": "code",
   "execution_count": 12,
   "id": "de73c2db",
   "metadata": {
    "ExecuteTime": {
     "end_time": "2022-03-02T05:15:10.313320Z",
     "start_time": "2022-03-02T05:15:01.724183Z"
    }
   },
   "outputs": [
    {
     "data": {
      "text/html": [
       "<div>\n",
       "<style scoped>\n",
       "    .dataframe tbody tr th:only-of-type {\n",
       "        vertical-align: middle;\n",
       "    }\n",
       "\n",
       "    .dataframe tbody tr th {\n",
       "        vertical-align: top;\n",
       "    }\n",
       "\n",
       "    .dataframe thead th {\n",
       "        text-align: right;\n",
       "    }\n",
       "</style>\n",
       "<table border=\"1\" class=\"dataframe\">\n",
       "  <thead>\n",
       "    <tr style=\"text-align: right;\">\n",
       "      <th></th>\n",
       "      <th>num_slices</th>\n",
       "      <th>avg_ins_per_func</th>\n",
       "      <th>num_funcs</th>\n",
       "      <th>avg_slices_per_func</th>\n",
       "    </tr>\n",
       "    <tr>\n",
       "      <th>crate</th>\n",
       "      <th></th>\n",
       "      <th></th>\n",
       "      <th></th>\n",
       "      <th></th>\n",
       "    </tr>\n",
       "  </thead>\n",
       "  <tbody>\n",
       "    <tr>\n",
       "      <th>rayon</th>\n",
       "      <td>10607</td>\n",
       "      <td>16.569045</td>\n",
       "      <td>1079</td>\n",
       "      <td>9.830399</td>\n",
       "    </tr>\n",
       "    <tr>\n",
       "      <th>Rocket</th>\n",
       "      <td>12040</td>\n",
       "      <td>25.527665</td>\n",
       "      <td>741</td>\n",
       "      <td>16.248313</td>\n",
       "    </tr>\n",
       "    <tr>\n",
       "      <th>rustls</th>\n",
       "      <td>23407</td>\n",
       "      <td>42.447005</td>\n",
       "      <td>868</td>\n",
       "      <td>26.966590</td>\n",
       "    </tr>\n",
       "    <tr>\n",
       "      <th>sccache</th>\n",
       "      <td>23680</td>\n",
       "      <td>61.555210</td>\n",
       "      <td>643</td>\n",
       "      <td>36.827372</td>\n",
       "    </tr>\n",
       "    <tr>\n",
       "      <th>nalgebra</th>\n",
       "      <td>35886</td>\n",
       "      <td>26.671148</td>\n",
       "      <td>1785</td>\n",
       "      <td>20.104202</td>\n",
       "    </tr>\n",
       "    <tr>\n",
       "      <th>image</th>\n",
       "      <td>39077</td>\n",
       "      <td>56.808394</td>\n",
       "      <td>1096</td>\n",
       "      <td>35.654197</td>\n",
       "    </tr>\n",
       "    <tr>\n",
       "      <th>hyper</th>\n",
       "      <td>44900</td>\n",
       "      <td>82.887342</td>\n",
       "      <td>790</td>\n",
       "      <td>56.835443</td>\n",
       "    </tr>\n",
       "    <tr>\n",
       "      <th>rg3d</th>\n",
       "      <td>59590</td>\n",
       "      <td>25.713167</td>\n",
       "      <td>3448</td>\n",
       "      <td>17.282483</td>\n",
       "    </tr>\n",
       "    <tr>\n",
       "      <th>rav1e</th>\n",
       "      <td>76749</td>\n",
       "      <td>115.366273</td>\n",
       "      <td>931</td>\n",
       "      <td>82.437164</td>\n",
       "    </tr>\n",
       "    <tr>\n",
       "      <th>RustPython</th>\n",
       "      <td>97597</td>\n",
       "      <td>51.025038</td>\n",
       "      <td>3315</td>\n",
       "      <td>29.441026</td>\n",
       "    </tr>\n",
       "  </tbody>\n",
       "</table>\n",
       "</div>"
      ],
      "text/plain": [
       "            num_slices  avg_ins_per_func  num_funcs  avg_slices_per_func\n",
       "crate                                                                   \n",
       "rayon            10607         16.569045       1079             9.830399\n",
       "Rocket           12040         25.527665        741            16.248313\n",
       "rustls           23407         42.447005        868            26.966590\n",
       "sccache          23680         61.555210        643            36.827372\n",
       "nalgebra         35886         26.671148       1785            20.104202\n",
       "image            39077         56.808394       1096            35.654197\n",
       "hyper            44900         82.887342        790            56.835443\n",
       "rg3d             59590         25.713167       3448            17.282483\n",
       "rav1e            76749        115.366273        931            82.437164\n",
       "RustPython       97597         51.025038       3315            29.441026"
      ]
     },
     "execution_count": 12,
     "metadata": {},
     "output_type": "execute_result"
    }
   ],
   "source": [
    "modular_cond_funcs = modular_cond.groupby(['crate', 'function_path']) \\\n",
    "    .apply(lambda df: df.iloc[0]).reset_index(drop=True)\n",
    "num_slices = modular_cond.groupby(['crate']).size().rename('num_slices')\n",
    "avg_ins_per_func = modular_cond_funcs.groupby('crate').num_instructions.mean() \\\n",
    "    .rename('avg_ins_per_func')\n",
    "num_funcs = modular_cond.groupby(['crate']).apply(lambda df: len(df.function_path.unique())).rename('num_funcs')\n",
    "\n",
    "q = modular_cond.groupby(['crate', 'function_path']).size()\n",
    "avg_slices_per_func = q[q > 0] \\\n",
    "    .groupby('crate').mean().rename('avg_slices_per_func')\n",
    "crate_stats = pd.concat(\n",
    "    [num_slices, avg_ins_per_func, num_funcs, avg_slices_per_func], \n",
    "    axis=1).sort_values('num_slices')\n",
    "crate_stats"
   ]
  },
  {
   "cell_type": "code",
   "execution_count": 16,
   "id": "382d0bc4",
   "metadata": {
    "ExecuteTime": {
     "end_time": "2022-03-02T05:15:48.559375Z",
     "start_time": "2022-03-02T05:15:31.434074Z"
    }
   },
   "outputs": [],
   "source": [
    "CLOC = '/home/wcrichto/.node_modules/bin/cloc'\n",
    "crate_loc = []\n",
    "for (crate, path, purpose, url) in CRATE_INFO:\n",
    "    crate_dir = f'../data/repos/{crate}'\n",
    "    if path:\n",
    "        crate_dir += f'/{path}'\n",
    "    crate_dir += '/src'    \n",
    "    cloc_str = sp.check_output(f'{CLOC} {crate_dir} --json', shell=True).strip()\n",
    "    commit = sp.check_output('git rev-parse HEAD', shell=True, cwd=crate_dir).strip().decode('utf-8')\n",
    "    cloc = json.loads(cloc_str)\n",
    "    crate_loc.append({\n",
    "        \"crate\": crate,\n",
    "        'subdir': path,\n",
    "        'purpose': purpose,\n",
    "        \"url\": url,\n",
    "        \"commit\": commit,\n",
    "        \"loc\": cloc[\"Rust\"][\"code\"],\n",
    "    })\n",
    "crate_loc = pd.DataFrame(crate_loc)"
   ]
  },
  {
   "cell_type": "code",
   "execution_count": 17,
   "id": "f9f41116",
   "metadata": {
    "ExecuteTime": {
     "end_time": "2022-03-02T05:15:48.574882Z",
     "start_time": "2022-03-02T05:15:48.561940Z"
    }
   },
   "outputs": [
    {
     "name": "stdout",
     "output_type": "stream",
     "text": [
      "\\href{https://github.com/rayon-rs/rayon}{rayon} &  & Data parallelism library & 15,524 & 10,607 & 1,079 & 16.6 \\\\ \\hline\n",
      "\\href{https://github.com/SergioBenitez/Rocket}{Rocket} & core/lib & Web backend framework & 9,313 & 12,040 & 741 & 25.5 \\\\ \\hline\n",
      "\\href{https://github.com/ctz/rustls}{rustls} & rustls & TLS implementation & 16,866 & 23,407 & 868 & 42.4 \\\\ \\hline\n",
      "\\href{https://github.com/mozilla/sccache}{sccache} &  & Distributed build cache & 23,202 & 23,680 & 643 & 61.6 \\\\ \\hline\n",
      "\\href{https://github.com/dimforge/nalgebra}{nalgebra} &  & Numerics library & 31,951 & 35,886 & 1,785 & 26.7 \\\\ \\hline\n",
      "\\href{https://github.com/image-rs/image}{image} &  & Image processing library & 20,722 & 39,077 & 1,096 & 56.8 \\\\ \\hline\n",
      "\\href{https://github.com/hyperium/hyper}{hyper} &  & HTTP server & 15,082 & 44,900 & 790 & 82.9 \\\\ \\hline\n",
      "\\href{https://github.com/mrDIMAS/rg3d}{rg3d} &  & 3D game engine & 54,426 & 59,590 & 3,448 & 25.7 \\\\ \\hline\n",
      "\\href{https://github.com/xiph/rav1e}{rav1e} &  & Video encoder & 50,294 & 76,749 & 931 & 115.4 \\\\ \\hline\n",
      "\\href{https://github.com/RustPython/RustPython}{RustPython} & vm & Python interpreter & 47,927 & 97,597 & 3,315 & 51.0 \\\\ \\hline\n"
     ]
    }
   ],
   "source": [
    "crate_final = crate_stats.join(crate_loc.set_index(\"crate\")).sort_values('num_slices')\n",
    "for crate, row in  crate_final.iterrows():\n",
    "    print(f'\\href{{{row.url}}}{{{crate}}} & {row.subdir or \"\"} & {row.purpose} & {row[\"loc\"]:,} & \\\n",
    "{row.num_slices:,} & {row.num_funcs:,} & {row.avg_ins_per_func:.1f} \\\\\\\\ \\hline')"
   ]
  },
  {
   "cell_type": "code",
   "execution_count": 18,
   "id": "f23d3040",
   "metadata": {
    "ExecuteTime": {
     "end_time": "2022-03-02T05:15:48.581719Z",
     "start_time": "2022-03-02T05:15:48.576914Z"
    }
   },
   "outputs": [
    {
     "name": "stdout",
     "output_type": "stream",
     "text": [
      "285,307 & 423,533 & 14,696\n"
     ]
    }
   ],
   "source": [
    "print(f'{crate_final[\"loc\"].sum():,} & {crate_final.num_slices.sum():,} & {crate_final.num_funcs.sum():,}')"
   ]
  },
  {
   "cell_type": "code",
   "execution_count": 20,
   "id": "55417fb7",
   "metadata": {
    "ExecuteTime": {
     "end_time": "2022-03-02T05:15:49.476927Z",
     "start_time": "2022-03-02T05:15:49.460310Z"
    }
   },
   "outputs": [
    {
     "data": {
      "text/html": [
       "<div>\n",
       "<style scoped>\n",
       "    .dataframe tbody tr th:only-of-type {\n",
       "        vertical-align: middle;\n",
       "    }\n",
       "\n",
       "    .dataframe tbody tr th {\n",
       "        vertical-align: top;\n",
       "    }\n",
       "\n",
       "    .dataframe thead th {\n",
       "        text-align: right;\n",
       "    }\n",
       "</style>\n",
       "<table border=\"1\" class=\"dataframe\">\n",
       "  <thead>\n",
       "    <tr style=\"text-align: right;\">\n",
       "      <th></th>\n",
       "      <th>crate</th>\n",
       "      <th>commit</th>\n",
       "    </tr>\n",
       "  </thead>\n",
       "  <tbody>\n",
       "    <tr>\n",
       "      <th>0</th>\n",
       "      <td>rayon</td>\n",
       "      <td>c571f8ffb4f74c8c09b4e1e6d9979b71b4414d07</td>\n",
       "    </tr>\n",
       "    <tr>\n",
       "      <th>1</th>\n",
       "      <td>Rocket</td>\n",
       "      <td>8d4d01106e2e10b08100805d40bfa19a7357e900</td>\n",
       "    </tr>\n",
       "    <tr>\n",
       "      <th>2</th>\n",
       "      <td>rustls</td>\n",
       "      <td>cdf1dada21a537e141d0c6dde9c5685bb43fbc0e</td>\n",
       "    </tr>\n",
       "    <tr>\n",
       "      <th>3</th>\n",
       "      <td>sccache</td>\n",
       "      <td>3f318a8675e4c3de4f5e8ab2d086189f2ae5f5cf</td>\n",
       "    </tr>\n",
       "    <tr>\n",
       "      <th>4</th>\n",
       "      <td>nalgebra</td>\n",
       "      <td>984bb1a63943aa68b6f26ff4a6acf8f68b833b70</td>\n",
       "    </tr>\n",
       "    <tr>\n",
       "      <th>5</th>\n",
       "      <td>image</td>\n",
       "      <td>e916e9dda5f4253f6cc4557b0fe5fa3876ac18e5</td>\n",
       "    </tr>\n",
       "    <tr>\n",
       "      <th>6</th>\n",
       "      <td>hyper</td>\n",
       "      <td>ed2fdb7b6a2963cea7577df05ddc41c56fee7246</td>\n",
       "    </tr>\n",
       "    <tr>\n",
       "      <th>7</th>\n",
       "      <td>rg3d</td>\n",
       "      <td>ca7b85f2b30e45b82caee0591ee1abf65bb3eb00</td>\n",
       "    </tr>\n",
       "    <tr>\n",
       "      <th>8</th>\n",
       "      <td>rav1e</td>\n",
       "      <td>1b6643324752785e7cd6ad0b19257f3c3a9b2c6a</td>\n",
       "    </tr>\n",
       "    <tr>\n",
       "      <th>9</th>\n",
       "      <td>RustPython</td>\n",
       "      <td>9143e51b7524a5084d5ed230b1f2f5b0610ac58b</td>\n",
       "    </tr>\n",
       "  </tbody>\n",
       "</table>\n",
       "</div>"
      ],
      "text/plain": [
       "        crate                                    commit\n",
       "0       rayon  c571f8ffb4f74c8c09b4e1e6d9979b71b4414d07\n",
       "1      Rocket  8d4d01106e2e10b08100805d40bfa19a7357e900\n",
       "2      rustls  cdf1dada21a537e141d0c6dde9c5685bb43fbc0e\n",
       "3     sccache  3f318a8675e4c3de4f5e8ab2d086189f2ae5f5cf\n",
       "4    nalgebra  984bb1a63943aa68b6f26ff4a6acf8f68b833b70\n",
       "5       image  e916e9dda5f4253f6cc4557b0fe5fa3876ac18e5\n",
       "6       hyper  ed2fdb7b6a2963cea7577df05ddc41c56fee7246\n",
       "7        rg3d  ca7b85f2b30e45b82caee0591ee1abf65bb3eb00\n",
       "8       rav1e  1b6643324752785e7cd6ad0b19257f3c3a9b2c6a\n",
       "9  RustPython  9143e51b7524a5084d5ed230b1f2f5b0610ac58b"
      ]
     },
     "execution_count": 20,
     "metadata": {},
     "output_type": "execute_result"
    }
   ],
   "source": [
    "crate_final.reset_index()[['crate', 'commit']]"
   ]
  },
  {
   "cell_type": "markdown",
   "id": "23707679",
   "metadata": {},
   "source": [
    "## Execution time (last paragraph of 5.1)"
   ]
  },
  {
   "cell_type": "code",
   "execution_count": 22,
   "id": "138f506f",
   "metadata": {
    "ExecuteTime": {
     "end_time": "2022-03-02T05:16:02.509069Z",
     "start_time": "2022-03-02T05:15:49.487261Z"
    }
   },
   "outputs": [],
   "source": [
    "durations = cond(df, m='DistinguishMut', p='Precise').groupby(['context_mode', 'function_path']) \\\n",
    "    .apply(lambda df: df.iloc[0].duration)\n",
    "durations.groupby('context_mode').median() * 1e3"
   ]
  },
  {
   "cell_type": "markdown",
   "id": "2939e437",
   "metadata": {},
   "source": [
    "\n",
    "# Quantitative analysis (Section 5.2)"
   ]
  },
  {
   "cell_type": "code",
   "execution_count": 30,
   "id": "e54717a2",
   "metadata": {
    "ExecuteTime": {
     "end_time": "2022-03-02T05:16:03.767408Z",
     "start_time": "2022-03-02T05:16:03.758136Z"
    }
   },
   "outputs": [],
   "source": [
    "def plot_ins(data, xscale='linear', yscale='linear', nz=False, ax=None, quantile=None, bins=None, **kwargs):\n",
    "    if nz:\n",
    "        data = data[data > 0]        \n",
    "        \n",
    "    if bins is None:\n",
    "        max = data.max()\n",
    "        if 'log' in xscale:\n",
    "            bins = np.logspace(np.log10(0.0001), np.log10(max))\n",
    "            if not nz:\n",
    "                bins = np.concatenate(([0.], bins))\n",
    "        else:\n",
    "            bins = np.linspace(0, max, 30)\n",
    "\n",
    "    ax = sns.histplot(data, bins=bins, ax=ax)\n",
    "    ax.set_xscale(xscale)\n",
    "    ax.set_yscale(yscale)\n",
    "    \n",
    "    if xscale == 'symlog':\n",
    "        nz_min = data[data > 0].min()\n",
    "        ax.set_xscale(xscale, linthresh=nz_min)\n",
    "        ax.set_xlim(-nz_min/2, data.max())\n",
    "        \n",
    "    ax.set_xlabel('\\% increase in dependency set size' + (', log scale' if 'log' in xscale else ''))\n",
    "    ax.set_ylabel('Count' + (', log scale' if yscale == 'log' else ''))\n",
    "\n",
    "    if quantile is not None:\n",
    "        x = data.quantile(quantile)\n",
    "        ax.axvline(x, color='r')        "
   ]
  },
  {
   "cell_type": "markdown",
   "id": "5d0c9fa1",
   "metadata": {},
   "source": [
    "## Figure 2"
   ]
  },
  {
   "cell_type": "code",
   "execution_count": 49,
   "id": "32a8577c",
   "metadata": {
    "ExecuteTime": {
     "end_time": "2022-03-02T05:33:33.044714Z",
     "start_time": "2022-03-02T05:33:29.839202Z"
    }
   },
   "outputs": [
    {
     "name": "stderr",
     "output_type": "stream",
     "text": [
      "/raid/wcrichto/flowistry-experiments/.env/lib/python3.7/site-packages/ipykernel_launcher.py:8: UserWarning: FixedFormatter should only be used together with FixedLocator\n",
      "  \n"
     ]
    },
    {
     "data": {
      "image/png": "[encoded data removed]",
      "text/plain": [
       "<Figure size 396x216 with 2 Axes>"
      ]
     },
     "metadata": {},
     "output_type": "display_data"
    }
   ],
   "source": [
    "rc('font',**{'family':'serif','serif':['Linux Libertine O']})\n",
    "rc('text', **{'usetex': True, 'latex.preamble': r'\\usepackage{libertine}\\usepackage[libertine]{newtxmath}'})\n",
    "\n",
    "fig, [ax1, ax2] = plt.subplots(1, 2, figsize=(5.5, 3.))\n",
    "\n",
    "plot_ins(modular_metric, ax=ax1, xscale='symlog')\n",
    "ax1.set_title('\\\\textsc{y-linear}')\n",
    "ax1.set_yticklabels(['0'] + [f'${n} \\cdot 10^5$' for n in [1,2,3,4]])\n",
    "\n",
    "plot_ins(modular_metric, xscale='symlog', yscale='log', ax=ax2)\n",
    "ax2.set_title('\\\\textsc{y-log}')\n",
    "ax2.set_yticks([10e1, 10e3, 10e5])\n",
    "\n",
    "for ax in [ax1, ax2]:\n",
    "    ax.set_xticks([0, 10e-3, 10e-1, 10e1])\n",
    "\n",
    "ax1.set_xlabel('')\n",
    "ax2.set_xlabel('')\n",
    "fig.supxlabel('\\% difference in dependency set size, log scale (with zero)', y=0.1)\n",
    "\n",
    "fig.tight_layout()\n",
    "fig.savefig('eval-recurse-dist.pdf', bbox_inches='tight')"
   ]
  },
  {
   "cell_type": "markdown",
   "id": "fabf1d8f",
   "metadata": {},
   "source": [
    "## Figure 3"
   ]
  },
  {
   "cell_type": "code",
   "execution_count": 50,
   "id": "45b83a72",
   "metadata": {
    "ExecuteTime": {
     "end_time": "2022-03-02T05:33:36.728386Z",
     "start_time": "2022-03-02T05:33:34.370154Z"
    }
   },
   "outputs": [
    {
     "data": {
      "image/png": "[encoded data removed]",
      "text/plain": [
       "<Figure size 396x216 with 3 Axes>"
      ]
     },
     "metadata": {},
     "output_type": "display_data"
    }
   ],
   "source": [
    "fig, [ax1, ax2, ax3] = plt.subplots(1, 3, figsize=(5.5, 3.), sharey=True)\n",
    "\n",
    "kwargs = {'nz': True, 'xscale': 'log'}\n",
    "plot_ins(modular_metric, ax=ax1, **kwargs)\n",
    "ax1.set_title('\\\\textsc{Modular} - \\\\textsc{Whole-program}')\n",
    "plot_ins(mutblind_metric, ax=ax2, **kwargs)\n",
    "ax2.set_title('\\\\textsc{Mut-blind} - \\\\textsc{Modular}', y=1.125)\n",
    "plot_ins(refblind_metric, ax=ax3, **kwargs)\n",
    "ax3.set_title('\\\\textsc{Ref-blind} - \\\\textsc{Modular}')\n",
    "\n",
    "for ax in [ax1, ax2, ax3]:\n",
    "    ax.set_xticks([10e-3, 10e-1, 10e1])\n",
    "ax1.get_yaxis().set_major_formatter(mpl.ticker.FuncFormatter(lambda x, p: format(int(x), ',')))\n",
    "\n",
    "ax1.set_xlabel('')\n",
    "ax3.set_xlabel('')\n",
    "\n",
    "fig.tight_layout()\n",
    "\n",
    "fig.savefig('eval-all-dist.pdf', bbox_inches='tight')"
   ]
  },
  {
   "cell_type": "markdown",
   "id": "703401bb",
   "metadata": {},
   "source": [
    "## Statistics used within 5.2 text"
   ]
  },
  {
   "cell_type": "code",
   "execution_count": 51,
   "id": "3264fb7f",
   "metadata": {
    "ExecuteTime": {
     "end_time": "2022-03-02T05:33:39.448662Z",
     "start_time": "2022-03-02T05:33:39.376967Z"
    }
   },
   "outputs": [
    {
     "name": "stdout",
     "output_type": "stream",
     "text": [
      "Modular: 0.0626, 0.9374, 0.07\n",
      "MutBlind: 0.3943, 0.6057, 0.50\n",
      "RefBlind: 0.1696, 0.8304, 0.56\n"
     ]
    }
   ],
   "source": [
    "def stats(series):\n",
    "    nz = len(series[series > 0]) / len(series)\n",
    "    return f'{nz:.4f}, {1. - nz:.4f}, {series[series > 0].median():.2f}'\n",
    "\n",
    "print('Modular:', stats(modular_metric))\n",
    "print('MutBlind:', stats(mutblind_metric))\n",
    "print('RefBlind:', stats(refblind_metric))"
   ]
  },
  {
   "cell_type": "markdown",
   "id": "61e05e97",
   "metadata": {},
   "source": [
    "## Figure 4"
   ]
  },
  {
   "cell_type": "code",
   "execution_count": 54,
   "id": "375dbdc6",
   "metadata": {
    "ExecuteTime": {
     "end_time": "2022-03-02T05:34:39.144729Z",
     "start_time": "2022-03-02T05:34:29.581304Z"
    }
   },
   "outputs": [
    {
     "data": {
      "image/png": "[encoded data removed]",
      "text/plain": [
       "<Figure size 745.2x331.2 with 10 Axes>"
      ]
     },
     "metadata": {},
     "output_type": "display_data"
    }
   ],
   "source": [
    "g = sns.FacetGrid(data=mutblind_cond, col='crate', col_order=sorted(CRATES, key=lambda s: s.lower()), \n",
    "                  col_wrap=5, sharex=False, height=2.3, aspect=0.9)\n",
    "g.map_dataframe(lambda **kwargs: plot_ins(kwargs['data'].instructions_relative_base_frac, nz=True, xscale='log'))\n",
    "g.set_titles('\\\\textsc{{{col_name}}}')\n",
    "g.fig.supylabel('Count')\n",
    "g.fig.supxlabel('\\% increase in dependency set size, log scale', y=0.05)\n",
    "for ax in g.axes.flat:\n",
    "    ax.set_xlabel('')\n",
    "    ax.set_ylabel('')\n",
    "    ax.set_xticks([10e-3, 10e-1, 10e1])\n",
    "    \n",
    "g.fig.tight_layout()\n",
    "g.fig.savefig('eval-crates.pdf', bbox_inches='tight')\n",
    "\n"
   ]
  },
  {
   "cell_type": "markdown",
   "id": "2a029bd5",
   "metadata": {},
   "source": [
    "# Threats to validity (Section 5.4)"
   ]
  },
  {
   "cell_type": "markdown",
   "id": "ecd47cab",
   "metadata": {},
   "source": [
    "\n",
    "## 5.4.1 statistics"
   ]
  },
  {
   "cell_type": "code",
   "execution_count": 55,
   "id": "5927281f",
   "metadata": {
    "ExecuteTime": {
     "end_time": "2022-03-02T05:45:23.319083Z",
     "start_time": "2022-03-02T05:45:22.582595Z"
    }
   },
   "outputs": [
    {
     "name": "stderr",
     "output_type": "stream",
     "text": [
      "/raid/wcrichto/flowistry-experiments/.env/lib/python3.7/site-packages/scipy/stats/stats.py:1542: UserWarning: kurtosistest only valid for n>=20 ... continuing anyway, n=10\n",
      "  \"anyway, n=%i\" % int(n))\n"
     ]
    },
    {
     "data": {
      "text/html": [
       "<table class=\"simpletable\">\n",
       "<caption>OLS Regression Results</caption>\n",
       "<tr>\n",
       "  <th>Dep. Variable:</th>           <td>nz</td>        <th>  R-squared:         </th> <td>   0.789</td>\n",
       "</tr>\n",
       "<tr>\n",
       "  <th>Model:</th>                   <td>OLS</td>       <th>  Adj. R-squared:    </th> <td>   0.763</td>\n",
       "</tr>\n",
       "<tr>\n",
       "  <th>Method:</th>             <td>Least Squares</td>  <th>  F-statistic:       </th> <td>   29.90</td>\n",
       "</tr>\n",
       "<tr>\n",
       "  <th>Date:</th>             <td>Tue, 01 Mar 2022</td> <th>  Prob (F-statistic):</th> <td>0.000596</td>\n",
       "</tr>\n",
       "<tr>\n",
       "  <th>Time:</th>                 <td>21:45:23</td>     <th>  Log-Likelihood:    </th> <td> -100.56</td>\n",
       "</tr>\n",
       "<tr>\n",
       "  <th>No. Observations:</th>      <td>    10</td>      <th>  AIC:               </th> <td>   205.1</td>\n",
       "</tr>\n",
       "<tr>\n",
       "  <th>Df Residuals:</th>          <td>     8</td>      <th>  BIC:               </th> <td>   205.7</td>\n",
       "</tr>\n",
       "<tr>\n",
       "  <th>Df Model:</th>              <td>     1</td>      <th>                     </th>     <td> </td>   \n",
       "</tr>\n",
       "<tr>\n",
       "  <th>Covariance Type:</th>      <td>nonrobust</td>    <th>                     </th>     <td> </td>   \n",
       "</tr>\n",
       "</table>\n",
       "<table class=\"simpletable\">\n",
       "<tr>\n",
       "      <td></td>         <th>coef</th>     <th>std err</th>      <th>t</th>      <th>P>|t|</th>  <th>[0.025</th>    <th>0.975]</th>  \n",
       "</tr>\n",
       "<tr>\n",
       "  <th>Intercept</th> <td> -468.3470</td> <td> 3719.231</td> <td>   -0.126</td> <td> 0.903</td> <td>-9044.909</td> <td> 8108.215</td>\n",
       "</tr>\n",
       "<tr>\n",
       "  <th>total</th>     <td>    0.4054</td> <td>    0.074</td> <td>    5.468</td> <td> 0.001</td> <td>    0.234</td> <td>    0.576</td>\n",
       "</tr>\n",
       "</table>\n",
       "<table class=\"simpletable\">\n",
       "<tr>\n",
       "  <th>Omnibus:</th>       <td> 4.169</td> <th>  Durbin-Watson:     </th> <td>   2.186</td>\n",
       "</tr>\n",
       "<tr>\n",
       "  <th>Prob(Omnibus):</th> <td> 0.124</td> <th>  Jarque-Bera (JB):  </th> <td>   1.148</td>\n",
       "</tr>\n",
       "<tr>\n",
       "  <th>Skew:</th>          <td> 0.731</td> <th>  Prob(JB):          </th> <td>   0.563</td>\n",
       "</tr>\n",
       "<tr>\n",
       "  <th>Kurtosis:</th>      <td> 3.787</td> <th>  Cond. No.          </th> <td>9.36e+04</td>\n",
       "</tr>\n",
       "</table><br/><br/>Notes:<br/>[1] Standard Errors assume that the covariance matrix of the errors is correctly specified.<br/>[2] The condition number is large, 9.36e+04. This might indicate that there are<br/>strong multicollinearity or other numerical problems."
      ],
      "text/plain": [
       "<class 'statsmodels.iolib.summary.Summary'>\n",
       "\"\"\"\n",
       "                            OLS Regression Results                            \n",
       "==============================================================================\n",
       "Dep. Variable:                     nz   R-squared:                       0.789\n",
       "Model:                            OLS   Adj. R-squared:                  0.763\n",
       "Method:                 Least Squares   F-statistic:                     29.90\n",
       "Date:                Tue, 01 Mar 2022   Prob (F-statistic):           0.000596\n",
       "Time:                        21:45:23   Log-Likelihood:                -100.56\n",
       "No. Observations:                  10   AIC:                             205.1\n",
       "Df Residuals:                       8   BIC:                             205.7\n",
       "Df Model:                           1                                         \n",
       "Covariance Type:            nonrobust                                         \n",
       "==============================================================================\n",
       "                 coef    std err          t      P>|t|      [0.025      0.975]\n",
       "------------------------------------------------------------------------------\n",
       "Intercept   -468.3470   3719.231     -0.126      0.903   -9044.909    8108.215\n",
       "total          0.4054      0.074      5.468      0.001       0.234       0.576\n",
       "==============================================================================\n",
       "Omnibus:                        4.169   Durbin-Watson:                   2.186\n",
       "Prob(Omnibus):                  0.124   Jarque-Bera (JB):                1.148\n",
       "Skew:                           0.731   Prob(JB):                        0.563\n",
       "Kurtosis:                       3.787   Cond. No.                     9.36e+04\n",
       "==============================================================================\n",
       "\n",
       "Notes:\n",
       "[1] Standard Errors assume that the covariance matrix of the errors is correctly specified.\n",
       "[2] The condition number is large, 9.36e+04. This might indicate that there are\n",
       "strong multicollinearity or other numerical problems.\n",
       "\"\"\""
      ]
     },
     "execution_count": 55,
     "metadata": {},
     "output_type": "execute_result"
    }
   ],
   "source": [
    "total_vs_nz = mutblind_cond.groupby('crate').apply(lambda df: pd.DataFrame([{\n",
    "    'total': crate_final.num_slices[df.crate.iloc[0]],\n",
    "     'nz': len(df[df.instructions_relative_base > 0])\n",
    "}]))\n",
    "result = sm.ols('nz ~ total', data=total_vs_nz).fit()\n",
    "result.summary()"
   ]
  },
  {
   "cell_type": "markdown",
   "id": "7df7c819",
   "metadata": {},
   "source": [
    "## 5.4.2 statistics"
   ]
  },
  {
   "cell_type": "code",
   "execution_count": 25,
   "id": "9364685c",
   "metadata": {
    "ExecuteTime": {
     "end_time": "2022-03-02T05:16:02.641016Z",
     "start_time": "2022-03-02T05:16:02.535870Z"
    }
   },
   "outputs": [
    {
     "data": {
      "text/plain": [
       "0.9384392715561716"
      ]
     },
     "execution_count": 25,
     "metadata": {},
     "output_type": "execute_result"
    }
   ],
   "source": [
    "len(modular_cond[modular_cond.reached_library]) / len(modular_cond)"
   ]
  },
  {
   "cell_type": "code",
   "execution_count": 26,
   "id": "49dd23ba",
   "metadata": {
    "ExecuteTime": {
     "end_time": "2022-03-02T05:16:02.771911Z",
     "start_time": "2022-03-02T05:16:02.643213Z"
    }
   },
   "outputs": [
    {
     "data": {
      "text/plain": [
       "reached_library\n",
       "False    0.006597\n",
       "True     0.066321\n",
       "dtype: float64"
      ]
     },
     "execution_count": 26,
     "metadata": {},
     "output_type": "execute_result"
    }
   ],
   "source": [
    "modular_cond.groupby('reached_library').apply(lambda df: len(df[df.ins_rel_nonzero]) / len(df))"
   ]
  }
 ],
 "metadata": {
  "kernelspec": {
   "display_name": "Python 3 (ipykernel)",
   "language": "python",
   "name": "python3"
  },
  "language_info": {
   "codemirror_mode": {
    "name": "ipython",
    "version": 3
   },
   "file_extension": ".py",
   "mimetype": "text/x-python",
   "name": "python",
   "nbconvert_exporter": "python",
   "pygments_lexer": "ipython3",
   "version": "3.7.2"
  },
  "toc": {
   "base_numbering": 1,
   "nav_menu": {},
   "number_sections": true,
   "sideBar": true,
   "skip_h1_title": false,
   "title_cell": "Table of Contents",
   "title_sidebar": "Contents",
   "toc_cell": false,
   "toc_position": {},
   "toc_section_display": true,
   "toc_window_display": false
  },
  "varInspector": {
   "cols": {
    "lenName": 16,
    "lenType": 16,
    "lenVar": 40
   },
   "kernels_config": {
    "python": {
     "delete_cmd_postfix": "",
     "delete_cmd_prefix": "del ",
     "library": "var_list.py",
     "varRefreshCmd": "print(var_dic_list())"
    },
    "r": {
     "delete_cmd_postfix": ") ",
     "delete_cmd_prefix": "rm(",
     "library": "var_list.r",
     "varRefreshCmd": "cat(var_dic_list()) "
    }
   },
   "types_to_exclude": [
    "module",
    "function",
    "builtin_function_or_method",
    "instance",
    "_Feature"
   ],
   "window_display": false
  }
 },
 "nbformat": 4,
 "nbformat_minor": 5
}
