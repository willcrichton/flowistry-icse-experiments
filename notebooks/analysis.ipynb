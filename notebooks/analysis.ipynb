{
 "cells": [
  {
   "cell_type": "code",
   "execution_count": null,
   "id": "94b2f1af",
   "metadata": {
    "ExecuteTime": {
     "end_time": "2022-04-14T20:19:30.464487Z",
     "start_time": "2022-04-14T20:19:28.718143Z"
    }
   },
   "outputs": [],
   "source": [
    "import pandas as pd\n",
    "from pandas.api.types import CategoricalDtype as Category\n",
    "import matplotlib.pyplot as plt\n",
    "from glob import glob\n",
    "import seaborn as sns\n",
    "import numpy as np\n",
    "from iterextras import par_for\n",
    "import subprocess as sp\n",
    "import os\n",
    "import itertools\n",
    "from tqdm.auto import tqdm\n",
    "import rs_utils\n",
    "from scipy.stats import gmean\n",
    "import matplotlib as mpl\n",
    "import json\n",
    "import statsmodels.formula.api as sm\n",
    "from matplotlib import rc\n",
    "import subprocess as sp\n",
    "\n",
    "sns.set(\n",
    "    style='whitegrid',\n",
    "    palette='tab10', \n",
    "    rc={\n",
    "        'font.family': 'serif', \n",
    "        'font.serif': ['Linux Libertine O'],\n",
    "        'text.usetex': True,\n",
    "        'text.latex.preamble': r'\\usepackage{libertine}\\usepackage[libertine]{newtxmath}'\n",
    "    })"
   ]
  },
  {
   "cell_type": "code",
   "execution_count": null,
   "id": "06a1e63f",
   "metadata": {
    "ExecuteTime": {
     "end_time": "2022-04-14T20:19:46.116372Z",
     "start_time": "2022-04-14T20:19:30.467218Z"
    }
   },
   "outputs": [],
   "source": [
    "PATHS = glob('../data/*.json')\n",
    "CRATES = [os.path.splitext(os.path.basename(path))[0] for path in PATHS]\n",
    "crate_cat = Category(sorted(CRATES))\n",
    "\n",
    "def parse_data(path):\n",
    "    print(path)\n",
    "    if os.stat(path).st_size == 0:\n",
    "        return []\n",
    "    \n",
    "    crate = os.path.splitext(os.path.basename(path))[0]\n",
    "    df = pd.read_json(path)\n",
    "    df['crate'] = crate\n",
    "    df['crate'] = df['crate'].astype(crate_cat)\n",
    "    return df\n",
    "\n",
    "\n",
    "df = pd.concat(par_for(parse_data, PATHS)).reset_index()"
   ]
  },
  {
   "cell_type": "code",
   "execution_count": null,
   "id": "b8451670",
   "metadata": {
    "ExecuteTime": {
     "end_time": "2022-04-14T20:19:46.176799Z",
     "start_time": "2022-04-14T20:19:46.118771Z"
    }
   },
   "outputs": [],
   "source": [
    "df['tok_frac'] = df.num_relevant_tokens / df.num_tokens\n",
    "df['line_frac'] = df.num_relevant_lines / df.num_lines\n",
    "\n",
    "cutoff = int(np.round(df.num_lines.mean()))\n",
    "df['big_func'] = df.num_lines >= cutoff\n",
    "df['func_bin'] = df.num_lines // 50 * 50\n",
    "df['func_quartile'] = pd.qcut(df.num_lines, [0, 0.25, 0.5, 0.75, 1.])"
   ]
  },
  {
   "cell_type": "markdown",
   "id": "b921d8da",
   "metadata": {},
   "source": [
    "# Methodology (Section 4.1)\n",
    "\n",
    "\n"
   ]
  },
  {
   "cell_type": "markdown",
   "id": "147656f0",
   "metadata": {},
   "source": [
    "## Table 3"
   ]
  },
  {
   "cell_type": "code",
   "execution_count": null,
   "id": "b408dee3",
   "metadata": {
    "ExecuteTime": {
     "end_time": "2022-04-14T20:19:46.184221Z",
     "start_time": "2022-04-14T20:19:46.179476Z"
    }
   },
   "outputs": [],
   "source": [
    "CRATE_INFO = [\n",
    "    ('Rocket', 'core/lib', 'Web backend framework', 'https://github.com/SergioBenitez/Rocket'),\n",
    "    ('image', None, 'Image processing library', 'https://github.com/image-rs/image'),\n",
    "    ('rayon', None, 'Data parallelism library', 'https://github.com/rayon-rs/rayon'),\n",
    "    ('rg3d', None, '3D game engine', 'https://github.com/mrDIMAS/rg3d'),    \n",
    "    ('nalgebra', None, 'Numerics library', 'https://github.com/dimforge/nalgebra'),\n",
    "    ('rustls', 'rustls', 'TLS implementation', 'https://github.com/ctz/rustls'),\n",
    "    ('sccache', None, 'Distributed build cache', 'https://github.com/mozilla/sccache'),\n",
    "    ('hyper', None, 'HTTP server', 'https://github.com/hyperium/hyper'),    \n",
    "    ('rav1e', None, 'Video encoder', 'https://github.com/xiph/rav1e'),\n",
    "    ('RustPython', 'vm', 'Python interpreter', 'https://github.com/RustPython/RustPython'),\n",
    "]"
   ]
  },
  {
   "cell_type": "code",
   "execution_count": null,
   "id": "1d9620f7",
   "metadata": {
    "ExecuteTime": {
     "end_time": "2022-04-14T20:19:46.952503Z",
     "start_time": "2022-04-14T20:19:46.186790Z"
    }
   },
   "outputs": [],
   "source": [
    "bwd = df[df.direction == 'Backward']\n",
    "counts = bwd.groupby(['crate', 'function_path']).size().rename('count')\n",
    "counts = counts[counts > 0].reset_index()\n",
    "\n",
    "num_funcs = counts.groupby('crate').size().rename('num_funcs')\n",
    "num_slices = counts.groupby('crate')['count'].sum().rename('num_slices')\n",
    "avg_slices_per_func = counts.groupby('crate')['count'].mean().rename('avg_slices_per_func')\n",
    "crate_stats = pd.concat([num_slices, avg_slices_per_func, num_funcs], axis=1).sort_values('num_slices')\n",
    "crate_stats"
   ]
  },
  {
   "cell_type": "code",
   "execution_count": null,
   "id": "4267f495",
   "metadata": {
    "ExecuteTime": {
     "end_time": "2022-04-14T20:19:55.532424Z",
     "start_time": "2022-04-14T20:19:46.954963Z"
    }
   },
   "outputs": [],
   "source": [
    "CLOC = 'cloc'\n",
    "crate_loc = []\n",
    "for (crate, path, purpose, url) in CRATE_INFO:\n",
    "    crate_dir = f'../data/repos/{crate}'\n",
    "    if path:\n",
    "        crate_dir += f'/{path}'\n",
    "    crate_dir += '/src'    \n",
    "    cloc_str = sp.check_output(f'{CLOC} {crate_dir} --json', shell=True).strip()\n",
    "    commit = sp.check_output('git rev-parse HEAD', shell=True, cwd=crate_dir).strip().decode('utf-8')\n",
    "    cloc = json.loads(cloc_str)\n",
    "    crate_loc.append({\n",
    "        \"crate\": crate,\n",
    "        'subdir': path,\n",
    "        'purpose': purpose,\n",
    "        \"url\": url,\n",
    "        \"commit\": commit,\n",
    "        \"loc\": cloc[\"Rust\"][\"code\"],\n",
    "    })\n",
    "crate_loc = pd.DataFrame(crate_loc)"
   ]
  },
  {
   "cell_type": "code",
   "execution_count": null,
   "id": "456b7d7a",
   "metadata": {
    "ExecuteTime": {
     "end_time": "2022-04-14T20:19:55.553489Z",
     "start_time": "2022-04-14T20:19:55.535119Z"
    }
   },
   "outputs": [],
   "source": [
    "crate_final = crate_stats.join(crate_loc.set_index(\"crate\")).sort_values('num_slices')\n",
    "for crate, row in  crate_final.iterrows():\n",
    "    print(f'\\href{{{row.url}}}{{{crate}}} & {row.subdir or \"\"} & {row.purpose} & {row[\"loc\"]:,} & \\\n",
    "{row.num_slices:,} & {row.num_funcs:,} & {row.avg_slices_per_func:.1f} \\\\\\\\ \\hline')\n",
    "print('\\\\multicolumn{1}{l}{} & \\\\multicolumn{1}{l}{} & \\\\multicolumn{1}{r|}{\\\\textbf{Total:}} &')\n",
    "print(f'{crate_final[\"loc\"].sum():,} & {crate_final.num_slices.sum():,} & {crate_final.num_funcs.sum():,}')"
   ]
  },
  {
   "cell_type": "markdown",
   "id": "5d8b2268",
   "metadata": {},
   "source": [
    "## Dataset size"
   ]
  },
  {
   "cell_type": "code",
   "execution_count": null,
   "id": "b5e71d83",
   "metadata": {
    "ExecuteTime": {
     "end_time": "2022-04-14T20:19:55.559156Z",
     "start_time": "2022-04-14T20:19:55.555579Z"
    }
   },
   "outputs": [],
   "source": [
    "print(f'{len(df)} samples, {len(df)//3} focus regions')"
   ]
  },
  {
   "cell_type": "markdown",
   "id": "ee61412f",
   "metadata": {},
   "source": [
    "\n",
    "# Results (Section 4.2)"
   ]
  },
  {
   "cell_type": "markdown",
   "id": "d9d1300e",
   "metadata": {
    "ExecuteTime": {
     "end_time": "2022-04-13T01:07:11.637303Z",
     "start_time": "2022-04-13T01:07:11.620668Z"
    }
   },
   "source": [
    "## Distribution of slice sizes by direction"
   ]
  },
  {
   "cell_type": "code",
   "execution_count": null,
   "id": "3077614c",
   "metadata": {
    "ExecuteTime": {
     "end_time": "2022-04-14T20:19:56.403397Z",
     "start_time": "2022-04-14T20:19:55.561065Z"
    }
   },
   "outputs": [],
   "source": [
    "df.groupby('direction').line_frac.describe()[['25%', '50%', '75%']]"
   ]
  },
  {
   "cell_type": "markdown",
   "id": "e684d322",
   "metadata": {},
   "source": [
    "## Figure 5-top-left"
   ]
  },
  {
   "cell_type": "code",
   "execution_count": null,
   "id": "9802112f",
   "metadata": {
    "ExecuteTime": {
     "end_time": "2022-04-14T20:19:59.104401Z",
     "start_time": "2022-04-14T20:19:56.406760Z"
    }
   },
   "outputs": [],
   "source": [
    "HEIGHT = 2.5\n",
    "plt.figure(figsize=(2.75, HEIGHT))\n",
    "ax = sns.boxplot(data=df, x='direction', y='line_frac', width=0.5)\n",
    "ax.set_xlabel('Direction')\n",
    "ax.set_ylabel('Slice size')\n",
    "plt.savefig('linefrac.pdf', bbox_inches='tight')"
   ]
  },
  {
   "cell_type": "markdown",
   "id": "521e6fc1",
   "metadata": {},
   "source": [
    "## Distribution of slice sizes by function size and direction"
   ]
  },
  {
   "cell_type": "code",
   "execution_count": null,
   "id": "2d545bf6",
   "metadata": {
    "ExecuteTime": {
     "end_time": "2022-04-14T20:19:59.890965Z",
     "start_time": "2022-04-14T20:19:59.106757Z"
    }
   },
   "outputs": [],
   "source": [
    "df.groupby(['big_func', 'direction']).line_frac.describe()[['25%', '50%', '75%']]"
   ]
  },
  {
   "cell_type": "markdown",
   "id": "af412e76",
   "metadata": {},
   "source": [
    "## Figure 5-top-right"
   ]
  },
  {
   "cell_type": "code",
   "execution_count": null,
   "id": "c673a9a1",
   "metadata": {
    "ExecuteTime": {
     "end_time": "2022-04-14T20:20:02.069521Z",
     "start_time": "2022-04-14T20:19:59.892947Z"
    }
   },
   "outputs": [],
   "source": [
    "plt.figure(figsize=(5, HEIGHT))\n",
    "ax = sns.boxplot(data=df, x='big_func', y='line_frac', hue='direction', width=0.5)\n",
    "ax.set_xlabel(f'$\\\\geq {cutoff}$ lines of code?')\n",
    "ax.set_ylabel('Slice size')\n",
    "ax.legend(bbox_to_anchor=(1.05, 1), loc=2, borderaxespad=0., frameon=False)\n",
    "plt.tight_layout()\n",
    "plt.savefig('linefrac-by-size.pdf', bbox_inches='tight')"
   ]
  },
  {
   "cell_type": "markdown",
   "id": "c47ae566",
   "metadata": {},
   "source": [
    "## Figure 5-bottom"
   ]
  },
  {
   "cell_type": "code",
   "execution_count": null,
   "id": "eb4556cb",
   "metadata": {
    "ExecuteTime": {
     "end_time": "2022-04-14T20:20:04.725152Z",
     "start_time": "2022-04-14T20:20:02.072244Z"
    }
   },
   "outputs": [],
   "source": [
    "plt.figure(figsize=(8, HEIGHT))\n",
    "order = df.groupby('crate').tok_frac.median().sort_values().index.tolist()\n",
    "ax = sns.boxplot(data=df, x='crate', y='tok_frac', hue='direction', fliersize=0,  order=order, width=0.6)\n",
    "ax.get_legend().remove()\n",
    "ax.set_xlabel('Crate')\n",
    "ax.set_ylabel('Slice size')\n",
    "plt.tight_layout()\n",
    "plt.savefig('linefrac-by-size-crate.pdf', bbox_inches='tight')"
   ]
  }
 ],
 "metadata": {
  "kernelspec": {
   "display_name": "Python 3",
   "language": "python",
   "name": "python3"
  },
  "language_info": {
   "codemirror_mode": {
    "name": "ipython",
    "version": 3
   },
   "file_extension": ".py",
   "mimetype": "text/x-python",
   "name": "python",
   "nbconvert_exporter": "python",
   "pygments_lexer": "ipython3",
   "version": "3.7.2"
  },
  "toc": {
   "base_numbering": 1,
   "nav_menu": {},
   "number_sections": true,
   "sideBar": true,
   "skip_h1_title": false,
   "title_cell": "Table of Contents",
   "title_sidebar": "Contents",
   "toc_cell": false,
   "toc_position": {},
   "toc_section_display": true,
   "toc_window_display": false
  },
  "varInspector": {
   "cols": {
    "lenName": 16,
    "lenType": 16,
    "lenVar": 40
   },
   "kernels_config": {
    "python": {
     "delete_cmd_postfix": "",
     "delete_cmd_prefix": "del ",
     "library": "var_list.py",
     "varRefreshCmd": "print(var_dic_list())"
    },
    "r": {
     "delete_cmd_postfix": ") ",
     "delete_cmd_prefix": "rm(",
     "library": "var_list.r",
     "varRefreshCmd": "cat(var_dic_list()) "
    }
   },
   "types_to_exclude": [
    "module",
    "function",
    "builtin_function_or_method",
    "instance",
    "_Feature"
   ],
   "window_display": false
  }
 },
 "nbformat": 4,
 "nbformat_minor": 5
}
