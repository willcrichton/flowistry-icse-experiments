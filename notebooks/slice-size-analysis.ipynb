{
 "cells": [
  {
   "cell_type": "markdown",
   "id": "924b13fe",
   "metadata": {},
   "source": [
    "# Slice Size Analysis\n",
    "This notebook reproduces the statistics and figures in Section 3 of the paper \"Helping Programmers Find Relevant Code with Modular Slices\"."
   ]
  },
  {
   "cell_type": "code",
   "execution_count": 1,
   "id": "94b2f1af",
   "metadata": {
    "ExecuteTime": {
     "end_time": "2022-09-01T00:16:33.030268Z",
     "start_time": "2022-09-01T00:16:31.396830Z"
    }
   },
   "outputs": [],
   "source": [
    "import pandas as pd\n",
    "from pandas.api.types import CategoricalDtype as Category\n",
    "import matplotlib.pyplot as plt\n",
    "from glob import glob\n",
    "import seaborn as sns\n",
    "import numpy as np\n",
    "from iterextras import par_for\n",
    "import subprocess as sp\n",
    "import os\n",
    "import itertools\n",
    "from tqdm.auto import tqdm\n",
    "from scipy.stats import gmean\n",
    "import matplotlib as mpl\n",
    "import json\n",
    "import statsmodels.formula.api as sm\n",
    "from matplotlib import rc\n",
    "import subprocess as sp\n",
    "\n",
    "sns.set(\n",
    "    style='whitegrid',\n",
    "    palette='tab10', \n",
    "    \n",
    "    ### Uncomment the code below to get the figures to look *exactly* like the paper.\n",
    "    ### Requires LaTeX to be installed.\n",
    "    \n",
    "    rc={\n",
    "        'font.family': 'serif', \n",
    "        'font.serif': ['Linux Libertine O'],\n",
    "        'text.usetex': True,\n",
    "        'text.latex.preamble': r'\\usepackage{libertine}\\usepackage[libertine]{newtxmath}'\n",
    "    }\n",
    ")"
   ]
  },
  {
   "cell_type": "code",
   "execution_count": 2,
   "id": "06a1e63f",
   "metadata": {
    "ExecuteTime": {
     "end_time": "2022-09-01T00:16:46.112329Z",
     "start_time": "2022-09-01T00:16:33.032846Z"
    }
   },
   "outputs": [
    {
     "name": "stdout",
     "output_type": "stream",
     "text": [
      "../data/slices/rav1e.json\n",
      "../data/slices/hyper.json\n",
      "../data/slices/image.json\n",
      "../data/slices/RustPython.json\n",
      "../data/slices/rg3d.json\n",
      "../data/slices/rayon.json\n",
      "../data/slices/rustls.json\n",
      "../data/slices/Rocket.json\n",
      "../data/slices/nalgebra.json\n",
      "../data/slices/sccache.json\n"
     ]
    },
    {
     "data": {
      "application/vnd.jupyter.widget-view+json": {
       "model_id": "043f656f9162437abc2f470f31048038",
       "version_major": 2,
       "version_minor": 0
      },
      "text/plain": [
       "  0%|          | 0/10 [00:02<?, ?it/s]"
      ]
     },
     "metadata": {},
     "output_type": "display_data"
    }
   ],
   "source": [
    "PATHS = glob('../data/slices/*.json')\n",
    "CRATES = [os.path.splitext(os.path.basename(path))[0] for path in PATHS]\n",
    "crate_cat = Category(sorted(CRATES))\n",
    "\n",
    "def parse_data(path):\n",
    "    print(path)\n",
    "    if os.stat(path).st_size == 0:\n",
    "        return []\n",
    "    \n",
    "    crate = os.path.splitext(os.path.basename(path))[0]\n",
    "    df = pd.read_json(path)\n",
    "    df['crate'] = crate\n",
    "    df['crate'] = df['crate'].astype(crate_cat)\n",
    "    return df\n",
    "\n",
    "\n",
    "df = pd.concat(par_for(parse_data, PATHS)).reset_index()\n",
    "df = df[df.num_lines > 0]"
   ]
  },
  {
   "cell_type": "code",
   "execution_count": 3,
   "id": "b8451670",
   "metadata": {
    "ExecuteTime": {
     "end_time": "2022-09-01T00:16:46.177348Z",
     "start_time": "2022-09-01T00:16:46.114418Z"
    }
   },
   "outputs": [],
   "source": [
    "df['tok_frac'] = df.num_relevant_tokens / df.num_tokens\n",
    "df['line_frac'] = df.num_relevant_lines / df.num_lines\n",
    "\n",
    "cutoff = int(np.round(df.num_lines.mean()))\n",
    "df['big_func'] = df.num_lines >= cutoff\n",
    "df['func_bin'] = df.num_lines // 50 * 50\n",
    "df['func_quartile'] = pd.qcut(df.num_lines, [0, 0.25, 0.5, 0.75, 1.])"
   ]
  },
  {
   "cell_type": "markdown",
   "id": "b921d8da",
   "metadata": {},
   "source": [
    "# Methodology (Section 3.1)\n",
    "\n",
    "\n"
   ]
  },
  {
   "cell_type": "markdown",
   "id": "147656f0",
   "metadata": {},
   "source": [
    "## Table 1"
   ]
  },
  {
   "cell_type": "code",
   "execution_count": 4,
   "id": "b408dee3",
   "metadata": {
    "ExecuteTime": {
     "end_time": "2022-09-01T00:16:46.184182Z",
     "start_time": "2022-09-01T00:16:46.179506Z"
    }
   },
   "outputs": [],
   "source": [
    "CRATE_INFO = [\n",
    "    ('Rocket', 'core/lib', 'Web backend framework', 'https://github.com/SergioBenitez/Rocket'),\n",
    "    ('image', None, 'Image processing library', 'https://github.com/image-rs/image'),\n",
    "    ('rayon', None, 'Data parallelism library', 'https://github.com/rayon-rs/rayon'),\n",
    "    ('rg3d', None, '3D game engine', 'https://github.com/mrDIMAS/rg3d'),    \n",
    "    ('nalgebra', None, 'Numerics library', 'https://github.com/dimforge/nalgebra'),\n",
    "    ('rustls', 'rustls', 'TLS implementation', 'https://github.com/ctz/rustls'),\n",
    "    ('sccache', None, 'Distributed build cache', 'https://github.com/mozilla/sccache'),\n",
    "    ('hyper', None, 'HTTP server', 'https://github.com/hyperium/hyper'),    \n",
    "    ('rav1e', None, 'Video encoder', 'https://github.com/xiph/rav1e'),\n",
    "    ('RustPython', 'vm', 'Python interpreter', 'https://github.com/RustPython/RustPython'),\n",
    "]"
   ]
  },
  {
   "cell_type": "code",
   "execution_count": 5,
   "id": "1d9620f7",
   "metadata": {
    "ExecuteTime": {
     "end_time": "2022-09-01T00:16:46.973180Z",
     "start_time": "2022-09-01T00:16:46.186905Z"
    }
   },
   "outputs": [
    {
     "data": {
      "text/html": [
       "<div>\n",
       "<style scoped>\n",
       "    .dataframe tbody tr th:only-of-type {\n",
       "        vertical-align: middle;\n",
       "    }\n",
       "\n",
       "    .dataframe tbody tr th {\n",
       "        vertical-align: top;\n",
       "    }\n",
       "\n",
       "    .dataframe thead th {\n",
       "        text-align: right;\n",
       "    }\n",
       "</style>\n",
       "<table border=\"1\" class=\"dataframe\">\n",
       "  <thead>\n",
       "    <tr style=\"text-align: right;\">\n",
       "      <th></th>\n",
       "      <th>num_slices</th>\n",
       "      <th>avg_slices_per_func</th>\n",
       "      <th>num_funcs</th>\n",
       "    </tr>\n",
       "    <tr>\n",
       "      <th>crate</th>\n",
       "      <th></th>\n",
       "      <th></th>\n",
       "      <th></th>\n",
       "    </tr>\n",
       "  </thead>\n",
       "  <tbody>\n",
       "    <tr>\n",
       "      <th>Rocket</th>\n",
       "      <td>7623</td>\n",
       "      <td>10.218499</td>\n",
       "      <td>746</td>\n",
       "    </tr>\n",
       "    <tr>\n",
       "      <th>rayon</th>\n",
       "      <td>10958</td>\n",
       "      <td>9.247257</td>\n",
       "      <td>1185</td>\n",
       "    </tr>\n",
       "    <tr>\n",
       "      <th>hyper</th>\n",
       "      <td>10968</td>\n",
       "      <td>13.761606</td>\n",
       "      <td>797</td>\n",
       "    </tr>\n",
       "    <tr>\n",
       "      <th>sccache</th>\n",
       "      <td>13464</td>\n",
       "      <td>20.906832</td>\n",
       "      <td>644</td>\n",
       "    </tr>\n",
       "    <tr>\n",
       "      <th>rustls</th>\n",
       "      <td>15433</td>\n",
       "      <td>17.320988</td>\n",
       "      <td>891</td>\n",
       "    </tr>\n",
       "    <tr>\n",
       "      <th>nalgebra</th>\n",
       "      <td>28248</td>\n",
       "      <td>15.658537</td>\n",
       "      <td>1804</td>\n",
       "    </tr>\n",
       "    <tr>\n",
       "      <th>image</th>\n",
       "      <td>29705</td>\n",
       "      <td>26.194885</td>\n",
       "      <td>1134</td>\n",
       "    </tr>\n",
       "    <tr>\n",
       "      <th>rg3d</th>\n",
       "      <td>46865</td>\n",
       "      <td>13.572256</td>\n",
       "      <td>3453</td>\n",
       "    </tr>\n",
       "    <tr>\n",
       "      <th>rav1e</th>\n",
       "      <td>57713</td>\n",
       "      <td>61.725134</td>\n",
       "      <td>935</td>\n",
       "    </tr>\n",
       "    <tr>\n",
       "      <th>RustPython</th>\n",
       "      <td>73979</td>\n",
       "      <td>19.478410</td>\n",
       "      <td>3798</td>\n",
       "    </tr>\n",
       "  </tbody>\n",
       "</table>\n",
       "</div>"
      ],
      "text/plain": [
       "            num_slices  avg_slices_per_func  num_funcs\n",
       "crate                                                 \n",
       "Rocket            7623            10.218499        746\n",
       "rayon            10958             9.247257       1185\n",
       "hyper            10968            13.761606        797\n",
       "sccache          13464            20.906832        644\n",
       "rustls           15433            17.320988        891\n",
       "nalgebra         28248            15.658537       1804\n",
       "image            29705            26.194885       1134\n",
       "rg3d             46865            13.572256       3453\n",
       "rav1e            57713            61.725134        935\n",
       "RustPython       73979            19.478410       3798"
      ]
     },
     "execution_count": 5,
     "metadata": {},
     "output_type": "execute_result"
    }
   ],
   "source": [
    "bwd = df[df.direction == 'Backward']\n",
    "counts = bwd.groupby(['crate', 'function_path']).size().rename('count')\n",
    "counts = counts[counts > 0].reset_index()\n",
    "\n",
    "num_funcs = counts.groupby('crate').size().rename('num_funcs')\n",
    "num_slices = counts.groupby('crate')['count'].sum().rename('num_slices')\n",
    "avg_slices_per_func = counts.groupby('crate')['count'].mean().rename('avg_slices_per_func')\n",
    "crate_stats = pd.concat([num_slices, avg_slices_per_func, num_funcs], axis=1).sort_values('num_slices')\n",
    "crate_stats"
   ]
  },
  {
   "cell_type": "code",
   "execution_count": 6,
   "id": "4267f495",
   "metadata": {
    "ExecuteTime": {
     "end_time": "2022-09-01T00:16:53.494340Z",
     "start_time": "2022-09-01T00:16:46.975136Z"
    }
   },
   "outputs": [],
   "source": [
    "CLOC = 'cloc'\n",
    "crate_loc = []\n",
    "for (crate, path, purpose, url) in CRATE_INFO:\n",
    "    crate_dir = f'../data/repos/{crate}'\n",
    "    if path:\n",
    "        crate_dir += f'/{path}'\n",
    "    crate_dir += '/src'    \n",
    "    cloc_str = sp.check_output(f'{CLOC} {crate_dir} --json', shell=True).strip()\n",
    "    commit = sp.check_output('git rev-parse HEAD', shell=True, cwd=crate_dir).strip().decode('utf-8')\n",
    "    cloc = json.loads(cloc_str)\n",
    "    crate_loc.append({\n",
    "        \"crate\": crate,\n",
    "        'subdir': path,\n",
    "        'purpose': purpose,\n",
    "        \"url\": url,\n",
    "        \"commit\": commit,\n",
    "        \"loc\": cloc[\"Rust\"][\"code\"],\n",
    "    })\n",
    "crate_loc = pd.DataFrame(crate_loc)"
   ]
  },
  {
   "cell_type": "code",
   "execution_count": 7,
   "id": "456b7d7a",
   "metadata": {
    "ExecuteTime": {
     "end_time": "2022-09-01T00:16:53.511230Z",
     "start_time": "2022-09-01T00:16:53.497221Z"
    }
   },
   "outputs": [
    {
     "name": "stdout",
     "output_type": "stream",
     "text": [
      "\\href{https://github.com/SergioBenitez/Rocket}{Rocket} & core/lib & Web backend framework & 9,313 & 7,623 & 746 & 10.2 \\\\ \\hline\n",
      "\\href{https://github.com/rayon-rs/rayon}{rayon} &  & Data parallelism library & 15,524 & 10,958 & 1,185 & 9.2 \\\\ \\hline\n",
      "\\href{https://github.com/hyperium/hyper}{hyper} &  & HTTP server & 15,082 & 10,968 & 797 & 13.8 \\\\ \\hline\n",
      "\\href{https://github.com/mozilla/sccache}{sccache} &  & Distributed build cache & 23,202 & 13,464 & 644 & 20.9 \\\\ \\hline\n",
      "\\href{https://github.com/ctz/rustls}{rustls} & rustls & TLS implementation & 16,866 & 15,433 & 891 & 17.3 \\\\ \\hline\n",
      "\\href{https://github.com/dimforge/nalgebra}{nalgebra} &  & Numerics library & 31,951 & 28,248 & 1,804 & 15.7 \\\\ \\hline\n",
      "\\href{https://github.com/image-rs/image}{image} &  & Image processing library & 20,722 & 29,705 & 1,134 & 26.2 \\\\ \\hline\n",
      "\\href{https://github.com/mrDIMAS/rg3d}{rg3d} &  & 3D game engine & 54,426 & 46,865 & 3,453 & 13.6 \\\\ \\hline\n",
      "\\href{https://github.com/xiph/rav1e}{rav1e} &  & Video encoder & 50,294 & 57,713 & 935 & 61.7 \\\\ \\hline\n",
      "\\href{https://github.com/RustPython/RustPython}{RustPython} & vm & Python interpreter & 54,286 & 73,979 & 3,798 & 19.5 \\\\ \\hline\n",
      "\\multicolumn{1}{l}{} & \\multicolumn{1}{l}{} & \\multicolumn{1}{r|}{\\textbf{Total:}} &\n",
      "291,666 & 294,956 & 15,387\n"
     ]
    }
   ],
   "source": [
    "crate_final = crate_stats.join(crate_loc.set_index(\"crate\")).sort_values('num_slices')\n",
    "for crate, row in  crate_final.iterrows():\n",
    "    print(f'\\href{{{row.url}}}{{{crate}}} & {row.subdir or \"\"} & {row.purpose} & {row[\"loc\"]:,} & \\\n",
    "{row.num_slices:,} & {row.num_funcs:,} & {row.avg_slices_per_func:.1f} \\\\\\\\ \\hline')\n",
    "print('\\\\multicolumn{1}{l}{} & \\\\multicolumn{1}{l}{} & \\\\multicolumn{1}{r|}{\\\\textbf{Total:}} &')\n",
    "print(f'{crate_final[\"loc\"].sum():,} & {crate_final.num_slices.sum():,} & {crate_final.num_funcs.sum():,}')"
   ]
  },
  {
   "cell_type": "markdown",
   "id": "5d8b2268",
   "metadata": {},
   "source": [
    "## Dataset size"
   ]
  },
  {
   "cell_type": "code",
   "execution_count": 8,
   "id": "b5e71d83",
   "metadata": {
    "ExecuteTime": {
     "end_time": "2022-09-01T00:16:53.516776Z",
     "start_time": "2022-09-01T00:16:53.513206Z"
    }
   },
   "outputs": [
    {
     "name": "stdout",
     "output_type": "stream",
     "text": [
      "884868 samples, 294956 focus regions\n"
     ]
    }
   ],
   "source": [
    "print(f'{len(df)} samples, {len(df)//3} focus regions')"
   ]
  },
  {
   "cell_type": "markdown",
   "id": "ee61412f",
   "metadata": {},
   "source": [
    "\n",
    "# Results (Section 3.2)"
   ]
  },
  {
   "cell_type": "markdown",
   "id": "d9d1300e",
   "metadata": {
    "ExecuteTime": {
     "end_time": "2022-04-13T01:07:11.637303Z",
     "start_time": "2022-04-13T01:07:11.620668Z"
    }
   },
   "source": [
    "## Distribution of slice sizes by direction"
   ]
  },
  {
   "cell_type": "code",
   "execution_count": 9,
   "id": "3077614c",
   "metadata": {
    "ExecuteTime": {
     "end_time": "2022-09-01T00:16:54.101894Z",
     "start_time": "2022-09-01T00:16:53.518419Z"
    }
   },
   "outputs": [
    {
     "data": {
      "text/html": [
       "<div>\n",
       "<style scoped>\n",
       "    .dataframe tbody tr th:only-of-type {\n",
       "        vertical-align: middle;\n",
       "    }\n",
       "\n",
       "    .dataframe tbody tr th {\n",
       "        vertical-align: top;\n",
       "    }\n",
       "\n",
       "    .dataframe thead th {\n",
       "        text-align: right;\n",
       "    }\n",
       "</style>\n",
       "<table border=\"1\" class=\"dataframe\">\n",
       "  <thead>\n",
       "    <tr style=\"text-align: right;\">\n",
       "      <th></th>\n",
       "      <th>25%</th>\n",
       "      <th>50%</th>\n",
       "      <th>75%</th>\n",
       "    </tr>\n",
       "    <tr>\n",
       "      <th>direction</th>\n",
       "      <th></th>\n",
       "      <th></th>\n",
       "      <th></th>\n",
       "    </tr>\n",
       "  </thead>\n",
       "  <tbody>\n",
       "    <tr>\n",
       "      <th>Backward</th>\n",
       "      <td>0.083333</td>\n",
       "      <td>0.318841</td>\n",
       "      <td>0.708333</td>\n",
       "    </tr>\n",
       "    <tr>\n",
       "      <th>Both</th>\n",
       "      <td>0.500000</td>\n",
       "      <td>0.833333</td>\n",
       "      <td>1.000000</td>\n",
       "    </tr>\n",
       "    <tr>\n",
       "      <th>Forward</th>\n",
       "      <td>0.146585</td>\n",
       "      <td>0.500000</td>\n",
       "      <td>0.916667</td>\n",
       "    </tr>\n",
       "  </tbody>\n",
       "</table>\n",
       "</div>"
      ],
      "text/plain": [
       "                25%       50%       75%\n",
       "direction                              \n",
       "Backward   0.083333  0.318841  0.708333\n",
       "Both       0.500000  0.833333  1.000000\n",
       "Forward    0.146585  0.500000  0.916667"
      ]
     },
     "execution_count": 9,
     "metadata": {},
     "output_type": "execute_result"
    }
   ],
   "source": [
    "df.groupby('direction').line_frac.describe()[['25%', '50%', '75%']]"
   ]
  },
  {
   "cell_type": "markdown",
   "id": "e684d322",
   "metadata": {},
   "source": [
    "## Figure 1-top-left"
   ]
  },
  {
   "cell_type": "code",
   "execution_count": 10,
   "id": "9802112f",
   "metadata": {
    "ExecuteTime": {
     "end_time": "2022-09-01T00:16:55.996877Z",
     "start_time": "2022-09-01T00:16:54.103613Z"
    }
   },
   "outputs": [
    {
     "data": {
      "image/png": "[encoded data removed]",
      "text/plain": [
       "<Figure size 198x180 with 1 Axes>"
      ]
     },
     "metadata": {},
     "output_type": "display_data"
    }
   ],
   "source": [
    "HEIGHT = 2.5\n",
    "plt.figure(figsize=(2.75, HEIGHT))\n",
    "ax = sns.boxplot(data=df, x='direction', y='line_frac', width=0.5)\n",
    "ax.set_xlabel('Direction')\n",
    "ax.set_ylabel('Slice size')\n",
    "plt.savefig('figures/linefrac.pdf', bbox_inches='tight')"
   ]
  },
  {
   "cell_type": "markdown",
   "id": "521e6fc1",
   "metadata": {},
   "source": [
    "## Distribution of slice sizes by function size and direction"
   ]
  },
  {
   "cell_type": "code",
   "execution_count": 15,
   "id": "2d545bf6",
   "metadata": {
    "ExecuteTime": {
     "end_time": "2022-09-01T00:20:29.229703Z",
     "start_time": "2022-09-01T00:20:28.705300Z"
    }
   },
   "outputs": [
    {
     "data": {
      "text/html": [
       "<div>\n",
       "<style scoped>\n",
       "    .dataframe tbody tr th:only-of-type {\n",
       "        vertical-align: middle;\n",
       "    }\n",
       "\n",
       "    .dataframe tbody tr th {\n",
       "        vertical-align: top;\n",
       "    }\n",
       "\n",
       "    .dataframe thead th {\n",
       "        text-align: right;\n",
       "    }\n",
       "</style>\n",
       "<table border=\"1\" class=\"dataframe\">\n",
       "  <thead>\n",
       "    <tr style=\"text-align: right;\">\n",
       "      <th></th>\n",
       "      <th></th>\n",
       "      <th>25%</th>\n",
       "      <th>50%</th>\n",
       "      <th>75%</th>\n",
       "    </tr>\n",
       "    <tr>\n",
       "      <th>direction</th>\n",
       "      <th>big_func</th>\n",
       "      <th></th>\n",
       "      <th></th>\n",
       "      <th></th>\n",
       "    </tr>\n",
       "  </thead>\n",
       "  <tbody>\n",
       "    <tr>\n",
       "      <th rowspan=\"2\" valign=\"top\">Backward</th>\n",
       "      <th>False</th>\n",
       "      <td>0.111111</td>\n",
       "      <td>0.357143</td>\n",
       "      <td>0.777778</td>\n",
       "    </tr>\n",
       "    <tr>\n",
       "      <th>True</th>\n",
       "      <td>0.030928</td>\n",
       "      <td>0.145511</td>\n",
       "      <td>0.435449</td>\n",
       "    </tr>\n",
       "    <tr>\n",
       "      <th rowspan=\"2\" valign=\"top\">Both</th>\n",
       "      <th>False</th>\n",
       "      <td>0.571429</td>\n",
       "      <td>0.875000</td>\n",
       "      <td>1.000000</td>\n",
       "    </tr>\n",
       "    <tr>\n",
       "      <th>True</th>\n",
       "      <td>0.246231</td>\n",
       "      <td>0.630769</td>\n",
       "      <td>0.913793</td>\n",
       "    </tr>\n",
       "    <tr>\n",
       "      <th rowspan=\"2\" valign=\"top\">Forward</th>\n",
       "      <th>False</th>\n",
       "      <td>0.190476</td>\n",
       "      <td>0.571429</td>\n",
       "      <td>1.000000</td>\n",
       "    </tr>\n",
       "    <tr>\n",
       "      <th>True</th>\n",
       "      <td>0.048780</td>\n",
       "      <td>0.297356</td>\n",
       "      <td>0.718346</td>\n",
       "    </tr>\n",
       "  </tbody>\n",
       "</table>\n",
       "</div>"
      ],
      "text/plain": [
       "                         25%       50%       75%\n",
       "direction big_func                              \n",
       "Backward  False     0.111111  0.357143  0.777778\n",
       "          True      0.030928  0.145511  0.435449\n",
       "Both      False     0.571429  0.875000  1.000000\n",
       "          True      0.246231  0.630769  0.913793\n",
       "Forward   False     0.190476  0.571429  1.000000\n",
       "          True      0.048780  0.297356  0.718346"
      ]
     },
     "execution_count": 15,
     "metadata": {},
     "output_type": "execute_result"
    }
   ],
   "source": [
    "df.groupby([ 'direction', 'big_func']).line_frac.describe()[['25%', '50%', '75%']]"
   ]
  },
  {
   "cell_type": "markdown",
   "id": "d5c82f44",
   "metadata": {},
   "source": [
    "## Statistical significance of difference in medians"
   ]
  },
  {
   "cell_type": "code",
   "execution_count": 12,
   "id": "c6b53a5b",
   "metadata": {
    "ExecuteTime": {
     "end_time": "2022-09-01T00:16:57.677333Z",
     "start_time": "2022-09-01T00:16:56.535302Z"
    }
   },
   "outputs": [
    {
     "name": "stdout",
     "output_type": "stream",
     "text": [
      "Forward 0.0\n",
      "Backward 0.0\n",
      "Both 0.0\n"
     ]
    }
   ],
   "source": [
    "from scipy.stats import kruskal\n",
    "for direction in ['Forward', 'Backward', 'Both']:\n",
    "    df2 = df[df.direction == direction]\n",
    "    p = kruskal(df2[df2.big_func].line_frac, df2[~df2.big_func].line_frac).pvalue\n",
    "    p_corrected = p / 3 # Bonferroni correction for 3 comparisons\n",
    "    print(direction, p_corrected)"
   ]
  },
  {
   "cell_type": "markdown",
   "id": "af412e76",
   "metadata": {},
   "source": [
    "## Figure 1-top-right"
   ]
  },
  {
   "cell_type": "code",
   "execution_count": 13,
   "id": "c673a9a1",
   "metadata": {
    "ExecuteTime": {
     "end_time": "2022-09-01T00:16:59.205658Z",
     "start_time": "2022-09-01T00:16:57.679163Z"
    }
   },
   "outputs": [
    {
     "data": {
      "image/png": "[encoded data removed]",
      "text/plain": [
       "<Figure size 360x180 with 1 Axes>"
      ]
     },
     "metadata": {},
     "output_type": "display_data"
    }
   ],
   "source": [
    "plt.figure(figsize=(5, HEIGHT))\n",
    "ax = sns.boxplot(data=df, x='big_func', y='line_frac', hue='direction', width=0.5)\n",
    "ax.set_xlabel(f'$\\\\geq {cutoff}$ lines of code?')\n",
    "ax.set_ylabel('Slice size')\n",
    "ax.legend(bbox_to_anchor=(1.05, 1), loc=2, borderaxespad=0., frameon=False)\n",
    "plt.tight_layout()\n",
    "plt.savefig('figures/linefrac-by-size.pdf', bbox_inches='tight')"
   ]
  },
  {
   "cell_type": "markdown",
   "id": "c47ae566",
   "metadata": {},
   "source": [
    "## Figure 1-bottom"
   ]
  },
  {
   "cell_type": "code",
   "execution_count": 14,
   "id": "eb4556cb",
   "metadata": {
    "ExecuteTime": {
     "end_time": "2022-09-01T00:17:01.298764Z",
     "start_time": "2022-09-01T00:16:59.208790Z"
    }
   },
   "outputs": [
    {
     "data": {
      "image/png": "[encoded data removed]",
      "text/plain": [
       "<Figure size 576x180 with 1 Axes>"
      ]
     },
     "metadata": {},
     "output_type": "display_data"
    }
   ],
   "source": [
    "plt.figure(figsize=(8, HEIGHT))\n",
    "order = df.groupby('crate').tok_frac.median().sort_values().index.tolist()\n",
    "ax = sns.boxplot(data=df, x='crate', y='tok_frac', hue='direction', fliersize=0,  order=order, width=0.6)\n",
    "ax.get_legend().remove()\n",
    "ax.set_xlabel('Crate')\n",
    "ax.set_ylabel('Slice size')\n",
    "plt.tight_layout()\n",
    "plt.savefig('figures/linefrac-by-size-crate.pdf', bbox_inches='tight')"
   ]
  }
 ],
 "metadata": {
  "kernelspec": {
   "display_name": "Python 3",
   "language": "python",
   "name": "python3"
  },
  "language_info": {
   "codemirror_mode": {
    "name": "ipython",
    "version": 3
   },
   "file_extension": ".py",
   "mimetype": "text/x-python",
   "name": "python",
   "nbconvert_exporter": "python",
   "pygments_lexer": "ipython3",
   "version": "3.7.2"
  },
  "toc": {
   "base_numbering": 1,
   "nav_menu": {},
   "number_sections": true,
   "sideBar": true,
   "skip_h1_title": false,
   "title_cell": "Table of Contents",
   "title_sidebar": "Contents",
   "toc_cell": false,
   "toc_position": {},
   "toc_section_display": true,
   "toc_window_display": false
  },
  "varInspector": {
   "cols": {
    "lenName": 16,
    "lenType": 16,
    "lenVar": 40
   },
   "kernels_config": {
    "python": {
     "delete_cmd_postfix": "",
     "delete_cmd_prefix": "del ",
     "library": "var_list.py",
     "varRefreshCmd": "print(var_dic_list())"
    },
    "r": {
     "delete_cmd_postfix": ") ",
     "delete_cmd_prefix": "rm(",
     "library": "var_list.r",
     "varRefreshCmd": "cat(var_dic_list()) "
    }
   },
   "types_to_exclude": [
    "module",
    "function",
    "builtin_function_or_method",
    "instance",
    "_Feature"
   ],
   "window_display": false
  }
 },
 "nbformat": 4,
 "nbformat_minor": 5
}
