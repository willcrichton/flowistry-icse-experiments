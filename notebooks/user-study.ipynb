{
 "cells": [
  {
   "cell_type": "markdown",
   "id": "25d72927",
   "metadata": {},
   "source": [
    "# User Study Analysis\n",
    "This notebook reproduces the statistics and figures in Section 5 of the paper \"Helping Programmers Find Relevant Code with Modular Slices\"."
   ]
  },
  {
   "cell_type": "code",
   "execution_count": 25,
   "id": "a9e1f518",
   "metadata": {
    "ExecuteTime": {
     "end_time": "2022-08-31T23:26:15.455825Z",
     "start_time": "2022-08-31T23:26:15.449026Z"
    }
   },
   "outputs": [],
   "source": [
    "import numpy as np\n",
    "import pandas as pd\n",
    "import random\n",
    "import seaborn as sns\n",
    "from pymer4 import Lm, Lmer\n",
    "from datetime import datetime\n",
    "from matplotlib import rc\n",
    "import statsmodels.formula.api as smf\n",
    "import statsmodels.api as sm\n",
    "from scipy import stats\n",
    "import matplotlib.pyplot as plt\n",
    "\n",
    "sns.set(\n",
    "    style='whitegrid',\n",
    "    palette='tab10', \n",
    "    \n",
    "    ### Uncomment the code below to get the figures to look *exactly* like the paper.\n",
    "    ### Requires LaTeX to be installed.\n",
    "    \n",
    "#     rc={\n",
    "#         'font.family': 'serif', \n",
    "#         'font.serif': ['Linux Libertine O'],\n",
    "#         'text.usetex': True,\n",
    "#         'text.latex.preamble': r'\\usepackage{libertine}\\usepackage[libertine]{newtxmath}'\n",
    "#     }\n",
    "    )"
   ]
  },
  {
   "cell_type": "code",
   "execution_count": 26,
   "id": "aa9e0d3c",
   "metadata": {
    "ExecuteTime": {
     "end_time": "2022-08-31T23:26:15.651890Z",
     "start_time": "2022-08-31T23:26:15.457900Z"
    }
   },
   "outputs": [],
   "source": [
    "TASKS = ['url', 'countries', 'cli']\n",
    "TASK_LABELS = ['\\\\textsc{Url}', '\\\\textsc{Median}', '\\\\textsc{Command-Line}']\n",
    "FLOWISTRY_LABEL = 'With \\\\textsc{Focus Mode}?'\n",
    "\n",
    "SKIP = 2\n",
    "RUST_LEVELS = [\n",
    "    'I use Rust occassionally',\n",
    "    'I use Rust regularly',\n",
    "    'I use Rust for my job'\n",
    "]\n",
    "\n",
    "def parse_time(s):\n",
    "    return datetime.strptime(s, '%H:%M:%S' if s.count(':') == 2 else '%M:%S')\n",
    "\n",
    "results = []\n",
    "for i, row in pd.read_json('../data/study-results-clean.json').iterrows():\n",
    "    if i < SKIP or type(row['Participant']) != str:\n",
    "        continue\n",
    "        \n",
    "    order = row['Order'].split(', ')\n",
    "    nf = row['Non-Flowistry']\n",
    "    for task in TASKS:\n",
    "        index = order.index(task)\n",
    "        prefix = f'Task {index + 1}'\n",
    "        if type(row[prefix + ' start']) != str:\n",
    "            continue           \n",
    "            \n",
    "        start, end = (parse_time(row[prefix + ' start']), parse_time(row[prefix + ' end']))\n",
    "        duration = (end - start).seconds\n",
    "        \n",
    "        if task == 'url':\n",
    "            t = row['Url - found pop']\n",
    "            if t == 'no':\n",
    "                found_pop = duration\n",
    "            else:\n",
    "                found_pop = (parse_time(t) - start).seconds\n",
    "        else:\n",
    "            found_pop = 0\n",
    "            \n",
    "        rust_level = RUST_LEVELS.index(row['Rust level'])\n",
    "        \n",
    "        results.append({\n",
    "            'participant': i,\n",
    "            'task': task,\n",
    "            'experience': float(row['Years experience']),\n",
    "            'rust_level': rust_level,\n",
    "            'rust_expert': rust_level != 0,\n",
    "            'completed': duration < 15 * 60,\n",
    "            'time': min(duration, 15 * 60),\n",
    "            'using_flowistry': task != nf,\n",
    "            'found_pop': found_pop\n",
    "        })\n",
    "results = pd.DataFrame(results)\n",
    "results['expert'] = results['experience'] >= results['experience'].median()\n",
    "url = results[results.task == 'url']"
   ]
  },
  {
   "cell_type": "markdown",
   "id": "9dfc78e1",
   "metadata": {},
   "source": [
    "# Methodology (Section 5.1)"
   ]
  },
  {
   "cell_type": "markdown",
   "id": "a5800443",
   "metadata": {},
   "source": [
    "## Average participant experience"
   ]
  },
  {
   "cell_type": "code",
   "execution_count": 27,
   "id": "20d2a055",
   "metadata": {
    "ExecuteTime": {
     "end_time": "2022-08-31T23:26:15.671163Z",
     "start_time": "2022-08-31T23:26:15.653888Z"
    }
   },
   "outputs": [
    {
     "data": {
      "text/plain": [
       "count    18.000000\n",
       "mean      9.361111\n",
       "std       7.839953\n",
       "min       1.000000\n",
       "25%       5.000000\n",
       "50%       6.500000\n",
       "75%       9.875000\n",
       "max      30.000000\n",
       "Name: experience, dtype: float64"
      ]
     },
     "execution_count": 27,
     "metadata": {},
     "output_type": "execute_result"
    }
   ],
   "source": [
    "participants = results.groupby('participant').apply(lambda df: df.iloc[0])\n",
    "participants.experience.describe()"
   ]
  },
  {
   "cell_type": "markdown",
   "id": "84ec670e",
   "metadata": {},
   "source": [
    "# Results (Section 5.2)"
   ]
  },
  {
   "cell_type": "markdown",
   "id": "3fb7323a",
   "metadata": {},
   "source": [
    "## Figure 5-left"
   ]
  },
  {
   "cell_type": "code",
   "execution_count": 28,
   "id": "c5d01096",
   "metadata": {
    "ExecuteTime": {
     "end_time": "2022-08-31T23:26:16.514458Z",
     "start_time": "2022-08-31T23:26:15.672935Z"
    }
   },
   "outputs": [
    {
     "data": {
      "image/png": "[encoded data removed]",
      "text/plain": [
       "<Figure size 252x216 with 1 Axes>"
      ]
     },
     "metadata": {},
     "output_type": "display_data"
    }
   ],
   "source": [
    "plt.figure(figsize=(3.5, 3))\n",
    "df = results.groupby(['task', 'using_flowistry']) \\\n",
    "    .apply(lambda df: len(df[df.completed]) / len(df)) \\\n",
    "    .rename('completed_frac').reset_index()\n",
    "ax = sns.barplot(data=df, x='task', y='completed_frac', hue='using_flowistry', order=TASKS)\n",
    "ax.set_xticklabels(TASK_LABELS)\n",
    "ax.set_xlabel('Task')\n",
    "ax.set_ylabel('Fraction that completed task') \n",
    "ax.set_ylim(0, 1.1)\n",
    "ax.get_legend().remove()\n",
    "plt.tight_layout()\n",
    "plt.savefig('figures/task-completion-rate.pdf', bbox_inches='tight')"
   ]
  },
  {
   "cell_type": "markdown",
   "id": "ef9a1ee0",
   "metadata": {},
   "source": [
    "## Figure 5-right"
   ]
  },
  {
   "cell_type": "code",
   "execution_count": 29,
   "id": "96dc7300",
   "metadata": {
    "ExecuteTime": {
     "end_time": "2022-08-31T23:26:17.684363Z",
     "start_time": "2022-08-31T23:26:16.517304Z"
    }
   },
   "outputs": [
    {
     "data": {
      "image/png": "[encoded data removed]",
      "text/plain": [
       "<Figure size 360x216 with 1 Axes>"
      ]
     },
     "metadata": {},
     "output_type": "display_data"
    }
   ],
   "source": [
    "plt.figure(figsize=(5, 3))\n",
    "common = dict(data=results, x='task', y='time', hue='using_flowistry', order=TASKS)\n",
    "sns.stripplot(**common, dodge=True,  linewidth=2, jitter=True)\n",
    "ax = sns.boxplot(**common, fliersize=0, width=0.4)\n",
    "ax.set_xticklabels(TASK_LABELS)\n",
    "ax.set_xlabel('Task')\n",
    "ax.set_ylabel('Time on task (sec)')\n",
    "ax.set_ylim(0, 16 * 60)\n",
    "yticks =[0, 150, 300, 450, 600, 750, 900]\n",
    "ax.set_yticks(yticks)\n",
    "handles, labels = ax.get_legend_handles_labels()\n",
    "ax.legend(handles[2:], labels[2:], title=FLOWISTRY_LABEL, bbox_to_anchor=(1.05, 1), loc=2, borderaxespad=0., frameon=False)\n",
    "plt.tight_layout()\n",
    "plt.savefig('figures/task-completion-time.pdf', bbox_inches='tight')"
   ]
  },
  {
   "cell_type": "markdown",
   "id": "cfe5630e",
   "metadata": {},
   "source": [
    "## Effect of Focus Mode on URL completion times"
   ]
  },
  {
   "cell_type": "code",
   "execution_count": 30,
   "id": "74ceb97e",
   "metadata": {
    "ExecuteTime": {
     "end_time": "2022-08-31T23:26:17.719611Z",
     "start_time": "2022-08-31T23:26:17.686182Z"
    }
   },
   "outputs": [
    {
     "name": "stdout",
     "output_type": "stream",
     "text": [
      "Formula: time~using_flowistry*experience\n",
      "\n",
      "Family: gaussian\t Estimator: OLS\n",
      "\n",
      "Std-errors: non-robust\tCIs: standard 95%\tInference: parametric \n",
      "\n",
      "Number of observations: 17\t R^2: 0.393\t R^2_adj: 0.253\n",
      "\n",
      "Log-likelihood: -111.982 \t AIC: 231.965\t BIC: 235.297\n",
      "\n",
      "Fixed effects:\n",
      "\n"
     ]
    },
    {
     "data": {
      "text/html": [
       "<div>\n",
       "<style scoped>\n",
       "    .dataframe tbody tr th:only-of-type {\n",
       "        vertical-align: middle;\n",
       "    }\n",
       "\n",
       "    .dataframe tbody tr th {\n",
       "        vertical-align: top;\n",
       "    }\n",
       "\n",
       "    .dataframe thead th {\n",
       "        text-align: right;\n",
       "    }\n",
       "</style>\n",
       "<table border=\"1\" class=\"dataframe\">\n",
       "  <thead>\n",
       "    <tr style=\"text-align: right;\">\n",
       "      <th></th>\n",
       "      <th>Estimate</th>\n",
       "      <th>2.5_ci</th>\n",
       "      <th>97.5_ci</th>\n",
       "      <th>SE</th>\n",
       "      <th>DF</th>\n",
       "      <th>T-stat</th>\n",
       "      <th>P-val</th>\n",
       "      <th>Sig</th>\n",
       "    </tr>\n",
       "  </thead>\n",
       "  <tbody>\n",
       "    <tr>\n",
       "      <th>Intercept</th>\n",
       "      <td>1011.900</td>\n",
       "      <td>598.455</td>\n",
       "      <td>1425.345</td>\n",
       "      <td>191.377</td>\n",
       "      <td>13</td>\n",
       "      <td>5.287</td>\n",
       "      <td>0.000</td>\n",
       "      <td>***</td>\n",
       "    </tr>\n",
       "    <tr>\n",
       "      <th>using_flowistry[T.True]</th>\n",
       "      <td>-522.067</td>\n",
       "      <td>-983.235</td>\n",
       "      <td>-60.898</td>\n",
       "      <td>213.467</td>\n",
       "      <td>13</td>\n",
       "      <td>-2.446</td>\n",
       "      <td>0.029</td>\n",
       "      <td>*</td>\n",
       "    </tr>\n",
       "    <tr>\n",
       "      <th>experience</th>\n",
       "      <td>-75.617</td>\n",
       "      <td>-138.759</td>\n",
       "      <td>-12.475</td>\n",
       "      <td>29.227</td>\n",
       "      <td>13</td>\n",
       "      <td>-2.587</td>\n",
       "      <td>0.023</td>\n",
       "      <td>*</td>\n",
       "    </tr>\n",
       "    <tr>\n",
       "      <th>using_flowistry[T.True]:experience</th>\n",
       "      <td>71.462</td>\n",
       "      <td>6.619</td>\n",
       "      <td>136.304</td>\n",
       "      <td>30.015</td>\n",
       "      <td>13</td>\n",
       "      <td>2.381</td>\n",
       "      <td>0.033</td>\n",
       "      <td>*</td>\n",
       "    </tr>\n",
       "  </tbody>\n",
       "</table>\n",
       "</div>"
      ],
      "text/plain": [
       "                                    Estimate   2.5_ci   97.5_ci       SE  DF  \\\n",
       "Intercept                           1011.900  598.455  1425.345  191.377  13   \n",
       "using_flowistry[T.True]             -522.067 -983.235   -60.898  213.467  13   \n",
       "experience                           -75.617 -138.759   -12.475   29.227  13   \n",
       "using_flowistry[T.True]:experience    71.462    6.619   136.304   30.015  13   \n",
       "\n",
       "                                    T-stat  P-val  Sig  \n",
       "Intercept                            5.287  0.000  ***  \n",
       "using_flowistry[T.True]             -2.446  0.029    *  \n",
       "experience                          -2.587  0.023    *  \n",
       "using_flowistry[T.True]:experience   2.381  0.033    *  "
      ]
     },
     "execution_count": 30,
     "metadata": {},
     "output_type": "execute_result"
    }
   ],
   "source": [
    "model = Lm('time ~ using_flowistry * experience', data=url)\n",
    "model.fit()"
   ]
  },
  {
   "cell_type": "markdown",
   "id": "ceebc022",
   "metadata": {},
   "source": [
    "## Difference in average time to first identifying code as buggy\n"
   ]
  },
  {
   "cell_type": "code",
   "execution_count": 31,
   "id": "51e54c3f",
   "metadata": {
    "ExecuteTime": {
     "end_time": "2022-08-31T23:26:17.727138Z",
     "start_time": "2022-08-31T23:26:17.721339Z"
    }
   },
   "outputs": [
    {
     "data": {
      "text/plain": [
       "212.96969696969694"
      ]
     },
     "execution_count": 31,
     "metadata": {},
     "output_type": "execute_result"
    }
   ],
   "source": [
    "means = url.groupby('using_flowistry').found_pop.mean()\n",
    "means[False] - means[True]"
   ]
  },
  {
   "cell_type": "markdown",
   "id": "fd1aa7bc",
   "metadata": {},
   "source": [
    "## Effect of Focus Mode on  time to first identifying code as buggy"
   ]
  },
  {
   "cell_type": "code",
   "execution_count": 32,
   "id": "469d60d5",
   "metadata": {
    "ExecuteTime": {
     "end_time": "2022-08-31T23:26:17.762836Z",
     "start_time": "2022-08-31T23:26:17.728939Z"
    }
   },
   "outputs": [
    {
     "name": "stdout",
     "output_type": "stream",
     "text": [
      "Formula: found_pop~using_flowistry*experience\n",
      "\n",
      "Family: gaussian\t Estimator: OLS\n",
      "\n",
      "Std-errors: non-robust\tCIs: standard 95%\tInference: parametric \n",
      "\n",
      "Number of observations: 17\t R^2: 0.438\t R^2_adj: 0.309\n",
      "\n",
      "Log-likelihood: -113.628 \t AIC: 235.255\t BIC: 238.588\n",
      "\n",
      "Fixed effects:\n",
      "\n"
     ]
    },
    {
     "data": {
      "text/html": [
       "<div>\n",
       "<style scoped>\n",
       "    .dataframe tbody tr th:only-of-type {\n",
       "        vertical-align: middle;\n",
       "    }\n",
       "\n",
       "    .dataframe tbody tr th {\n",
       "        vertical-align: top;\n",
       "    }\n",
       "\n",
       "    .dataframe thead th {\n",
       "        text-align: right;\n",
       "    }\n",
       "</style>\n",
       "<table border=\"1\" class=\"dataframe\">\n",
       "  <thead>\n",
       "    <tr style=\"text-align: right;\">\n",
       "      <th></th>\n",
       "      <th>Estimate</th>\n",
       "      <th>2.5_ci</th>\n",
       "      <th>97.5_ci</th>\n",
       "      <th>SE</th>\n",
       "      <th>DF</th>\n",
       "      <th>T-stat</th>\n",
       "      <th>P-val</th>\n",
       "      <th>Sig</th>\n",
       "    </tr>\n",
       "  </thead>\n",
       "  <tbody>\n",
       "    <tr>\n",
       "      <th>Intercept</th>\n",
       "      <td>990.398</td>\n",
       "      <td>534.940</td>\n",
       "      <td>1445.856</td>\n",
       "      <td>210.824</td>\n",
       "      <td>13</td>\n",
       "      <td>4.698</td>\n",
       "      <td>0.000</td>\n",
       "      <td>***</td>\n",
       "    </tr>\n",
       "    <tr>\n",
       "      <th>using_flowistry[T.True]</th>\n",
       "      <td>-664.775</td>\n",
       "      <td>-1172.806</td>\n",
       "      <td>-156.744</td>\n",
       "      <td>235.159</td>\n",
       "      <td>13</td>\n",
       "      <td>-2.827</td>\n",
       "      <td>0.014</td>\n",
       "      <td>*</td>\n",
       "    </tr>\n",
       "    <tr>\n",
       "      <th>experience</th>\n",
       "      <td>-81.476</td>\n",
       "      <td>-151.034</td>\n",
       "      <td>-11.918</td>\n",
       "      <td>32.197</td>\n",
       "      <td>13</td>\n",
       "      <td>-2.531</td>\n",
       "      <td>0.025</td>\n",
       "      <td>*</td>\n",
       "    </tr>\n",
       "    <tr>\n",
       "      <th>using_flowistry[T.True]:experience</th>\n",
       "      <td>78.631</td>\n",
       "      <td>7.199</td>\n",
       "      <td>150.063</td>\n",
       "      <td>33.065</td>\n",
       "      <td>13</td>\n",
       "      <td>2.378</td>\n",
       "      <td>0.033</td>\n",
       "      <td>*</td>\n",
       "    </tr>\n",
       "  </tbody>\n",
       "</table>\n",
       "</div>"
      ],
      "text/plain": [
       "                                    Estimate    2.5_ci   97.5_ci       SE  DF  \\\n",
       "Intercept                            990.398   534.940  1445.856  210.824  13   \n",
       "using_flowistry[T.True]             -664.775 -1172.806  -156.744  235.159  13   \n",
       "experience                           -81.476  -151.034   -11.918   32.197  13   \n",
       "using_flowistry[T.True]:experience    78.631     7.199   150.063   33.065  13   \n",
       "\n",
       "                                    T-stat  P-val  Sig  \n",
       "Intercept                            4.698  0.000  ***  \n",
       "using_flowistry[T.True]             -2.827  0.014    *  \n",
       "experience                          -2.531  0.025    *  \n",
       "using_flowistry[T.True]:experience   2.378  0.033    *  "
      ]
     },
     "execution_count": 32,
     "metadata": {},
     "output_type": "execute_result"
    }
   ],
   "source": [
    "model = Lm('found_pop ~ using_flowistry * experience', data=url)\n",
    "model.fit()"
   ]
  }
 ],
 "metadata": {
  "kernelspec": {
   "display_name": "Python 3",
   "language": "python",
   "name": "python3"
  },
  "language_info": {
   "codemirror_mode": {
    "name": "ipython",
    "version": 3
   },
   "file_extension": ".py",
   "mimetype": "text/x-python",
   "name": "python",
   "nbconvert_exporter": "python",
   "pygments_lexer": "ipython3",
   "version": "3.7.2"
  },
  "toc": {
   "base_numbering": 1,
   "nav_menu": {},
   "number_sections": true,
   "sideBar": true,
   "skip_h1_title": false,
   "title_cell": "Table of Contents",
   "title_sidebar": "Contents",
   "toc_cell": false,
   "toc_position": {},
   "toc_section_display": true,
   "toc_window_display": false
  },
  "varInspector": {
   "cols": {
    "lenName": 16,
    "lenType": 16,
    "lenVar": 40
   },
   "kernels_config": {
    "python": {
     "delete_cmd_postfix": "",
     "delete_cmd_prefix": "del ",
     "library": "var_list.py",
     "varRefreshCmd": "print(var_dic_list())"
    },
    "r": {
     "delete_cmd_postfix": ") ",
     "delete_cmd_prefix": "rm(",
     "library": "var_list.r",
     "varRefreshCmd": "cat(var_dic_list()) "
    }
   },
   "types_to_exclude": [
    "module",
    "function",
    "builtin_function_or_method",
    "instance",
    "_Feature"
   ],
   "window_display": false
  }
 },
 "nbformat": 4,
 "nbformat_minor": 5
}
