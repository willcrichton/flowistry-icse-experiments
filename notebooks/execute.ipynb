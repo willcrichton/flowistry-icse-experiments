{
 "cells": [
  {
   "cell_type": "code",
   "execution_count": 5,
   "id": "modified-poetry",
   "metadata": {
    "ExecuteTime": {
     "end_time": "2021-10-07T16:55:23.647523Z",
     "start_time": "2021-10-07T16:55:23.643546Z"
    }
   },
   "outputs": [],
   "source": [
    "import os\n",
    "import subprocess as sp\n",
    "from iterextras import par_for\n",
    "from multiprocessing import cpu_count\n",
    "from tqdm.auto import tqdm"
   ]
  },
  {
   "cell_type": "code",
   "execution_count": 6,
   "id": "invisible-sellers",
   "metadata": {
    "ExecuteTime": {
     "end_time": "2021-10-07T16:55:24.440693Z",
     "start_time": "2021-10-07T16:55:24.436588Z"
    }
   },
   "outputs": [],
   "source": [
    "CRATES = [\n",
    "    ('Rocket', 'rocket', ''),\n",
    "    ('image', None, ''),\n",
    "    ('rayon', 'rayon', None),\n",
    "    ('rg3d', 'rg3d', None),    \n",
    "    ('nalgebra', 'nalgebra', '--features rand,arbitrary,sparse,debug,io,libm'), # avoid no_unsound_assume_init feature!\n",
    "    ('rustls', 'rustls', None),\n",
    "    ('sccache', None, ''),\n",
    "    ('hyper', 'hyper', '--features full'),    \n",
    "    ('rav1e', 'rav1e', ''),\n",
    "    ('RustPython', 'rustpython-vm', '--features compiler'),\n",
    "]"
   ]
  },
  {
   "cell_type": "code",
   "execution_count": 7,
   "id": "colored-klein",
   "metadata": {
    "ExecuteTime": {
     "end_time": "2021-10-07T16:55:24.967226Z",
     "start_time": "2021-10-07T16:55:24.960690Z"
    }
   },
   "outputs": [],
   "source": [
    "#NUM_THREADS = cpu_count()\n",
    "NUM_THREADS = 1\n",
    "NUM_WORKERS = len(CRATES)\n",
    "CLEAN = False\n",
    "TOOLCHAIN = 'slicer' # 'nightly-2021-09-23'\n",
    "\n",
    "def analyze_crate(crate):\n",
    "    (name, sub_crate, feature_flags) = crate\n",
    "    out_path = os.path.abspath(f'../data/{name.replace(\"/\", \"_\")}.json')\n",
    "    working_dir = f'../data/repos/{name}'\n",
    "    log_path = os.path.abspath(f'../data/logs/{name}.log')\n",
    "    \n",
    "    if os.path.exists(out_path) and os.stat(out_path).st_size > 0:\n",
    "        return\n",
    "    \n",
    "    if CLEAN:\n",
    "        sp.check_call('cargo clean && rm -rf target', cwd=working_dir, shell=True)\n",
    "    \n",
    "    rustc = f'$(rustup which --toolchain {TOOLCHAIN} rustc)'\n",
    "    ld_lib_path = f'LD_LIBRARY_PATH=$({rustc} --print target-libdir):$LD_LIBRARY_PATH'\n",
    "    sysroot = f'SYSROOT=$({rustc} --print sysroot)'\n",
    "    feature_flags = feature_flags if feature_flags is not None else \"--all-features\"\n",
    "    pkg_flag = f'-p {sub_crate}' if sub_crate is not None else ''\n",
    "    cmd = f'{ld_lib_path} {sysroot} OUTPUT_PATH={out_path} RUST_LOG=\"flowistry_eval=info\" \\\n",
    "THREADS={NUM_THREADS} TOOLCHAIN={TOOLCHAIN} cargo flowistry-eval --lib {pkg_flag} {feature_flags}'\n",
    "    log = open(log_path, 'w')\n",
    "    try:\n",
    "        sp.check_call(cmd, shell=True, cwd=working_dir, stdout=log, stderr=log)\n",
    "    except sp.CalledProcessError as e:\n",
    "        print(f'{name} failed')"
   ]
  },
  {
   "cell_type": "code",
   "execution_count": 8,
   "id": "4994afbe",
   "metadata": {
    "ExecuteTime": {
     "end_time": "2021-10-07T18:56:47.931631Z",
     "start_time": "2021-10-07T16:55:26.222836Z"
    }
   },
   "outputs": [
    {
     "data": {
      "application/vnd.jupyter.widget-view+json": {
       "model_id": "6ed6e1c9ad3a448ea7c7aebaf361ddbc",
       "version_major": 2,
       "version_minor": 0
      },
      "text/plain": [
       "  0%|          | 0/10 [00:00<?, ?it/s]"
      ]
     },
     "metadata": {},
     "output_type": "display_data"
    },
    {
     "name": "stdout",
     "output_type": "stream",
     "text": [
      "rav1e failed\n"
     ]
    },
    {
     "data": {
      "text/plain": [
       "[None, None, None, None, None, None, None, None, None, None]"
      ]
     },
     "execution_count": 8,
     "metadata": {},
     "output_type": "execute_result"
    }
   ],
   "source": [
    "par_for(analyze_crate, CRATES, workers=NUM_WORKERS)"
   ]
  }
 ],
 "metadata": {
  "kernelspec": {
   "display_name": "Python 3 (ipykernel)",
   "language": "python",
   "name": "python3"
  },
  "language_info": {
   "codemirror_mode": {
    "name": "ipython",
    "version": 3
   },
   "file_extension": ".py",
   "mimetype": "text/x-python",
   "name": "python",
   "nbconvert_exporter": "python",
   "pygments_lexer": "ipython3",
   "version": "3.7.2"
  },
  "toc": {
   "base_numbering": 1,
   "nav_menu": {},
   "number_sections": true,
   "sideBar": true,
   "skip_h1_title": false,
   "title_cell": "Table of Contents",
   "title_sidebar": "Contents",
   "toc_cell": false,
   "toc_position": {},
   "toc_section_display": true,
   "toc_window_display": false
  },
  "varInspector": {
   "cols": {
    "lenName": 16,
    "lenType": 16,
    "lenVar": 40
   },
   "kernels_config": {
    "python": {
     "delete_cmd_postfix": "",
     "delete_cmd_prefix": "del ",
     "library": "var_list.py",
     "varRefreshCmd": "print(var_dic_list())"
    },
    "r": {
     "delete_cmd_postfix": ") ",
     "delete_cmd_prefix": "rm(",
     "library": "var_list.r",
     "varRefreshCmd": "cat(var_dic_list()) "
    }
   },
   "types_to_exclude": [
    "module",
    "function",
    "builtin_function_or_method",
    "instance",
    "_Feature"
   ],
   "window_display": false
  }
 },
 "nbformat": 4,
 "nbformat_minor": 5
}
